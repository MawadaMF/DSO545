{
 "cells": [
  {
   "cell_type": "code",
   "execution_count": 1,
   "id": "684e3547",
   "metadata": {},
   "outputs": [],
   "source": [
    "import pandas as pd"
   ]
  },
  {
   "cell_type": "code",
   "execution_count": 54,
   "id": "cc33ea47",
   "metadata": {},
   "outputs": [],
   "source": [
    "data = pd.read_csv('https://raw.githubusercontent.com/MawadaMF/DSO545/add-features/schedule.csv?token=AWOHSXM4O2LDJBOTR2ZKYALBUGHOU')"
   ]
  },
  {
   "cell_type": "code",
   "execution_count": 55,
   "id": "c7c725d9",
   "metadata": {
    "scrolled": true
   },
   "outputs": [
    {
     "data": {
      "text/html": [
       "<div>\n",
       "<style scoped>\n",
       "    .dataframe tbody tr th:only-of-type {\n",
       "        vertical-align: middle;\n",
       "    }\n",
       "\n",
       "    .dataframe tbody tr th {\n",
       "        vertical-align: top;\n",
       "    }\n",
       "\n",
       "    .dataframe thead th {\n",
       "        text-align: right;\n",
       "    }\n",
       "</style>\n",
       "<table border=\"1\" class=\"dataframe\">\n",
       "  <thead>\n",
       "    <tr style=\"text-align: right;\">\n",
       "      <th></th>\n",
       "      <th>boxscore_index</th>\n",
       "      <th>date</th>\n",
       "      <th>datetime</th>\n",
       "      <th>game</th>\n",
       "      <th>location</th>\n",
       "      <th>distance_traveled</th>\n",
       "      <th>losses</th>\n",
       "      <th>opponent_abbr</th>\n",
       "      <th>opponent_name</th>\n",
       "      <th>opponent_long</th>\n",
       "      <th>...</th>\n",
       "      <th>wins</th>\n",
       "      <th>team</th>\n",
       "      <th>team_long</th>\n",
       "      <th>team_lat</th>\n",
       "      <th>season</th>\n",
       "      <th>opp_coords</th>\n",
       "      <th>team_coords</th>\n",
       "      <th>back_to_back</th>\n",
       "      <th>3_in_4</th>\n",
       "      <th>4_in_5</th>\n",
       "    </tr>\n",
       "  </thead>\n",
       "  <tbody>\n",
       "    <tr>\n",
       "      <th>0</th>\n",
       "      <td>200810280LAL</td>\n",
       "      <td>Tue, Oct 28, 2008</td>\n",
       "      <td>2008-10-28</td>\n",
       "      <td>1</td>\n",
       "      <td>Away</td>\n",
       "      <td>826.133254</td>\n",
       "      <td>1.0</td>\n",
       "      <td>LAL</td>\n",
       "      <td>Los Angeles Lakers</td>\n",
       "      <td>-118.267222</td>\n",
       "      <td>...</td>\n",
       "      <td>0.0</td>\n",
       "      <td>POR</td>\n",
       "      <td>-122.666667</td>\n",
       "      <td>45.531667</td>\n",
       "      <td>2009.0</td>\n",
       "      <td>(34.043056, -118.267222)</td>\n",
       "      <td>(45.531667, -122.666667)</td>\n",
       "      <td>0</td>\n",
       "      <td>0</td>\n",
       "      <td>0</td>\n",
       "    </tr>\n",
       "    <tr>\n",
       "      <th>1</th>\n",
       "      <td>200810310POR</td>\n",
       "      <td>Fri, Oct 31, 2008</td>\n",
       "      <td>2008-10-31</td>\n",
       "      <td>2</td>\n",
       "      <td>Home</td>\n",
       "      <td>826.133254</td>\n",
       "      <td>1.0</td>\n",
       "      <td>SAS</td>\n",
       "      <td>San Antonio Spurs</td>\n",
       "      <td>-98.437500</td>\n",
       "      <td>...</td>\n",
       "      <td>1.0</td>\n",
       "      <td>POR</td>\n",
       "      <td>-122.666667</td>\n",
       "      <td>45.531667</td>\n",
       "      <td>2009.0</td>\n",
       "      <td>(29.426944, -98.4375)</td>\n",
       "      <td>(45.531667, -122.666667)</td>\n",
       "      <td>0</td>\n",
       "      <td>0</td>\n",
       "      <td>0</td>\n",
       "    </tr>\n",
       "    <tr>\n",
       "      <th>2</th>\n",
       "      <td>200811010PHO</td>\n",
       "      <td>Sat, Nov 1, 2008</td>\n",
       "      <td>2008-11-01</td>\n",
       "      <td>3</td>\n",
       "      <td>Away</td>\n",
       "      <td>1005.964440</td>\n",
       "      <td>2.0</td>\n",
       "      <td>PHO</td>\n",
       "      <td>Phoenix Suns</td>\n",
       "      <td>-112.071389</td>\n",
       "      <td>...</td>\n",
       "      <td>1.0</td>\n",
       "      <td>POR</td>\n",
       "      <td>-122.666667</td>\n",
       "      <td>45.531667</td>\n",
       "      <td>2009.0</td>\n",
       "      <td>(33.445833, -112.071389)</td>\n",
       "      <td>(45.531667, -122.666667)</td>\n",
       "      <td>1</td>\n",
       "      <td>0</td>\n",
       "      <td>0</td>\n",
       "    </tr>\n",
       "    <tr>\n",
       "      <th>3</th>\n",
       "      <td>200811050UTA</td>\n",
       "      <td>Wed, Nov 5, 2008</td>\n",
       "      <td>2008-11-05</td>\n",
       "      <td>4</td>\n",
       "      <td>Away</td>\n",
       "      <td>505.045543</td>\n",
       "      <td>3.0</td>\n",
       "      <td>UTA</td>\n",
       "      <td>Utah Jazz</td>\n",
       "      <td>-111.901111</td>\n",
       "      <td>...</td>\n",
       "      <td>1.0</td>\n",
       "      <td>POR</td>\n",
       "      <td>-122.666667</td>\n",
       "      <td>45.531667</td>\n",
       "      <td>2009.0</td>\n",
       "      <td>(40.768333, -111.901111)</td>\n",
       "      <td>(45.531667, -122.666667)</td>\n",
       "      <td>0</td>\n",
       "      <td>0</td>\n",
       "      <td>0</td>\n",
       "    </tr>\n",
       "    <tr>\n",
       "      <th>4</th>\n",
       "      <td>200811060POR</td>\n",
       "      <td>Thu, Nov 6, 2008</td>\n",
       "      <td>2008-11-06</td>\n",
       "      <td>5</td>\n",
       "      <td>Home</td>\n",
       "      <td>634.959453</td>\n",
       "      <td>3.0</td>\n",
       "      <td>HOU</td>\n",
       "      <td>Houston Rockets</td>\n",
       "      <td>-95.362222</td>\n",
       "      <td>...</td>\n",
       "      <td>2.0</td>\n",
       "      <td>POR</td>\n",
       "      <td>-122.666667</td>\n",
       "      <td>45.531667</td>\n",
       "      <td>2009.0</td>\n",
       "      <td>(29.750833, -95.362222)</td>\n",
       "      <td>(45.531667, -122.666667)</td>\n",
       "      <td>1</td>\n",
       "      <td>0</td>\n",
       "      <td>0</td>\n",
       "    </tr>\n",
       "  </tbody>\n",
       "</table>\n",
       "<p>5 rows × 27 columns</p>\n",
       "</div>"
      ],
      "text/plain": [
       "  boxscore_index               date    datetime  game location  \\\n",
       "0   200810280LAL  Tue, Oct 28, 2008  2008-10-28     1     Away   \n",
       "1   200810310POR  Fri, Oct 31, 2008  2008-10-31     2     Home   \n",
       "2   200811010PHO   Sat, Nov 1, 2008  2008-11-01     3     Away   \n",
       "3   200811050UTA   Wed, Nov 5, 2008  2008-11-05     4     Away   \n",
       "4   200811060POR   Thu, Nov 6, 2008  2008-11-06     5     Home   \n",
       "\n",
       "   distance_traveled  losses opponent_abbr       opponent_name  opponent_long  \\\n",
       "0         826.133254     1.0           LAL  Los Angeles Lakers    -118.267222   \n",
       "1         826.133254     1.0           SAS   San Antonio Spurs     -98.437500   \n",
       "2        1005.964440     2.0           PHO        Phoenix Suns    -112.071389   \n",
       "3         505.045543     3.0           UTA           Utah Jazz    -111.901111   \n",
       "4         634.959453     3.0           HOU     Houston Rockets     -95.362222   \n",
       "\n",
       "   ...  wins  team   team_long   team_lat  season                opp_coords  \\\n",
       "0  ...   0.0   POR -122.666667  45.531667  2009.0  (34.043056, -118.267222)   \n",
       "1  ...   1.0   POR -122.666667  45.531667  2009.0     (29.426944, -98.4375)   \n",
       "2  ...   1.0   POR -122.666667  45.531667  2009.0  (33.445833, -112.071389)   \n",
       "3  ...   1.0   POR -122.666667  45.531667  2009.0  (40.768333, -111.901111)   \n",
       "4  ...   2.0   POR -122.666667  45.531667  2009.0   (29.750833, -95.362222)   \n",
       "\n",
       "                team_coords  back_to_back 3_in_4  4_in_5  \n",
       "0  (45.531667, -122.666667)             0      0       0  \n",
       "1  (45.531667, -122.666667)             0      0       0  \n",
       "2  (45.531667, -122.666667)             1      0       0  \n",
       "3  (45.531667, -122.666667)             0      0       0  \n",
       "4  (45.531667, -122.666667)             1      0       0  \n",
       "\n",
       "[5 rows x 27 columns]"
      ]
     },
     "execution_count": 55,
     "metadata": {},
     "output_type": "execute_result"
    }
   ],
   "source": [
    "data.head()"
   ]
  },
  {
   "cell_type": "code",
   "execution_count": 72,
   "id": "78eaef18",
   "metadata": {},
   "outputs": [],
   "source": [
    "# data manipulation\n",
    "import pandas as pd\n",
    "\n",
    "# plotly \n",
    "import plotly.express as px\n",
    "import plotly.graph_objects as go\n",
    "import matplotlib.pyplot as plt\n",
    "# dashboards\n",
    "import dash \n",
    "from jupyter_dash import JupyterDash #for running the dashboard in jupyter notebook\n",
    "import dash_core_components as dcc\n",
    "import dash_html_components as html\n",
    "from dash.dependencies import Output, Input\n",
    "import dash_bootstrap_components as dbc #for dashboard themes"
   ]
  },
  {
   "cell_type": "code",
   "execution_count": null,
   "id": "f7daf2a9",
   "metadata": {},
   "outputs": [],
   "source": [
    "q"
   ]
  },
  {
   "cell_type": "code",
   "execution_count": 8,
   "id": "c3cc59a3",
   "metadata": {},
   "outputs": [
    {
     "ename": "NameError",
     "evalue": "name 'data' is not defined",
     "output_type": "error",
     "traceback": [
      "\u001b[0;31m---------------------------------------------------------------------------\u001b[0m",
      "\u001b[0;31mNameError\u001b[0m                                 Traceback (most recent call last)",
      "\u001b[0;32m<ipython-input-8-7cc2cdbea679>\u001b[0m in \u001b[0;36m<module>\u001b[0;34m\u001b[0m\n\u001b[1;32m      4\u001b[0m \u001b[0;34m\u001b[0m\u001b[0m\n\u001b[1;32m      5\u001b[0m \u001b[0;31m# list of all unique teams\u001b[0m\u001b[0;34m\u001b[0m\u001b[0;34m\u001b[0m\u001b[0;34m\u001b[0m\u001b[0m\n\u001b[0;32m----> 6\u001b[0;31m \u001b[0mteams\u001b[0m\u001b[0;34m=\u001b[0m\u001b[0mdata\u001b[0m\u001b[0;34m[\u001b[0m\u001b[0;34m'opponent_name'\u001b[0m\u001b[0;34m]\u001b[0m\u001b[0;34m.\u001b[0m\u001b[0munique\u001b[0m\u001b[0;34m(\u001b[0m\u001b[0;34m)\u001b[0m\u001b[0;34m\u001b[0m\u001b[0;34m\u001b[0m\u001b[0m\n\u001b[0m\u001b[1;32m      7\u001b[0m \u001b[0;34m\u001b[0m\u001b[0m\n\u001b[1;32m      8\u001b[0m \u001b[0;31m#list of all unique quarters\u001b[0m\u001b[0;34m\u001b[0m\u001b[0;34m\u001b[0m\u001b[0;34m\u001b[0m\u001b[0m\n",
      "\u001b[0;31mNameError\u001b[0m: name 'data' is not defined"
     ]
    }
   ],
   "source": [
    "# app = JupyterDash(__name__,external_stylesheets = [dbc.themes.BOOTSTRAP])\n",
    "\n",
    "# # read the data\n",
    "\n",
    "# # list of all unique teams\n",
    "# teams=data['opponent_name'].unique()\n",
    "\n",
    "# #list of all unique quarters\n",
    "# q= pd.PeriodIndex(data.datetime, freq='Q').unique()\n",
    "\n",
    "\n",
    "# app.layout = html.Div([\n",
    "    \n",
    "#     # top left drop menu for teams\n",
    "#     html.Div([\n",
    "#             dcc.Dropdown(\n",
    "#                 id='xaxis-column',\n",
    "#                 options=[{'label': i, 'value': i} for i in teams],\n",
    "# #                 value='Fertility rate, total (births per woman)'\n",
    "#             )\n",
    "#     ], style={'width': '48%', 'display': 'inline-block'}), \n",
    "    \n",
    "#     # top right drop menu for teams\n",
    "#     html.Div([\n",
    "#             dcc.Dropdown(\n",
    "#                 id='yaxis-column',\n",
    "#                 options=[{'label': i.strftime('%YQ%q'), 'value': i.strftime('%YQ%q')} for i in q],\n",
    "# #                 value='Life expectancy at birth, total (years)'\n",
    "#             )\n",
    "#     ], style={'width': '48%', 'float': 'right', 'display': 'inline-block'}),\n",
    "#     dcc.Graph(id='indicator-graphic')\n",
    "# ])\n",
    "# # dcc.Graph(id='indicator-graphic')\n",
    "# @app.callback(\n",
    "#     Output('indicator-graphic', 'figure'),\n",
    "#     Input('xaxis-column', 'value'),\n",
    "#     Input('yaxis-column', 'value'))\n",
    "# def update_graph(xaxis_column, yaxis_column):\n",
    "#     #df_newdata = data_loc[['team','distance_traveled','team']]\n",
    "#     #df_year = df[df['Year'] == year_value]\n",
    "#     #filter by the season\n",
    "#     #groupby the team\n",
    "    \n",
    "#     fig = px.scatter(data_loc,y=data_loc['team'],\n",
    "#                      x=data_loc['distance_traveled'])\n",
    "#                      #hover_name=df_year[df_year['Indicator Name'] == yaxis_column_name]['Country Name'])\n",
    "# if __name__ == '__main__':\n",
    "#     app.run_server(debug=True)"
   ]
  },
  {
   "cell_type": "code",
   "execution_count": 9,
   "id": "186a68bc",
   "metadata": {},
   "outputs": [
    {
     "data": {
      "text/html": [
       "<div>\n",
       "<style scoped>\n",
       "    .dataframe tbody tr th:only-of-type {\n",
       "        vertical-align: middle;\n",
       "    }\n",
       "\n",
       "    .dataframe tbody tr th {\n",
       "        vertical-align: top;\n",
       "    }\n",
       "\n",
       "    .dataframe thead th {\n",
       "        text-align: right;\n",
       "    }\n",
       "</style>\n",
       "<table border=\"1\" class=\"dataframe\">\n",
       "  <thead>\n",
       "    <tr style=\"text-align: right;\">\n",
       "      <th></th>\n",
       "      <th>team</th>\n",
       "      <th>distance_traveled</th>\n",
       "      <th>season</th>\n",
       "      <th>datetime</th>\n",
       "    </tr>\n",
       "  </thead>\n",
       "  <tbody>\n",
       "    <tr>\n",
       "      <th>0</th>\n",
       "      <td>POR</td>\n",
       "      <td>826.133254</td>\n",
       "      <td>2009.0</td>\n",
       "      <td>2008-10-28</td>\n",
       "    </tr>\n",
       "    <tr>\n",
       "      <th>1</th>\n",
       "      <td>POR</td>\n",
       "      <td>826.133254</td>\n",
       "      <td>2009.0</td>\n",
       "      <td>2008-10-31</td>\n",
       "    </tr>\n",
       "    <tr>\n",
       "      <th>2</th>\n",
       "      <td>POR</td>\n",
       "      <td>1005.964440</td>\n",
       "      <td>2009.0</td>\n",
       "      <td>2008-11-01</td>\n",
       "    </tr>\n",
       "    <tr>\n",
       "      <th>3</th>\n",
       "      <td>POR</td>\n",
       "      <td>505.045543</td>\n",
       "      <td>2009.0</td>\n",
       "      <td>2008-11-05</td>\n",
       "    </tr>\n",
       "    <tr>\n",
       "      <th>4</th>\n",
       "      <td>POR</td>\n",
       "      <td>634.959453</td>\n",
       "      <td>2009.0</td>\n",
       "      <td>2008-11-06</td>\n",
       "    </tr>\n",
       "  </tbody>\n",
       "</table>\n",
       "</div>"
      ],
      "text/plain": [
       "  team  distance_traveled  season    datetime\n",
       "0  POR         826.133254  2009.0  2008-10-28\n",
       "1  POR         826.133254  2009.0  2008-10-31\n",
       "2  POR        1005.964440  2009.0  2008-11-01\n",
       "3  POR         505.045543  2009.0  2008-11-05\n",
       "4  POR         634.959453  2009.0  2008-11-06"
      ]
     },
     "execution_count": 9,
     "metadata": {},
     "output_type": "execute_result"
    }
   ],
   "source": [
    "df_newdata = data_loc[['team','distance_traveled','season','datetime']]\n",
    "df_newdata.head()"
   ]
  },
  {
   "cell_type": "code",
   "execution_count": 10,
   "id": "b1499b6c",
   "metadata": {},
   "outputs": [],
   "source": [
    "Q= pd.PeriodIndex(df_newdata.datetime, freq='Q').unique()"
   ]
  },
  {
   "cell_type": "code",
   "execution_count": 11,
   "id": "afc3e892",
   "metadata": {
    "scrolled": false
   },
   "outputs": [
    {
     "data": {
      "text/html": [
       "<div>\n",
       "<style scoped>\n",
       "    .dataframe tbody tr th:only-of-type {\n",
       "        vertical-align: middle;\n",
       "    }\n",
       "\n",
       "    .dataframe tbody tr th {\n",
       "        vertical-align: top;\n",
       "    }\n",
       "\n",
       "    .dataframe thead th {\n",
       "        text-align: right;\n",
       "    }\n",
       "</style>\n",
       "<table border=\"1\" class=\"dataframe\">\n",
       "  <thead>\n",
       "    <tr style=\"text-align: right;\">\n",
       "      <th></th>\n",
       "      <th>team</th>\n",
       "      <th>distance_traveled</th>\n",
       "      <th>season</th>\n",
       "      <th>datetime</th>\n",
       "    </tr>\n",
       "  </thead>\n",
       "  <tbody>\n",
       "    <tr>\n",
       "      <th>0</th>\n",
       "      <td>POR</td>\n",
       "      <td>826.133254</td>\n",
       "      <td>2009.0</td>\n",
       "      <td>2008-10-28</td>\n",
       "    </tr>\n",
       "    <tr>\n",
       "      <th>1</th>\n",
       "      <td>POR</td>\n",
       "      <td>826.133254</td>\n",
       "      <td>2009.0</td>\n",
       "      <td>2008-10-31</td>\n",
       "    </tr>\n",
       "    <tr>\n",
       "      <th>2</th>\n",
       "      <td>POR</td>\n",
       "      <td>1005.964440</td>\n",
       "      <td>2009.0</td>\n",
       "      <td>2008-11-01</td>\n",
       "    </tr>\n",
       "    <tr>\n",
       "      <th>3</th>\n",
       "      <td>POR</td>\n",
       "      <td>505.045543</td>\n",
       "      <td>2009.0</td>\n",
       "      <td>2008-11-05</td>\n",
       "    </tr>\n",
       "    <tr>\n",
       "      <th>4</th>\n",
       "      <td>POR</td>\n",
       "      <td>634.959453</td>\n",
       "      <td>2009.0</td>\n",
       "      <td>2008-11-06</td>\n",
       "    </tr>\n",
       "  </tbody>\n",
       "</table>\n",
       "</div>"
      ],
      "text/plain": [
       "  team  distance_traveled  season    datetime\n",
       "0  POR         826.133254  2009.0  2008-10-28\n",
       "1  POR         826.133254  2009.0  2008-10-31\n",
       "2  POR        1005.964440  2009.0  2008-11-01\n",
       "3  POR         505.045543  2009.0  2008-11-05\n",
       "4  POR         634.959453  2009.0  2008-11-06"
      ]
     },
     "execution_count": 11,
     "metadata": {},
     "output_type": "execute_result"
    }
   ],
   "source": [
    "df_newdata.head()"
   ]
  },
  {
   "cell_type": "code",
   "execution_count": 12,
   "id": "52f23a71",
   "metadata": {},
   "outputs": [],
   "source": [
    "for i in df_newdata['datetime']:\n",
    "    pd.to_datetime(i)"
   ]
  },
  {
   "cell_type": "code",
   "execution_count": 13,
   "id": "9b67493a",
   "metadata": {
    "scrolled": false
   },
   "outputs": [
    {
     "data": {
      "text/plain": [
       "0       2008-10-28\n",
       "1       2008-10-31\n",
       "2       2008-11-01\n",
       "3       2008-11-05\n",
       "4       2008-11-06\n",
       "           ...    \n",
       "35493   2022-04-03\n",
       "35494   2022-04-05\n",
       "35495   2022-04-07\n",
       "35496   2022-04-08\n",
       "35497   2022-04-10\n",
       "Name: datetime, Length: 35498, dtype: datetime64[ns]"
      ]
     },
     "execution_count": 13,
     "metadata": {},
     "output_type": "execute_result"
    }
   ],
   "source": [
    "pd.to_datetime(df_newdata['datetime'])"
   ]
  },
  {
   "cell_type": "code",
   "execution_count": 14,
   "id": "513b850e",
   "metadata": {
    "scrolled": true
   },
   "outputs": [
    {
     "name": "stderr",
     "output_type": "stream",
     "text": [
      "<ipython-input-14-00c7dfa3e655>:1: SettingWithCopyWarning: \n",
      "A value is trying to be set on a copy of a slice from a DataFrame.\n",
      "Try using .loc[row_indexer,col_indexer] = value instead\n",
      "\n",
      "See the caveats in the documentation: https://pandas.pydata.org/pandas-docs/stable/user_guide/indexing.html#returning-a-view-versus-a-copy\n",
      "  df_newdata['datetime'] = pd.to_datetime(df_newdata['datetime'])\n"
     ]
    }
   ],
   "source": [
    "df_newdata['datetime'] = pd.to_datetime(df_newdata['datetime'])"
   ]
  },
  {
   "cell_type": "code",
   "execution_count": 17,
   "id": "e3225fd2",
   "metadata": {},
   "outputs": [
    {
     "name": "stderr",
     "output_type": "stream",
     "text": [
      "<ipython-input-17-c7a29d259715>:1: SettingWithCopyWarning: \n",
      "A value is trying to be set on a copy of a slice from a DataFrame.\n",
      "Try using .loc[row_indexer,col_indexer] = value instead\n",
      "\n",
      "See the caveats in the documentation: https://pandas.pydata.org/pandas-docs/stable/user_guide/indexing.html#returning-a-view-versus-a-copy\n",
      "  df_newdata['Quarter'] = df_newdata['datetime'].dt.to_period('Q')\n"
     ]
    }
   ],
   "source": [
    "df_newdata['Quarter'] = df_newdata['datetime'].dt.to_period('Q')"
   ]
  },
  {
   "cell_type": "code",
   "execution_count": 18,
   "id": "2929e7dd",
   "metadata": {
    "scrolled": true
   },
   "outputs": [
    {
     "data": {
      "text/html": [
       "<div>\n",
       "<style scoped>\n",
       "    .dataframe tbody tr th:only-of-type {\n",
       "        vertical-align: middle;\n",
       "    }\n",
       "\n",
       "    .dataframe tbody tr th {\n",
       "        vertical-align: top;\n",
       "    }\n",
       "\n",
       "    .dataframe thead th {\n",
       "        text-align: right;\n",
       "    }\n",
       "</style>\n",
       "<table border=\"1\" class=\"dataframe\">\n",
       "  <thead>\n",
       "    <tr style=\"text-align: right;\">\n",
       "      <th></th>\n",
       "      <th>team</th>\n",
       "      <th>distance_traveled</th>\n",
       "      <th>season</th>\n",
       "      <th>datetime</th>\n",
       "      <th>Quarter</th>\n",
       "    </tr>\n",
       "  </thead>\n",
       "  <tbody>\n",
       "    <tr>\n",
       "      <th>0</th>\n",
       "      <td>POR</td>\n",
       "      <td>826.133254</td>\n",
       "      <td>2009.0</td>\n",
       "      <td>2008-10-28</td>\n",
       "      <td>2008Q4</td>\n",
       "    </tr>\n",
       "    <tr>\n",
       "      <th>1</th>\n",
       "      <td>POR</td>\n",
       "      <td>826.133254</td>\n",
       "      <td>2009.0</td>\n",
       "      <td>2008-10-31</td>\n",
       "      <td>2008Q4</td>\n",
       "    </tr>\n",
       "    <tr>\n",
       "      <th>2</th>\n",
       "      <td>POR</td>\n",
       "      <td>1005.964440</td>\n",
       "      <td>2009.0</td>\n",
       "      <td>2008-11-01</td>\n",
       "      <td>2008Q4</td>\n",
       "    </tr>\n",
       "    <tr>\n",
       "      <th>3</th>\n",
       "      <td>POR</td>\n",
       "      <td>505.045543</td>\n",
       "      <td>2009.0</td>\n",
       "      <td>2008-11-05</td>\n",
       "      <td>2008Q4</td>\n",
       "    </tr>\n",
       "    <tr>\n",
       "      <th>4</th>\n",
       "      <td>POR</td>\n",
       "      <td>634.959453</td>\n",
       "      <td>2009.0</td>\n",
       "      <td>2008-11-06</td>\n",
       "      <td>2008Q4</td>\n",
       "    </tr>\n",
       "  </tbody>\n",
       "</table>\n",
       "</div>"
      ],
      "text/plain": [
       "  team  distance_traveled  season   datetime Quarter\n",
       "0  POR         826.133254  2009.0 2008-10-28  2008Q4\n",
       "1  POR         826.133254  2009.0 2008-10-31  2008Q4\n",
       "2  POR        1005.964440  2009.0 2008-11-01  2008Q4\n",
       "3  POR         505.045543  2009.0 2008-11-05  2008Q4\n",
       "4  POR         634.959453  2009.0 2008-11-06  2008Q4"
      ]
     },
     "execution_count": 18,
     "metadata": {},
     "output_type": "execute_result"
    }
   ],
   "source": [
    "df_newdata.head()"
   ]
  },
  {
   "cell_type": "code",
   "execution_count": 23,
   "id": "07a8aec8",
   "metadata": {
    "scrolled": true
   },
   "outputs": [
    {
     "data": {
      "application/vnd.plotly.v1+json": {
       "config": {
        "plotlyServerURL": "https://plot.ly"
       },
       "data": [
        {
         "hovertemplate": "x=%{x}<br>y=%{y}<extra></extra>",
         "legendgroup": "",
         "marker": {
          "color": "#636efa",
          "symbol": "circle"
         },
         "mode": "markers",
         "name": "",
         "orientation": "v",
         "showlegend": false,
         "type": "scatter",
         "x": [
          "POR",
          "POR",
          "POR",
          "POR",
          "POR",
          "POR",
          "POR",
          "POR",
          "POR",
          "POR",
          "POR",
          "POR",
          "POR",
          "POR",
          "POR",
          "POR",
          "POR",
          "POR",
          "POR",
          "POR",
          "POR",
          "POR",
          "POR",
          "POR",
          "POR",
          "POR",
          "POR",
          "POR",
          "POR",
          "POR",
          "POR",
          "POR",
          "LAC",
          "LAC",
          "LAC",
          "LAC",
          "LAC",
          "LAC",
          "LAC",
          "LAC",
          "LAC",
          "LAC",
          "LAC",
          "LAC",
          "LAC",
          "LAC",
          "LAC",
          "LAC",
          "LAC",
          "LAC",
          "LAC",
          "LAC",
          "LAC",
          "LAC",
          "LAC",
          "LAC",
          "LAC",
          "LAC",
          "LAC",
          "LAC",
          "LAC",
          "LAC",
          "LAC",
          "DEN",
          "DEN",
          "DEN",
          "DEN",
          "DEN",
          "DEN",
          "DEN",
          "DEN",
          "DEN",
          "DEN",
          "DEN",
          "DEN",
          "DEN",
          "DEN",
          "DEN",
          "DEN",
          "DEN",
          "DEN",
          "DEN",
          "DEN",
          "DEN",
          "DEN",
          "DEN",
          "DEN",
          "DEN",
          "DEN",
          "DEN",
          "DEN",
          "DEN",
          "DEN",
          "DEN",
          "DEN",
          "DEN",
          "HOU",
          "HOU",
          "HOU",
          "HOU",
          "HOU",
          "HOU",
          "HOU",
          "HOU",
          "HOU",
          "HOU",
          "HOU",
          "HOU",
          "HOU",
          "HOU",
          "HOU",
          "HOU",
          "HOU",
          "HOU",
          "HOU",
          "HOU",
          "HOU",
          "HOU",
          "HOU",
          "HOU",
          "HOU",
          "HOU",
          "HOU",
          "HOU",
          "HOU",
          "HOU",
          "HOU",
          "HOU",
          "HOU",
          "DAL",
          "DAL",
          "DAL",
          "DAL",
          "DAL",
          "DAL",
          "DAL",
          "DAL",
          "DAL",
          "DAL",
          "DAL",
          "DAL",
          "DAL",
          "DAL",
          "DAL",
          "DAL",
          "DAL",
          "DAL",
          "DAL",
          "DAL",
          "DAL",
          "DAL",
          "DAL",
          "DAL",
          "DAL",
          "DAL",
          "DAL",
          "DAL",
          "DAL",
          "DAL",
          "DAL",
          "NOH",
          "NOH",
          "NOH",
          "NOH",
          "NOH",
          "NOH",
          "NOH",
          "NOH",
          "NOH",
          "NOH",
          "NOH",
          "NOH",
          "NOH",
          "NOH",
          "NOH",
          "NOH",
          "NOH",
          "NOH",
          "NOH",
          "NOH",
          "NOH",
          "NOH",
          "NOH",
          "NOH",
          "NOH",
          "NOH",
          "NOH",
          "NOH",
          "DET",
          "DET",
          "DET",
          "DET",
          "DET",
          "DET",
          "DET",
          "DET",
          "DET",
          "DET",
          "DET",
          "DET",
          "DET",
          "DET",
          "DET",
          "DET",
          "DET",
          "DET",
          "DET",
          "DET",
          "DET",
          "DET",
          "DET",
          "DET",
          "DET",
          "DET",
          "DET",
          "DET",
          "DET",
          "DET",
          "CHI",
          "CHI",
          "CHI",
          "CHI",
          "CHI",
          "CHI",
          "CHI",
          "CHI",
          "CHI",
          "CHI",
          "CHI",
          "CHI",
          "CHI",
          "CHI",
          "CHI",
          "CHI",
          "CHI",
          "CHI",
          "CHI",
          "CHI",
          "CHI",
          "CHI",
          "CHI",
          "CHI",
          "CHI",
          "CHI",
          "CHI",
          "CHI",
          "CHI",
          "CHI",
          "CHI",
          "CHI",
          "PHO",
          "PHO",
          "PHO",
          "PHO",
          "PHO",
          "PHO",
          "PHO",
          "PHO",
          "PHO",
          "PHO",
          "PHO",
          "PHO",
          "PHO",
          "PHO",
          "PHO",
          "PHO",
          "PHO",
          "PHO",
          "PHO",
          "PHO",
          "PHO",
          "PHO",
          "PHO",
          "PHO",
          "PHO",
          "PHO",
          "PHO",
          "PHO",
          "PHO",
          "PHO",
          "SAC",
          "SAC",
          "SAC",
          "SAC",
          "SAC",
          "SAC",
          "SAC",
          "SAC",
          "SAC",
          "SAC",
          "SAC",
          "SAC",
          "SAC",
          "SAC",
          "SAC",
          "SAC",
          "SAC",
          "SAC",
          "SAC",
          "SAC",
          "SAC",
          "SAC",
          "SAC",
          "SAC",
          "SAC",
          "SAC",
          "SAC",
          "SAC",
          "SAC",
          "SAC",
          "SAC",
          "SAC",
          "NJN",
          "NJN",
          "NJN",
          "NJN",
          "NJN",
          "NJN",
          "NJN",
          "NJN",
          "NJN",
          "NJN",
          "NJN",
          "NJN",
          "NJN",
          "NJN",
          "NJN",
          "NJN",
          "NJN",
          "NJN",
          "NJN",
          "NJN",
          "NJN",
          "NJN",
          "NJN",
          "NJN",
          "NJN",
          "NJN",
          "NJN",
          "NJN",
          "NJN",
          "NJN",
          "NJN",
          "NJN",
          "TOR",
          "TOR",
          "TOR",
          "TOR",
          "TOR",
          "TOR",
          "TOR",
          "TOR",
          "TOR",
          "TOR",
          "TOR",
          "TOR",
          "TOR",
          "TOR",
          "TOR",
          "TOR",
          "TOR",
          "TOR",
          "TOR",
          "TOR",
          "TOR",
          "TOR",
          "TOR",
          "TOR",
          "TOR",
          "TOR",
          "TOR",
          "TOR",
          "TOR",
          "TOR",
          "TOR",
          "TOR",
          "IND",
          "IND",
          "IND",
          "IND",
          "IND",
          "IND",
          "IND",
          "IND",
          "IND",
          "IND",
          "IND",
          "IND",
          "IND",
          "IND",
          "IND",
          "IND",
          "IND",
          "IND",
          "IND",
          "IND",
          "IND",
          "IND",
          "IND",
          "IND",
          "IND",
          "IND",
          "IND",
          "IND",
          "IND",
          "IND",
          "IND",
          "PHI",
          "PHI",
          "PHI",
          "PHI",
          "PHI",
          "PHI",
          "PHI",
          "PHI",
          "PHI",
          "PHI",
          "PHI",
          "PHI",
          "PHI",
          "PHI",
          "PHI",
          "PHI",
          "PHI",
          "PHI",
          "PHI",
          "PHI",
          "PHI",
          "PHI",
          "PHI",
          "PHI",
          "PHI",
          "PHI",
          "PHI",
          "PHI",
          "PHI",
          "PHI",
          "PHI",
          "WAS",
          "WAS",
          "WAS",
          "WAS",
          "WAS",
          "WAS",
          "WAS",
          "WAS",
          "WAS",
          "WAS",
          "WAS",
          "WAS",
          "WAS",
          "WAS",
          "WAS",
          "WAS",
          "WAS",
          "WAS",
          "WAS",
          "WAS",
          "WAS",
          "WAS",
          "WAS",
          "WAS",
          "WAS",
          "WAS",
          "WAS",
          "WAS",
          "WAS",
          "WAS",
          "MIL",
          "MIL",
          "MIL",
          "MIL",
          "MIL",
          "MIL",
          "MIL",
          "MIL",
          "MIL",
          "MIL",
          "MIL",
          "MIL",
          "MIL",
          "MIL",
          "MIL",
          "MIL",
          "MIL",
          "MIL",
          "MIL",
          "MIL",
          "MIL",
          "MIL",
          "MIL",
          "MIL",
          "MIL",
          "MIL",
          "MIL",
          "MIL",
          "MIL",
          "MIL",
          "MIL",
          "MIL",
          "MIL",
          "MIN",
          "MIN",
          "MIN",
          "MIN",
          "MIN",
          "MIN",
          "MIN",
          "MIN",
          "MIN",
          "MIN",
          "MIN",
          "MIN",
          "MIN",
          "MIN",
          "MIN",
          "MIN",
          "MIN",
          "MIN",
          "MIN",
          "MIN",
          "MIN",
          "MIN",
          "MIN",
          "MIN",
          "MIN",
          "MIN",
          "MIN",
          "MIN",
          "MIN",
          "MIN",
          "MIN",
          "NYK",
          "NYK",
          "NYK",
          "NYK",
          "NYK",
          "NYK",
          "NYK",
          "NYK",
          "NYK",
          "NYK",
          "NYK",
          "NYK",
          "NYK",
          "NYK",
          "NYK",
          "NYK",
          "NYK",
          "NYK",
          "NYK",
          "NYK",
          "NYK",
          "NYK",
          "NYK",
          "NYK",
          "NYK",
          "NYK",
          "NYK",
          "NYK",
          "NYK",
          "NYK",
          "MIA",
          "MIA",
          "MIA",
          "MIA",
          "MIA",
          "MIA",
          "MIA",
          "MIA",
          "MIA",
          "MIA",
          "MIA",
          "MIA",
          "MIA",
          "MIA",
          "MIA",
          "MIA",
          "MIA",
          "MIA",
          "MIA",
          "MIA",
          "MIA",
          "MIA",
          "MIA",
          "MIA",
          "MIA",
          "MIA",
          "MIA",
          "MIA",
          "MIA",
          "MIA",
          "ORL",
          "ORL",
          "ORL",
          "ORL",
          "ORL",
          "ORL",
          "ORL",
          "ORL",
          "ORL",
          "ORL",
          "ORL",
          "ORL",
          "ORL",
          "ORL",
          "ORL",
          "ORL",
          "ORL",
          "ORL",
          "ORL",
          "ORL",
          "ORL",
          "ORL",
          "ORL",
          "ORL",
          "ORL",
          "ORL",
          "ORL",
          "ORL",
          "ORL",
          "ORL",
          "ORL",
          "ORL",
          "MEM",
          "MEM",
          "MEM",
          "MEM",
          "MEM",
          "MEM",
          "MEM",
          "MEM",
          "MEM",
          "MEM",
          "MEM",
          "MEM",
          "MEM",
          "MEM",
          "MEM",
          "MEM",
          "MEM",
          "MEM",
          "MEM",
          "MEM",
          "MEM",
          "MEM",
          "MEM",
          "MEM",
          "MEM",
          "MEM",
          "MEM",
          "MEM",
          "MEM",
          "MEM",
          "MEM",
          "MEM",
          "BOS",
          "BOS",
          "BOS",
          "BOS",
          "BOS",
          "BOS",
          "BOS",
          "BOS",
          "BOS",
          "BOS",
          "BOS",
          "BOS",
          "BOS",
          "BOS",
          "BOS",
          "BOS",
          "BOS",
          "BOS",
          "BOS",
          "BOS",
          "BOS",
          "BOS",
          "BOS",
          "BOS",
          "BOS",
          "BOS",
          "BOS",
          "BOS",
          "BOS",
          "BOS",
          "BOS",
          "BOS",
          "BOS",
          "GSW",
          "GSW",
          "GSW",
          "GSW",
          "GSW",
          "GSW",
          "GSW",
          "GSW",
          "GSW",
          "GSW",
          "GSW",
          "GSW",
          "GSW",
          "GSW",
          "GSW",
          "GSW",
          "GSW",
          "GSW",
          "GSW",
          "GSW",
          "GSW",
          "GSW",
          "GSW",
          "GSW",
          "GSW",
          "GSW",
          "GSW",
          "GSW",
          "GSW",
          "GSW",
          "GSW",
          "GSW",
          "GSW",
          "GSW",
          "UTA",
          "UTA",
          "UTA",
          "UTA",
          "UTA",
          "UTA",
          "UTA",
          "UTA",
          "UTA",
          "UTA",
          "UTA",
          "UTA",
          "UTA",
          "UTA",
          "UTA",
          "UTA",
          "UTA",
          "UTA",
          "UTA",
          "UTA",
          "UTA",
          "UTA",
          "UTA",
          "UTA",
          "UTA",
          "UTA",
          "UTA",
          "UTA",
          "UTA",
          "UTA",
          "UTA",
          "UTA",
          "UTA",
          "SAS",
          "SAS",
          "SAS",
          "SAS",
          "SAS",
          "SAS",
          "SAS",
          "SAS",
          "SAS",
          "SAS",
          "SAS",
          "SAS",
          "SAS",
          "SAS",
          "SAS",
          "SAS",
          "SAS",
          "SAS",
          "SAS",
          "SAS",
          "SAS",
          "SAS",
          "SAS",
          "SAS",
          "SAS",
          "SAS",
          "SAS",
          "SAS",
          "SAS",
          "SAS",
          "SAS",
          "CLE",
          "CLE",
          "CLE",
          "CLE",
          "CLE",
          "CLE",
          "CLE",
          "CLE",
          "CLE",
          "CLE",
          "CLE",
          "CLE",
          "CLE",
          "CLE",
          "CLE",
          "CLE",
          "CLE",
          "CLE",
          "CLE",
          "CLE",
          "CLE",
          "CLE",
          "CLE",
          "CLE",
          "CLE",
          "CLE",
          "CLE",
          "CLE",
          "CLE",
          "CLE",
          "CLE",
          "CHA",
          "CHA",
          "CHA",
          "CHA",
          "CHA",
          "CHA",
          "CHA",
          "CHA",
          "CHA",
          "CHA",
          "CHA",
          "CHA",
          "CHA",
          "CHA",
          "CHA",
          "CHA",
          "CHA",
          "CHA",
          "CHA",
          "CHA",
          "CHA",
          "CHA",
          "CHA",
          "CHA",
          "CHA",
          "CHA",
          "CHA",
          "CHA",
          "CHA",
          "CHA",
          "CHA",
          "CHA",
          "OKC",
          "OKC",
          "OKC",
          "OKC",
          "OKC",
          "OKC",
          "OKC",
          "OKC",
          "OKC",
          "OKC",
          "OKC",
          "OKC",
          "OKC",
          "OKC",
          "OKC",
          "OKC",
          "OKC",
          "OKC",
          "OKC",
          "OKC",
          "OKC",
          "OKC",
          "OKC",
          "OKC",
          "OKC",
          "OKC",
          "OKC",
          "OKC",
          "OKC",
          "OKC",
          "OKC",
          "OKC",
          "OKC",
          "ATL",
          "ATL",
          "ATL",
          "ATL",
          "ATL",
          "ATL",
          "ATL",
          "ATL",
          "ATL",
          "ATL",
          "ATL",
          "ATL",
          "ATL",
          "ATL",
          "ATL",
          "ATL",
          "ATL",
          "ATL",
          "ATL",
          "ATL",
          "ATL",
          "ATL",
          "ATL",
          "ATL",
          "ATL",
          "ATL",
          "ATL",
          "ATL",
          "ATL",
          "ATL",
          "ATL",
          "LAL",
          "LAL",
          "LAL",
          "LAL",
          "LAL",
          "LAL",
          "LAL",
          "LAL",
          "LAL",
          "LAL",
          "LAL",
          "LAL",
          "LAL",
          "LAL",
          "LAL",
          "LAL",
          "LAL",
          "LAL",
          "LAL",
          "LAL",
          "LAL",
          "LAL",
          "LAL",
          "LAL",
          "LAL",
          "LAL",
          "LAL",
          "LAL",
          "LAL",
          "LAL"
         ],
         "xaxis": "x",
         "y": [
          826.1332542407216,
          826.1332542407216,
          1005.9644396303828,
          505.04554301468806,
          634.9594529583914,
          0,
          2528.5509794106983,
          203.64938386999935,
          669.6521933281069,
          1051.110499055049,
          1582.995387336878,
          535.9889483605962,
          478.6634606981117,
          638.5592646703761,
          1005.9644396303828,
          0,
          0,
          1950.8085147315123,
          496.56043797070106,
          205.56944764137933,
          394.0230407024098,
          430.2861636320044,
          2113.9150751112825,
          634.9594529583914,
          634.9594529583914,
          0,
          0,
          981.758381997384,
          981.758381997384,
          0,
          0,
          0,
          1375.3338319256543,
          0,
          580.8014606905652,
          580.8014606905652,
          0,
          0,
          0,
          0,
          0,
          0,
          1182.5400380649337,
          1258.6445782940366,
          78.05941657165693,
          2443.697564019167,
          0,
          0,
          1240.8251568013216,
          226.26347801604376,
          483.69797999163296,
          700.0248385313284,
          1524.6766223766465,
          826.1332542407216,
          826.1332542407216,
          1182.5400380649337,
          691.3556142048399,
          166.33468811089793,
          244.1223036550248,
          1745.700585697345,
          0,
          365.64648939294864,
          365.64648939294864,
          371.0259244699242,
          580.8014606905652,
          831.8919926750208,
          947.0402793542846,
          947.0402793542846,
          0,
          1359.7887242914446,
          435.0081530822941,
          550.5311894003717,
          1770.426753033566,
          0,
          803.4399465644891,
          1207.9594147502837,
          831.8919926750208,
          831.8919926750208,
          831.8919926750208,
          699.6361801230056,
          699.6361801230056,
          0,
          0,
          888.1956596989712,
          888.1956596989712,
          0,
          662.4511196205522,
          226.26347801604376,
          879.7832937439993,
          585.3605949069921,
          585.3605949069921,
          981.758381997384,
          981.758381997384,
          1632.5395054438077,
          748.3188678643044,
          733.5013254928253,
          0,
          226.26347801604376,
          226.26347801604376,
          0,
          1836.031226542743,
          826.1332542407216,
          0,
          359.0446066256427,
          850.8205473672534,
          186.46316255253316,
          413.1456745819715,
          413.1456745819715,
          1220.2607962237676,
          756.6040659979565,
          203.64938386999935,
          967.8892703883342,
          0,
          879.7832937439993,
          879.7832937439993,
          0,
          483.69797999163296,
          483.69797999163296,
          1643.8866889492251,
          345.42038654966524,
          1375.3338319256543,
          0,
          1056.3779127957548,
          1010.7801603386145,
          395.6813499698256,
          924.37145358618,
          317.31340604389294,
          0,
          0,
          1240.8251568013216,
          861.883999888524,
          861.883999888524,
          250.98875459589075,
          803.4399465644891,
          831.8919926750208,
          1240.8251568013216,
          802.7448814750096,
          802.7448814750096,
          1374.3538371751988,
          533.3798819716286,
          927.0194627508808,
          226.26347801604376,
          0,
          1240.8251568013216,
          365.64648939294864,
          1441.6111698699951,
          0,
          0,
          0,
          0,
          0,
          0,
          1204.004513037967,
          334.24360547373084,
          197.5254863067749,
          1184.9587134837193,
          1632.0929613390056,
          634.9594529583914,
          580.8014606905652,
          1240.8251568013216,
          947.0402793542846,
          652.2462380729492,
          1314.9510019106615,
          0,
          649.8349304062594,
          649.8349304062594,
          0,
          0,
          317.31340604389294,
          317.31340604389294,
          575.7918623123606,
          575.7918623123606,
          1673.3947643342983,
          831.8919926750208,
          981.758381997384,
          2062.0044927901017,
          0,
          0,
          1359.6934516856986,
          430.2861636320044,
          817.538678531089,
          357.59894684166954,
          0,
          0,
          534.156886884279,
          534.156886884279,
          712.2111994950859,
          712.2111994950859,
          1148.6239153224572,
          0,
          531.4028522380261,
          585.957489414506,
          334.24360547373084,
          488.1268876190309,
          2012.570341851637,
          77.01945370784134,
          345.42038654966524,
          359.0446066256427,
          1685.810652225142,
          621.8424337339833,
          621.8424337339833,
          0,
          0,
          0,
          1245.200815764022,
          1245.200815764022,
          496.56043797070106,
          205.56944764137933,
          418.4402431081356,
          531.4028522380261,
          531.4028522380261,
          0,
          619.7522517492501,
          619.7522517492501,
          0,
          238.3560440790164,
          238.3560440790164,
          0,
          0,
          852.845622211562,
          852.845622211562,
          985.4522362859984,
          893.39072410967,
          310.7387971370381,
          0,
          0,
          0,
          0,
          1745.0133880848398,
          826.1332542407216,
          535.9889483605962,
          947.0402793542846,
          371.0259244699242,
          1089.7348984027697,
          1502.432440095861,
          668.13022767116,
          81.23099086402904,
          81.23099086402904,
          0,
          482.4990018155557,
          482.4990018155557,
          589.3207614218485,
          589.3207614218485,
          852.845622211562,
          852.845622211562,
          233.8150988733941,
          1178.79995524347,
          604.6004072833986,
          740.1790061715903,
          706.3412372473388,
          1764.2903964116624,
          850.8205473672534,
          0,
          2135.6157436610533,
          636.6151000370205,
          166.33468811089793,
          81.23099086402904,
          1463.9020293713502,
          0,
          638.5592646703761,
          638.5592646703761,
          505.04554301468806,
          505.04554301468806,
          0,
          841.8783477460639,
          693.5309816839871,
          1279.2350639778729,
          0,
          1314.9510019106615,
          443.1744728561147,
          885.3727151770894,
          0,
          359.0446066256427,
          359.0446066256427,
          0,
          1005.9644396303828,
          1005.9644396303828,
          0,
          841.8783477460639,
          422.3499784029496,
          1513.3946391346542,
          1511.3218964102105,
          203.64938386999935,
          859.5248084596025,
          2458.201989412705,
          0,
          0,
          0,
          365.64648939294864,
          365.64648939294864,
          0,
          1750.9037020987955,
          357.59894684166954,
          1884.7148464092704,
          365.64648939294864,
          826.1332542407216,
          478.6634606981117,
          532.5737055532489,
          532.5737055532489,
          0,
          0,
          0,
          365.64648939294864,
          365.64648939294864,
          0,
          478.6634606981117,
          1836.031226542743,
          317.31340604389294,
          503.6790700805505,
          1463.367733395169,
          0,
          0,
          934.5799706720614,
          197.5254863067749,
          0,
          0,
          636.6151000370205,
          1023.6018966590516,
          1087.01969551878,
          0,
          740.1790061715903,
          740.1790061715903,
          334.24360547373084,
          334.24360547373084,
          2443.697564019167,
          365.64648939294864,
          532.5737055532489,
          505.04554301468806,
          2135.6157436610533,
          0,
          78.05941657165693,
          78.05941657165693,
          0,
          706.3412372473388,
          438.878888616924,
          334.24360547373084,
          0,
          0,
          0,
          636.6151000370205,
          636.6151000370205,
          525.8436315374364,
          525.8436315374364,
          488.1268876190309,
          85.48009637313618,
          337.46604677700526,
          431.9616879549398,
          431.9616879549398,
          733.5013254928253,
          226.81195297719668,
          721.0254365917122,
          430.2861636320044,
          0,
          1047.3501536264964,
          203.64938386999935,
          1232.138996523246,
          0,
          0,
          0,
          2177.4078877568336,
          831.8919926750208,
          371.0259244699242,
          1669.8058122092143,
          189.2896254054737,
          189.2896254054737,
          334.24360547373084,
          334.24360547373084,
          0,
          0,
          1117.3619601196765,
          419.42029035163415,
          1207.9594147502837,
          365.64648939294864,
          478.6634606981117,
          535.9889483605962,
          2268.4746240542254,
          233.8150988733941,
          252.8483475506046,
          0,
          263.4840159185901,
          263.4840159185901,
          0,
          636.6151000370205,
          636.6151000370205,
          166.33468811089793,
          166.33468811089793,
          0,
          1023.6018966590516,
          1111.8246907336425,
          226.26347801604376,
          865.3642751892917,
          820.22620400866,
          820.22620400866,
          807.3074419351117,
          550.5311894003717,
          263.4840159185901,
          440.7831057143767,
          205.9680835530104,
          238.3560440790164,
          636.96512085492,
          492.8077716845424,
          0,
          583.9345989986616,
          583.9345989986616,
          384.1132667731615,
          384.1132667731615,
          0,
          0,
          0,
          663.3832576930083,
          663.3832576930083,
          1015.3514519939451,
          203.64938386999935,
          859.5248084596025,
          337.46604677700526,
          440.7831057143767,
          583.9345989986616,
          987.0741501532142,
          987.0741501532142,
          0,
          447.9037326881756,
          447.9037326881756,
          273.6469653447385,
          273.6469653447385,
          668.13022767116,
          668.13022767116,
          462.085638129271,
          462.085638129271,
          0,
          359.3634096603214,
          359.3634096603214,
          0,
          120.74727279737104,
          120.74727279737104,
          273.6469653447385,
          1770.426753033566,
          371.0259244699242,
          580.8014606905652,
          0,
          418.4402431081356,
          238.3560440790164,
          636.96512085492,
          756.6040659979565,
          756.6040659979565,
          922.4421470014388,
          922.4421470014388,
          542.7676450791043,
          542.7676450791043,
          205.56944764137933,
          205.56944764137933,
          0,
          0,
          197.5254863067749,
          197.5254863067749,
          0,
          598.035579569072,
          598.035579569072,
          0,
          120.74727279737104,
          120.74727279737104,
          418.4402431081356,
          418.4402431081356,
          0,
          329.60246322854584,
          435.0081530822941,
          305.0727370715707,
          1220.2607962237676,
          317.31340604389294,
          852.845622211562,
          691.3556142048399,
          732.8338939538752,
          734.2461049985126,
          734.2461049985126,
          857.8839899485234,
          857.8839899485234,
          336.59555360956494,
          336.59555360956494,
          557.2061253410309,
          557.2061253410309,
          914.9606251451214,
          371.0259244699242,
          1242.1706849509444,
          659.3589758870377,
          461.7681272240994,
          401.3094101569927,
          619.7522517492501,
          238.3560440790164,
          0,
          0,
          1745.700585697345,
          359.0446066256427,
          652.2462380729492,
          1840.726382815195,
          1267.724013817232,
          1015.3514519939451,
          85.48009637313618,
          734.2461049985126,
          0,
          0,
          1105.543947856161,
          186.46316255253316,
          511.8640615211266,
          0,
          693.5309816839871,
          693.5309816839871,
          1513.3946391346542,
          478.6634606981117,
          535.9889483605962,
          1582.995387336878,
          699.6361801230056,
          699.6361801230056,
          0,
          525.0316429515892,
          525.0316429515892,
          693.5309816839871,
          693.5309816839871,
          939.7545436766508,
          461.7681272240994,
          934.7827393041885,
          1010.7801603386145,
          0,
          699.6361801230056,
          699.6361801230056,
          1524.6766223766465,
          365.64648939294864,
          1513.3946391346542,
          0,
          1109.0508131557551,
          1581.9145398737485,
          1018.888639838382,
          0,
          861.883999888524,
          0,
          85.48009637313618,
          85.48009637313618,
          0,
          205.56944764137933,
          205.56944764137933,
          1581.9145398737485,
          628.7471917025063,
          956.7086507954888,
          0,
          188.45432636530816,
          857.8839899485234,
          734.2461049985126,
          0,
          496.56043797070106,
          496.56043797070106,
          0,
          404.6541370475831,
          553.9414935859052,
          748.3188678643044,
          715.2723606480628,
          706.3412372473388,
          2496.873796892459,
          638.5592646703761,
          359.0446066256427,
          2452.919977488317,
          188.45432636530816,
          188.45432636530816,
          0,
          533.3798819716286,
          1091.4033807608453,
          1091.4033807608453,
          651.6910227669994,
          651.6910227669994,
          1145.9044877608608,
          503.6790700805505,
          669.6521933281069,
          0,
          0,
          1232.138996523246,
          349.68761090022343,
          922.4421470014388,
          0,
          0,
          2707.33116911478,
          1005.9644396303828,
          359.0446066256427,
          345.42038654966524,
          598.7196779727169,
          2089.557170514879,
          0,
          0,
          871.8143359954607,
          871.8143359954607,
          0,
          1087.01969551878,
          1087.01969551878,
          0,
          1086.4992389159077,
          1086.4992389159077,
          401.3094101569927,
          682.5297964869113,
          682.5297964869113,
          0,
          0,
          0,
          0,
          1058.609335789942,
          188.59713033079296,
          930.89217586264,
          461.7681272240994,
          820.22620400866,
          820.22620400866,
          0,
          859.5248084596025,
          120.74727279737104,
          756.6040659979565,
          1114.9996006921835,
          1114.9996006921835,
          0,
          2202.754324489353,
          826.1332542407216,
          1005.9644396303828,
          505.04554301468806,
          598.7196779727169,
          2439.6300692484265,
          0,
          0,
          0,
          1308.4303873823828,
          525.0316429515892,
          233.8150988733941,
          483.69797999163296,
          483.69797999163296,
          482.4990018155557,
          482.4990018155557,
          1750.9037020987955,
          77.01945370784134,
          947.0402793542846,
          585.3605949069921,
          1262.5742481091838,
          0,
          0,
          420.45640022861113,
          420.45640022861113,
          0,
          1250.9520876979325,
          1089.7348984027697,
          628.7471917025063,
          336.54993325185524,
          336.54993325185524,
          357.59894684166954,
          357.59894684166954,
          422.3499784029496,
          422.3499784029496,
          0,
          0,
          0,
          0,
          420.45640022861113,
          420.45640022861113,
          628.7471917025063,
          1109.0508131557551,
          700.0248385313284,
          0,
          0,
          807.3074419351117,
          865.3642751892917,
          413.1456745819715,
          1495.7781718647243,
          621.8424337339833,
          621.8424337339833,
          0,
          0,
          857.8839899485234,
          857.8839899485234,
          0,
          1124.0185687464857,
          694.2308967479469,
          430.2861636320044,
          0,
          721.0254365917122,
          721.0254365917122,
          0,
          0,
          807.3074419351117,
          492.8077716845424,
          394.0230407024098,
          0,
          936.7689492938356,
          936.7689492938356,
          0,
          0,
          2597.8577858928784,
          345.42038654966524,
          77.01945370784134,
          478.6634606981117,
          0,
          2268.4746240542254,
          334.24360547373084,
          947.5138157609264,
          1801.3824938823332,
          0,
          77.01945370784134,
          77.01945370784134,
          0,
          345.42038654966524,
          345.42038654966524,
          0,
          2521.7926751668274,
          120.74727279737104,
          394.0230407024098,
          550.5311894003717,
          404.6541370475831,
          2570.5786822095924,
          1643.8866889492251,
          186.46316255253316,
          419.42029035163415,
          1387.5482272463764,
          0,
          947.0402793542846,
          947.0402793542846,
          1948.17473019088,
          425.5106011095684,
          226.81195297719668,
          461.7681272240994,
          203.64938386999935,
          2592.74999321422,
          345.42038654966524,
          345.42038654966524,
          1387.5482272463764,
          505.04554301468806,
          0,
          580.8014606905652,
          580.8014606905652,
          0,
          1973.1390946317465,
          85.48009637313618,
          120.74727279737104,
          329.60246322854584,
          435.0081530822941,
          1569.1022202089423,
          0,
          1089.7348984027697,
          628.7471917025063,
          1250.9520876979325,
          0,
          0,
          0,
          532.5737055532489,
          532.5737055532489,
          0,
          505.04554301468806,
          1279.2350639778729,
          986.6917824842548,
          0,
          2099.037390951458,
          196.6300041056878,
          488.1268876190309,
          233.8150988733941,
          81.23099086402904,
          1242.1706849509444,
          1201.1057326246275,
          1201.1057326246275,
          1207.9594147502837,
          1721.765530524215,
          1721.765530524215,
          1109.0508131557551,
          1109.0508131557551,
          0,
          1105.543947856161,
          1105.543947856161,
          1463.367733395169,
          365.64648939294864,
          1207.9594147502837,
          0,
          628.7471917025063,
          628.7471917025063,
          0,
          186.46316255253316,
          186.46316255253316,
          803.4399465644891,
          803.4399465644891,
          250.98875459589075,
          250.98875459589075,
          1109.0508131557551,
          1109.0508131557551,
          503.6790700805505,
          534.156886884279,
          1033.597635918298,
          0,
          0,
          850.8205473672534,
          850.8205473672534,
          0,
          550.5311894003717,
          550.5311894003717,
          924.37145358618,
          443.1744728561147,
          1025.7787189506068,
          0,
          310.7387971370381,
          310.7387971370381,
          0,
          0,
          395.6813499698256,
          488.1268876190309,
          115.21549392859212,
          404.6541370475831,
          404.6541370475831,
          0,
          336.59555360956494,
          336.59555360956494,
          0,
          435.0081530822941,
          435.0081530822941,
          359.3634096603214,
          359.3634096603214,
          553.9414935859052,
          907.2322411730812,
          699.6361801230056,
          505.99415415046656,
          951.7071303018236,
          0,
          0,
          1086.4992389159077,
          893.39072410967,
          435.0081530822941,
          0,
          533.3798819716286,
          533.3798819716286,
          0,
          0,
          0,
          0,
          0,
          226.81195297719668,
          226.81195297719668,
          0,
          585.957489414506,
          440.7831057143767,
          427.9907148405277,
          0,
          0,
          659.3589758870377,
          659.3589758870377,
          651.6910227669994,
          669.6521933281069,
          443.1744728561147,
          930.89217586264,
          226.81195297719668,
          226.81195297719668,
          521.1953328440801,
          521.1953328440801,
          0,
          525.8436315374364,
          525.8436315374364,
          0,
          1058.609335789942,
          413.1456745819715,
          413.1456745819715,
          0,
          863.6571871282163,
          863.6571871282163,
          689.4627026499468,
          689.4627026499468,
          1328.1313622289629,
          85.48009637313618,
          1258.6445782940366,
          0,
          0,
          575.7918623123606,
          575.7918623123606,
          951.7071303018236,
          951.7071303018236,
          422.3499784029496,
          521.1953328440801,
          461.7681272240994,
          203.64938386999935,
          1226.0089209298294,
          0,
          188.59713033079296,
          250.98875459589075,
          419.42029035163415,
          0,
          0,
          756.2531747049911,
          619.7522517492501,
          418.4402431081356,
          1152.744674760862,
          0,
          2202.754324489353,
          401.3094101569927,
          424.8928447749456,
          424.8928447749456,
          756.2531747049911,
          691.3556142048399,
          852.845622211562,
          196.6300041056878,
          740.1790061715903,
          425.5106011095684,
          425.5106011095684,
          0,
          553.9414935859052,
          553.9414935859052,
          733.5013254928253,
          349.68761090022343,
          542.7676450791043,
          0,
          721.2674716551787,
          226.26347801604376,
          186.46316255253316,
          1145.9044877608608,
          604.6004072833986,
          0,
          0,
          0,
          0,
          0,
          0,
          0,
          425.5106011095684,
          0,
          0,
          831.8919926750208,
          831.8919926750208,
          0,
          1240.8251568013216,
          443.1744728561147,
          1673.3947643342983,
          0,
          359.0446066256427,
          359.0446066256427,
          0,
          0,
          0,
          0,
          1811.2406364384935,
          583.9345989986616,
          120.74727279737104,
          2301.5775295789736,
          365.64648939294864,
          365.64648939294864,
          0,
          0,
          0,
          2340.43167093419,
          203.64938386999935,
          682.5297964869113,
          357.59894684166954,
          1673.3947643342983,
          0
         ],
         "yaxis": "y"
        }
       ],
       "layout": {
        "legend": {
         "tracegroupgap": 0
        },
        "margin": {
         "t": 60
        },
        "template": {
         "data": {
          "bar": [
           {
            "error_x": {
             "color": "#2a3f5f"
            },
            "error_y": {
             "color": "#2a3f5f"
            },
            "marker": {
             "line": {
              "color": "#E5ECF6",
              "width": 0.5
             },
             "pattern": {
              "fillmode": "overlay",
              "size": 10,
              "solidity": 0.2
             }
            },
            "type": "bar"
           }
          ],
          "barpolar": [
           {
            "marker": {
             "line": {
              "color": "#E5ECF6",
              "width": 0.5
             },
             "pattern": {
              "fillmode": "overlay",
              "size": 10,
              "solidity": 0.2
             }
            },
            "type": "barpolar"
           }
          ],
          "carpet": [
           {
            "aaxis": {
             "endlinecolor": "#2a3f5f",
             "gridcolor": "white",
             "linecolor": "white",
             "minorgridcolor": "white",
             "startlinecolor": "#2a3f5f"
            },
            "baxis": {
             "endlinecolor": "#2a3f5f",
             "gridcolor": "white",
             "linecolor": "white",
             "minorgridcolor": "white",
             "startlinecolor": "#2a3f5f"
            },
            "type": "carpet"
           }
          ],
          "choropleth": [
           {
            "colorbar": {
             "outlinewidth": 0,
             "ticks": ""
            },
            "type": "choropleth"
           }
          ],
          "contour": [
           {
            "colorbar": {
             "outlinewidth": 0,
             "ticks": ""
            },
            "colorscale": [
             [
              0,
              "#0d0887"
             ],
             [
              0.1111111111111111,
              "#46039f"
             ],
             [
              0.2222222222222222,
              "#7201a8"
             ],
             [
              0.3333333333333333,
              "#9c179e"
             ],
             [
              0.4444444444444444,
              "#bd3786"
             ],
             [
              0.5555555555555556,
              "#d8576b"
             ],
             [
              0.6666666666666666,
              "#ed7953"
             ],
             [
              0.7777777777777778,
              "#fb9f3a"
             ],
             [
              0.8888888888888888,
              "#fdca26"
             ],
             [
              1,
              "#f0f921"
             ]
            ],
            "type": "contour"
           }
          ],
          "contourcarpet": [
           {
            "colorbar": {
             "outlinewidth": 0,
             "ticks": ""
            },
            "type": "contourcarpet"
           }
          ],
          "heatmap": [
           {
            "colorbar": {
             "outlinewidth": 0,
             "ticks": ""
            },
            "colorscale": [
             [
              0,
              "#0d0887"
             ],
             [
              0.1111111111111111,
              "#46039f"
             ],
             [
              0.2222222222222222,
              "#7201a8"
             ],
             [
              0.3333333333333333,
              "#9c179e"
             ],
             [
              0.4444444444444444,
              "#bd3786"
             ],
             [
              0.5555555555555556,
              "#d8576b"
             ],
             [
              0.6666666666666666,
              "#ed7953"
             ],
             [
              0.7777777777777778,
              "#fb9f3a"
             ],
             [
              0.8888888888888888,
              "#fdca26"
             ],
             [
              1,
              "#f0f921"
             ]
            ],
            "type": "heatmap"
           }
          ],
          "heatmapgl": [
           {
            "colorbar": {
             "outlinewidth": 0,
             "ticks": ""
            },
            "colorscale": [
             [
              0,
              "#0d0887"
             ],
             [
              0.1111111111111111,
              "#46039f"
             ],
             [
              0.2222222222222222,
              "#7201a8"
             ],
             [
              0.3333333333333333,
              "#9c179e"
             ],
             [
              0.4444444444444444,
              "#bd3786"
             ],
             [
              0.5555555555555556,
              "#d8576b"
             ],
             [
              0.6666666666666666,
              "#ed7953"
             ],
             [
              0.7777777777777778,
              "#fb9f3a"
             ],
             [
              0.8888888888888888,
              "#fdca26"
             ],
             [
              1,
              "#f0f921"
             ]
            ],
            "type": "heatmapgl"
           }
          ],
          "histogram": [
           {
            "marker": {
             "pattern": {
              "fillmode": "overlay",
              "size": 10,
              "solidity": 0.2
             }
            },
            "type": "histogram"
           }
          ],
          "histogram2d": [
           {
            "colorbar": {
             "outlinewidth": 0,
             "ticks": ""
            },
            "colorscale": [
             [
              0,
              "#0d0887"
             ],
             [
              0.1111111111111111,
              "#46039f"
             ],
             [
              0.2222222222222222,
              "#7201a8"
             ],
             [
              0.3333333333333333,
              "#9c179e"
             ],
             [
              0.4444444444444444,
              "#bd3786"
             ],
             [
              0.5555555555555556,
              "#d8576b"
             ],
             [
              0.6666666666666666,
              "#ed7953"
             ],
             [
              0.7777777777777778,
              "#fb9f3a"
             ],
             [
              0.8888888888888888,
              "#fdca26"
             ],
             [
              1,
              "#f0f921"
             ]
            ],
            "type": "histogram2d"
           }
          ],
          "histogram2dcontour": [
           {
            "colorbar": {
             "outlinewidth": 0,
             "ticks": ""
            },
            "colorscale": [
             [
              0,
              "#0d0887"
             ],
             [
              0.1111111111111111,
              "#46039f"
             ],
             [
              0.2222222222222222,
              "#7201a8"
             ],
             [
              0.3333333333333333,
              "#9c179e"
             ],
             [
              0.4444444444444444,
              "#bd3786"
             ],
             [
              0.5555555555555556,
              "#d8576b"
             ],
             [
              0.6666666666666666,
              "#ed7953"
             ],
             [
              0.7777777777777778,
              "#fb9f3a"
             ],
             [
              0.8888888888888888,
              "#fdca26"
             ],
             [
              1,
              "#f0f921"
             ]
            ],
            "type": "histogram2dcontour"
           }
          ],
          "mesh3d": [
           {
            "colorbar": {
             "outlinewidth": 0,
             "ticks": ""
            },
            "type": "mesh3d"
           }
          ],
          "parcoords": [
           {
            "line": {
             "colorbar": {
              "outlinewidth": 0,
              "ticks": ""
             }
            },
            "type": "parcoords"
           }
          ],
          "pie": [
           {
            "automargin": true,
            "type": "pie"
           }
          ],
          "scatter": [
           {
            "marker": {
             "colorbar": {
              "outlinewidth": 0,
              "ticks": ""
             }
            },
            "type": "scatter"
           }
          ],
          "scatter3d": [
           {
            "line": {
             "colorbar": {
              "outlinewidth": 0,
              "ticks": ""
             }
            },
            "marker": {
             "colorbar": {
              "outlinewidth": 0,
              "ticks": ""
             }
            },
            "type": "scatter3d"
           }
          ],
          "scattercarpet": [
           {
            "marker": {
             "colorbar": {
              "outlinewidth": 0,
              "ticks": ""
             }
            },
            "type": "scattercarpet"
           }
          ],
          "scattergeo": [
           {
            "marker": {
             "colorbar": {
              "outlinewidth": 0,
              "ticks": ""
             }
            },
            "type": "scattergeo"
           }
          ],
          "scattergl": [
           {
            "marker": {
             "colorbar": {
              "outlinewidth": 0,
              "ticks": ""
             }
            },
            "type": "scattergl"
           }
          ],
          "scattermapbox": [
           {
            "marker": {
             "colorbar": {
              "outlinewidth": 0,
              "ticks": ""
             }
            },
            "type": "scattermapbox"
           }
          ],
          "scatterpolar": [
           {
            "marker": {
             "colorbar": {
              "outlinewidth": 0,
              "ticks": ""
             }
            },
            "type": "scatterpolar"
           }
          ],
          "scatterpolargl": [
           {
            "marker": {
             "colorbar": {
              "outlinewidth": 0,
              "ticks": ""
             }
            },
            "type": "scatterpolargl"
           }
          ],
          "scatterternary": [
           {
            "marker": {
             "colorbar": {
              "outlinewidth": 0,
              "ticks": ""
             }
            },
            "type": "scatterternary"
           }
          ],
          "surface": [
           {
            "colorbar": {
             "outlinewidth": 0,
             "ticks": ""
            },
            "colorscale": [
             [
              0,
              "#0d0887"
             ],
             [
              0.1111111111111111,
              "#46039f"
             ],
             [
              0.2222222222222222,
              "#7201a8"
             ],
             [
              0.3333333333333333,
              "#9c179e"
             ],
             [
              0.4444444444444444,
              "#bd3786"
             ],
             [
              0.5555555555555556,
              "#d8576b"
             ],
             [
              0.6666666666666666,
              "#ed7953"
             ],
             [
              0.7777777777777778,
              "#fb9f3a"
             ],
             [
              0.8888888888888888,
              "#fdca26"
             ],
             [
              1,
              "#f0f921"
             ]
            ],
            "type": "surface"
           }
          ],
          "table": [
           {
            "cells": {
             "fill": {
              "color": "#EBF0F8"
             },
             "line": {
              "color": "white"
             }
            },
            "header": {
             "fill": {
              "color": "#C8D4E3"
             },
             "line": {
              "color": "white"
             }
            },
            "type": "table"
           }
          ]
         },
         "layout": {
          "annotationdefaults": {
           "arrowcolor": "#2a3f5f",
           "arrowhead": 0,
           "arrowwidth": 1
          },
          "autotypenumbers": "strict",
          "coloraxis": {
           "colorbar": {
            "outlinewidth": 0,
            "ticks": ""
           }
          },
          "colorscale": {
           "diverging": [
            [
             0,
             "#8e0152"
            ],
            [
             0.1,
             "#c51b7d"
            ],
            [
             0.2,
             "#de77ae"
            ],
            [
             0.3,
             "#f1b6da"
            ],
            [
             0.4,
             "#fde0ef"
            ],
            [
             0.5,
             "#f7f7f7"
            ],
            [
             0.6,
             "#e6f5d0"
            ],
            [
             0.7,
             "#b8e186"
            ],
            [
             0.8,
             "#7fbc41"
            ],
            [
             0.9,
             "#4d9221"
            ],
            [
             1,
             "#276419"
            ]
           ],
           "sequential": [
            [
             0,
             "#0d0887"
            ],
            [
             0.1111111111111111,
             "#46039f"
            ],
            [
             0.2222222222222222,
             "#7201a8"
            ],
            [
             0.3333333333333333,
             "#9c179e"
            ],
            [
             0.4444444444444444,
             "#bd3786"
            ],
            [
             0.5555555555555556,
             "#d8576b"
            ],
            [
             0.6666666666666666,
             "#ed7953"
            ],
            [
             0.7777777777777778,
             "#fb9f3a"
            ],
            [
             0.8888888888888888,
             "#fdca26"
            ],
            [
             1,
             "#f0f921"
            ]
           ],
           "sequentialminus": [
            [
             0,
             "#0d0887"
            ],
            [
             0.1111111111111111,
             "#46039f"
            ],
            [
             0.2222222222222222,
             "#7201a8"
            ],
            [
             0.3333333333333333,
             "#9c179e"
            ],
            [
             0.4444444444444444,
             "#bd3786"
            ],
            [
             0.5555555555555556,
             "#d8576b"
            ],
            [
             0.6666666666666666,
             "#ed7953"
            ],
            [
             0.7777777777777778,
             "#fb9f3a"
            ],
            [
             0.8888888888888888,
             "#fdca26"
            ],
            [
             1,
             "#f0f921"
            ]
           ]
          },
          "colorway": [
           "#636efa",
           "#EF553B",
           "#00cc96",
           "#ab63fa",
           "#FFA15A",
           "#19d3f3",
           "#FF6692",
           "#B6E880",
           "#FF97FF",
           "#FECB52"
          ],
          "font": {
           "color": "#2a3f5f"
          },
          "geo": {
           "bgcolor": "white",
           "lakecolor": "white",
           "landcolor": "#E5ECF6",
           "showlakes": true,
           "showland": true,
           "subunitcolor": "white"
          },
          "hoverlabel": {
           "align": "left"
          },
          "hovermode": "closest",
          "mapbox": {
           "style": "light"
          },
          "paper_bgcolor": "white",
          "plot_bgcolor": "#E5ECF6",
          "polar": {
           "angularaxis": {
            "gridcolor": "white",
            "linecolor": "white",
            "ticks": ""
           },
           "bgcolor": "#E5ECF6",
           "radialaxis": {
            "gridcolor": "white",
            "linecolor": "white",
            "ticks": ""
           }
          },
          "scene": {
           "xaxis": {
            "backgroundcolor": "#E5ECF6",
            "gridcolor": "white",
            "gridwidth": 2,
            "linecolor": "white",
            "showbackground": true,
            "ticks": "",
            "zerolinecolor": "white"
           },
           "yaxis": {
            "backgroundcolor": "#E5ECF6",
            "gridcolor": "white",
            "gridwidth": 2,
            "linecolor": "white",
            "showbackground": true,
            "ticks": "",
            "zerolinecolor": "white"
           },
           "zaxis": {
            "backgroundcolor": "#E5ECF6",
            "gridcolor": "white",
            "gridwidth": 2,
            "linecolor": "white",
            "showbackground": true,
            "ticks": "",
            "zerolinecolor": "white"
           }
          },
          "shapedefaults": {
           "line": {
            "color": "#2a3f5f"
           }
          },
          "ternary": {
           "aaxis": {
            "gridcolor": "white",
            "linecolor": "white",
            "ticks": ""
           },
           "baxis": {
            "gridcolor": "white",
            "linecolor": "white",
            "ticks": ""
           },
           "bgcolor": "#E5ECF6",
           "caxis": {
            "gridcolor": "white",
            "linecolor": "white",
            "ticks": ""
           }
          },
          "title": {
           "x": 0.05
          },
          "xaxis": {
           "automargin": true,
           "gridcolor": "white",
           "linecolor": "white",
           "ticks": "",
           "title": {
            "standoff": 15
           },
           "zerolinecolor": "white",
           "zerolinewidth": 2
          },
          "yaxis": {
           "automargin": true,
           "gridcolor": "white",
           "linecolor": "white",
           "ticks": "",
           "title": {
            "standoff": 15
           },
           "zerolinecolor": "white",
           "zerolinewidth": 2
          }
         }
        },
        "xaxis": {
         "anchor": "y",
         "domain": [
          0,
          1
         ],
         "title": {
          "text": "x"
         }
        },
        "yaxis": {
         "anchor": "x",
         "domain": [
          0,
          1
         ],
         "title": {
          "text": "y"
         }
        }
       }
      },
      "text/html": [
       "<div>                            <div id=\"68343486-accd-455a-97ff-40446da45235\" class=\"plotly-graph-div\" style=\"height:525px; width:100%;\"></div>            <script type=\"text/javascript\">                require([\"plotly\"], function(Plotly) {                    window.PLOTLYENV=window.PLOTLYENV || {};                                    if (document.getElementById(\"68343486-accd-455a-97ff-40446da45235\")) {                    Plotly.newPlot(                        \"68343486-accd-455a-97ff-40446da45235\",                        [{\"hovertemplate\":\"x=%{x}<br>y=%{y}<extra></extra>\",\"legendgroup\":\"\",\"marker\":{\"color\":\"#636efa\",\"symbol\":\"circle\"},\"mode\":\"markers\",\"name\":\"\",\"orientation\":\"v\",\"showlegend\":false,\"type\":\"scatter\",\"x\":[\"POR\",\"POR\",\"POR\",\"POR\",\"POR\",\"POR\",\"POR\",\"POR\",\"POR\",\"POR\",\"POR\",\"POR\",\"POR\",\"POR\",\"POR\",\"POR\",\"POR\",\"POR\",\"POR\",\"POR\",\"POR\",\"POR\",\"POR\",\"POR\",\"POR\",\"POR\",\"POR\",\"POR\",\"POR\",\"POR\",\"POR\",\"POR\",\"LAC\",\"LAC\",\"LAC\",\"LAC\",\"LAC\",\"LAC\",\"LAC\",\"LAC\",\"LAC\",\"LAC\",\"LAC\",\"LAC\",\"LAC\",\"LAC\",\"LAC\",\"LAC\",\"LAC\",\"LAC\",\"LAC\",\"LAC\",\"LAC\",\"LAC\",\"LAC\",\"LAC\",\"LAC\",\"LAC\",\"LAC\",\"LAC\",\"LAC\",\"LAC\",\"LAC\",\"DEN\",\"DEN\",\"DEN\",\"DEN\",\"DEN\",\"DEN\",\"DEN\",\"DEN\",\"DEN\",\"DEN\",\"DEN\",\"DEN\",\"DEN\",\"DEN\",\"DEN\",\"DEN\",\"DEN\",\"DEN\",\"DEN\",\"DEN\",\"DEN\",\"DEN\",\"DEN\",\"DEN\",\"DEN\",\"DEN\",\"DEN\",\"DEN\",\"DEN\",\"DEN\",\"DEN\",\"DEN\",\"DEN\",\"HOU\",\"HOU\",\"HOU\",\"HOU\",\"HOU\",\"HOU\",\"HOU\",\"HOU\",\"HOU\",\"HOU\",\"HOU\",\"HOU\",\"HOU\",\"HOU\",\"HOU\",\"HOU\",\"HOU\",\"HOU\",\"HOU\",\"HOU\",\"HOU\",\"HOU\",\"HOU\",\"HOU\",\"HOU\",\"HOU\",\"HOU\",\"HOU\",\"HOU\",\"HOU\",\"HOU\",\"HOU\",\"HOU\",\"DAL\",\"DAL\",\"DAL\",\"DAL\",\"DAL\",\"DAL\",\"DAL\",\"DAL\",\"DAL\",\"DAL\",\"DAL\",\"DAL\",\"DAL\",\"DAL\",\"DAL\",\"DAL\",\"DAL\",\"DAL\",\"DAL\",\"DAL\",\"DAL\",\"DAL\",\"DAL\",\"DAL\",\"DAL\",\"DAL\",\"DAL\",\"DAL\",\"DAL\",\"DAL\",\"DAL\",\"NOH\",\"NOH\",\"NOH\",\"NOH\",\"NOH\",\"NOH\",\"NOH\",\"NOH\",\"NOH\",\"NOH\",\"NOH\",\"NOH\",\"NOH\",\"NOH\",\"NOH\",\"NOH\",\"NOH\",\"NOH\",\"NOH\",\"NOH\",\"NOH\",\"NOH\",\"NOH\",\"NOH\",\"NOH\",\"NOH\",\"NOH\",\"NOH\",\"DET\",\"DET\",\"DET\",\"DET\",\"DET\",\"DET\",\"DET\",\"DET\",\"DET\",\"DET\",\"DET\",\"DET\",\"DET\",\"DET\",\"DET\",\"DET\",\"DET\",\"DET\",\"DET\",\"DET\",\"DET\",\"DET\",\"DET\",\"DET\",\"DET\",\"DET\",\"DET\",\"DET\",\"DET\",\"DET\",\"CHI\",\"CHI\",\"CHI\",\"CHI\",\"CHI\",\"CHI\",\"CHI\",\"CHI\",\"CHI\",\"CHI\",\"CHI\",\"CHI\",\"CHI\",\"CHI\",\"CHI\",\"CHI\",\"CHI\",\"CHI\",\"CHI\",\"CHI\",\"CHI\",\"CHI\",\"CHI\",\"CHI\",\"CHI\",\"CHI\",\"CHI\",\"CHI\",\"CHI\",\"CHI\",\"CHI\",\"CHI\",\"PHO\",\"PHO\",\"PHO\",\"PHO\",\"PHO\",\"PHO\",\"PHO\",\"PHO\",\"PHO\",\"PHO\",\"PHO\",\"PHO\",\"PHO\",\"PHO\",\"PHO\",\"PHO\",\"PHO\",\"PHO\",\"PHO\",\"PHO\",\"PHO\",\"PHO\",\"PHO\",\"PHO\",\"PHO\",\"PHO\",\"PHO\",\"PHO\",\"PHO\",\"PHO\",\"SAC\",\"SAC\",\"SAC\",\"SAC\",\"SAC\",\"SAC\",\"SAC\",\"SAC\",\"SAC\",\"SAC\",\"SAC\",\"SAC\",\"SAC\",\"SAC\",\"SAC\",\"SAC\",\"SAC\",\"SAC\",\"SAC\",\"SAC\",\"SAC\",\"SAC\",\"SAC\",\"SAC\",\"SAC\",\"SAC\",\"SAC\",\"SAC\",\"SAC\",\"SAC\",\"SAC\",\"SAC\",\"NJN\",\"NJN\",\"NJN\",\"NJN\",\"NJN\",\"NJN\",\"NJN\",\"NJN\",\"NJN\",\"NJN\",\"NJN\",\"NJN\",\"NJN\",\"NJN\",\"NJN\",\"NJN\",\"NJN\",\"NJN\",\"NJN\",\"NJN\",\"NJN\",\"NJN\",\"NJN\",\"NJN\",\"NJN\",\"NJN\",\"NJN\",\"NJN\",\"NJN\",\"NJN\",\"NJN\",\"NJN\",\"TOR\",\"TOR\",\"TOR\",\"TOR\",\"TOR\",\"TOR\",\"TOR\",\"TOR\",\"TOR\",\"TOR\",\"TOR\",\"TOR\",\"TOR\",\"TOR\",\"TOR\",\"TOR\",\"TOR\",\"TOR\",\"TOR\",\"TOR\",\"TOR\",\"TOR\",\"TOR\",\"TOR\",\"TOR\",\"TOR\",\"TOR\",\"TOR\",\"TOR\",\"TOR\",\"TOR\",\"TOR\",\"IND\",\"IND\",\"IND\",\"IND\",\"IND\",\"IND\",\"IND\",\"IND\",\"IND\",\"IND\",\"IND\",\"IND\",\"IND\",\"IND\",\"IND\",\"IND\",\"IND\",\"IND\",\"IND\",\"IND\",\"IND\",\"IND\",\"IND\",\"IND\",\"IND\",\"IND\",\"IND\",\"IND\",\"IND\",\"IND\",\"IND\",\"PHI\",\"PHI\",\"PHI\",\"PHI\",\"PHI\",\"PHI\",\"PHI\",\"PHI\",\"PHI\",\"PHI\",\"PHI\",\"PHI\",\"PHI\",\"PHI\",\"PHI\",\"PHI\",\"PHI\",\"PHI\",\"PHI\",\"PHI\",\"PHI\",\"PHI\",\"PHI\",\"PHI\",\"PHI\",\"PHI\",\"PHI\",\"PHI\",\"PHI\",\"PHI\",\"PHI\",\"WAS\",\"WAS\",\"WAS\",\"WAS\",\"WAS\",\"WAS\",\"WAS\",\"WAS\",\"WAS\",\"WAS\",\"WAS\",\"WAS\",\"WAS\",\"WAS\",\"WAS\",\"WAS\",\"WAS\",\"WAS\",\"WAS\",\"WAS\",\"WAS\",\"WAS\",\"WAS\",\"WAS\",\"WAS\",\"WAS\",\"WAS\",\"WAS\",\"WAS\",\"WAS\",\"MIL\",\"MIL\",\"MIL\",\"MIL\",\"MIL\",\"MIL\",\"MIL\",\"MIL\",\"MIL\",\"MIL\",\"MIL\",\"MIL\",\"MIL\",\"MIL\",\"MIL\",\"MIL\",\"MIL\",\"MIL\",\"MIL\",\"MIL\",\"MIL\",\"MIL\",\"MIL\",\"MIL\",\"MIL\",\"MIL\",\"MIL\",\"MIL\",\"MIL\",\"MIL\",\"MIL\",\"MIL\",\"MIL\",\"MIN\",\"MIN\",\"MIN\",\"MIN\",\"MIN\",\"MIN\",\"MIN\",\"MIN\",\"MIN\",\"MIN\",\"MIN\",\"MIN\",\"MIN\",\"MIN\",\"MIN\",\"MIN\",\"MIN\",\"MIN\",\"MIN\",\"MIN\",\"MIN\",\"MIN\",\"MIN\",\"MIN\",\"MIN\",\"MIN\",\"MIN\",\"MIN\",\"MIN\",\"MIN\",\"MIN\",\"NYK\",\"NYK\",\"NYK\",\"NYK\",\"NYK\",\"NYK\",\"NYK\",\"NYK\",\"NYK\",\"NYK\",\"NYK\",\"NYK\",\"NYK\",\"NYK\",\"NYK\",\"NYK\",\"NYK\",\"NYK\",\"NYK\",\"NYK\",\"NYK\",\"NYK\",\"NYK\",\"NYK\",\"NYK\",\"NYK\",\"NYK\",\"NYK\",\"NYK\",\"NYK\",\"MIA\",\"MIA\",\"MIA\",\"MIA\",\"MIA\",\"MIA\",\"MIA\",\"MIA\",\"MIA\",\"MIA\",\"MIA\",\"MIA\",\"MIA\",\"MIA\",\"MIA\",\"MIA\",\"MIA\",\"MIA\",\"MIA\",\"MIA\",\"MIA\",\"MIA\",\"MIA\",\"MIA\",\"MIA\",\"MIA\",\"MIA\",\"MIA\",\"MIA\",\"MIA\",\"ORL\",\"ORL\",\"ORL\",\"ORL\",\"ORL\",\"ORL\",\"ORL\",\"ORL\",\"ORL\",\"ORL\",\"ORL\",\"ORL\",\"ORL\",\"ORL\",\"ORL\",\"ORL\",\"ORL\",\"ORL\",\"ORL\",\"ORL\",\"ORL\",\"ORL\",\"ORL\",\"ORL\",\"ORL\",\"ORL\",\"ORL\",\"ORL\",\"ORL\",\"ORL\",\"ORL\",\"ORL\",\"MEM\",\"MEM\",\"MEM\",\"MEM\",\"MEM\",\"MEM\",\"MEM\",\"MEM\",\"MEM\",\"MEM\",\"MEM\",\"MEM\",\"MEM\",\"MEM\",\"MEM\",\"MEM\",\"MEM\",\"MEM\",\"MEM\",\"MEM\",\"MEM\",\"MEM\",\"MEM\",\"MEM\",\"MEM\",\"MEM\",\"MEM\",\"MEM\",\"MEM\",\"MEM\",\"MEM\",\"MEM\",\"BOS\",\"BOS\",\"BOS\",\"BOS\",\"BOS\",\"BOS\",\"BOS\",\"BOS\",\"BOS\",\"BOS\",\"BOS\",\"BOS\",\"BOS\",\"BOS\",\"BOS\",\"BOS\",\"BOS\",\"BOS\",\"BOS\",\"BOS\",\"BOS\",\"BOS\",\"BOS\",\"BOS\",\"BOS\",\"BOS\",\"BOS\",\"BOS\",\"BOS\",\"BOS\",\"BOS\",\"BOS\",\"BOS\",\"GSW\",\"GSW\",\"GSW\",\"GSW\",\"GSW\",\"GSW\",\"GSW\",\"GSW\",\"GSW\",\"GSW\",\"GSW\",\"GSW\",\"GSW\",\"GSW\",\"GSW\",\"GSW\",\"GSW\",\"GSW\",\"GSW\",\"GSW\",\"GSW\",\"GSW\",\"GSW\",\"GSW\",\"GSW\",\"GSW\",\"GSW\",\"GSW\",\"GSW\",\"GSW\",\"GSW\",\"GSW\",\"GSW\",\"GSW\",\"UTA\",\"UTA\",\"UTA\",\"UTA\",\"UTA\",\"UTA\",\"UTA\",\"UTA\",\"UTA\",\"UTA\",\"UTA\",\"UTA\",\"UTA\",\"UTA\",\"UTA\",\"UTA\",\"UTA\",\"UTA\",\"UTA\",\"UTA\",\"UTA\",\"UTA\",\"UTA\",\"UTA\",\"UTA\",\"UTA\",\"UTA\",\"UTA\",\"UTA\",\"UTA\",\"UTA\",\"UTA\",\"UTA\",\"SAS\",\"SAS\",\"SAS\",\"SAS\",\"SAS\",\"SAS\",\"SAS\",\"SAS\",\"SAS\",\"SAS\",\"SAS\",\"SAS\",\"SAS\",\"SAS\",\"SAS\",\"SAS\",\"SAS\",\"SAS\",\"SAS\",\"SAS\",\"SAS\",\"SAS\",\"SAS\",\"SAS\",\"SAS\",\"SAS\",\"SAS\",\"SAS\",\"SAS\",\"SAS\",\"SAS\",\"CLE\",\"CLE\",\"CLE\",\"CLE\",\"CLE\",\"CLE\",\"CLE\",\"CLE\",\"CLE\",\"CLE\",\"CLE\",\"CLE\",\"CLE\",\"CLE\",\"CLE\",\"CLE\",\"CLE\",\"CLE\",\"CLE\",\"CLE\",\"CLE\",\"CLE\",\"CLE\",\"CLE\",\"CLE\",\"CLE\",\"CLE\",\"CLE\",\"CLE\",\"CLE\",\"CLE\",\"CHA\",\"CHA\",\"CHA\",\"CHA\",\"CHA\",\"CHA\",\"CHA\",\"CHA\",\"CHA\",\"CHA\",\"CHA\",\"CHA\",\"CHA\",\"CHA\",\"CHA\",\"CHA\",\"CHA\",\"CHA\",\"CHA\",\"CHA\",\"CHA\",\"CHA\",\"CHA\",\"CHA\",\"CHA\",\"CHA\",\"CHA\",\"CHA\",\"CHA\",\"CHA\",\"CHA\",\"CHA\",\"OKC\",\"OKC\",\"OKC\",\"OKC\",\"OKC\",\"OKC\",\"OKC\",\"OKC\",\"OKC\",\"OKC\",\"OKC\",\"OKC\",\"OKC\",\"OKC\",\"OKC\",\"OKC\",\"OKC\",\"OKC\",\"OKC\",\"OKC\",\"OKC\",\"OKC\",\"OKC\",\"OKC\",\"OKC\",\"OKC\",\"OKC\",\"OKC\",\"OKC\",\"OKC\",\"OKC\",\"OKC\",\"OKC\",\"ATL\",\"ATL\",\"ATL\",\"ATL\",\"ATL\",\"ATL\",\"ATL\",\"ATL\",\"ATL\",\"ATL\",\"ATL\",\"ATL\",\"ATL\",\"ATL\",\"ATL\",\"ATL\",\"ATL\",\"ATL\",\"ATL\",\"ATL\",\"ATL\",\"ATL\",\"ATL\",\"ATL\",\"ATL\",\"ATL\",\"ATL\",\"ATL\",\"ATL\",\"ATL\",\"ATL\",\"LAL\",\"LAL\",\"LAL\",\"LAL\",\"LAL\",\"LAL\",\"LAL\",\"LAL\",\"LAL\",\"LAL\",\"LAL\",\"LAL\",\"LAL\",\"LAL\",\"LAL\",\"LAL\",\"LAL\",\"LAL\",\"LAL\",\"LAL\",\"LAL\",\"LAL\",\"LAL\",\"LAL\",\"LAL\",\"LAL\",\"LAL\",\"LAL\",\"LAL\",\"LAL\"],\"xaxis\":\"x\",\"y\":[826.1332542407216,826.1332542407216,1005.9644396303828,505.04554301468806,634.9594529583914,0.0,2528.5509794106983,203.64938386999935,669.6521933281069,1051.110499055049,1582.995387336878,535.9889483605962,478.6634606981117,638.5592646703761,1005.9644396303828,0.0,0.0,1950.8085147315123,496.56043797070106,205.56944764137933,394.0230407024098,430.2861636320044,2113.9150751112825,634.9594529583914,634.9594529583914,0.0,0.0,981.758381997384,981.758381997384,0.0,0.0,0.0,1375.3338319256543,0.0,580.8014606905652,580.8014606905652,0.0,0.0,0.0,0.0,0.0,0.0,1182.5400380649337,1258.6445782940366,78.05941657165693,2443.697564019167,0.0,0.0,1240.8251568013216,226.26347801604376,483.69797999163296,700.0248385313284,1524.6766223766465,826.1332542407216,826.1332542407216,1182.5400380649337,691.3556142048399,166.33468811089793,244.1223036550248,1745.700585697345,0.0,365.64648939294864,365.64648939294864,371.0259244699242,580.8014606905652,831.8919926750208,947.0402793542846,947.0402793542846,0.0,1359.7887242914446,435.0081530822941,550.5311894003717,1770.426753033566,0.0,803.4399465644891,1207.9594147502837,831.8919926750208,831.8919926750208,831.8919926750208,699.6361801230056,699.6361801230056,0.0,0.0,888.1956596989712,888.1956596989712,0.0,662.4511196205522,226.26347801604376,879.7832937439993,585.3605949069921,585.3605949069921,981.758381997384,981.758381997384,1632.5395054438077,748.3188678643044,733.5013254928253,0.0,226.26347801604376,226.26347801604376,0.0,1836.031226542743,826.1332542407216,0.0,359.0446066256427,850.8205473672534,186.46316255253316,413.1456745819715,413.1456745819715,1220.2607962237676,756.6040659979565,203.64938386999935,967.8892703883342,0.0,879.7832937439993,879.7832937439993,0.0,483.69797999163296,483.69797999163296,1643.8866889492251,345.42038654966524,1375.3338319256543,0.0,1056.3779127957548,1010.7801603386145,395.6813499698256,924.37145358618,317.31340604389294,0.0,0.0,1240.8251568013216,861.883999888524,861.883999888524,250.98875459589075,803.4399465644891,831.8919926750208,1240.8251568013216,802.7448814750096,802.7448814750096,1374.3538371751988,533.3798819716286,927.0194627508808,226.26347801604376,0.0,1240.8251568013216,365.64648939294864,1441.6111698699951,0.0,0.0,0.0,0.0,0.0,0.0,1204.004513037967,334.24360547373084,197.5254863067749,1184.9587134837193,1632.0929613390056,634.9594529583914,580.8014606905652,1240.8251568013216,947.0402793542846,652.2462380729492,1314.9510019106615,0.0,649.8349304062594,649.8349304062594,0.0,0.0,317.31340604389294,317.31340604389294,575.7918623123606,575.7918623123606,1673.3947643342983,831.8919926750208,981.758381997384,2062.0044927901017,0.0,0.0,1359.6934516856986,430.2861636320044,817.538678531089,357.59894684166954,0.0,0.0,534.156886884279,534.156886884279,712.2111994950859,712.2111994950859,1148.6239153224572,0.0,531.4028522380261,585.957489414506,334.24360547373084,488.1268876190309,2012.570341851637,77.01945370784134,345.42038654966524,359.0446066256427,1685.810652225142,621.8424337339833,621.8424337339833,0.0,0.0,0.0,1245.200815764022,1245.200815764022,496.56043797070106,205.56944764137933,418.4402431081356,531.4028522380261,531.4028522380261,0.0,619.7522517492501,619.7522517492501,0.0,238.3560440790164,238.3560440790164,0.0,0.0,852.845622211562,852.845622211562,985.4522362859984,893.39072410967,310.7387971370381,0.0,0.0,0.0,0.0,1745.0133880848398,826.1332542407216,535.9889483605962,947.0402793542846,371.0259244699242,1089.7348984027697,1502.432440095861,668.13022767116,81.23099086402904,81.23099086402904,0.0,482.4990018155557,482.4990018155557,589.3207614218485,589.3207614218485,852.845622211562,852.845622211562,233.8150988733941,1178.79995524347,604.6004072833986,740.1790061715903,706.3412372473388,1764.2903964116624,850.8205473672534,0.0,2135.6157436610533,636.6151000370205,166.33468811089793,81.23099086402904,1463.9020293713502,0.0,638.5592646703761,638.5592646703761,505.04554301468806,505.04554301468806,0.0,841.8783477460639,693.5309816839871,1279.2350639778729,0.0,1314.9510019106615,443.1744728561147,885.3727151770894,0.0,359.0446066256427,359.0446066256427,0.0,1005.9644396303828,1005.9644396303828,0.0,841.8783477460639,422.3499784029496,1513.3946391346542,1511.3218964102105,203.64938386999935,859.5248084596025,2458.201989412705,0.0,0.0,0.0,365.64648939294864,365.64648939294864,0.0,1750.9037020987955,357.59894684166954,1884.7148464092704,365.64648939294864,826.1332542407216,478.6634606981117,532.5737055532489,532.5737055532489,0.0,0.0,0.0,365.64648939294864,365.64648939294864,0.0,478.6634606981117,1836.031226542743,317.31340604389294,503.6790700805505,1463.367733395169,0.0,0.0,934.5799706720614,197.5254863067749,0.0,0.0,636.6151000370205,1023.6018966590516,1087.01969551878,0.0,740.1790061715903,740.1790061715903,334.24360547373084,334.24360547373084,2443.697564019167,365.64648939294864,532.5737055532489,505.04554301468806,2135.6157436610533,0.0,78.05941657165693,78.05941657165693,0.0,706.3412372473388,438.878888616924,334.24360547373084,0.0,0.0,0.0,636.6151000370205,636.6151000370205,525.8436315374364,525.8436315374364,488.1268876190309,85.48009637313618,337.46604677700526,431.9616879549398,431.9616879549398,733.5013254928253,226.81195297719668,721.0254365917122,430.2861636320044,0.0,1047.3501536264964,203.64938386999935,1232.138996523246,0.0,0.0,0.0,2177.4078877568336,831.8919926750208,371.0259244699242,1669.8058122092143,189.2896254054737,189.2896254054737,334.24360547373084,334.24360547373084,0.0,0.0,1117.3619601196765,419.42029035163415,1207.9594147502837,365.64648939294864,478.6634606981117,535.9889483605962,2268.4746240542254,233.8150988733941,252.8483475506046,0.0,263.4840159185901,263.4840159185901,0.0,636.6151000370205,636.6151000370205,166.33468811089793,166.33468811089793,0.0,1023.6018966590516,1111.8246907336425,226.26347801604376,865.3642751892917,820.22620400866,820.22620400866,807.3074419351117,550.5311894003717,263.4840159185901,440.7831057143767,205.9680835530104,238.3560440790164,636.96512085492,492.8077716845424,0.0,583.9345989986616,583.9345989986616,384.1132667731615,384.1132667731615,0.0,0.0,0.0,663.3832576930083,663.3832576930083,1015.3514519939451,203.64938386999935,859.5248084596025,337.46604677700526,440.7831057143767,583.9345989986616,987.0741501532142,987.0741501532142,0.0,447.9037326881756,447.9037326881756,273.6469653447385,273.6469653447385,668.13022767116,668.13022767116,462.085638129271,462.085638129271,0.0,359.3634096603214,359.3634096603214,0.0,120.74727279737104,120.74727279737104,273.6469653447385,1770.426753033566,371.0259244699242,580.8014606905652,0.0,418.4402431081356,238.3560440790164,636.96512085492,756.6040659979565,756.6040659979565,922.4421470014388,922.4421470014388,542.7676450791043,542.7676450791043,205.56944764137933,205.56944764137933,0.0,0.0,197.5254863067749,197.5254863067749,0.0,598.035579569072,598.035579569072,0.0,120.74727279737104,120.74727279737104,418.4402431081356,418.4402431081356,0.0,329.60246322854584,435.0081530822941,305.0727370715707,1220.2607962237676,317.31340604389294,852.845622211562,691.3556142048399,732.8338939538752,734.2461049985126,734.2461049985126,857.8839899485234,857.8839899485234,336.59555360956494,336.59555360956494,557.2061253410309,557.2061253410309,914.9606251451214,371.0259244699242,1242.1706849509444,659.3589758870377,461.7681272240994,401.3094101569927,619.7522517492501,238.3560440790164,0.0,0.0,1745.700585697345,359.0446066256427,652.2462380729492,1840.726382815195,1267.724013817232,1015.3514519939451,85.48009637313618,734.2461049985126,0.0,0.0,1105.543947856161,186.46316255253316,511.8640615211266,0.0,693.5309816839871,693.5309816839871,1513.3946391346542,478.6634606981117,535.9889483605962,1582.995387336878,699.6361801230056,699.6361801230056,0.0,525.0316429515892,525.0316429515892,693.5309816839871,693.5309816839871,939.7545436766508,461.7681272240994,934.7827393041885,1010.7801603386145,0.0,699.6361801230056,699.6361801230056,1524.6766223766465,365.64648939294864,1513.3946391346542,0.0,1109.0508131557551,1581.9145398737485,1018.888639838382,0.0,861.883999888524,0.0,85.48009637313618,85.48009637313618,0.0,205.56944764137933,205.56944764137933,1581.9145398737485,628.7471917025063,956.7086507954888,0.0,188.45432636530816,857.8839899485234,734.2461049985126,0.0,496.56043797070106,496.56043797070106,0.0,404.6541370475831,553.9414935859052,748.3188678643044,715.2723606480628,706.3412372473388,2496.873796892459,638.5592646703761,359.0446066256427,2452.919977488317,188.45432636530816,188.45432636530816,0.0,533.3798819716286,1091.4033807608453,1091.4033807608453,651.6910227669994,651.6910227669994,1145.9044877608608,503.6790700805505,669.6521933281069,0.0,0.0,1232.138996523246,349.68761090022343,922.4421470014388,0.0,0.0,2707.33116911478,1005.9644396303828,359.0446066256427,345.42038654966524,598.7196779727169,2089.557170514879,0.0,0.0,871.8143359954607,871.8143359954607,0.0,1087.01969551878,1087.01969551878,0.0,1086.4992389159077,1086.4992389159077,401.3094101569927,682.5297964869113,682.5297964869113,0.0,0.0,0.0,0.0,1058.609335789942,188.59713033079296,930.89217586264,461.7681272240994,820.22620400866,820.22620400866,0.0,859.5248084596025,120.74727279737104,756.6040659979565,1114.9996006921835,1114.9996006921835,0.0,2202.754324489353,826.1332542407216,1005.9644396303828,505.04554301468806,598.7196779727169,2439.6300692484265,0.0,0.0,0.0,1308.4303873823828,525.0316429515892,233.8150988733941,483.69797999163296,483.69797999163296,482.4990018155557,482.4990018155557,1750.9037020987955,77.01945370784134,947.0402793542846,585.3605949069921,1262.5742481091838,0.0,0.0,420.45640022861113,420.45640022861113,0.0,1250.9520876979325,1089.7348984027697,628.7471917025063,336.54993325185524,336.54993325185524,357.59894684166954,357.59894684166954,422.3499784029496,422.3499784029496,0.0,0.0,0.0,0.0,420.45640022861113,420.45640022861113,628.7471917025063,1109.0508131557551,700.0248385313284,0.0,0.0,807.3074419351117,865.3642751892917,413.1456745819715,1495.7781718647243,621.8424337339833,621.8424337339833,0.0,0.0,857.8839899485234,857.8839899485234,0.0,1124.0185687464857,694.2308967479469,430.2861636320044,0.0,721.0254365917122,721.0254365917122,0.0,0.0,807.3074419351117,492.8077716845424,394.0230407024098,0.0,936.7689492938356,936.7689492938356,0.0,0.0,2597.8577858928784,345.42038654966524,77.01945370784134,478.6634606981117,0.0,2268.4746240542254,334.24360547373084,947.5138157609264,1801.3824938823332,0.0,77.01945370784134,77.01945370784134,0.0,345.42038654966524,345.42038654966524,0.0,2521.7926751668274,120.74727279737104,394.0230407024098,550.5311894003717,404.6541370475831,2570.5786822095924,1643.8866889492251,186.46316255253316,419.42029035163415,1387.5482272463764,0.0,947.0402793542846,947.0402793542846,1948.17473019088,425.5106011095684,226.81195297719668,461.7681272240994,203.64938386999935,2592.74999321422,345.42038654966524,345.42038654966524,1387.5482272463764,505.04554301468806,0.0,580.8014606905652,580.8014606905652,0.0,1973.1390946317465,85.48009637313618,120.74727279737104,329.60246322854584,435.0081530822941,1569.1022202089423,0.0,1089.7348984027697,628.7471917025063,1250.9520876979325,0.0,0.0,0.0,532.5737055532489,532.5737055532489,0.0,505.04554301468806,1279.2350639778729,986.6917824842548,0.0,2099.037390951458,196.6300041056878,488.1268876190309,233.8150988733941,81.23099086402904,1242.1706849509444,1201.1057326246275,1201.1057326246275,1207.9594147502837,1721.765530524215,1721.765530524215,1109.0508131557551,1109.0508131557551,0.0,1105.543947856161,1105.543947856161,1463.367733395169,365.64648939294864,1207.9594147502837,0.0,628.7471917025063,628.7471917025063,0.0,186.46316255253316,186.46316255253316,803.4399465644891,803.4399465644891,250.98875459589075,250.98875459589075,1109.0508131557551,1109.0508131557551,503.6790700805505,534.156886884279,1033.597635918298,0.0,0.0,850.8205473672534,850.8205473672534,0.0,550.5311894003717,550.5311894003717,924.37145358618,443.1744728561147,1025.7787189506068,0.0,310.7387971370381,310.7387971370381,0.0,0.0,395.6813499698256,488.1268876190309,115.21549392859212,404.6541370475831,404.6541370475831,0.0,336.59555360956494,336.59555360956494,0.0,435.0081530822941,435.0081530822941,359.3634096603214,359.3634096603214,553.9414935859052,907.2322411730812,699.6361801230056,505.99415415046656,951.7071303018236,0.0,0.0,1086.4992389159077,893.39072410967,435.0081530822941,0.0,533.3798819716286,533.3798819716286,0.0,0.0,0.0,0.0,0.0,226.81195297719668,226.81195297719668,0.0,585.957489414506,440.7831057143767,427.9907148405277,0.0,0.0,659.3589758870377,659.3589758870377,651.6910227669994,669.6521933281069,443.1744728561147,930.89217586264,226.81195297719668,226.81195297719668,521.1953328440801,521.1953328440801,0.0,525.8436315374364,525.8436315374364,0.0,1058.609335789942,413.1456745819715,413.1456745819715,0.0,863.6571871282163,863.6571871282163,689.4627026499468,689.4627026499468,1328.1313622289629,85.48009637313618,1258.6445782940366,0.0,0.0,575.7918623123606,575.7918623123606,951.7071303018236,951.7071303018236,422.3499784029496,521.1953328440801,461.7681272240994,203.64938386999935,1226.0089209298294,0.0,188.59713033079296,250.98875459589075,419.42029035163415,0.0,0.0,756.2531747049911,619.7522517492501,418.4402431081356,1152.744674760862,0.0,2202.754324489353,401.3094101569927,424.8928447749456,424.8928447749456,756.2531747049911,691.3556142048399,852.845622211562,196.6300041056878,740.1790061715903,425.5106011095684,425.5106011095684,0.0,553.9414935859052,553.9414935859052,733.5013254928253,349.68761090022343,542.7676450791043,0.0,721.2674716551787,226.26347801604376,186.46316255253316,1145.9044877608608,604.6004072833986,0.0,0.0,0.0,0.0,0.0,0.0,0.0,425.5106011095684,0.0,0.0,831.8919926750208,831.8919926750208,0.0,1240.8251568013216,443.1744728561147,1673.3947643342983,0.0,359.0446066256427,359.0446066256427,0.0,0.0,0.0,0.0,1811.2406364384935,583.9345989986616,120.74727279737104,2301.5775295789736,365.64648939294864,365.64648939294864,0.0,0.0,0.0,2340.43167093419,203.64938386999935,682.5297964869113,357.59894684166954,1673.3947643342983,0.0],\"yaxis\":\"y\"}],                        {\"legend\":{\"tracegroupgap\":0},\"margin\":{\"t\":60},\"template\":{\"data\":{\"bar\":[{\"error_x\":{\"color\":\"#2a3f5f\"},\"error_y\":{\"color\":\"#2a3f5f\"},\"marker\":{\"line\":{\"color\":\"#E5ECF6\",\"width\":0.5},\"pattern\":{\"fillmode\":\"overlay\",\"size\":10,\"solidity\":0.2}},\"type\":\"bar\"}],\"barpolar\":[{\"marker\":{\"line\":{\"color\":\"#E5ECF6\",\"width\":0.5},\"pattern\":{\"fillmode\":\"overlay\",\"size\":10,\"solidity\":0.2}},\"type\":\"barpolar\"}],\"carpet\":[{\"aaxis\":{\"endlinecolor\":\"#2a3f5f\",\"gridcolor\":\"white\",\"linecolor\":\"white\",\"minorgridcolor\":\"white\",\"startlinecolor\":\"#2a3f5f\"},\"baxis\":{\"endlinecolor\":\"#2a3f5f\",\"gridcolor\":\"white\",\"linecolor\":\"white\",\"minorgridcolor\":\"white\",\"startlinecolor\":\"#2a3f5f\"},\"type\":\"carpet\"}],\"choropleth\":[{\"colorbar\":{\"outlinewidth\":0,\"ticks\":\"\"},\"type\":\"choropleth\"}],\"contour\":[{\"colorbar\":{\"outlinewidth\":0,\"ticks\":\"\"},\"colorscale\":[[0.0,\"#0d0887\"],[0.1111111111111111,\"#46039f\"],[0.2222222222222222,\"#7201a8\"],[0.3333333333333333,\"#9c179e\"],[0.4444444444444444,\"#bd3786\"],[0.5555555555555556,\"#d8576b\"],[0.6666666666666666,\"#ed7953\"],[0.7777777777777778,\"#fb9f3a\"],[0.8888888888888888,\"#fdca26\"],[1.0,\"#f0f921\"]],\"type\":\"contour\"}],\"contourcarpet\":[{\"colorbar\":{\"outlinewidth\":0,\"ticks\":\"\"},\"type\":\"contourcarpet\"}],\"heatmap\":[{\"colorbar\":{\"outlinewidth\":0,\"ticks\":\"\"},\"colorscale\":[[0.0,\"#0d0887\"],[0.1111111111111111,\"#46039f\"],[0.2222222222222222,\"#7201a8\"],[0.3333333333333333,\"#9c179e\"],[0.4444444444444444,\"#bd3786\"],[0.5555555555555556,\"#d8576b\"],[0.6666666666666666,\"#ed7953\"],[0.7777777777777778,\"#fb9f3a\"],[0.8888888888888888,\"#fdca26\"],[1.0,\"#f0f921\"]],\"type\":\"heatmap\"}],\"heatmapgl\":[{\"colorbar\":{\"outlinewidth\":0,\"ticks\":\"\"},\"colorscale\":[[0.0,\"#0d0887\"],[0.1111111111111111,\"#46039f\"],[0.2222222222222222,\"#7201a8\"],[0.3333333333333333,\"#9c179e\"],[0.4444444444444444,\"#bd3786\"],[0.5555555555555556,\"#d8576b\"],[0.6666666666666666,\"#ed7953\"],[0.7777777777777778,\"#fb9f3a\"],[0.8888888888888888,\"#fdca26\"],[1.0,\"#f0f921\"]],\"type\":\"heatmapgl\"}],\"histogram\":[{\"marker\":{\"pattern\":{\"fillmode\":\"overlay\",\"size\":10,\"solidity\":0.2}},\"type\":\"histogram\"}],\"histogram2d\":[{\"colorbar\":{\"outlinewidth\":0,\"ticks\":\"\"},\"colorscale\":[[0.0,\"#0d0887\"],[0.1111111111111111,\"#46039f\"],[0.2222222222222222,\"#7201a8\"],[0.3333333333333333,\"#9c179e\"],[0.4444444444444444,\"#bd3786\"],[0.5555555555555556,\"#d8576b\"],[0.6666666666666666,\"#ed7953\"],[0.7777777777777778,\"#fb9f3a\"],[0.8888888888888888,\"#fdca26\"],[1.0,\"#f0f921\"]],\"type\":\"histogram2d\"}],\"histogram2dcontour\":[{\"colorbar\":{\"outlinewidth\":0,\"ticks\":\"\"},\"colorscale\":[[0.0,\"#0d0887\"],[0.1111111111111111,\"#46039f\"],[0.2222222222222222,\"#7201a8\"],[0.3333333333333333,\"#9c179e\"],[0.4444444444444444,\"#bd3786\"],[0.5555555555555556,\"#d8576b\"],[0.6666666666666666,\"#ed7953\"],[0.7777777777777778,\"#fb9f3a\"],[0.8888888888888888,\"#fdca26\"],[1.0,\"#f0f921\"]],\"type\":\"histogram2dcontour\"}],\"mesh3d\":[{\"colorbar\":{\"outlinewidth\":0,\"ticks\":\"\"},\"type\":\"mesh3d\"}],\"parcoords\":[{\"line\":{\"colorbar\":{\"outlinewidth\":0,\"ticks\":\"\"}},\"type\":\"parcoords\"}],\"pie\":[{\"automargin\":true,\"type\":\"pie\"}],\"scatter\":[{\"marker\":{\"colorbar\":{\"outlinewidth\":0,\"ticks\":\"\"}},\"type\":\"scatter\"}],\"scatter3d\":[{\"line\":{\"colorbar\":{\"outlinewidth\":0,\"ticks\":\"\"}},\"marker\":{\"colorbar\":{\"outlinewidth\":0,\"ticks\":\"\"}},\"type\":\"scatter3d\"}],\"scattercarpet\":[{\"marker\":{\"colorbar\":{\"outlinewidth\":0,\"ticks\":\"\"}},\"type\":\"scattercarpet\"}],\"scattergeo\":[{\"marker\":{\"colorbar\":{\"outlinewidth\":0,\"ticks\":\"\"}},\"type\":\"scattergeo\"}],\"scattergl\":[{\"marker\":{\"colorbar\":{\"outlinewidth\":0,\"ticks\":\"\"}},\"type\":\"scattergl\"}],\"scattermapbox\":[{\"marker\":{\"colorbar\":{\"outlinewidth\":0,\"ticks\":\"\"}},\"type\":\"scattermapbox\"}],\"scatterpolar\":[{\"marker\":{\"colorbar\":{\"outlinewidth\":0,\"ticks\":\"\"}},\"type\":\"scatterpolar\"}],\"scatterpolargl\":[{\"marker\":{\"colorbar\":{\"outlinewidth\":0,\"ticks\":\"\"}},\"type\":\"scatterpolargl\"}],\"scatterternary\":[{\"marker\":{\"colorbar\":{\"outlinewidth\":0,\"ticks\":\"\"}},\"type\":\"scatterternary\"}],\"surface\":[{\"colorbar\":{\"outlinewidth\":0,\"ticks\":\"\"},\"colorscale\":[[0.0,\"#0d0887\"],[0.1111111111111111,\"#46039f\"],[0.2222222222222222,\"#7201a8\"],[0.3333333333333333,\"#9c179e\"],[0.4444444444444444,\"#bd3786\"],[0.5555555555555556,\"#d8576b\"],[0.6666666666666666,\"#ed7953\"],[0.7777777777777778,\"#fb9f3a\"],[0.8888888888888888,\"#fdca26\"],[1.0,\"#f0f921\"]],\"type\":\"surface\"}],\"table\":[{\"cells\":{\"fill\":{\"color\":\"#EBF0F8\"},\"line\":{\"color\":\"white\"}},\"header\":{\"fill\":{\"color\":\"#C8D4E3\"},\"line\":{\"color\":\"white\"}},\"type\":\"table\"}]},\"layout\":{\"annotationdefaults\":{\"arrowcolor\":\"#2a3f5f\",\"arrowhead\":0,\"arrowwidth\":1},\"autotypenumbers\":\"strict\",\"coloraxis\":{\"colorbar\":{\"outlinewidth\":0,\"ticks\":\"\"}},\"colorscale\":{\"diverging\":[[0,\"#8e0152\"],[0.1,\"#c51b7d\"],[0.2,\"#de77ae\"],[0.3,\"#f1b6da\"],[0.4,\"#fde0ef\"],[0.5,\"#f7f7f7\"],[0.6,\"#e6f5d0\"],[0.7,\"#b8e186\"],[0.8,\"#7fbc41\"],[0.9,\"#4d9221\"],[1,\"#276419\"]],\"sequential\":[[0.0,\"#0d0887\"],[0.1111111111111111,\"#46039f\"],[0.2222222222222222,\"#7201a8\"],[0.3333333333333333,\"#9c179e\"],[0.4444444444444444,\"#bd3786\"],[0.5555555555555556,\"#d8576b\"],[0.6666666666666666,\"#ed7953\"],[0.7777777777777778,\"#fb9f3a\"],[0.8888888888888888,\"#fdca26\"],[1.0,\"#f0f921\"]],\"sequentialminus\":[[0.0,\"#0d0887\"],[0.1111111111111111,\"#46039f\"],[0.2222222222222222,\"#7201a8\"],[0.3333333333333333,\"#9c179e\"],[0.4444444444444444,\"#bd3786\"],[0.5555555555555556,\"#d8576b\"],[0.6666666666666666,\"#ed7953\"],[0.7777777777777778,\"#fb9f3a\"],[0.8888888888888888,\"#fdca26\"],[1.0,\"#f0f921\"]]},\"colorway\":[\"#636efa\",\"#EF553B\",\"#00cc96\",\"#ab63fa\",\"#FFA15A\",\"#19d3f3\",\"#FF6692\",\"#B6E880\",\"#FF97FF\",\"#FECB52\"],\"font\":{\"color\":\"#2a3f5f\"},\"geo\":{\"bgcolor\":\"white\",\"lakecolor\":\"white\",\"landcolor\":\"#E5ECF6\",\"showlakes\":true,\"showland\":true,\"subunitcolor\":\"white\"},\"hoverlabel\":{\"align\":\"left\"},\"hovermode\":\"closest\",\"mapbox\":{\"style\":\"light\"},\"paper_bgcolor\":\"white\",\"plot_bgcolor\":\"#E5ECF6\",\"polar\":{\"angularaxis\":{\"gridcolor\":\"white\",\"linecolor\":\"white\",\"ticks\":\"\"},\"bgcolor\":\"#E5ECF6\",\"radialaxis\":{\"gridcolor\":\"white\",\"linecolor\":\"white\",\"ticks\":\"\"}},\"scene\":{\"xaxis\":{\"backgroundcolor\":\"#E5ECF6\",\"gridcolor\":\"white\",\"gridwidth\":2,\"linecolor\":\"white\",\"showbackground\":true,\"ticks\":\"\",\"zerolinecolor\":\"white\"},\"yaxis\":{\"backgroundcolor\":\"#E5ECF6\",\"gridcolor\":\"white\",\"gridwidth\":2,\"linecolor\":\"white\",\"showbackground\":true,\"ticks\":\"\",\"zerolinecolor\":\"white\"},\"zaxis\":{\"backgroundcolor\":\"#E5ECF6\",\"gridcolor\":\"white\",\"gridwidth\":2,\"linecolor\":\"white\",\"showbackground\":true,\"ticks\":\"\",\"zerolinecolor\":\"white\"}},\"shapedefaults\":{\"line\":{\"color\":\"#2a3f5f\"}},\"ternary\":{\"aaxis\":{\"gridcolor\":\"white\",\"linecolor\":\"white\",\"ticks\":\"\"},\"baxis\":{\"gridcolor\":\"white\",\"linecolor\":\"white\",\"ticks\":\"\"},\"bgcolor\":\"#E5ECF6\",\"caxis\":{\"gridcolor\":\"white\",\"linecolor\":\"white\",\"ticks\":\"\"}},\"title\":{\"x\":0.05},\"xaxis\":{\"automargin\":true,\"gridcolor\":\"white\",\"linecolor\":\"white\",\"ticks\":\"\",\"title\":{\"standoff\":15},\"zerolinecolor\":\"white\",\"zerolinewidth\":2},\"yaxis\":{\"automargin\":true,\"gridcolor\":\"white\",\"linecolor\":\"white\",\"ticks\":\"\",\"title\":{\"standoff\":15},\"zerolinecolor\":\"white\",\"zerolinewidth\":2}}},\"xaxis\":{\"anchor\":\"y\",\"domain\":[0.0,1.0],\"title\":{\"text\":\"x\"}},\"yaxis\":{\"anchor\":\"x\",\"domain\":[0.0,1.0],\"title\":{\"text\":\"y\"}}},                        {\"responsive\": true}                    ).then(function(){\n",
       "                            \n",
       "var gd = document.getElementById('68343486-accd-455a-97ff-40446da45235');\n",
       "var x = new MutationObserver(function (mutations, observer) {{\n",
       "        var display = window.getComputedStyle(gd).display;\n",
       "        if (!display || display === 'none') {{\n",
       "            console.log([gd, 'removed!']);\n",
       "            Plotly.purge(gd);\n",
       "            observer.disconnect();\n",
       "        }}\n",
       "}});\n",
       "\n",
       "// Listen for the removal of the full notebook cells\n",
       "var notebookContainer = gd.closest('#notebook-container');\n",
       "if (notebookContainer) {{\n",
       "    x.observe(notebookContainer, {childList: true});\n",
       "}}\n",
       "\n",
       "// Listen for the clearing of the current output cell\n",
       "var outputEl = gd.closest('.output');\n",
       "if (outputEl) {{\n",
       "    x.observe(outputEl, {childList: true});\n",
       "}}\n",
       "\n",
       "                        })                };                });            </script>        </div>"
      ]
     },
     "metadata": {},
     "output_type": "display_data"
    }
   ],
   "source": [
    "year = '2008Q4'\n",
    "fig = px.scatter(df_newdata,x=df_newdata.loc[df_newdata['Quarter']==year,'team'],y=df_newdata.loc[df_newdata['Quarter']==year,'distance_traveled'])\n",
    "fig.show()"
   ]
  },
  {
   "cell_type": "code",
   "execution_count": null,
   "id": "12652ab8",
   "metadata": {},
   "outputs": [],
   "source": [
    "#filter by the season and then groupby the team, then take the average of the distance_traveled"
   ]
  },
  {
   "cell_type": "code",
   "execution_count": null,
   "id": "e4a8a6b5",
   "metadata": {},
   "outputs": [],
   "source": [
    "# df[df['season']== #the dropdown input]\n",
    "# df.groupby('team')['distance_traveled'].mean()"
   ]
  },
  {
   "cell_type": "code",
   "execution_count": 33,
   "id": "57b9d87c",
   "metadata": {
    "scrolled": true
   },
   "outputs": [
    {
     "data": {
      "text/html": [
       "<div>\n",
       "<style scoped>\n",
       "    .dataframe tbody tr th:only-of-type {\n",
       "        vertical-align: middle;\n",
       "    }\n",
       "\n",
       "    .dataframe tbody tr th {\n",
       "        vertical-align: top;\n",
       "    }\n",
       "\n",
       "    .dataframe thead th {\n",
       "        text-align: right;\n",
       "    }\n",
       "</style>\n",
       "<table border=\"1\" class=\"dataframe\">\n",
       "  <thead>\n",
       "    <tr style=\"text-align: right;\">\n",
       "      <th></th>\n",
       "      <th>distance_traveled</th>\n",
       "      <th>season</th>\n",
       "    </tr>\n",
       "    <tr>\n",
       "      <th>team</th>\n",
       "      <th></th>\n",
       "      <th></th>\n",
       "    </tr>\n",
       "  </thead>\n",
       "  <tbody>\n",
       "    <tr>\n",
       "      <th>POR</th>\n",
       "      <td>763.548235</td>\n",
       "      <td>2015.0</td>\n",
       "    </tr>\n",
       "    <tr>\n",
       "      <th>LAL</th>\n",
       "      <td>695.642545</td>\n",
       "      <td>2015.0</td>\n",
       "    </tr>\n",
       "    <tr>\n",
       "      <th>GSW</th>\n",
       "      <td>685.226826</td>\n",
       "      <td>2015.0</td>\n",
       "    </tr>\n",
       "    <tr>\n",
       "      <th>MIA</th>\n",
       "      <td>655.266677</td>\n",
       "      <td>2015.0</td>\n",
       "    </tr>\n",
       "    <tr>\n",
       "      <th>DEN</th>\n",
       "      <td>649.424050</td>\n",
       "      <td>2015.0</td>\n",
       "    </tr>\n",
       "    <tr>\n",
       "      <th>MEM</th>\n",
       "      <td>647.236021</td>\n",
       "      <td>2015.0</td>\n",
       "    </tr>\n",
       "    <tr>\n",
       "      <th>MIN</th>\n",
       "      <td>634.939064</td>\n",
       "      <td>2015.0</td>\n",
       "    </tr>\n",
       "    <tr>\n",
       "      <th>HOU</th>\n",
       "      <td>615.271513</td>\n",
       "      <td>2015.0</td>\n",
       "    </tr>\n",
       "    <tr>\n",
       "      <th>LAC</th>\n",
       "      <td>614.332403</td>\n",
       "      <td>2015.0</td>\n",
       "    </tr>\n",
       "    <tr>\n",
       "      <th>PHO</th>\n",
       "      <td>608.873014</td>\n",
       "      <td>2015.0</td>\n",
       "    </tr>\n",
       "    <tr>\n",
       "      <th>UTA</th>\n",
       "      <td>599.836267</td>\n",
       "      <td>2015.0</td>\n",
       "    </tr>\n",
       "    <tr>\n",
       "      <th>NOP</th>\n",
       "      <td>598.748651</td>\n",
       "      <td>2015.0</td>\n",
       "    </tr>\n",
       "    <tr>\n",
       "      <th>SAS</th>\n",
       "      <td>572.164586</td>\n",
       "      <td>2015.0</td>\n",
       "    </tr>\n",
       "    <tr>\n",
       "      <th>ORL</th>\n",
       "      <td>569.544099</td>\n",
       "      <td>2015.0</td>\n",
       "    </tr>\n",
       "    <tr>\n",
       "      <th>BOS</th>\n",
       "      <td>567.744542</td>\n",
       "      <td>2015.0</td>\n",
       "    </tr>\n",
       "    <tr>\n",
       "      <th>OKC</th>\n",
       "      <td>557.404602</td>\n",
       "      <td>2015.0</td>\n",
       "    </tr>\n",
       "    <tr>\n",
       "      <th>SAC</th>\n",
       "      <td>554.320798</td>\n",
       "      <td>2015.0</td>\n",
       "    </tr>\n",
       "    <tr>\n",
       "      <th>CHO</th>\n",
       "      <td>540.546749</td>\n",
       "      <td>2015.0</td>\n",
       "    </tr>\n",
       "    <tr>\n",
       "      <th>DAL</th>\n",
       "      <td>527.848693</td>\n",
       "      <td>2015.0</td>\n",
       "    </tr>\n",
       "    <tr>\n",
       "      <th>NYK</th>\n",
       "      <td>521.664233</td>\n",
       "      <td>2015.0</td>\n",
       "    </tr>\n",
       "    <tr>\n",
       "      <th>BKN</th>\n",
       "      <td>508.668538</td>\n",
       "      <td>2015.0</td>\n",
       "    </tr>\n",
       "    <tr>\n",
       "      <th>ATL</th>\n",
       "      <td>495.003767</td>\n",
       "      <td>2015.0</td>\n",
       "    </tr>\n",
       "    <tr>\n",
       "      <th>IND</th>\n",
       "      <td>492.294246</td>\n",
       "      <td>2015.0</td>\n",
       "    </tr>\n",
       "    <tr>\n",
       "      <th>MIL</th>\n",
       "      <td>491.226288</td>\n",
       "      <td>2015.0</td>\n",
       "    </tr>\n",
       "    <tr>\n",
       "      <th>CLE</th>\n",
       "      <td>481.585206</td>\n",
       "      <td>2015.0</td>\n",
       "    </tr>\n",
       "    <tr>\n",
       "      <th>PHI</th>\n",
       "      <td>477.422644</td>\n",
       "      <td>2015.0</td>\n",
       "    </tr>\n",
       "    <tr>\n",
       "      <th>DET</th>\n",
       "      <td>466.558205</td>\n",
       "      <td>2015.0</td>\n",
       "    </tr>\n",
       "    <tr>\n",
       "      <th>TOR</th>\n",
       "      <td>461.761376</td>\n",
       "      <td>2015.0</td>\n",
       "    </tr>\n",
       "    <tr>\n",
       "      <th>WAS</th>\n",
       "      <td>445.094526</td>\n",
       "      <td>2015.0</td>\n",
       "    </tr>\n",
       "    <tr>\n",
       "      <th>CHI</th>\n",
       "      <td>415.894162</td>\n",
       "      <td>2015.0</td>\n",
       "    </tr>\n",
       "  </tbody>\n",
       "</table>\n",
       "</div>"
      ],
      "text/plain": [
       "      distance_traveled  season\n",
       "team                           \n",
       "POR          763.548235  2015.0\n",
       "LAL          695.642545  2015.0\n",
       "GSW          685.226826  2015.0\n",
       "MIA          655.266677  2015.0\n",
       "DEN          649.424050  2015.0\n",
       "MEM          647.236021  2015.0\n",
       "MIN          634.939064  2015.0\n",
       "HOU          615.271513  2015.0\n",
       "LAC          614.332403  2015.0\n",
       "PHO          608.873014  2015.0\n",
       "UTA          599.836267  2015.0\n",
       "NOP          598.748651  2015.0\n",
       "SAS          572.164586  2015.0\n",
       "ORL          569.544099  2015.0\n",
       "BOS          567.744542  2015.0\n",
       "OKC          557.404602  2015.0\n",
       "SAC          554.320798  2015.0\n",
       "CHO          540.546749  2015.0\n",
       "DAL          527.848693  2015.0\n",
       "NYK          521.664233  2015.0\n",
       "BKN          508.668538  2015.0\n",
       "ATL          495.003767  2015.0\n",
       "IND          492.294246  2015.0\n",
       "MIL          491.226288  2015.0\n",
       "CLE          481.585206  2015.0\n",
       "PHI          477.422644  2015.0\n",
       "DET          466.558205  2015.0\n",
       "TOR          461.761376  2015.0\n",
       "WAS          445.094526  2015.0\n",
       "CHI          415.894162  2015.0"
      ]
     },
     "execution_count": 33,
     "metadata": {},
     "output_type": "execute_result"
    }
   ],
   "source": [
    "df_dot = df_newdata[df_newdata['season']==2015].groupby('team').mean().sort_values('distance_traveled',ascending=False)\n",
    "df_dot"
   ]
  },
  {
   "cell_type": "code",
   "execution_count": 41,
   "id": "d82c526b",
   "metadata": {},
   "outputs": [
    {
     "data": {
      "text/html": [
       "<div>\n",
       "<style scoped>\n",
       "    .dataframe tbody tr th:only-of-type {\n",
       "        vertical-align: middle;\n",
       "    }\n",
       "\n",
       "    .dataframe tbody tr th {\n",
       "        vertical-align: top;\n",
       "    }\n",
       "\n",
       "    .dataframe thead th {\n",
       "        text-align: right;\n",
       "    }\n",
       "</style>\n",
       "<table border=\"1\" class=\"dataframe\">\n",
       "  <thead>\n",
       "    <tr style=\"text-align: right;\">\n",
       "      <th></th>\n",
       "      <th>distance_traveled</th>\n",
       "      <th>season</th>\n",
       "    </tr>\n",
       "    <tr>\n",
       "      <th>team</th>\n",
       "      <th></th>\n",
       "      <th></th>\n",
       "    </tr>\n",
       "  </thead>\n",
       "  <tbody>\n",
       "    <tr>\n",
       "      <th>ORL</th>\n",
       "      <td>680.261298</td>\n",
       "      <td>2012.0</td>\n",
       "    </tr>\n",
       "    <tr>\n",
       "      <th>SAC</th>\n",
       "      <td>672.938067</td>\n",
       "      <td>2012.0</td>\n",
       "    </tr>\n",
       "    <tr>\n",
       "      <th>LAC</th>\n",
       "      <td>661.848748</td>\n",
       "      <td>2012.0</td>\n",
       "    </tr>\n",
       "    <tr>\n",
       "      <th>LAL</th>\n",
       "      <td>661.819328</td>\n",
       "      <td>2012.0</td>\n",
       "    </tr>\n",
       "    <tr>\n",
       "      <th>MIN</th>\n",
       "      <td>658.232338</td>\n",
       "      <td>2012.0</td>\n",
       "    </tr>\n",
       "    <tr>\n",
       "      <th>POR</th>\n",
       "      <td>656.850923</td>\n",
       "      <td>2012.0</td>\n",
       "    </tr>\n",
       "    <tr>\n",
       "      <th>MIA</th>\n",
       "      <td>651.525559</td>\n",
       "      <td>2012.0</td>\n",
       "    </tr>\n",
       "    <tr>\n",
       "      <th>UTA</th>\n",
       "      <td>643.532805</td>\n",
       "      <td>2012.0</td>\n",
       "    </tr>\n",
       "    <tr>\n",
       "      <th>GSW</th>\n",
       "      <td>640.317930</td>\n",
       "      <td>2012.0</td>\n",
       "    </tr>\n",
       "    <tr>\n",
       "      <th>MEM</th>\n",
       "      <td>628.483830</td>\n",
       "      <td>2012.0</td>\n",
       "    </tr>\n",
       "    <tr>\n",
       "      <th>HOU</th>\n",
       "      <td>615.104820</td>\n",
       "      <td>2012.0</td>\n",
       "    </tr>\n",
       "    <tr>\n",
       "      <th>NOH</th>\n",
       "      <td>591.600933</td>\n",
       "      <td>2012.0</td>\n",
       "    </tr>\n",
       "    <tr>\n",
       "      <th>PHO</th>\n",
       "      <td>585.906551</td>\n",
       "      <td>2012.0</td>\n",
       "    </tr>\n",
       "    <tr>\n",
       "      <th>ATL</th>\n",
       "      <td>581.961356</td>\n",
       "      <td>2012.0</td>\n",
       "    </tr>\n",
       "    <tr>\n",
       "      <th>DEN</th>\n",
       "      <td>573.523617</td>\n",
       "      <td>2012.0</td>\n",
       "    </tr>\n",
       "    <tr>\n",
       "      <th>SAS</th>\n",
       "      <td>522.485565</td>\n",
       "      <td>2012.0</td>\n",
       "    </tr>\n",
       "    <tr>\n",
       "      <th>BOS</th>\n",
       "      <td>521.083942</td>\n",
       "      <td>2012.0</td>\n",
       "    </tr>\n",
       "    <tr>\n",
       "      <th>NYK</th>\n",
       "      <td>519.854238</td>\n",
       "      <td>2012.0</td>\n",
       "    </tr>\n",
       "    <tr>\n",
       "      <th>MIL</th>\n",
       "      <td>513.763905</td>\n",
       "      <td>2012.0</td>\n",
       "    </tr>\n",
       "    <tr>\n",
       "      <th>NJN</th>\n",
       "      <td>504.438446</td>\n",
       "      <td>2012.0</td>\n",
       "    </tr>\n",
       "    <tr>\n",
       "      <th>DAL</th>\n",
       "      <td>491.065695</td>\n",
       "      <td>2012.0</td>\n",
       "    </tr>\n",
       "    <tr>\n",
       "      <th>IND</th>\n",
       "      <td>484.605272</td>\n",
       "      <td>2012.0</td>\n",
       "    </tr>\n",
       "    <tr>\n",
       "      <th>CHA</th>\n",
       "      <td>482.165662</td>\n",
       "      <td>2012.0</td>\n",
       "    </tr>\n",
       "    <tr>\n",
       "      <th>OKC</th>\n",
       "      <td>467.974436</td>\n",
       "      <td>2012.0</td>\n",
       "    </tr>\n",
       "    <tr>\n",
       "      <th>TOR</th>\n",
       "      <td>465.914428</td>\n",
       "      <td>2012.0</td>\n",
       "    </tr>\n",
       "    <tr>\n",
       "      <th>WAS</th>\n",
       "      <td>463.442304</td>\n",
       "      <td>2012.0</td>\n",
       "    </tr>\n",
       "    <tr>\n",
       "      <th>CHI</th>\n",
       "      <td>456.059624</td>\n",
       "      <td>2012.0</td>\n",
       "    </tr>\n",
       "    <tr>\n",
       "      <th>PHI</th>\n",
       "      <td>449.977979</td>\n",
       "      <td>2012.0</td>\n",
       "    </tr>\n",
       "    <tr>\n",
       "      <th>CLE</th>\n",
       "      <td>448.585473</td>\n",
       "      <td>2012.0</td>\n",
       "    </tr>\n",
       "    <tr>\n",
       "      <th>DET</th>\n",
       "      <td>406.227424</td>\n",
       "      <td>2012.0</td>\n",
       "    </tr>\n",
       "  </tbody>\n",
       "</table>\n",
       "</div>"
      ],
      "text/plain": [
       "      distance_traveled  season\n",
       "team                           \n",
       "ORL          680.261298  2012.0\n",
       "SAC          672.938067  2012.0\n",
       "LAC          661.848748  2012.0\n",
       "LAL          661.819328  2012.0\n",
       "MIN          658.232338  2012.0\n",
       "POR          656.850923  2012.0\n",
       "MIA          651.525559  2012.0\n",
       "UTA          643.532805  2012.0\n",
       "GSW          640.317930  2012.0\n",
       "MEM          628.483830  2012.0\n",
       "HOU          615.104820  2012.0\n",
       "NOH          591.600933  2012.0\n",
       "PHO          585.906551  2012.0\n",
       "ATL          581.961356  2012.0\n",
       "DEN          573.523617  2012.0\n",
       "SAS          522.485565  2012.0\n",
       "BOS          521.083942  2012.0\n",
       "NYK          519.854238  2012.0\n",
       "MIL          513.763905  2012.0\n",
       "NJN          504.438446  2012.0\n",
       "DAL          491.065695  2012.0\n",
       "IND          484.605272  2012.0\n",
       "CHA          482.165662  2012.0\n",
       "OKC          467.974436  2012.0\n",
       "TOR          465.914428  2012.0\n",
       "WAS          463.442304  2012.0\n",
       "CHI          456.059624  2012.0\n",
       "PHI          449.977979  2012.0\n",
       "CLE          448.585473  2012.0\n",
       "DET          406.227424  2012.0"
      ]
     },
     "execution_count": 41,
     "metadata": {},
     "output_type": "execute_result"
    }
   ],
   "source": [
    "df_2012= df_newdata[df_newdata['season']==2012].groupby('team').mean().sort_values('distance_traveled',\n",
    "                                                                                   ascending=False)\n",
    "df_2012"
   ]
  },
  {
   "cell_type": "code",
   "execution_count": 48,
   "id": "5057d3f3",
   "metadata": {},
   "outputs": [
    {
     "data": {
      "application/vnd.plotly.v1+json": {
       "config": {
        "plotlyServerURL": "https://plot.ly"
       },
       "data": [
        {
         "hovertemplate": "color=blue<br>team=%{x}<br>distance_traveled=%{y}<extra></extra>",
         "legendgroup": "blue",
         "marker": {
          "color": "#636efa",
          "symbol": "circle"
         },
         "mode": "markers",
         "name": "blue",
         "orientation": "v",
         "showlegend": true,
         "type": "scatter",
         "x": [
          "ORL",
          "SAC",
          "LAC",
          "LAL",
          "MIN",
          "POR",
          "MIA",
          "UTA",
          "GSW",
          "MEM",
          "HOU",
          "NOH",
          "PHO",
          "ATL",
          "DEN",
          "SAS",
          "BOS",
          "NYK",
          "MIL",
          "NJN",
          "DAL",
          "IND",
          "CHA",
          "OKC",
          "TOR",
          "WAS",
          "CHI",
          "PHI",
          "CLE"
         ],
         "xaxis": "x",
         "y": [
          680.2612977473726,
          672.9380666381314,
          661.8487484035636,
          661.8193278345838,
          658.2323377831532,
          656.8509228198564,
          651.5255591671814,
          643.5328049023907,
          640.3179301583114,
          628.4838297600246,
          615.1048204518448,
          591.6009330480051,
          585.906550934833,
          581.961356143897,
          573.5236166128062,
          522.4855646633381,
          521.0839424169372,
          519.8542379637996,
          513.7639048685935,
          504.4384463361316,
          491.06569524069323,
          484.60527194698267,
          482.16566184945697,
          467.97443641852146,
          465.9144276733655,
          463.44230430753464,
          456.05962443961187,
          449.97797860920593,
          448.5854726802535
         ],
         "yaxis": "y"
        },
        {
         "hovertemplate": "color=red<br>team=%{x}<br>distance_traveled=%{y}<extra></extra>",
         "legendgroup": "red",
         "marker": {
          "color": "#EF553B",
          "symbol": "circle"
         },
         "mode": "markers",
         "name": "red",
         "orientation": "v",
         "showlegend": true,
         "type": "scatter",
         "x": [
          "DET"
         ],
         "xaxis": "x",
         "y": [
          406.22742432127876
         ],
         "yaxis": "y"
        }
       ],
       "layout": {
        "legend": {
         "title": {
          "text": "color"
         },
         "tracegroupgap": 0
        },
        "margin": {
         "t": 60
        },
        "template": {
         "data": {
          "bar": [
           {
            "error_x": {
             "color": "#2a3f5f"
            },
            "error_y": {
             "color": "#2a3f5f"
            },
            "marker": {
             "line": {
              "color": "#E5ECF6",
              "width": 0.5
             },
             "pattern": {
              "fillmode": "overlay",
              "size": 10,
              "solidity": 0.2
             }
            },
            "type": "bar"
           }
          ],
          "barpolar": [
           {
            "marker": {
             "line": {
              "color": "#E5ECF6",
              "width": 0.5
             },
             "pattern": {
              "fillmode": "overlay",
              "size": 10,
              "solidity": 0.2
             }
            },
            "type": "barpolar"
           }
          ],
          "carpet": [
           {
            "aaxis": {
             "endlinecolor": "#2a3f5f",
             "gridcolor": "white",
             "linecolor": "white",
             "minorgridcolor": "white",
             "startlinecolor": "#2a3f5f"
            },
            "baxis": {
             "endlinecolor": "#2a3f5f",
             "gridcolor": "white",
             "linecolor": "white",
             "minorgridcolor": "white",
             "startlinecolor": "#2a3f5f"
            },
            "type": "carpet"
           }
          ],
          "choropleth": [
           {
            "colorbar": {
             "outlinewidth": 0,
             "ticks": ""
            },
            "type": "choropleth"
           }
          ],
          "contour": [
           {
            "colorbar": {
             "outlinewidth": 0,
             "ticks": ""
            },
            "colorscale": [
             [
              0,
              "#0d0887"
             ],
             [
              0.1111111111111111,
              "#46039f"
             ],
             [
              0.2222222222222222,
              "#7201a8"
             ],
             [
              0.3333333333333333,
              "#9c179e"
             ],
             [
              0.4444444444444444,
              "#bd3786"
             ],
             [
              0.5555555555555556,
              "#d8576b"
             ],
             [
              0.6666666666666666,
              "#ed7953"
             ],
             [
              0.7777777777777778,
              "#fb9f3a"
             ],
             [
              0.8888888888888888,
              "#fdca26"
             ],
             [
              1,
              "#f0f921"
             ]
            ],
            "type": "contour"
           }
          ],
          "contourcarpet": [
           {
            "colorbar": {
             "outlinewidth": 0,
             "ticks": ""
            },
            "type": "contourcarpet"
           }
          ],
          "heatmap": [
           {
            "colorbar": {
             "outlinewidth": 0,
             "ticks": ""
            },
            "colorscale": [
             [
              0,
              "#0d0887"
             ],
             [
              0.1111111111111111,
              "#46039f"
             ],
             [
              0.2222222222222222,
              "#7201a8"
             ],
             [
              0.3333333333333333,
              "#9c179e"
             ],
             [
              0.4444444444444444,
              "#bd3786"
             ],
             [
              0.5555555555555556,
              "#d8576b"
             ],
             [
              0.6666666666666666,
              "#ed7953"
             ],
             [
              0.7777777777777778,
              "#fb9f3a"
             ],
             [
              0.8888888888888888,
              "#fdca26"
             ],
             [
              1,
              "#f0f921"
             ]
            ],
            "type": "heatmap"
           }
          ],
          "heatmapgl": [
           {
            "colorbar": {
             "outlinewidth": 0,
             "ticks": ""
            },
            "colorscale": [
             [
              0,
              "#0d0887"
             ],
             [
              0.1111111111111111,
              "#46039f"
             ],
             [
              0.2222222222222222,
              "#7201a8"
             ],
             [
              0.3333333333333333,
              "#9c179e"
             ],
             [
              0.4444444444444444,
              "#bd3786"
             ],
             [
              0.5555555555555556,
              "#d8576b"
             ],
             [
              0.6666666666666666,
              "#ed7953"
             ],
             [
              0.7777777777777778,
              "#fb9f3a"
             ],
             [
              0.8888888888888888,
              "#fdca26"
             ],
             [
              1,
              "#f0f921"
             ]
            ],
            "type": "heatmapgl"
           }
          ],
          "histogram": [
           {
            "marker": {
             "pattern": {
              "fillmode": "overlay",
              "size": 10,
              "solidity": 0.2
             }
            },
            "type": "histogram"
           }
          ],
          "histogram2d": [
           {
            "colorbar": {
             "outlinewidth": 0,
             "ticks": ""
            },
            "colorscale": [
             [
              0,
              "#0d0887"
             ],
             [
              0.1111111111111111,
              "#46039f"
             ],
             [
              0.2222222222222222,
              "#7201a8"
             ],
             [
              0.3333333333333333,
              "#9c179e"
             ],
             [
              0.4444444444444444,
              "#bd3786"
             ],
             [
              0.5555555555555556,
              "#d8576b"
             ],
             [
              0.6666666666666666,
              "#ed7953"
             ],
             [
              0.7777777777777778,
              "#fb9f3a"
             ],
             [
              0.8888888888888888,
              "#fdca26"
             ],
             [
              1,
              "#f0f921"
             ]
            ],
            "type": "histogram2d"
           }
          ],
          "histogram2dcontour": [
           {
            "colorbar": {
             "outlinewidth": 0,
             "ticks": ""
            },
            "colorscale": [
             [
              0,
              "#0d0887"
             ],
             [
              0.1111111111111111,
              "#46039f"
             ],
             [
              0.2222222222222222,
              "#7201a8"
             ],
             [
              0.3333333333333333,
              "#9c179e"
             ],
             [
              0.4444444444444444,
              "#bd3786"
             ],
             [
              0.5555555555555556,
              "#d8576b"
             ],
             [
              0.6666666666666666,
              "#ed7953"
             ],
             [
              0.7777777777777778,
              "#fb9f3a"
             ],
             [
              0.8888888888888888,
              "#fdca26"
             ],
             [
              1,
              "#f0f921"
             ]
            ],
            "type": "histogram2dcontour"
           }
          ],
          "mesh3d": [
           {
            "colorbar": {
             "outlinewidth": 0,
             "ticks": ""
            },
            "type": "mesh3d"
           }
          ],
          "parcoords": [
           {
            "line": {
             "colorbar": {
              "outlinewidth": 0,
              "ticks": ""
             }
            },
            "type": "parcoords"
           }
          ],
          "pie": [
           {
            "automargin": true,
            "type": "pie"
           }
          ],
          "scatter": [
           {
            "marker": {
             "colorbar": {
              "outlinewidth": 0,
              "ticks": ""
             }
            },
            "type": "scatter"
           }
          ],
          "scatter3d": [
           {
            "line": {
             "colorbar": {
              "outlinewidth": 0,
              "ticks": ""
             }
            },
            "marker": {
             "colorbar": {
              "outlinewidth": 0,
              "ticks": ""
             }
            },
            "type": "scatter3d"
           }
          ],
          "scattercarpet": [
           {
            "marker": {
             "colorbar": {
              "outlinewidth": 0,
              "ticks": ""
             }
            },
            "type": "scattercarpet"
           }
          ],
          "scattergeo": [
           {
            "marker": {
             "colorbar": {
              "outlinewidth": 0,
              "ticks": ""
             }
            },
            "type": "scattergeo"
           }
          ],
          "scattergl": [
           {
            "marker": {
             "colorbar": {
              "outlinewidth": 0,
              "ticks": ""
             }
            },
            "type": "scattergl"
           }
          ],
          "scattermapbox": [
           {
            "marker": {
             "colorbar": {
              "outlinewidth": 0,
              "ticks": ""
             }
            },
            "type": "scattermapbox"
           }
          ],
          "scatterpolar": [
           {
            "marker": {
             "colorbar": {
              "outlinewidth": 0,
              "ticks": ""
             }
            },
            "type": "scatterpolar"
           }
          ],
          "scatterpolargl": [
           {
            "marker": {
             "colorbar": {
              "outlinewidth": 0,
              "ticks": ""
             }
            },
            "type": "scatterpolargl"
           }
          ],
          "scatterternary": [
           {
            "marker": {
             "colorbar": {
              "outlinewidth": 0,
              "ticks": ""
             }
            },
            "type": "scatterternary"
           }
          ],
          "surface": [
           {
            "colorbar": {
             "outlinewidth": 0,
             "ticks": ""
            },
            "colorscale": [
             [
              0,
              "#0d0887"
             ],
             [
              0.1111111111111111,
              "#46039f"
             ],
             [
              0.2222222222222222,
              "#7201a8"
             ],
             [
              0.3333333333333333,
              "#9c179e"
             ],
             [
              0.4444444444444444,
              "#bd3786"
             ],
             [
              0.5555555555555556,
              "#d8576b"
             ],
             [
              0.6666666666666666,
              "#ed7953"
             ],
             [
              0.7777777777777778,
              "#fb9f3a"
             ],
             [
              0.8888888888888888,
              "#fdca26"
             ],
             [
              1,
              "#f0f921"
             ]
            ],
            "type": "surface"
           }
          ],
          "table": [
           {
            "cells": {
             "fill": {
              "color": "#EBF0F8"
             },
             "line": {
              "color": "white"
             }
            },
            "header": {
             "fill": {
              "color": "#C8D4E3"
             },
             "line": {
              "color": "white"
             }
            },
            "type": "table"
           }
          ]
         },
         "layout": {
          "annotationdefaults": {
           "arrowcolor": "#2a3f5f",
           "arrowhead": 0,
           "arrowwidth": 1
          },
          "autotypenumbers": "strict",
          "coloraxis": {
           "colorbar": {
            "outlinewidth": 0,
            "ticks": ""
           }
          },
          "colorscale": {
           "diverging": [
            [
             0,
             "#8e0152"
            ],
            [
             0.1,
             "#c51b7d"
            ],
            [
             0.2,
             "#de77ae"
            ],
            [
             0.3,
             "#f1b6da"
            ],
            [
             0.4,
             "#fde0ef"
            ],
            [
             0.5,
             "#f7f7f7"
            ],
            [
             0.6,
             "#e6f5d0"
            ],
            [
             0.7,
             "#b8e186"
            ],
            [
             0.8,
             "#7fbc41"
            ],
            [
             0.9,
             "#4d9221"
            ],
            [
             1,
             "#276419"
            ]
           ],
           "sequential": [
            [
             0,
             "#0d0887"
            ],
            [
             0.1111111111111111,
             "#46039f"
            ],
            [
             0.2222222222222222,
             "#7201a8"
            ],
            [
             0.3333333333333333,
             "#9c179e"
            ],
            [
             0.4444444444444444,
             "#bd3786"
            ],
            [
             0.5555555555555556,
             "#d8576b"
            ],
            [
             0.6666666666666666,
             "#ed7953"
            ],
            [
             0.7777777777777778,
             "#fb9f3a"
            ],
            [
             0.8888888888888888,
             "#fdca26"
            ],
            [
             1,
             "#f0f921"
            ]
           ],
           "sequentialminus": [
            [
             0,
             "#0d0887"
            ],
            [
             0.1111111111111111,
             "#46039f"
            ],
            [
             0.2222222222222222,
             "#7201a8"
            ],
            [
             0.3333333333333333,
             "#9c179e"
            ],
            [
             0.4444444444444444,
             "#bd3786"
            ],
            [
             0.5555555555555556,
             "#d8576b"
            ],
            [
             0.6666666666666666,
             "#ed7953"
            ],
            [
             0.7777777777777778,
             "#fb9f3a"
            ],
            [
             0.8888888888888888,
             "#fdca26"
            ],
            [
             1,
             "#f0f921"
            ]
           ]
          },
          "colorway": [
           "#636efa",
           "#EF553B",
           "#00cc96",
           "#ab63fa",
           "#FFA15A",
           "#19d3f3",
           "#FF6692",
           "#B6E880",
           "#FF97FF",
           "#FECB52"
          ],
          "font": {
           "color": "#2a3f5f"
          },
          "geo": {
           "bgcolor": "white",
           "lakecolor": "white",
           "landcolor": "#E5ECF6",
           "showlakes": true,
           "showland": true,
           "subunitcolor": "white"
          },
          "hoverlabel": {
           "align": "left"
          },
          "hovermode": "closest",
          "mapbox": {
           "style": "light"
          },
          "paper_bgcolor": "white",
          "plot_bgcolor": "#E5ECF6",
          "polar": {
           "angularaxis": {
            "gridcolor": "white",
            "linecolor": "white",
            "ticks": ""
           },
           "bgcolor": "#E5ECF6",
           "radialaxis": {
            "gridcolor": "white",
            "linecolor": "white",
            "ticks": ""
           }
          },
          "scene": {
           "xaxis": {
            "backgroundcolor": "#E5ECF6",
            "gridcolor": "white",
            "gridwidth": 2,
            "linecolor": "white",
            "showbackground": true,
            "ticks": "",
            "zerolinecolor": "white"
           },
           "yaxis": {
            "backgroundcolor": "#E5ECF6",
            "gridcolor": "white",
            "gridwidth": 2,
            "linecolor": "white",
            "showbackground": true,
            "ticks": "",
            "zerolinecolor": "white"
           },
           "zaxis": {
            "backgroundcolor": "#E5ECF6",
            "gridcolor": "white",
            "gridwidth": 2,
            "linecolor": "white",
            "showbackground": true,
            "ticks": "",
            "zerolinecolor": "white"
           }
          },
          "shapedefaults": {
           "line": {
            "color": "#2a3f5f"
           }
          },
          "ternary": {
           "aaxis": {
            "gridcolor": "white",
            "linecolor": "white",
            "ticks": ""
           },
           "baxis": {
            "gridcolor": "white",
            "linecolor": "white",
            "ticks": ""
           },
           "bgcolor": "#E5ECF6",
           "caxis": {
            "gridcolor": "white",
            "linecolor": "white",
            "ticks": ""
           }
          },
          "title": {
           "x": 0.05
          },
          "xaxis": {
           "automargin": true,
           "gridcolor": "white",
           "linecolor": "white",
           "ticks": "",
           "title": {
            "standoff": 15
           },
           "zerolinecolor": "white",
           "zerolinewidth": 2
          },
          "yaxis": {
           "automargin": true,
           "gridcolor": "white",
           "linecolor": "white",
           "ticks": "",
           "title": {
            "standoff": 15
           },
           "zerolinecolor": "white",
           "zerolinewidth": 2
          }
         }
        },
        "xaxis": {
         "anchor": "y",
         "domain": [
          0,
          1
         ],
         "title": {
          "text": "team"
         }
        },
        "yaxis": {
         "anchor": "x",
         "domain": [
          0,
          1
         ],
         "title": {
          "text": "distance_traveled"
         }
        }
       }
      },
      "text/html": [
       "<div>                            <div id=\"5d7c187a-dc90-4b1c-9c8b-e47d22f1ba67\" class=\"plotly-graph-div\" style=\"height:525px; width:100%;\"></div>            <script type=\"text/javascript\">                require([\"plotly\"], function(Plotly) {                    window.PLOTLYENV=window.PLOTLYENV || {};                                    if (document.getElementById(\"5d7c187a-dc90-4b1c-9c8b-e47d22f1ba67\")) {                    Plotly.newPlot(                        \"5d7c187a-dc90-4b1c-9c8b-e47d22f1ba67\",                        [{\"hovertemplate\":\"color=blue<br>team=%{x}<br>distance_traveled=%{y}<extra></extra>\",\"legendgroup\":\"blue\",\"marker\":{\"color\":\"#636efa\",\"symbol\":\"circle\"},\"mode\":\"markers\",\"name\":\"blue\",\"orientation\":\"v\",\"showlegend\":true,\"type\":\"scatter\",\"x\":[\"ORL\",\"SAC\",\"LAC\",\"LAL\",\"MIN\",\"POR\",\"MIA\",\"UTA\",\"GSW\",\"MEM\",\"HOU\",\"NOH\",\"PHO\",\"ATL\",\"DEN\",\"SAS\",\"BOS\",\"NYK\",\"MIL\",\"NJN\",\"DAL\",\"IND\",\"CHA\",\"OKC\",\"TOR\",\"WAS\",\"CHI\",\"PHI\",\"CLE\"],\"xaxis\":\"x\",\"y\":[680.2612977473726,672.9380666381314,661.8487484035636,661.8193278345838,658.2323377831532,656.8509228198564,651.5255591671814,643.5328049023907,640.3179301583114,628.4838297600246,615.1048204518448,591.6009330480051,585.906550934833,581.961356143897,573.5236166128062,522.4855646633381,521.0839424169372,519.8542379637996,513.7639048685935,504.4384463361316,491.06569524069323,484.60527194698267,482.16566184945697,467.97443641852146,465.9144276733655,463.44230430753464,456.05962443961187,449.97797860920593,448.5854726802535],\"yaxis\":\"y\"},{\"hovertemplate\":\"color=red<br>team=%{x}<br>distance_traveled=%{y}<extra></extra>\",\"legendgroup\":\"red\",\"marker\":{\"color\":\"#EF553B\",\"symbol\":\"circle\"},\"mode\":\"markers\",\"name\":\"red\",\"orientation\":\"v\",\"showlegend\":true,\"type\":\"scatter\",\"x\":[\"DET\"],\"xaxis\":\"x\",\"y\":[406.22742432127876],\"yaxis\":\"y\"}],                        {\"legend\":{\"title\":{\"text\":\"color\"},\"tracegroupgap\":0},\"margin\":{\"t\":60},\"template\":{\"data\":{\"bar\":[{\"error_x\":{\"color\":\"#2a3f5f\"},\"error_y\":{\"color\":\"#2a3f5f\"},\"marker\":{\"line\":{\"color\":\"#E5ECF6\",\"width\":0.5},\"pattern\":{\"fillmode\":\"overlay\",\"size\":10,\"solidity\":0.2}},\"type\":\"bar\"}],\"barpolar\":[{\"marker\":{\"line\":{\"color\":\"#E5ECF6\",\"width\":0.5},\"pattern\":{\"fillmode\":\"overlay\",\"size\":10,\"solidity\":0.2}},\"type\":\"barpolar\"}],\"carpet\":[{\"aaxis\":{\"endlinecolor\":\"#2a3f5f\",\"gridcolor\":\"white\",\"linecolor\":\"white\",\"minorgridcolor\":\"white\",\"startlinecolor\":\"#2a3f5f\"},\"baxis\":{\"endlinecolor\":\"#2a3f5f\",\"gridcolor\":\"white\",\"linecolor\":\"white\",\"minorgridcolor\":\"white\",\"startlinecolor\":\"#2a3f5f\"},\"type\":\"carpet\"}],\"choropleth\":[{\"colorbar\":{\"outlinewidth\":0,\"ticks\":\"\"},\"type\":\"choropleth\"}],\"contour\":[{\"colorbar\":{\"outlinewidth\":0,\"ticks\":\"\"},\"colorscale\":[[0.0,\"#0d0887\"],[0.1111111111111111,\"#46039f\"],[0.2222222222222222,\"#7201a8\"],[0.3333333333333333,\"#9c179e\"],[0.4444444444444444,\"#bd3786\"],[0.5555555555555556,\"#d8576b\"],[0.6666666666666666,\"#ed7953\"],[0.7777777777777778,\"#fb9f3a\"],[0.8888888888888888,\"#fdca26\"],[1.0,\"#f0f921\"]],\"type\":\"contour\"}],\"contourcarpet\":[{\"colorbar\":{\"outlinewidth\":0,\"ticks\":\"\"},\"type\":\"contourcarpet\"}],\"heatmap\":[{\"colorbar\":{\"outlinewidth\":0,\"ticks\":\"\"},\"colorscale\":[[0.0,\"#0d0887\"],[0.1111111111111111,\"#46039f\"],[0.2222222222222222,\"#7201a8\"],[0.3333333333333333,\"#9c179e\"],[0.4444444444444444,\"#bd3786\"],[0.5555555555555556,\"#d8576b\"],[0.6666666666666666,\"#ed7953\"],[0.7777777777777778,\"#fb9f3a\"],[0.8888888888888888,\"#fdca26\"],[1.0,\"#f0f921\"]],\"type\":\"heatmap\"}],\"heatmapgl\":[{\"colorbar\":{\"outlinewidth\":0,\"ticks\":\"\"},\"colorscale\":[[0.0,\"#0d0887\"],[0.1111111111111111,\"#46039f\"],[0.2222222222222222,\"#7201a8\"],[0.3333333333333333,\"#9c179e\"],[0.4444444444444444,\"#bd3786\"],[0.5555555555555556,\"#d8576b\"],[0.6666666666666666,\"#ed7953\"],[0.7777777777777778,\"#fb9f3a\"],[0.8888888888888888,\"#fdca26\"],[1.0,\"#f0f921\"]],\"type\":\"heatmapgl\"}],\"histogram\":[{\"marker\":{\"pattern\":{\"fillmode\":\"overlay\",\"size\":10,\"solidity\":0.2}},\"type\":\"histogram\"}],\"histogram2d\":[{\"colorbar\":{\"outlinewidth\":0,\"ticks\":\"\"},\"colorscale\":[[0.0,\"#0d0887\"],[0.1111111111111111,\"#46039f\"],[0.2222222222222222,\"#7201a8\"],[0.3333333333333333,\"#9c179e\"],[0.4444444444444444,\"#bd3786\"],[0.5555555555555556,\"#d8576b\"],[0.6666666666666666,\"#ed7953\"],[0.7777777777777778,\"#fb9f3a\"],[0.8888888888888888,\"#fdca26\"],[1.0,\"#f0f921\"]],\"type\":\"histogram2d\"}],\"histogram2dcontour\":[{\"colorbar\":{\"outlinewidth\":0,\"ticks\":\"\"},\"colorscale\":[[0.0,\"#0d0887\"],[0.1111111111111111,\"#46039f\"],[0.2222222222222222,\"#7201a8\"],[0.3333333333333333,\"#9c179e\"],[0.4444444444444444,\"#bd3786\"],[0.5555555555555556,\"#d8576b\"],[0.6666666666666666,\"#ed7953\"],[0.7777777777777778,\"#fb9f3a\"],[0.8888888888888888,\"#fdca26\"],[1.0,\"#f0f921\"]],\"type\":\"histogram2dcontour\"}],\"mesh3d\":[{\"colorbar\":{\"outlinewidth\":0,\"ticks\":\"\"},\"type\":\"mesh3d\"}],\"parcoords\":[{\"line\":{\"colorbar\":{\"outlinewidth\":0,\"ticks\":\"\"}},\"type\":\"parcoords\"}],\"pie\":[{\"automargin\":true,\"type\":\"pie\"}],\"scatter\":[{\"marker\":{\"colorbar\":{\"outlinewidth\":0,\"ticks\":\"\"}},\"type\":\"scatter\"}],\"scatter3d\":[{\"line\":{\"colorbar\":{\"outlinewidth\":0,\"ticks\":\"\"}},\"marker\":{\"colorbar\":{\"outlinewidth\":0,\"ticks\":\"\"}},\"type\":\"scatter3d\"}],\"scattercarpet\":[{\"marker\":{\"colorbar\":{\"outlinewidth\":0,\"ticks\":\"\"}},\"type\":\"scattercarpet\"}],\"scattergeo\":[{\"marker\":{\"colorbar\":{\"outlinewidth\":0,\"ticks\":\"\"}},\"type\":\"scattergeo\"}],\"scattergl\":[{\"marker\":{\"colorbar\":{\"outlinewidth\":0,\"ticks\":\"\"}},\"type\":\"scattergl\"}],\"scattermapbox\":[{\"marker\":{\"colorbar\":{\"outlinewidth\":0,\"ticks\":\"\"}},\"type\":\"scattermapbox\"}],\"scatterpolar\":[{\"marker\":{\"colorbar\":{\"outlinewidth\":0,\"ticks\":\"\"}},\"type\":\"scatterpolar\"}],\"scatterpolargl\":[{\"marker\":{\"colorbar\":{\"outlinewidth\":0,\"ticks\":\"\"}},\"type\":\"scatterpolargl\"}],\"scatterternary\":[{\"marker\":{\"colorbar\":{\"outlinewidth\":0,\"ticks\":\"\"}},\"type\":\"scatterternary\"}],\"surface\":[{\"colorbar\":{\"outlinewidth\":0,\"ticks\":\"\"},\"colorscale\":[[0.0,\"#0d0887\"],[0.1111111111111111,\"#46039f\"],[0.2222222222222222,\"#7201a8\"],[0.3333333333333333,\"#9c179e\"],[0.4444444444444444,\"#bd3786\"],[0.5555555555555556,\"#d8576b\"],[0.6666666666666666,\"#ed7953\"],[0.7777777777777778,\"#fb9f3a\"],[0.8888888888888888,\"#fdca26\"],[1.0,\"#f0f921\"]],\"type\":\"surface\"}],\"table\":[{\"cells\":{\"fill\":{\"color\":\"#EBF0F8\"},\"line\":{\"color\":\"white\"}},\"header\":{\"fill\":{\"color\":\"#C8D4E3\"},\"line\":{\"color\":\"white\"}},\"type\":\"table\"}]},\"layout\":{\"annotationdefaults\":{\"arrowcolor\":\"#2a3f5f\",\"arrowhead\":0,\"arrowwidth\":1},\"autotypenumbers\":\"strict\",\"coloraxis\":{\"colorbar\":{\"outlinewidth\":0,\"ticks\":\"\"}},\"colorscale\":{\"diverging\":[[0,\"#8e0152\"],[0.1,\"#c51b7d\"],[0.2,\"#de77ae\"],[0.3,\"#f1b6da\"],[0.4,\"#fde0ef\"],[0.5,\"#f7f7f7\"],[0.6,\"#e6f5d0\"],[0.7,\"#b8e186\"],[0.8,\"#7fbc41\"],[0.9,\"#4d9221\"],[1,\"#276419\"]],\"sequential\":[[0.0,\"#0d0887\"],[0.1111111111111111,\"#46039f\"],[0.2222222222222222,\"#7201a8\"],[0.3333333333333333,\"#9c179e\"],[0.4444444444444444,\"#bd3786\"],[0.5555555555555556,\"#d8576b\"],[0.6666666666666666,\"#ed7953\"],[0.7777777777777778,\"#fb9f3a\"],[0.8888888888888888,\"#fdca26\"],[1.0,\"#f0f921\"]],\"sequentialminus\":[[0.0,\"#0d0887\"],[0.1111111111111111,\"#46039f\"],[0.2222222222222222,\"#7201a8\"],[0.3333333333333333,\"#9c179e\"],[0.4444444444444444,\"#bd3786\"],[0.5555555555555556,\"#d8576b\"],[0.6666666666666666,\"#ed7953\"],[0.7777777777777778,\"#fb9f3a\"],[0.8888888888888888,\"#fdca26\"],[1.0,\"#f0f921\"]]},\"colorway\":[\"#636efa\",\"#EF553B\",\"#00cc96\",\"#ab63fa\",\"#FFA15A\",\"#19d3f3\",\"#FF6692\",\"#B6E880\",\"#FF97FF\",\"#FECB52\"],\"font\":{\"color\":\"#2a3f5f\"},\"geo\":{\"bgcolor\":\"white\",\"lakecolor\":\"white\",\"landcolor\":\"#E5ECF6\",\"showlakes\":true,\"showland\":true,\"subunitcolor\":\"white\"},\"hoverlabel\":{\"align\":\"left\"},\"hovermode\":\"closest\",\"mapbox\":{\"style\":\"light\"},\"paper_bgcolor\":\"white\",\"plot_bgcolor\":\"#E5ECF6\",\"polar\":{\"angularaxis\":{\"gridcolor\":\"white\",\"linecolor\":\"white\",\"ticks\":\"\"},\"bgcolor\":\"#E5ECF6\",\"radialaxis\":{\"gridcolor\":\"white\",\"linecolor\":\"white\",\"ticks\":\"\"}},\"scene\":{\"xaxis\":{\"backgroundcolor\":\"#E5ECF6\",\"gridcolor\":\"white\",\"gridwidth\":2,\"linecolor\":\"white\",\"showbackground\":true,\"ticks\":\"\",\"zerolinecolor\":\"white\"},\"yaxis\":{\"backgroundcolor\":\"#E5ECF6\",\"gridcolor\":\"white\",\"gridwidth\":2,\"linecolor\":\"white\",\"showbackground\":true,\"ticks\":\"\",\"zerolinecolor\":\"white\"},\"zaxis\":{\"backgroundcolor\":\"#E5ECF6\",\"gridcolor\":\"white\",\"gridwidth\":2,\"linecolor\":\"white\",\"showbackground\":true,\"ticks\":\"\",\"zerolinecolor\":\"white\"}},\"shapedefaults\":{\"line\":{\"color\":\"#2a3f5f\"}},\"ternary\":{\"aaxis\":{\"gridcolor\":\"white\",\"linecolor\":\"white\",\"ticks\":\"\"},\"baxis\":{\"gridcolor\":\"white\",\"linecolor\":\"white\",\"ticks\":\"\"},\"bgcolor\":\"#E5ECF6\",\"caxis\":{\"gridcolor\":\"white\",\"linecolor\":\"white\",\"ticks\":\"\"}},\"title\":{\"x\":0.05},\"xaxis\":{\"automargin\":true,\"gridcolor\":\"white\",\"linecolor\":\"white\",\"ticks\":\"\",\"title\":{\"standoff\":15},\"zerolinecolor\":\"white\",\"zerolinewidth\":2},\"yaxis\":{\"automargin\":true,\"gridcolor\":\"white\",\"linecolor\":\"white\",\"ticks\":\"\",\"title\":{\"standoff\":15},\"zerolinecolor\":\"white\",\"zerolinewidth\":2}}},\"xaxis\":{\"anchor\":\"y\",\"domain\":[0.0,1.0],\"title\":{\"text\":\"team\"}},\"yaxis\":{\"anchor\":\"x\",\"domain\":[0.0,1.0],\"title\":{\"text\":\"distance_traveled\"}}},                        {\"responsive\": true}                    ).then(function(){\n",
       "                            \n",
       "var gd = document.getElementById('5d7c187a-dc90-4b1c-9c8b-e47d22f1ba67');\n",
       "var x = new MutationObserver(function (mutations, observer) {{\n",
       "        var display = window.getComputedStyle(gd).display;\n",
       "        if (!display || display === 'none') {{\n",
       "            console.log([gd, 'removed!']);\n",
       "            Plotly.purge(gd);\n",
       "            observer.disconnect();\n",
       "        }}\n",
       "}});\n",
       "\n",
       "// Listen for the removal of the full notebook cells\n",
       "var notebookContainer = gd.closest('#notebook-container');\n",
       "if (notebookContainer) {{\n",
       "    x.observe(notebookContainer, {childList: true});\n",
       "}}\n",
       "\n",
       "// Listen for the clearing of the current output cell\n",
       "var outputEl = gd.closest('.output');\n",
       "if (outputEl) {{\n",
       "    x.observe(outputEl, {childList: true});\n",
       "}}\n",
       "\n",
       "                        })                };                });            </script>        </div>"
      ]
     },
     "metadata": {},
     "output_type": "display_data"
    }
   ],
   "source": [
    "team = 'DET'\n",
    "mycolors = ['red' if i==team else 'blue' for i in df_2012.index]\n",
    "fig = px.scatter(df_2012,x= df_2012.index,y='distance_traveled', color=mycolors)\n",
    "fig.show()"
   ]
  },
  {
   "cell_type": "code",
   "execution_count": 47,
   "id": "2855a102",
   "metadata": {},
   "outputs": [
    {
     "data": {
      "application/vnd.plotly.v1+json": {
       "config": {
        "plotlyServerURL": "https://plot.ly"
       },
       "data": [
        {
         "hovertemplate": "color=blue<br>team=%{x}<br>distance_traveled=%{y}<extra></extra>",
         "legendgroup": "blue",
         "marker": {
          "color": "#636efa",
          "symbol": "circle"
         },
         "mode": "markers",
         "name": "blue",
         "orientation": "v",
         "showlegend": true,
         "type": "scatter",
         "x": [
          "POR",
          "LAL",
          "GSW",
          "MIA",
          "DEN",
          "MEM",
          "MIN",
          "HOU",
          "LAC",
          "PHO",
          "UTA",
          "NOP",
          "SAS",
          "ORL",
          "BOS",
          "OKC",
          "SAC",
          "CHO",
          "DAL",
          "NYK",
          "BKN",
          "ATL",
          "IND",
          "MIL",
          "CLE",
          "PHI",
          "DET",
          "TOR",
          "WAS"
         ],
         "xaxis": "x",
         "y": [
          763.5482352775334,
          695.6425450262743,
          685.2268260846787,
          655.2666772852377,
          649.4240495868182,
          647.236020872708,
          634.939063510173,
          615.2715125207626,
          614.3324027741368,
          608.8730140168747,
          599.8362671051029,
          598.7486512761644,
          572.164586469735,
          569.5440991360958,
          567.7445423772143,
          557.4046022543445,
          554.3207983960294,
          540.5467494807101,
          527.8486927711982,
          521.6642334578305,
          508.6685378062791,
          495.00376732865755,
          492.2942458968439,
          491.22628750660954,
          481.58520608371924,
          477.4226436177493,
          466.55820494518616,
          461.7613761076133,
          445.0945262555761
         ],
         "yaxis": "y"
        },
        {
         "hovertemplate": "color=red<br>team=%{x}<br>distance_traveled=%{y}<extra></extra>",
         "legendgroup": "red",
         "marker": {
          "color": "#EF553B",
          "symbol": "circle"
         },
         "mode": "markers",
         "name": "red",
         "orientation": "v",
         "showlegend": true,
         "type": "scatter",
         "x": [
          "CHI"
         ],
         "xaxis": "x",
         "y": [
          415.89416248179765
         ],
         "yaxis": "y"
        }
       ],
       "layout": {
        "legend": {
         "title": {
          "text": "color"
         },
         "tracegroupgap": 0
        },
        "margin": {
         "t": 60
        },
        "template": {
         "data": {
          "bar": [
           {
            "error_x": {
             "color": "#2a3f5f"
            },
            "error_y": {
             "color": "#2a3f5f"
            },
            "marker": {
             "line": {
              "color": "#E5ECF6",
              "width": 0.5
             },
             "pattern": {
              "fillmode": "overlay",
              "size": 10,
              "solidity": 0.2
             }
            },
            "type": "bar"
           }
          ],
          "barpolar": [
           {
            "marker": {
             "line": {
              "color": "#E5ECF6",
              "width": 0.5
             },
             "pattern": {
              "fillmode": "overlay",
              "size": 10,
              "solidity": 0.2
             }
            },
            "type": "barpolar"
           }
          ],
          "carpet": [
           {
            "aaxis": {
             "endlinecolor": "#2a3f5f",
             "gridcolor": "white",
             "linecolor": "white",
             "minorgridcolor": "white",
             "startlinecolor": "#2a3f5f"
            },
            "baxis": {
             "endlinecolor": "#2a3f5f",
             "gridcolor": "white",
             "linecolor": "white",
             "minorgridcolor": "white",
             "startlinecolor": "#2a3f5f"
            },
            "type": "carpet"
           }
          ],
          "choropleth": [
           {
            "colorbar": {
             "outlinewidth": 0,
             "ticks": ""
            },
            "type": "choropleth"
           }
          ],
          "contour": [
           {
            "colorbar": {
             "outlinewidth": 0,
             "ticks": ""
            },
            "colorscale": [
             [
              0,
              "#0d0887"
             ],
             [
              0.1111111111111111,
              "#46039f"
             ],
             [
              0.2222222222222222,
              "#7201a8"
             ],
             [
              0.3333333333333333,
              "#9c179e"
             ],
             [
              0.4444444444444444,
              "#bd3786"
             ],
             [
              0.5555555555555556,
              "#d8576b"
             ],
             [
              0.6666666666666666,
              "#ed7953"
             ],
             [
              0.7777777777777778,
              "#fb9f3a"
             ],
             [
              0.8888888888888888,
              "#fdca26"
             ],
             [
              1,
              "#f0f921"
             ]
            ],
            "type": "contour"
           }
          ],
          "contourcarpet": [
           {
            "colorbar": {
             "outlinewidth": 0,
             "ticks": ""
            },
            "type": "contourcarpet"
           }
          ],
          "heatmap": [
           {
            "colorbar": {
             "outlinewidth": 0,
             "ticks": ""
            },
            "colorscale": [
             [
              0,
              "#0d0887"
             ],
             [
              0.1111111111111111,
              "#46039f"
             ],
             [
              0.2222222222222222,
              "#7201a8"
             ],
             [
              0.3333333333333333,
              "#9c179e"
             ],
             [
              0.4444444444444444,
              "#bd3786"
             ],
             [
              0.5555555555555556,
              "#d8576b"
             ],
             [
              0.6666666666666666,
              "#ed7953"
             ],
             [
              0.7777777777777778,
              "#fb9f3a"
             ],
             [
              0.8888888888888888,
              "#fdca26"
             ],
             [
              1,
              "#f0f921"
             ]
            ],
            "type": "heatmap"
           }
          ],
          "heatmapgl": [
           {
            "colorbar": {
             "outlinewidth": 0,
             "ticks": ""
            },
            "colorscale": [
             [
              0,
              "#0d0887"
             ],
             [
              0.1111111111111111,
              "#46039f"
             ],
             [
              0.2222222222222222,
              "#7201a8"
             ],
             [
              0.3333333333333333,
              "#9c179e"
             ],
             [
              0.4444444444444444,
              "#bd3786"
             ],
             [
              0.5555555555555556,
              "#d8576b"
             ],
             [
              0.6666666666666666,
              "#ed7953"
             ],
             [
              0.7777777777777778,
              "#fb9f3a"
             ],
             [
              0.8888888888888888,
              "#fdca26"
             ],
             [
              1,
              "#f0f921"
             ]
            ],
            "type": "heatmapgl"
           }
          ],
          "histogram": [
           {
            "marker": {
             "pattern": {
              "fillmode": "overlay",
              "size": 10,
              "solidity": 0.2
             }
            },
            "type": "histogram"
           }
          ],
          "histogram2d": [
           {
            "colorbar": {
             "outlinewidth": 0,
             "ticks": ""
            },
            "colorscale": [
             [
              0,
              "#0d0887"
             ],
             [
              0.1111111111111111,
              "#46039f"
             ],
             [
              0.2222222222222222,
              "#7201a8"
             ],
             [
              0.3333333333333333,
              "#9c179e"
             ],
             [
              0.4444444444444444,
              "#bd3786"
             ],
             [
              0.5555555555555556,
              "#d8576b"
             ],
             [
              0.6666666666666666,
              "#ed7953"
             ],
             [
              0.7777777777777778,
              "#fb9f3a"
             ],
             [
              0.8888888888888888,
              "#fdca26"
             ],
             [
              1,
              "#f0f921"
             ]
            ],
            "type": "histogram2d"
           }
          ],
          "histogram2dcontour": [
           {
            "colorbar": {
             "outlinewidth": 0,
             "ticks": ""
            },
            "colorscale": [
             [
              0,
              "#0d0887"
             ],
             [
              0.1111111111111111,
              "#46039f"
             ],
             [
              0.2222222222222222,
              "#7201a8"
             ],
             [
              0.3333333333333333,
              "#9c179e"
             ],
             [
              0.4444444444444444,
              "#bd3786"
             ],
             [
              0.5555555555555556,
              "#d8576b"
             ],
             [
              0.6666666666666666,
              "#ed7953"
             ],
             [
              0.7777777777777778,
              "#fb9f3a"
             ],
             [
              0.8888888888888888,
              "#fdca26"
             ],
             [
              1,
              "#f0f921"
             ]
            ],
            "type": "histogram2dcontour"
           }
          ],
          "mesh3d": [
           {
            "colorbar": {
             "outlinewidth": 0,
             "ticks": ""
            },
            "type": "mesh3d"
           }
          ],
          "parcoords": [
           {
            "line": {
             "colorbar": {
              "outlinewidth": 0,
              "ticks": ""
             }
            },
            "type": "parcoords"
           }
          ],
          "pie": [
           {
            "automargin": true,
            "type": "pie"
           }
          ],
          "scatter": [
           {
            "marker": {
             "colorbar": {
              "outlinewidth": 0,
              "ticks": ""
             }
            },
            "type": "scatter"
           }
          ],
          "scatter3d": [
           {
            "line": {
             "colorbar": {
              "outlinewidth": 0,
              "ticks": ""
             }
            },
            "marker": {
             "colorbar": {
              "outlinewidth": 0,
              "ticks": ""
             }
            },
            "type": "scatter3d"
           }
          ],
          "scattercarpet": [
           {
            "marker": {
             "colorbar": {
              "outlinewidth": 0,
              "ticks": ""
             }
            },
            "type": "scattercarpet"
           }
          ],
          "scattergeo": [
           {
            "marker": {
             "colorbar": {
              "outlinewidth": 0,
              "ticks": ""
             }
            },
            "type": "scattergeo"
           }
          ],
          "scattergl": [
           {
            "marker": {
             "colorbar": {
              "outlinewidth": 0,
              "ticks": ""
             }
            },
            "type": "scattergl"
           }
          ],
          "scattermapbox": [
           {
            "marker": {
             "colorbar": {
              "outlinewidth": 0,
              "ticks": ""
             }
            },
            "type": "scattermapbox"
           }
          ],
          "scatterpolar": [
           {
            "marker": {
             "colorbar": {
              "outlinewidth": 0,
              "ticks": ""
             }
            },
            "type": "scatterpolar"
           }
          ],
          "scatterpolargl": [
           {
            "marker": {
             "colorbar": {
              "outlinewidth": 0,
              "ticks": ""
             }
            },
            "type": "scatterpolargl"
           }
          ],
          "scatterternary": [
           {
            "marker": {
             "colorbar": {
              "outlinewidth": 0,
              "ticks": ""
             }
            },
            "type": "scatterternary"
           }
          ],
          "surface": [
           {
            "colorbar": {
             "outlinewidth": 0,
             "ticks": ""
            },
            "colorscale": [
             [
              0,
              "#0d0887"
             ],
             [
              0.1111111111111111,
              "#46039f"
             ],
             [
              0.2222222222222222,
              "#7201a8"
             ],
             [
              0.3333333333333333,
              "#9c179e"
             ],
             [
              0.4444444444444444,
              "#bd3786"
             ],
             [
              0.5555555555555556,
              "#d8576b"
             ],
             [
              0.6666666666666666,
              "#ed7953"
             ],
             [
              0.7777777777777778,
              "#fb9f3a"
             ],
             [
              0.8888888888888888,
              "#fdca26"
             ],
             [
              1,
              "#f0f921"
             ]
            ],
            "type": "surface"
           }
          ],
          "table": [
           {
            "cells": {
             "fill": {
              "color": "#EBF0F8"
             },
             "line": {
              "color": "white"
             }
            },
            "header": {
             "fill": {
              "color": "#C8D4E3"
             },
             "line": {
              "color": "white"
             }
            },
            "type": "table"
           }
          ]
         },
         "layout": {
          "annotationdefaults": {
           "arrowcolor": "#2a3f5f",
           "arrowhead": 0,
           "arrowwidth": 1
          },
          "autotypenumbers": "strict",
          "coloraxis": {
           "colorbar": {
            "outlinewidth": 0,
            "ticks": ""
           }
          },
          "colorscale": {
           "diverging": [
            [
             0,
             "#8e0152"
            ],
            [
             0.1,
             "#c51b7d"
            ],
            [
             0.2,
             "#de77ae"
            ],
            [
             0.3,
             "#f1b6da"
            ],
            [
             0.4,
             "#fde0ef"
            ],
            [
             0.5,
             "#f7f7f7"
            ],
            [
             0.6,
             "#e6f5d0"
            ],
            [
             0.7,
             "#b8e186"
            ],
            [
             0.8,
             "#7fbc41"
            ],
            [
             0.9,
             "#4d9221"
            ],
            [
             1,
             "#276419"
            ]
           ],
           "sequential": [
            [
             0,
             "#0d0887"
            ],
            [
             0.1111111111111111,
             "#46039f"
            ],
            [
             0.2222222222222222,
             "#7201a8"
            ],
            [
             0.3333333333333333,
             "#9c179e"
            ],
            [
             0.4444444444444444,
             "#bd3786"
            ],
            [
             0.5555555555555556,
             "#d8576b"
            ],
            [
             0.6666666666666666,
             "#ed7953"
            ],
            [
             0.7777777777777778,
             "#fb9f3a"
            ],
            [
             0.8888888888888888,
             "#fdca26"
            ],
            [
             1,
             "#f0f921"
            ]
           ],
           "sequentialminus": [
            [
             0,
             "#0d0887"
            ],
            [
             0.1111111111111111,
             "#46039f"
            ],
            [
             0.2222222222222222,
             "#7201a8"
            ],
            [
             0.3333333333333333,
             "#9c179e"
            ],
            [
             0.4444444444444444,
             "#bd3786"
            ],
            [
             0.5555555555555556,
             "#d8576b"
            ],
            [
             0.6666666666666666,
             "#ed7953"
            ],
            [
             0.7777777777777778,
             "#fb9f3a"
            ],
            [
             0.8888888888888888,
             "#fdca26"
            ],
            [
             1,
             "#f0f921"
            ]
           ]
          },
          "colorway": [
           "#636efa",
           "#EF553B",
           "#00cc96",
           "#ab63fa",
           "#FFA15A",
           "#19d3f3",
           "#FF6692",
           "#B6E880",
           "#FF97FF",
           "#FECB52"
          ],
          "font": {
           "color": "#2a3f5f"
          },
          "geo": {
           "bgcolor": "white",
           "lakecolor": "white",
           "landcolor": "#E5ECF6",
           "showlakes": true,
           "showland": true,
           "subunitcolor": "white"
          },
          "hoverlabel": {
           "align": "left"
          },
          "hovermode": "closest",
          "mapbox": {
           "style": "light"
          },
          "paper_bgcolor": "white",
          "plot_bgcolor": "#E5ECF6",
          "polar": {
           "angularaxis": {
            "gridcolor": "white",
            "linecolor": "white",
            "ticks": ""
           },
           "bgcolor": "#E5ECF6",
           "radialaxis": {
            "gridcolor": "white",
            "linecolor": "white",
            "ticks": ""
           }
          },
          "scene": {
           "xaxis": {
            "backgroundcolor": "#E5ECF6",
            "gridcolor": "white",
            "gridwidth": 2,
            "linecolor": "white",
            "showbackground": true,
            "ticks": "",
            "zerolinecolor": "white"
           },
           "yaxis": {
            "backgroundcolor": "#E5ECF6",
            "gridcolor": "white",
            "gridwidth": 2,
            "linecolor": "white",
            "showbackground": true,
            "ticks": "",
            "zerolinecolor": "white"
           },
           "zaxis": {
            "backgroundcolor": "#E5ECF6",
            "gridcolor": "white",
            "gridwidth": 2,
            "linecolor": "white",
            "showbackground": true,
            "ticks": "",
            "zerolinecolor": "white"
           }
          },
          "shapedefaults": {
           "line": {
            "color": "#2a3f5f"
           }
          },
          "ternary": {
           "aaxis": {
            "gridcolor": "white",
            "linecolor": "white",
            "ticks": ""
           },
           "baxis": {
            "gridcolor": "white",
            "linecolor": "white",
            "ticks": ""
           },
           "bgcolor": "#E5ECF6",
           "caxis": {
            "gridcolor": "white",
            "linecolor": "white",
            "ticks": ""
           }
          },
          "title": {
           "x": 0.05
          },
          "xaxis": {
           "automargin": true,
           "gridcolor": "white",
           "linecolor": "white",
           "ticks": "",
           "title": {
            "standoff": 15
           },
           "zerolinecolor": "white",
           "zerolinewidth": 2
          },
          "yaxis": {
           "automargin": true,
           "gridcolor": "white",
           "linecolor": "white",
           "ticks": "",
           "title": {
            "standoff": 15
           },
           "zerolinecolor": "white",
           "zerolinewidth": 2
          }
         }
        },
        "xaxis": {
         "anchor": "y",
         "domain": [
          0,
          1
         ],
         "title": {
          "text": "team"
         }
        },
        "yaxis": {
         "anchor": "x",
         "domain": [
          0,
          1
         ],
         "title": {
          "text": "distance_traveled"
         }
        }
       }
      },
      "text/html": [
       "<div>                            <div id=\"296bc473-cff5-49fe-aed7-911efa6d8147\" class=\"plotly-graph-div\" style=\"height:525px; width:100%;\"></div>            <script type=\"text/javascript\">                require([\"plotly\"], function(Plotly) {                    window.PLOTLYENV=window.PLOTLYENV || {};                                    if (document.getElementById(\"296bc473-cff5-49fe-aed7-911efa6d8147\")) {                    Plotly.newPlot(                        \"296bc473-cff5-49fe-aed7-911efa6d8147\",                        [{\"hovertemplate\":\"color=blue<br>team=%{x}<br>distance_traveled=%{y}<extra></extra>\",\"legendgroup\":\"blue\",\"marker\":{\"color\":\"#636efa\",\"symbol\":\"circle\"},\"mode\":\"markers\",\"name\":\"blue\",\"orientation\":\"v\",\"showlegend\":true,\"type\":\"scatter\",\"x\":[\"POR\",\"LAL\",\"GSW\",\"MIA\",\"DEN\",\"MEM\",\"MIN\",\"HOU\",\"LAC\",\"PHO\",\"UTA\",\"NOP\",\"SAS\",\"ORL\",\"BOS\",\"OKC\",\"SAC\",\"CHO\",\"DAL\",\"NYK\",\"BKN\",\"ATL\",\"IND\",\"MIL\",\"CLE\",\"PHI\",\"DET\",\"TOR\",\"WAS\"],\"xaxis\":\"x\",\"y\":[763.5482352775334,695.6425450262743,685.2268260846787,655.2666772852377,649.4240495868182,647.236020872708,634.939063510173,615.2715125207626,614.3324027741368,608.8730140168747,599.8362671051029,598.7486512761644,572.164586469735,569.5440991360958,567.7445423772143,557.4046022543445,554.3207983960294,540.5467494807101,527.8486927711982,521.6642334578305,508.6685378062791,495.00376732865755,492.2942458968439,491.22628750660954,481.58520608371924,477.4226436177493,466.55820494518616,461.7613761076133,445.0945262555761],\"yaxis\":\"y\"},{\"hovertemplate\":\"color=red<br>team=%{x}<br>distance_traveled=%{y}<extra></extra>\",\"legendgroup\":\"red\",\"marker\":{\"color\":\"#EF553B\",\"symbol\":\"circle\"},\"mode\":\"markers\",\"name\":\"red\",\"orientation\":\"v\",\"showlegend\":true,\"type\":\"scatter\",\"x\":[\"CHI\"],\"xaxis\":\"x\",\"y\":[415.89416248179765],\"yaxis\":\"y\"}],                        {\"legend\":{\"title\":{\"text\":\"color\"},\"tracegroupgap\":0},\"margin\":{\"t\":60},\"template\":{\"data\":{\"bar\":[{\"error_x\":{\"color\":\"#2a3f5f\"},\"error_y\":{\"color\":\"#2a3f5f\"},\"marker\":{\"line\":{\"color\":\"#E5ECF6\",\"width\":0.5},\"pattern\":{\"fillmode\":\"overlay\",\"size\":10,\"solidity\":0.2}},\"type\":\"bar\"}],\"barpolar\":[{\"marker\":{\"line\":{\"color\":\"#E5ECF6\",\"width\":0.5},\"pattern\":{\"fillmode\":\"overlay\",\"size\":10,\"solidity\":0.2}},\"type\":\"barpolar\"}],\"carpet\":[{\"aaxis\":{\"endlinecolor\":\"#2a3f5f\",\"gridcolor\":\"white\",\"linecolor\":\"white\",\"minorgridcolor\":\"white\",\"startlinecolor\":\"#2a3f5f\"},\"baxis\":{\"endlinecolor\":\"#2a3f5f\",\"gridcolor\":\"white\",\"linecolor\":\"white\",\"minorgridcolor\":\"white\",\"startlinecolor\":\"#2a3f5f\"},\"type\":\"carpet\"}],\"choropleth\":[{\"colorbar\":{\"outlinewidth\":0,\"ticks\":\"\"},\"type\":\"choropleth\"}],\"contour\":[{\"colorbar\":{\"outlinewidth\":0,\"ticks\":\"\"},\"colorscale\":[[0.0,\"#0d0887\"],[0.1111111111111111,\"#46039f\"],[0.2222222222222222,\"#7201a8\"],[0.3333333333333333,\"#9c179e\"],[0.4444444444444444,\"#bd3786\"],[0.5555555555555556,\"#d8576b\"],[0.6666666666666666,\"#ed7953\"],[0.7777777777777778,\"#fb9f3a\"],[0.8888888888888888,\"#fdca26\"],[1.0,\"#f0f921\"]],\"type\":\"contour\"}],\"contourcarpet\":[{\"colorbar\":{\"outlinewidth\":0,\"ticks\":\"\"},\"type\":\"contourcarpet\"}],\"heatmap\":[{\"colorbar\":{\"outlinewidth\":0,\"ticks\":\"\"},\"colorscale\":[[0.0,\"#0d0887\"],[0.1111111111111111,\"#46039f\"],[0.2222222222222222,\"#7201a8\"],[0.3333333333333333,\"#9c179e\"],[0.4444444444444444,\"#bd3786\"],[0.5555555555555556,\"#d8576b\"],[0.6666666666666666,\"#ed7953\"],[0.7777777777777778,\"#fb9f3a\"],[0.8888888888888888,\"#fdca26\"],[1.0,\"#f0f921\"]],\"type\":\"heatmap\"}],\"heatmapgl\":[{\"colorbar\":{\"outlinewidth\":0,\"ticks\":\"\"},\"colorscale\":[[0.0,\"#0d0887\"],[0.1111111111111111,\"#46039f\"],[0.2222222222222222,\"#7201a8\"],[0.3333333333333333,\"#9c179e\"],[0.4444444444444444,\"#bd3786\"],[0.5555555555555556,\"#d8576b\"],[0.6666666666666666,\"#ed7953\"],[0.7777777777777778,\"#fb9f3a\"],[0.8888888888888888,\"#fdca26\"],[1.0,\"#f0f921\"]],\"type\":\"heatmapgl\"}],\"histogram\":[{\"marker\":{\"pattern\":{\"fillmode\":\"overlay\",\"size\":10,\"solidity\":0.2}},\"type\":\"histogram\"}],\"histogram2d\":[{\"colorbar\":{\"outlinewidth\":0,\"ticks\":\"\"},\"colorscale\":[[0.0,\"#0d0887\"],[0.1111111111111111,\"#46039f\"],[0.2222222222222222,\"#7201a8\"],[0.3333333333333333,\"#9c179e\"],[0.4444444444444444,\"#bd3786\"],[0.5555555555555556,\"#d8576b\"],[0.6666666666666666,\"#ed7953\"],[0.7777777777777778,\"#fb9f3a\"],[0.8888888888888888,\"#fdca26\"],[1.0,\"#f0f921\"]],\"type\":\"histogram2d\"}],\"histogram2dcontour\":[{\"colorbar\":{\"outlinewidth\":0,\"ticks\":\"\"},\"colorscale\":[[0.0,\"#0d0887\"],[0.1111111111111111,\"#46039f\"],[0.2222222222222222,\"#7201a8\"],[0.3333333333333333,\"#9c179e\"],[0.4444444444444444,\"#bd3786\"],[0.5555555555555556,\"#d8576b\"],[0.6666666666666666,\"#ed7953\"],[0.7777777777777778,\"#fb9f3a\"],[0.8888888888888888,\"#fdca26\"],[1.0,\"#f0f921\"]],\"type\":\"histogram2dcontour\"}],\"mesh3d\":[{\"colorbar\":{\"outlinewidth\":0,\"ticks\":\"\"},\"type\":\"mesh3d\"}],\"parcoords\":[{\"line\":{\"colorbar\":{\"outlinewidth\":0,\"ticks\":\"\"}},\"type\":\"parcoords\"}],\"pie\":[{\"automargin\":true,\"type\":\"pie\"}],\"scatter\":[{\"marker\":{\"colorbar\":{\"outlinewidth\":0,\"ticks\":\"\"}},\"type\":\"scatter\"}],\"scatter3d\":[{\"line\":{\"colorbar\":{\"outlinewidth\":0,\"ticks\":\"\"}},\"marker\":{\"colorbar\":{\"outlinewidth\":0,\"ticks\":\"\"}},\"type\":\"scatter3d\"}],\"scattercarpet\":[{\"marker\":{\"colorbar\":{\"outlinewidth\":0,\"ticks\":\"\"}},\"type\":\"scattercarpet\"}],\"scattergeo\":[{\"marker\":{\"colorbar\":{\"outlinewidth\":0,\"ticks\":\"\"}},\"type\":\"scattergeo\"}],\"scattergl\":[{\"marker\":{\"colorbar\":{\"outlinewidth\":0,\"ticks\":\"\"}},\"type\":\"scattergl\"}],\"scattermapbox\":[{\"marker\":{\"colorbar\":{\"outlinewidth\":0,\"ticks\":\"\"}},\"type\":\"scattermapbox\"}],\"scatterpolar\":[{\"marker\":{\"colorbar\":{\"outlinewidth\":0,\"ticks\":\"\"}},\"type\":\"scatterpolar\"}],\"scatterpolargl\":[{\"marker\":{\"colorbar\":{\"outlinewidth\":0,\"ticks\":\"\"}},\"type\":\"scatterpolargl\"}],\"scatterternary\":[{\"marker\":{\"colorbar\":{\"outlinewidth\":0,\"ticks\":\"\"}},\"type\":\"scatterternary\"}],\"surface\":[{\"colorbar\":{\"outlinewidth\":0,\"ticks\":\"\"},\"colorscale\":[[0.0,\"#0d0887\"],[0.1111111111111111,\"#46039f\"],[0.2222222222222222,\"#7201a8\"],[0.3333333333333333,\"#9c179e\"],[0.4444444444444444,\"#bd3786\"],[0.5555555555555556,\"#d8576b\"],[0.6666666666666666,\"#ed7953\"],[0.7777777777777778,\"#fb9f3a\"],[0.8888888888888888,\"#fdca26\"],[1.0,\"#f0f921\"]],\"type\":\"surface\"}],\"table\":[{\"cells\":{\"fill\":{\"color\":\"#EBF0F8\"},\"line\":{\"color\":\"white\"}},\"header\":{\"fill\":{\"color\":\"#C8D4E3\"},\"line\":{\"color\":\"white\"}},\"type\":\"table\"}]},\"layout\":{\"annotationdefaults\":{\"arrowcolor\":\"#2a3f5f\",\"arrowhead\":0,\"arrowwidth\":1},\"autotypenumbers\":\"strict\",\"coloraxis\":{\"colorbar\":{\"outlinewidth\":0,\"ticks\":\"\"}},\"colorscale\":{\"diverging\":[[0,\"#8e0152\"],[0.1,\"#c51b7d\"],[0.2,\"#de77ae\"],[0.3,\"#f1b6da\"],[0.4,\"#fde0ef\"],[0.5,\"#f7f7f7\"],[0.6,\"#e6f5d0\"],[0.7,\"#b8e186\"],[0.8,\"#7fbc41\"],[0.9,\"#4d9221\"],[1,\"#276419\"]],\"sequential\":[[0.0,\"#0d0887\"],[0.1111111111111111,\"#46039f\"],[0.2222222222222222,\"#7201a8\"],[0.3333333333333333,\"#9c179e\"],[0.4444444444444444,\"#bd3786\"],[0.5555555555555556,\"#d8576b\"],[0.6666666666666666,\"#ed7953\"],[0.7777777777777778,\"#fb9f3a\"],[0.8888888888888888,\"#fdca26\"],[1.0,\"#f0f921\"]],\"sequentialminus\":[[0.0,\"#0d0887\"],[0.1111111111111111,\"#46039f\"],[0.2222222222222222,\"#7201a8\"],[0.3333333333333333,\"#9c179e\"],[0.4444444444444444,\"#bd3786\"],[0.5555555555555556,\"#d8576b\"],[0.6666666666666666,\"#ed7953\"],[0.7777777777777778,\"#fb9f3a\"],[0.8888888888888888,\"#fdca26\"],[1.0,\"#f0f921\"]]},\"colorway\":[\"#636efa\",\"#EF553B\",\"#00cc96\",\"#ab63fa\",\"#FFA15A\",\"#19d3f3\",\"#FF6692\",\"#B6E880\",\"#FF97FF\",\"#FECB52\"],\"font\":{\"color\":\"#2a3f5f\"},\"geo\":{\"bgcolor\":\"white\",\"lakecolor\":\"white\",\"landcolor\":\"#E5ECF6\",\"showlakes\":true,\"showland\":true,\"subunitcolor\":\"white\"},\"hoverlabel\":{\"align\":\"left\"},\"hovermode\":\"closest\",\"mapbox\":{\"style\":\"light\"},\"paper_bgcolor\":\"white\",\"plot_bgcolor\":\"#E5ECF6\",\"polar\":{\"angularaxis\":{\"gridcolor\":\"white\",\"linecolor\":\"white\",\"ticks\":\"\"},\"bgcolor\":\"#E5ECF6\",\"radialaxis\":{\"gridcolor\":\"white\",\"linecolor\":\"white\",\"ticks\":\"\"}},\"scene\":{\"xaxis\":{\"backgroundcolor\":\"#E5ECF6\",\"gridcolor\":\"white\",\"gridwidth\":2,\"linecolor\":\"white\",\"showbackground\":true,\"ticks\":\"\",\"zerolinecolor\":\"white\"},\"yaxis\":{\"backgroundcolor\":\"#E5ECF6\",\"gridcolor\":\"white\",\"gridwidth\":2,\"linecolor\":\"white\",\"showbackground\":true,\"ticks\":\"\",\"zerolinecolor\":\"white\"},\"zaxis\":{\"backgroundcolor\":\"#E5ECF6\",\"gridcolor\":\"white\",\"gridwidth\":2,\"linecolor\":\"white\",\"showbackground\":true,\"ticks\":\"\",\"zerolinecolor\":\"white\"}},\"shapedefaults\":{\"line\":{\"color\":\"#2a3f5f\"}},\"ternary\":{\"aaxis\":{\"gridcolor\":\"white\",\"linecolor\":\"white\",\"ticks\":\"\"},\"baxis\":{\"gridcolor\":\"white\",\"linecolor\":\"white\",\"ticks\":\"\"},\"bgcolor\":\"#E5ECF6\",\"caxis\":{\"gridcolor\":\"white\",\"linecolor\":\"white\",\"ticks\":\"\"}},\"title\":{\"x\":0.05},\"xaxis\":{\"automargin\":true,\"gridcolor\":\"white\",\"linecolor\":\"white\",\"ticks\":\"\",\"title\":{\"standoff\":15},\"zerolinecolor\":\"white\",\"zerolinewidth\":2},\"yaxis\":{\"automargin\":true,\"gridcolor\":\"white\",\"linecolor\":\"white\",\"ticks\":\"\",\"title\":{\"standoff\":15},\"zerolinecolor\":\"white\",\"zerolinewidth\":2}}},\"xaxis\":{\"anchor\":\"y\",\"domain\":[0.0,1.0],\"title\":{\"text\":\"team\"}},\"yaxis\":{\"anchor\":\"x\",\"domain\":[0.0,1.0],\"title\":{\"text\":\"distance_traveled\"}}},                        {\"responsive\": true}                    ).then(function(){\n",
       "                            \n",
       "var gd = document.getElementById('296bc473-cff5-49fe-aed7-911efa6d8147');\n",
       "var x = new MutationObserver(function (mutations, observer) {{\n",
       "        var display = window.getComputedStyle(gd).display;\n",
       "        if (!display || display === 'none') {{\n",
       "            console.log([gd, 'removed!']);\n",
       "            Plotly.purge(gd);\n",
       "            observer.disconnect();\n",
       "        }}\n",
       "}});\n",
       "\n",
       "// Listen for the removal of the full notebook cells\n",
       "var notebookContainer = gd.closest('#notebook-container');\n",
       "if (notebookContainer) {{\n",
       "    x.observe(notebookContainer, {childList: true});\n",
       "}}\n",
       "\n",
       "// Listen for the clearing of the current output cell\n",
       "var outputEl = gd.closest('.output');\n",
       "if (outputEl) {{\n",
       "    x.observe(outputEl, {childList: true});\n",
       "}}\n",
       "\n",
       "                        })                };                });            </script>        </div>"
      ]
     },
     "metadata": {},
     "output_type": "display_data"
    }
   ],
   "source": [
    "team = 'CHI'\n",
    "mycolors = ['red' if i==team else 'blue' for i in df_dot.index]\n",
    "fig = px.scatter(df_dot,x= df_dot.index,y='distance_traveled', color=mycolors)\n",
    "fig.show()"
   ]
  },
  {
   "cell_type": "code",
   "execution_count": 63,
   "id": "f608179b",
   "metadata": {},
   "outputs": [
    {
     "ename": "NameError",
     "evalue": "name 'yaxis_column' is not defined",
     "output_type": "error",
     "traceback": [
      "\u001b[0;31m---------------------------------------------------------------------------\u001b[0m",
      "\u001b[0;31mNameError\u001b[0m                                 Traceback (most recent call last)",
      "\u001b[0;32m<ipython-input-63-ac6e44470657>\u001b[0m in \u001b[0;36m<module>\u001b[0;34m\u001b[0m\n\u001b[0;32m----> 1\u001b[0;31m \u001b[0mdf_dot\u001b[0m \u001b[0;34m=\u001b[0m \u001b[0mdf_newdata\u001b[0m\u001b[0;34m[\u001b[0m\u001b[0mdf_newdata\u001b[0m\u001b[0;34m[\u001b[0m\u001b[0;34m'season'\u001b[0m\u001b[0;34m]\u001b[0m\u001b[0;34m==\u001b[0m\u001b[0myaxis_column\u001b[0m\u001b[0;34m]\u001b[0m\u001b[0;34m.\u001b[0m\u001b[0mgroupby\u001b[0m\u001b[0;34m(\u001b[0m\u001b[0;34m'team'\u001b[0m\u001b[0;34m)\u001b[0m\u001b[0;34m.\u001b[0m\u001b[0mmean\u001b[0m\u001b[0;34m(\u001b[0m\u001b[0;34m)\u001b[0m\u001b[0;34m.\u001b[0m\u001b[0msort_values\u001b[0m\u001b[0;34m(\u001b[0m\u001b[0;34m'distance_traveled'\u001b[0m\u001b[0;34m,\u001b[0m\u001b[0mascending\u001b[0m\u001b[0;34m=\u001b[0m\u001b[0;32mFalse\u001b[0m\u001b[0;34m)\u001b[0m\u001b[0;34m\u001b[0m\u001b[0;34m\u001b[0m\u001b[0m\n\u001b[0m",
      "\u001b[0;31mNameError\u001b[0m: name 'yaxis_column' is not defined"
     ]
    }
   ],
   "source": [
    "df_dot = df_newdata[df_newdata['season']==yaxis_column].groupby('team').mean().sort_values('distance_traveled',ascending=False)"
   ]
  },
  {
   "cell_type": "code",
   "execution_count": null,
   "id": "8d454cc3",
   "metadata": {},
   "outputs": [],
   "source": [
    "# df[df[‘season’]==2015]\n",
    "# .groupby(‘team’).mean()\n",
    "# [‘total_distance’]\n",
    "# Rows = 1 team 1 mean distance\n",
    "# X-axis = team name\n",
    "# Y-axis = average distance\n",
    "# Sort by distance"
   ]
  },
  {
   "cell_type": "code",
   "execution_count": 88,
   "id": "133f8078",
   "metadata": {},
   "outputs": [
    {
     "name": "stdout",
     "output_type": "stream",
     "text": [
      "Dash app running on http://127.0.0.1:8050/\n"
     ]
    }
   ],
   "source": [
    "app = JupyterDash(__name__,external_stylesheets = [dbc.themes.BOOTSTRAP])\n",
    "\n",
    "# read the data\n",
    "\n",
    "# list of all unique teams\n",
    "teams=data['team'].unique()\n",
    "season= data['season'].unique()\n",
    "#list of all unique quarters\n",
    "q= pd.PeriodIndex(data.datetime, freq='Q').unique()\n",
    "\n",
    "\n",
    "app.layout = html.Div([\n",
    "    \n",
    "    # top left drop menu for teams\n",
    "    html.Div([\n",
    "            dcc.Dropdown(\n",
    "                id='xaxis-column',\n",
    "                options=[{'label': i, 'value': i} for i in teams],\n",
    "#                 value='Fertility rate, total (births per woman)'\n",
    "            )\n",
    "    ], style={'width': '48%', 'display': 'inline-block'}), \n",
    "    \n",
    "    # top right drop menu for teams\n",
    "    html.Div([\n",
    "            dcc.Dropdown(\n",
    "                id='yaxis-column',\n",
    "                options=[{'label': i, 'value': i} for i in season],\n",
    "#                 value='Life expectancy at birth, total (years)'\n",
    "            )\n",
    "    ], style={'width': '48%', 'float': 'right', 'display': 'inline-block'}),\n",
    "    dcc.Graph(id='indicator-graphic')\n",
    "])\n",
    "# dcc.Graph(id='indicator-graphic')\n",
    "@app.callback(\n",
    "    Output('indicator-graphic', 'figure'),\n",
    "    Input('xaxis-column', 'value'),\n",
    "    Input('yaxis-column', 'value'))\n",
    "def update_graph(xaxis_column, yaxis_column):\n",
    "    #df_newdata = data_loc[['team','distance_traveled','team']]\n",
    "    #df_year = df[df['Year'] == year_value]\n",
    "    #filter by the season\n",
    "    #groupby the team\n",
    "    df_dot = df_newdata[df_newdata['season']==yaxis_column].groupby('team').mean().sort_values('distance_traveled',ascending=False)\n",
    "    team= xaxis_column\n",
    "    mycolors = ['red' if i==team else 'blue' for i in df_dot.index]\n",
    "    fig = px.scatter(df_dot,x=df_dot.index,y='distance_traveled',color=mycolors)\n",
    "    fig.update_traces(\n",
    "        marker_size=16,\n",
    "        selector=dict(mode='markers')\n",
    "    )\n",
    "    fig.update_layout(title_text =\n",
    "                   f\"Mean Distance Traveled for {yaxis_column} Season\",\n",
    "                    title_font_size = 30)\n",
    "    for i in range(0, len(df_dot)):\n",
    "               fig.add_shape(type='line',\n",
    "                              x0 = i, y0 = 0,\n",
    "                              y1 = df_dot[\"distance_traveled\"][i],\n",
    "                              x1 = i,\n",
    "                              line=dict(color='black', width = 3))\n",
    "    #plt.vlines(x= df_dot.index, ymin= 0, ymax = df_dot, color = mycolors)\n",
    "    return fig\n",
    "if __name__ == '__main__':\n",
    "    app.run_server(debug=True)"
   ]
  }
 ],
 "metadata": {
  "kernelspec": {
   "display_name": "Python 3",
   "language": "python",
   "name": "python3"
  },
  "language_info": {
   "codemirror_mode": {
    "name": "ipython",
    "version": 3
   },
   "file_extension": ".py",
   "mimetype": "text/x-python",
   "name": "python",
   "nbconvert_exporter": "python",
   "pygments_lexer": "ipython3",
   "version": "3.8.8"
  }
 },
 "nbformat": 4,
 "nbformat_minor": 5
}
