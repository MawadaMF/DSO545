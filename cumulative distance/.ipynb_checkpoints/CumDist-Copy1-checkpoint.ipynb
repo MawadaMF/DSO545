{
 "cells": [
  {
   "cell_type": "code",
   "execution_count": 1,
   "metadata": {},
   "outputs": [
    {
     "name": "stderr",
     "output_type": "stream",
     "text": [
      "<ipython-input-1-9f5735bf4111>:10: UserWarning: \n",
      "The dash_core_components package is deprecated. Please replace\n",
      "`import dash_core_components as dcc` with `from dash import dcc`\n",
      "  import dash_core_components as dcc\n",
      "<ipython-input-1-9f5735bf4111>:11: UserWarning: \n",
      "The dash_html_components package is deprecated. Please replace\n",
      "`import dash_html_components as html` with `from dash import html`\n",
      "  import dash_html_components as html\n"
     ]
    }
   ],
   "source": [
    "\n",
    "# data manipulation\n",
    "import pandas as pd\n",
    "\n",
    "# plotly \n",
    "import plotly.express as px\n",
    "import plotly.graph_objects as go\n",
    "# dashboards\n",
    "import dash \n",
    "from jupyter_dash import JupyterDash #for running the dashboard in jupyter notebook\n",
    "import dash_core_components as dcc\n",
    "import dash_html_components as html\n",
    "from dash.dependencies import Output, Input\n",
    "import dash_bootstrap_components as dbc #for dashboard themes\n",
    "\n",
    "import numpy as np\n",
    "import warnings\n",
    "warnings.filterwarnings('ignore')\n"
   ]
  },
  {
   "cell_type": "code",
   "execution_count": 198,
   "metadata": {},
   "outputs": [],
   "source": [
    "def calc_cd(data,df,team_value):\n",
    "    d=data[data['team']==team_value].sort_values(by='datetime')\n",
    "    for season_value in d['season'].unique():\n",
    "        dd=d[d['season']==season_value]\n",
    "        dd['cd']=np.cumsum(dd['distance_traveled'])\n",
    "        for row in dd.index:\n",
    "            df.loc[row]=dd.loc[row]\n",
    "            df.loc[row,'cd']=dd.loc[row,'cd']\n",
    "    return df"
   ]
  },
  {
   "cell_type": "code",
   "execution_count": 257,
   "metadata": {},
   "outputs": [
    {
     "data": {
      "text/plain": [
       "array(['POR', 'LAC', 'DEN', 'HOU', 'DAL', 'NOH', 'DET', 'CHI', 'PHO',\n",
       "       'SAC', 'NJN', 'TOR', 'IND', 'PHI', 'WAS', 'MIL', 'MIN', 'NYK',\n",
       "       'MIA', 'ORL', 'MEM', 'BOS', 'GSW', 'UTA', 'SAS', 'CLE', 'CHA',\n",
       "       'OKC', 'ATL', 'LAL', 'BKN', 'NOP', 'CHO'], dtype=object)"
      ]
     },
     "execution_count": 257,
     "metadata": {},
     "output_type": "execute_result"
    }
   ],
   "source": [
    "data = pd.read_csv('schedule.csv')\n",
    "l=list(data.columns)\n",
    "l.append('cd')\n",
    "l.append('acd')\n",
    "df=pd.DataFrame(columns=l, index=range(0,data.shape[0]))\n",
    "# team_value='ATL'\n",
    "# df = calc_cd(data,df,team_value)\n",
    "for team_value in data['team'].unique():\n",
    "    df=calc_cd(data,df,team_value)\n",
    "df.team.unique()"
   ]
  },
  {
   "cell_type": "code",
   "execution_count": 259,
   "metadata": {},
   "outputs": [
    {
     "data": {
      "text/html": [
       "<div>\n",
       "<style scoped>\n",
       "    .dataframe tbody tr th:only-of-type {\n",
       "        vertical-align: middle;\n",
       "    }\n",
       "\n",
       "    .dataframe tbody tr th {\n",
       "        vertical-align: top;\n",
       "    }\n",
       "\n",
       "    .dataframe thead th {\n",
       "        text-align: right;\n",
       "    }\n",
       "</style>\n",
       "<table border=\"1\" class=\"dataframe\">\n",
       "  <thead>\n",
       "    <tr style=\"text-align: right;\">\n",
       "      <th></th>\n",
       "      <th>boxscore_index</th>\n",
       "      <th>date</th>\n",
       "      <th>datetime</th>\n",
       "      <th>game</th>\n",
       "      <th>location</th>\n",
       "      <th>distance_traveled</th>\n",
       "      <th>losses</th>\n",
       "      <th>opponent_abbr</th>\n",
       "      <th>opponent_name</th>\n",
       "      <th>opponent_long</th>\n",
       "      <th>...</th>\n",
       "      <th>team_long</th>\n",
       "      <th>team_lat</th>\n",
       "      <th>season</th>\n",
       "      <th>opp_coords</th>\n",
       "      <th>team_coords</th>\n",
       "      <th>back_to_back</th>\n",
       "      <th>3_in_4</th>\n",
       "      <th>4_in_5</th>\n",
       "      <th>cd</th>\n",
       "      <th>acd</th>\n",
       "    </tr>\n",
       "  </thead>\n",
       "  <tbody>\n",
       "    <tr>\n",
       "      <th>0</th>\n",
       "      <td>200810280LAL</td>\n",
       "      <td>Tue, Oct 28, 2008</td>\n",
       "      <td>10/28/08</td>\n",
       "      <td>1</td>\n",
       "      <td>Away</td>\n",
       "      <td>826.133254</td>\n",
       "      <td>1.0</td>\n",
       "      <td>LAL</td>\n",
       "      <td>Los Angeles Lakers</td>\n",
       "      <td>-118.267222</td>\n",
       "      <td>...</td>\n",
       "      <td>-122.666667</td>\n",
       "      <td>45.531667</td>\n",
       "      <td>2009</td>\n",
       "      <td>(34.043056, -118.267222)</td>\n",
       "      <td>(45.531667, -122.666667)</td>\n",
       "      <td>0</td>\n",
       "      <td>0</td>\n",
       "      <td>0</td>\n",
       "      <td>9448.693147</td>\n",
       "      <td>NaN</td>\n",
       "    </tr>\n",
       "    <tr>\n",
       "      <th>1</th>\n",
       "      <td>200810310POR</td>\n",
       "      <td>Fri, Oct 31, 2008</td>\n",
       "      <td>10/31/08</td>\n",
       "      <td>2</td>\n",
       "      <td>Home</td>\n",
       "      <td>826.133254</td>\n",
       "      <td>1.0</td>\n",
       "      <td>SAS</td>\n",
       "      <td>San Antonio Spurs</td>\n",
       "      <td>-98.4375</td>\n",
       "      <td>...</td>\n",
       "      <td>-122.666667</td>\n",
       "      <td>45.531667</td>\n",
       "      <td>2009</td>\n",
       "      <td>(29.426944, -98.4375)</td>\n",
       "      <td>(45.531667, -122.666667)</td>\n",
       "      <td>0</td>\n",
       "      <td>0</td>\n",
       "      <td>0</td>\n",
       "      <td>10274.826401</td>\n",
       "      <td>NaN</td>\n",
       "    </tr>\n",
       "    <tr>\n",
       "      <th>2</th>\n",
       "      <td>200811010PHO</td>\n",
       "      <td>Sat, Nov 1, 2008</td>\n",
       "      <td>11/1/08</td>\n",
       "      <td>3</td>\n",
       "      <td>Away</td>\n",
       "      <td>1005.96444</td>\n",
       "      <td>2.0</td>\n",
       "      <td>PHO</td>\n",
       "      <td>Phoenix Suns</td>\n",
       "      <td>-112.071389</td>\n",
       "      <td>...</td>\n",
       "      <td>-122.666667</td>\n",
       "      <td>45.531667</td>\n",
       "      <td>2009</td>\n",
       "      <td>(33.445833, -112.071389)</td>\n",
       "      <td>(45.531667, -122.666667)</td>\n",
       "      <td>1</td>\n",
       "      <td>0</td>\n",
       "      <td>0</td>\n",
       "      <td>11280.790841</td>\n",
       "      <td>NaN</td>\n",
       "    </tr>\n",
       "    <tr>\n",
       "      <th>3</th>\n",
       "      <td>200811050UTA</td>\n",
       "      <td>Wed, Nov 5, 2008</td>\n",
       "      <td>11/5/08</td>\n",
       "      <td>4</td>\n",
       "      <td>Away</td>\n",
       "      <td>505.045543</td>\n",
       "      <td>3.0</td>\n",
       "      <td>UTA</td>\n",
       "      <td>Utah Jazz</td>\n",
       "      <td>-111.901111</td>\n",
       "      <td>...</td>\n",
       "      <td>-122.666667</td>\n",
       "      <td>45.531667</td>\n",
       "      <td>2009</td>\n",
       "      <td>(40.768333, -111.901111)</td>\n",
       "      <td>(45.531667, -122.666667)</td>\n",
       "      <td>0</td>\n",
       "      <td>0</td>\n",
       "      <td>0</td>\n",
       "      <td>22431.779455</td>\n",
       "      <td>NaN</td>\n",
       "    </tr>\n",
       "    <tr>\n",
       "      <th>4</th>\n",
       "      <td>200811060POR</td>\n",
       "      <td>Thu, Nov 6, 2008</td>\n",
       "      <td>11/6/08</td>\n",
       "      <td>5</td>\n",
       "      <td>Home</td>\n",
       "      <td>634.959453</td>\n",
       "      <td>3.0</td>\n",
       "      <td>HOU</td>\n",
       "      <td>Houston Rockets</td>\n",
       "      <td>-95.362222</td>\n",
       "      <td>...</td>\n",
       "      <td>-122.666667</td>\n",
       "      <td>45.531667</td>\n",
       "      <td>2009</td>\n",
       "      <td>(29.750833, -95.362222)</td>\n",
       "      <td>(45.531667, -122.666667)</td>\n",
       "      <td>1</td>\n",
       "      <td>0</td>\n",
       "      <td>0</td>\n",
       "      <td>23066.738908</td>\n",
       "      <td>NaN</td>\n",
       "    </tr>\n",
       "    <tr>\n",
       "      <th>...</th>\n",
       "      <td>...</td>\n",
       "      <td>...</td>\n",
       "      <td>...</td>\n",
       "      <td>...</td>\n",
       "      <td>...</td>\n",
       "      <td>...</td>\n",
       "      <td>...</td>\n",
       "      <td>...</td>\n",
       "      <td>...</td>\n",
       "      <td>...</td>\n",
       "      <td>...</td>\n",
       "      <td>...</td>\n",
       "      <td>...</td>\n",
       "      <td>...</td>\n",
       "      <td>...</td>\n",
       "      <td>...</td>\n",
       "      <td>...</td>\n",
       "      <td>...</td>\n",
       "      <td>...</td>\n",
       "      <td>...</td>\n",
       "      <td>...</td>\n",
       "    </tr>\n",
       "    <tr>\n",
       "      <th>35493</th>\n",
       "      <td>202204030LAL</td>\n",
       "      <td>Sun, Apr 3, 2022</td>\n",
       "      <td>4/3/22</td>\n",
       "      <td>78</td>\n",
       "      <td>Home</td>\n",
       "      <td>0.0</td>\n",
       "      <td>NaN</td>\n",
       "      <td>DEN</td>\n",
       "      <td>Denver Nuggets</td>\n",
       "      <td>-105.0075</td>\n",
       "      <td>...</td>\n",
       "      <td>-118.267222</td>\n",
       "      <td>34.043056</td>\n",
       "      <td>2022</td>\n",
       "      <td>(39.748611, -105.0075)</td>\n",
       "      <td>(34.043056, -118.267222)</td>\n",
       "      <td>0</td>\n",
       "      <td>1</td>\n",
       "      <td>0</td>\n",
       "      <td>45171.562678</td>\n",
       "      <td>NaN</td>\n",
       "    </tr>\n",
       "    <tr>\n",
       "      <th>35494</th>\n",
       "      <td>202204050PHO</td>\n",
       "      <td>Tue, Apr 5, 2022</td>\n",
       "      <td>4/5/22</td>\n",
       "      <td>79</td>\n",
       "      <td>Away</td>\n",
       "      <td>359.044607</td>\n",
       "      <td>NaN</td>\n",
       "      <td>PHO</td>\n",
       "      <td>Phoenix Suns</td>\n",
       "      <td>-112.071389</td>\n",
       "      <td>...</td>\n",
       "      <td>-118.267222</td>\n",
       "      <td>34.043056</td>\n",
       "      <td>2022</td>\n",
       "      <td>(33.445833, -112.071389)</td>\n",
       "      <td>(34.043056, -118.267222)</td>\n",
       "      <td>0</td>\n",
       "      <td>0</td>\n",
       "      <td>0</td>\n",
       "      <td>45530.607285</td>\n",
       "      <td>NaN</td>\n",
       "    </tr>\n",
       "    <tr>\n",
       "      <th>35495</th>\n",
       "      <td>202204070GSW</td>\n",
       "      <td>Thu, Apr 7, 2022</td>\n",
       "      <td>4/7/22</td>\n",
       "      <td>80</td>\n",
       "      <td>Away</td>\n",
       "      <td>652.246238</td>\n",
       "      <td>NaN</td>\n",
       "      <td>GSW</td>\n",
       "      <td>Golden State Warriors</td>\n",
       "      <td>-122.3875</td>\n",
       "      <td>...</td>\n",
       "      <td>-118.267222</td>\n",
       "      <td>34.043056</td>\n",
       "      <td>2022</td>\n",
       "      <td>(37.768056, -122.3875)</td>\n",
       "      <td>(34.043056, -118.267222)</td>\n",
       "      <td>0</td>\n",
       "      <td>0</td>\n",
       "      <td>0</td>\n",
       "      <td>46182.853523</td>\n",
       "      <td>NaN</td>\n",
       "    </tr>\n",
       "    <tr>\n",
       "      <th>35496</th>\n",
       "      <td>202204080LAL</td>\n",
       "      <td>Fri, Apr 8, 2022</td>\n",
       "      <td>4/8/22</td>\n",
       "      <td>81</td>\n",
       "      <td>Home</td>\n",
       "      <td>345.420387</td>\n",
       "      <td>NaN</td>\n",
       "      <td>OKC</td>\n",
       "      <td>Oklahoma City Thunder</td>\n",
       "      <td>-97.515</td>\n",
       "      <td>...</td>\n",
       "      <td>-118.267222</td>\n",
       "      <td>34.043056</td>\n",
       "      <td>2022</td>\n",
       "      <td>(35.463333, -97.515)</td>\n",
       "      <td>(34.043056, -118.267222)</td>\n",
       "      <td>1</td>\n",
       "      <td>1</td>\n",
       "      <td>0</td>\n",
       "      <td>46528.27391</td>\n",
       "      <td>NaN</td>\n",
       "    </tr>\n",
       "    <tr>\n",
       "      <th>35497</th>\n",
       "      <td>202204100DEN</td>\n",
       "      <td>Sun, Apr 10, 2022</td>\n",
       "      <td>4/10/22</td>\n",
       "      <td>82</td>\n",
       "      <td>Away</td>\n",
       "      <td>831.891993</td>\n",
       "      <td>NaN</td>\n",
       "      <td>DEN</td>\n",
       "      <td>Denver Nuggets</td>\n",
       "      <td>-105.0075</td>\n",
       "      <td>...</td>\n",
       "      <td>-118.267222</td>\n",
       "      <td>34.043056</td>\n",
       "      <td>2022</td>\n",
       "      <td>(39.748611, -105.0075)</td>\n",
       "      <td>(34.043056, -118.267222)</td>\n",
       "      <td>0</td>\n",
       "      <td>1</td>\n",
       "      <td>0</td>\n",
       "      <td>45171.562678</td>\n",
       "      <td>NaN</td>\n",
       "    </tr>\n",
       "  </tbody>\n",
       "</table>\n",
       "<p>35498 rows × 29 columns</p>\n",
       "</div>"
      ],
      "text/plain": [
       "      boxscore_index               date  datetime game location  \\\n",
       "0       200810280LAL  Tue, Oct 28, 2008  10/28/08    1     Away   \n",
       "1       200810310POR  Fri, Oct 31, 2008  10/31/08    2     Home   \n",
       "2       200811010PHO   Sat, Nov 1, 2008   11/1/08    3     Away   \n",
       "3       200811050UTA   Wed, Nov 5, 2008   11/5/08    4     Away   \n",
       "4       200811060POR   Thu, Nov 6, 2008   11/6/08    5     Home   \n",
       "...              ...                ...       ...  ...      ...   \n",
       "35493   202204030LAL   Sun, Apr 3, 2022    4/3/22   78     Home   \n",
       "35494   202204050PHO   Tue, Apr 5, 2022    4/5/22   79     Away   \n",
       "35495   202204070GSW   Thu, Apr 7, 2022    4/7/22   80     Away   \n",
       "35496   202204080LAL   Fri, Apr 8, 2022    4/8/22   81     Home   \n",
       "35497   202204100DEN  Sun, Apr 10, 2022   4/10/22   82     Away   \n",
       "\n",
       "      distance_traveled losses opponent_abbr          opponent_name  \\\n",
       "0            826.133254    1.0           LAL     Los Angeles Lakers   \n",
       "1            826.133254    1.0           SAS      San Antonio Spurs   \n",
       "2            1005.96444    2.0           PHO           Phoenix Suns   \n",
       "3            505.045543    3.0           UTA              Utah Jazz   \n",
       "4            634.959453    3.0           HOU        Houston Rockets   \n",
       "...                 ...    ...           ...                    ...   \n",
       "35493               0.0    NaN           DEN         Denver Nuggets   \n",
       "35494        359.044607    NaN           PHO           Phoenix Suns   \n",
       "35495        652.246238    NaN           GSW  Golden State Warriors   \n",
       "35496        345.420387    NaN           OKC  Oklahoma City Thunder   \n",
       "35497        831.891993    NaN           DEN         Denver Nuggets   \n",
       "\n",
       "      opponent_long  ...   team_long   team_lat season  \\\n",
       "0       -118.267222  ... -122.666667  45.531667   2009   \n",
       "1          -98.4375  ... -122.666667  45.531667   2009   \n",
       "2       -112.071389  ... -122.666667  45.531667   2009   \n",
       "3       -111.901111  ... -122.666667  45.531667   2009   \n",
       "4        -95.362222  ... -122.666667  45.531667   2009   \n",
       "...             ...  ...         ...        ...    ...   \n",
       "35493     -105.0075  ... -118.267222  34.043056   2022   \n",
       "35494   -112.071389  ... -118.267222  34.043056   2022   \n",
       "35495     -122.3875  ... -118.267222  34.043056   2022   \n",
       "35496       -97.515  ... -118.267222  34.043056   2022   \n",
       "35497     -105.0075  ... -118.267222  34.043056   2022   \n",
       "\n",
       "                     opp_coords               team_coords back_to_back 3_in_4  \\\n",
       "0      (34.043056, -118.267222)  (45.531667, -122.666667)            0      0   \n",
       "1         (29.426944, -98.4375)  (45.531667, -122.666667)            0      0   \n",
       "2      (33.445833, -112.071389)  (45.531667, -122.666667)            1      0   \n",
       "3      (40.768333, -111.901111)  (45.531667, -122.666667)            0      0   \n",
       "4       (29.750833, -95.362222)  (45.531667, -122.666667)            1      0   \n",
       "...                         ...                       ...          ...    ...   \n",
       "35493    (39.748611, -105.0075)  (34.043056, -118.267222)            0      1   \n",
       "35494  (33.445833, -112.071389)  (34.043056, -118.267222)            0      0   \n",
       "35495    (37.768056, -122.3875)  (34.043056, -118.267222)            0      0   \n",
       "35496      (35.463333, -97.515)  (34.043056, -118.267222)            1      1   \n",
       "35497    (39.748611, -105.0075)  (34.043056, -118.267222)            0      1   \n",
       "\n",
       "      4_in_5            cd  acd  \n",
       "0          0   9448.693147  NaN  \n",
       "1          0  10274.826401  NaN  \n",
       "2          0  11280.790841  NaN  \n",
       "3          0  22431.779455  NaN  \n",
       "4          0  23066.738908  NaN  \n",
       "...      ...           ...  ...  \n",
       "35493      0  45171.562678  NaN  \n",
       "35494      0  45530.607285  NaN  \n",
       "35495      0  46182.853523  NaN  \n",
       "35496      0   46528.27391  NaN  \n",
       "35497      0  45171.562678  NaN  \n",
       "\n",
       "[35498 rows x 29 columns]"
      ]
     },
     "execution_count": 259,
     "metadata": {},
     "output_type": "execute_result"
    }
   ],
   "source": [
    "df"
   ]
  },
  {
   "cell_type": "code",
   "execution_count": null,
   "metadata": {},
   "outputs": [],
   "source": [
    "c=df.groupby('datetime').cd.apply(np.mean)\n",
    "for d in c.index:\n",
    "    for i in df[df.datetime==d].index:\n",
    "        df.loc[row,'acd']=c[d]\n",
    "df"
   ]
  },
  {
   "cell_type": "code",
   "execution_count": null,
   "metadata": {},
   "outputs": [],
   "source": [
    "def calc_acd(df):\n",
    "    c=d.groupby('datetime')['cd'].mean()\n",
    "    for d in c.index:\n",
    "        for i in df[df.datetime==d].index:\n",
    "            df.loc[i]=c[d]\n",
    "    return df"
   ]
  },
  {
   "cell_type": "code",
   "execution_count": 234,
   "metadata": {},
   "outputs": [
    {
     "data": {
      "application/vnd.plotly.v1+json": {
       "config": {
        "plotlyServerURL": "https://plot.ly"
       },
       "data": [
        {
         "line": {
          "color": "green"
         },
         "mode": "lines",
         "name": "Average",
         "type": "scatter",
         "x": [
          "1/1/22",
          "1/10/22",
          "1/11/22",
          "1/12/22",
          "1/13/22",
          "1/14/22",
          "1/15/22",
          "1/16/22",
          "1/17/22",
          "1/18/22",
          "1/19/22",
          "1/2/22",
          "1/20/22",
          "1/21/22",
          "1/22/22",
          "1/23/22",
          "1/24/22",
          "1/25/22",
          "1/26/22",
          "1/27/22",
          "1/28/22",
          "1/29/22",
          "1/3/22",
          "1/30/22",
          "1/31/22",
          "1/4/22",
          "1/5/22",
          "1/6/22",
          "1/7/22",
          "1/8/22",
          "1/9/22",
          "10/19/21",
          "10/20/21",
          "10/21/21",
          "10/22/21",
          "10/23/21",
          "10/24/21",
          "10/25/21",
          "10/26/21",
          "10/27/21",
          "10/28/21",
          "10/29/21",
          "10/30/21",
          "10/31/21",
          "11/1/21",
          "11/10/21",
          "11/11/21",
          "11/12/21",
          "11/13/21",
          "11/14/21",
          "11/15/21",
          "11/16/21",
          "11/17/21",
          "11/18/21",
          "11/19/21",
          "11/2/21",
          "11/20/21",
          "11/21/21",
          "11/22/21",
          "11/23/21",
          "11/24/21",
          "11/26/21",
          "11/27/21",
          "11/28/21",
          "11/29/21",
          "11/3/21",
          "11/30/21",
          "11/4/21",
          "11/5/21",
          "11/6/21",
          "11/7/21",
          "11/8/21",
          "11/9/21",
          "12/1/21",
          "12/10/21",
          "12/11/21",
          "12/12/21",
          "12/13/21",
          "12/14/21",
          "12/15/21",
          "12/16/21",
          "12/17/21",
          "12/18/21",
          "12/19/21",
          "12/2/21",
          "12/20/21",
          "12/21/21",
          "12/22/21",
          "12/23/21",
          "12/25/21",
          "12/26/21",
          "12/27/21",
          "12/28/21",
          "12/29/21",
          "12/3/21",
          "12/30/21",
          "12/31/21",
          "12/4/21",
          "12/5/21",
          "12/6/21",
          "12/7/21",
          "12/8/21",
          "12/9/21",
          "2/1/22",
          "2/10/22",
          "2/11/22",
          "2/12/22",
          "2/13/22",
          "2/14/22",
          "2/15/22",
          "2/16/22",
          "2/17/22",
          "2/2/22",
          "2/24/22",
          "2/25/22",
          "2/26/22",
          "2/27/22",
          "2/28/22",
          "2/3/22",
          "2/4/22",
          "2/5/22",
          "2/6/22",
          "2/7/22",
          "2/8/22",
          "2/9/22",
          "3/1/22",
          "3/10/22",
          "3/11/22",
          "3/12/22",
          "3/13/22",
          "3/14/22",
          "3/15/22",
          "3/16/22",
          "3/17/22",
          "3/18/22",
          "3/19/22",
          "3/2/22",
          "3/20/22",
          "3/21/22",
          "3/22/22",
          "3/23/22",
          "3/24/22",
          "3/25/22",
          "3/26/22",
          "3/27/22",
          "3/28/22",
          "3/29/22",
          "3/3/22",
          "3/30/22",
          "3/31/22",
          "3/4/22",
          "3/5/22",
          "3/6/22",
          "3/7/22",
          "3/8/22",
          "3/9/22",
          "4/1/22",
          "4/10/22",
          "4/2/22",
          "4/3/22",
          "4/5/22",
          "4/6/22",
          "4/7/22",
          "4/8/22",
          "4/9/22"
         ],
         "y": [
          391.687902225,
          351.03679642070006,
          1232.51283248,
          959.0494447903499,
          1744.1576030299998,
          1465.2826937148336,
          1980.1303453053497,
          1944.3790922266664,
          2487.123778337792,
          2726.27009494,
          2638.4723470775766,
          3052.9007337435714,
          3927.961368843333,
          3470.2603045557726,
          3926.249096734999,
          3882.048671063501,
          4470.402936136999,
          4400.236727721062,
          5012.039786565317,
          5522.277458475,
          5511.6018319288505,
          5301.6115543549995,
          6179.347167087501,
          6781.751772792937,
          6708.725669918572,
          6056.6942182317,
          6857.957468417592,
          7754.849971955,
          7264.9267398065,
          8071.9859247575,
          8087.2523928723485,
          8743.211787600001,
          8324.38199570577,
          9683.521806473333,
          8578.496387127849,
          9765.91278365606,
          9437.98372323,
          9678.898330655555,
          10375.9331863587,
          10150.785601207,
          10797.807969473917,
          10964.396858545713,
          11215.11833688668,
          11486.504491692,
          11459.02204544372,
          11957.927441511038,
          13420.197378141667,
          12429.749159980774,
          12991.217688497858,
          12868.332690777645,
          13441.564257148635,
          14650.774010281168,
          13736.273439749088,
          14290.058170680582,
          14383.694807984832,
          14849.740337896,
          14787.61623194928,
          15487.407549672998,
          14861.4926726577,
          15739.579863525,
          15888.20623068477,
          16359.425997369754,
          16780.806501497755,
          17105.713585184,
          17251.730188493002,
          17570.25091268473,
          18529.816908281697,
          18314.1365787237,
          17917.20286387133,
          19528.10803586642,
          18023.60031537588,
          19390.20727662919,
          20472.739618121668,
          19091.543062162604,
          19153.373462459273,
          20277.487848757428,
          19899.009410712835,
          20165.007216133166,
          21170.12810561712,
          21055.94533920791,
          20317.9456472017,
          22745.623529502755,
          21159.47248604836,
          22238.086361220223,
          21833.282206153097,
          23262.30427017529,
          23070.273898821168,
          22308.85395862225,
          23623.762509800636,
          23699.560596028405,
          23475.88455506319,
          24629.068493156003,
          24401.653983475062,
          25226.10499787617,
          25685.14481104061,
          24856.144392248,
          25887.041578463548,
          26478.44188245007,
          24606.94732224838,
          26532.180238594254,
          25794.60825952567,
          26801.87590589992,
          28091.936046257833,
          26682.81844565536,
          27393.104382927933,
          27341.970121144357,
          27956.02153401236,
          27704.6828706425,
          28684.6499251575,
          28337.503665665503,
          29389.850734040872,
          28264.628993236256,
          29657.021676066557,
          30947.413138445572,
          29758.198212466952,
          29729.57042925607,
          30848.055335140256,
          30868.673619019257,
          32430.574407127697,
          30372.232259708224,
          32727.892813427334,
          30967.246270306747,
          32007.328685940804,
          32961.77433072076,
          32847.77325113116,
          32337.247205980082,
          34867.5008136785,
          33315.14042340875,
          33483.3252158465,
          33871.95284757218,
          34290.918832443946,
          34989.00364658601,
          34925.974186102336,
          35754.7646997585,
          34913.02706527472,
          33599.953231854626,
          35567.00001659344,
          36590.813910106226,
          35557.080037174004,
          37601.431881977245,
          37492.45796337832,
          35438.96336453011,
          37581.32762728822,
          37076.919027288255,
          38244.22123977494,
          37958.552032154555,
          37661.4946584645,
          39577.961903930096,
          38895.964710850414,
          39563.695052931,
          38275.257764273876,
          41575.62628190342,
          39200.336841613695,
          40923.21055250943,
          40545.063571984836,
          40971.71184364054,
          41506.312894869254,
          41520.9602588259,
          41182.1169773022,
          42311.81475852997,
          42302.11980319346,
          42762.63204584192,
          43720.62325698721,
          42221.10847989929,
          44471.87636154588
         ]
        }
       ],
       "layout": {
        "template": {
         "data": {
          "bar": [
           {
            "error_x": {
             "color": "#2a3f5f"
            },
            "error_y": {
             "color": "#2a3f5f"
            },
            "marker": {
             "line": {
              "color": "#E5ECF6",
              "width": 0.5
             },
             "pattern": {
              "fillmode": "overlay",
              "size": 10,
              "solidity": 0.2
             }
            },
            "type": "bar"
           }
          ],
          "barpolar": [
           {
            "marker": {
             "line": {
              "color": "#E5ECF6",
              "width": 0.5
             },
             "pattern": {
              "fillmode": "overlay",
              "size": 10,
              "solidity": 0.2
             }
            },
            "type": "barpolar"
           }
          ],
          "carpet": [
           {
            "aaxis": {
             "endlinecolor": "#2a3f5f",
             "gridcolor": "white",
             "linecolor": "white",
             "minorgridcolor": "white",
             "startlinecolor": "#2a3f5f"
            },
            "baxis": {
             "endlinecolor": "#2a3f5f",
             "gridcolor": "white",
             "linecolor": "white",
             "minorgridcolor": "white",
             "startlinecolor": "#2a3f5f"
            },
            "type": "carpet"
           }
          ],
          "choropleth": [
           {
            "colorbar": {
             "outlinewidth": 0,
             "ticks": ""
            },
            "type": "choropleth"
           }
          ],
          "contour": [
           {
            "colorbar": {
             "outlinewidth": 0,
             "ticks": ""
            },
            "colorscale": [
             [
              0,
              "#0d0887"
             ],
             [
              0.1111111111111111,
              "#46039f"
             ],
             [
              0.2222222222222222,
              "#7201a8"
             ],
             [
              0.3333333333333333,
              "#9c179e"
             ],
             [
              0.4444444444444444,
              "#bd3786"
             ],
             [
              0.5555555555555556,
              "#d8576b"
             ],
             [
              0.6666666666666666,
              "#ed7953"
             ],
             [
              0.7777777777777778,
              "#fb9f3a"
             ],
             [
              0.8888888888888888,
              "#fdca26"
             ],
             [
              1,
              "#f0f921"
             ]
            ],
            "type": "contour"
           }
          ],
          "contourcarpet": [
           {
            "colorbar": {
             "outlinewidth": 0,
             "ticks": ""
            },
            "type": "contourcarpet"
           }
          ],
          "heatmap": [
           {
            "colorbar": {
             "outlinewidth": 0,
             "ticks": ""
            },
            "colorscale": [
             [
              0,
              "#0d0887"
             ],
             [
              0.1111111111111111,
              "#46039f"
             ],
             [
              0.2222222222222222,
              "#7201a8"
             ],
             [
              0.3333333333333333,
              "#9c179e"
             ],
             [
              0.4444444444444444,
              "#bd3786"
             ],
             [
              0.5555555555555556,
              "#d8576b"
             ],
             [
              0.6666666666666666,
              "#ed7953"
             ],
             [
              0.7777777777777778,
              "#fb9f3a"
             ],
             [
              0.8888888888888888,
              "#fdca26"
             ],
             [
              1,
              "#f0f921"
             ]
            ],
            "type": "heatmap"
           }
          ],
          "heatmapgl": [
           {
            "colorbar": {
             "outlinewidth": 0,
             "ticks": ""
            },
            "colorscale": [
             [
              0,
              "#0d0887"
             ],
             [
              0.1111111111111111,
              "#46039f"
             ],
             [
              0.2222222222222222,
              "#7201a8"
             ],
             [
              0.3333333333333333,
              "#9c179e"
             ],
             [
              0.4444444444444444,
              "#bd3786"
             ],
             [
              0.5555555555555556,
              "#d8576b"
             ],
             [
              0.6666666666666666,
              "#ed7953"
             ],
             [
              0.7777777777777778,
              "#fb9f3a"
             ],
             [
              0.8888888888888888,
              "#fdca26"
             ],
             [
              1,
              "#f0f921"
             ]
            ],
            "type": "heatmapgl"
           }
          ],
          "histogram": [
           {
            "marker": {
             "pattern": {
              "fillmode": "overlay",
              "size": 10,
              "solidity": 0.2
             }
            },
            "type": "histogram"
           }
          ],
          "histogram2d": [
           {
            "colorbar": {
             "outlinewidth": 0,
             "ticks": ""
            },
            "colorscale": [
             [
              0,
              "#0d0887"
             ],
             [
              0.1111111111111111,
              "#46039f"
             ],
             [
              0.2222222222222222,
              "#7201a8"
             ],
             [
              0.3333333333333333,
              "#9c179e"
             ],
             [
              0.4444444444444444,
              "#bd3786"
             ],
             [
              0.5555555555555556,
              "#d8576b"
             ],
             [
              0.6666666666666666,
              "#ed7953"
             ],
             [
              0.7777777777777778,
              "#fb9f3a"
             ],
             [
              0.8888888888888888,
              "#fdca26"
             ],
             [
              1,
              "#f0f921"
             ]
            ],
            "type": "histogram2d"
           }
          ],
          "histogram2dcontour": [
           {
            "colorbar": {
             "outlinewidth": 0,
             "ticks": ""
            },
            "colorscale": [
             [
              0,
              "#0d0887"
             ],
             [
              0.1111111111111111,
              "#46039f"
             ],
             [
              0.2222222222222222,
              "#7201a8"
             ],
             [
              0.3333333333333333,
              "#9c179e"
             ],
             [
              0.4444444444444444,
              "#bd3786"
             ],
             [
              0.5555555555555556,
              "#d8576b"
             ],
             [
              0.6666666666666666,
              "#ed7953"
             ],
             [
              0.7777777777777778,
              "#fb9f3a"
             ],
             [
              0.8888888888888888,
              "#fdca26"
             ],
             [
              1,
              "#f0f921"
             ]
            ],
            "type": "histogram2dcontour"
           }
          ],
          "mesh3d": [
           {
            "colorbar": {
             "outlinewidth": 0,
             "ticks": ""
            },
            "type": "mesh3d"
           }
          ],
          "parcoords": [
           {
            "line": {
             "colorbar": {
              "outlinewidth": 0,
              "ticks": ""
             }
            },
            "type": "parcoords"
           }
          ],
          "pie": [
           {
            "automargin": true,
            "type": "pie"
           }
          ],
          "scatter": [
           {
            "marker": {
             "colorbar": {
              "outlinewidth": 0,
              "ticks": ""
             }
            },
            "type": "scatter"
           }
          ],
          "scatter3d": [
           {
            "line": {
             "colorbar": {
              "outlinewidth": 0,
              "ticks": ""
             }
            },
            "marker": {
             "colorbar": {
              "outlinewidth": 0,
              "ticks": ""
             }
            },
            "type": "scatter3d"
           }
          ],
          "scattercarpet": [
           {
            "marker": {
             "colorbar": {
              "outlinewidth": 0,
              "ticks": ""
             }
            },
            "type": "scattercarpet"
           }
          ],
          "scattergeo": [
           {
            "marker": {
             "colorbar": {
              "outlinewidth": 0,
              "ticks": ""
             }
            },
            "type": "scattergeo"
           }
          ],
          "scattergl": [
           {
            "marker": {
             "colorbar": {
              "outlinewidth": 0,
              "ticks": ""
             }
            },
            "type": "scattergl"
           }
          ],
          "scattermapbox": [
           {
            "marker": {
             "colorbar": {
              "outlinewidth": 0,
              "ticks": ""
             }
            },
            "type": "scattermapbox"
           }
          ],
          "scatterpolar": [
           {
            "marker": {
             "colorbar": {
              "outlinewidth": 0,
              "ticks": ""
             }
            },
            "type": "scatterpolar"
           }
          ],
          "scatterpolargl": [
           {
            "marker": {
             "colorbar": {
              "outlinewidth": 0,
              "ticks": ""
             }
            },
            "type": "scatterpolargl"
           }
          ],
          "scatterternary": [
           {
            "marker": {
             "colorbar": {
              "outlinewidth": 0,
              "ticks": ""
             }
            },
            "type": "scatterternary"
           }
          ],
          "surface": [
           {
            "colorbar": {
             "outlinewidth": 0,
             "ticks": ""
            },
            "colorscale": [
             [
              0,
              "#0d0887"
             ],
             [
              0.1111111111111111,
              "#46039f"
             ],
             [
              0.2222222222222222,
              "#7201a8"
             ],
             [
              0.3333333333333333,
              "#9c179e"
             ],
             [
              0.4444444444444444,
              "#bd3786"
             ],
             [
              0.5555555555555556,
              "#d8576b"
             ],
             [
              0.6666666666666666,
              "#ed7953"
             ],
             [
              0.7777777777777778,
              "#fb9f3a"
             ],
             [
              0.8888888888888888,
              "#fdca26"
             ],
             [
              1,
              "#f0f921"
             ]
            ],
            "type": "surface"
           }
          ],
          "table": [
           {
            "cells": {
             "fill": {
              "color": "#EBF0F8"
             },
             "line": {
              "color": "white"
             }
            },
            "header": {
             "fill": {
              "color": "#C8D4E3"
             },
             "line": {
              "color": "white"
             }
            },
            "type": "table"
           }
          ]
         },
         "layout": {
          "annotationdefaults": {
           "arrowcolor": "#2a3f5f",
           "arrowhead": 0,
           "arrowwidth": 1
          },
          "autotypenumbers": "strict",
          "coloraxis": {
           "colorbar": {
            "outlinewidth": 0,
            "ticks": ""
           }
          },
          "colorscale": {
           "diverging": [
            [
             0,
             "#8e0152"
            ],
            [
             0.1,
             "#c51b7d"
            ],
            [
             0.2,
             "#de77ae"
            ],
            [
             0.3,
             "#f1b6da"
            ],
            [
             0.4,
             "#fde0ef"
            ],
            [
             0.5,
             "#f7f7f7"
            ],
            [
             0.6,
             "#e6f5d0"
            ],
            [
             0.7,
             "#b8e186"
            ],
            [
             0.8,
             "#7fbc41"
            ],
            [
             0.9,
             "#4d9221"
            ],
            [
             1,
             "#276419"
            ]
           ],
           "sequential": [
            [
             0,
             "#0d0887"
            ],
            [
             0.1111111111111111,
             "#46039f"
            ],
            [
             0.2222222222222222,
             "#7201a8"
            ],
            [
             0.3333333333333333,
             "#9c179e"
            ],
            [
             0.4444444444444444,
             "#bd3786"
            ],
            [
             0.5555555555555556,
             "#d8576b"
            ],
            [
             0.6666666666666666,
             "#ed7953"
            ],
            [
             0.7777777777777778,
             "#fb9f3a"
            ],
            [
             0.8888888888888888,
             "#fdca26"
            ],
            [
             1,
             "#f0f921"
            ]
           ],
           "sequentialminus": [
            [
             0,
             "#0d0887"
            ],
            [
             0.1111111111111111,
             "#46039f"
            ],
            [
             0.2222222222222222,
             "#7201a8"
            ],
            [
             0.3333333333333333,
             "#9c179e"
            ],
            [
             0.4444444444444444,
             "#bd3786"
            ],
            [
             0.5555555555555556,
             "#d8576b"
            ],
            [
             0.6666666666666666,
             "#ed7953"
            ],
            [
             0.7777777777777778,
             "#fb9f3a"
            ],
            [
             0.8888888888888888,
             "#fdca26"
            ],
            [
             1,
             "#f0f921"
            ]
           ]
          },
          "colorway": [
           "#636efa",
           "#EF553B",
           "#00cc96",
           "#ab63fa",
           "#FFA15A",
           "#19d3f3",
           "#FF6692",
           "#B6E880",
           "#FF97FF",
           "#FECB52"
          ],
          "font": {
           "color": "#2a3f5f"
          },
          "geo": {
           "bgcolor": "white",
           "lakecolor": "white",
           "landcolor": "#E5ECF6",
           "showlakes": true,
           "showland": true,
           "subunitcolor": "white"
          },
          "hoverlabel": {
           "align": "left"
          },
          "hovermode": "closest",
          "mapbox": {
           "style": "light"
          },
          "paper_bgcolor": "white",
          "plot_bgcolor": "#E5ECF6",
          "polar": {
           "angularaxis": {
            "gridcolor": "white",
            "linecolor": "white",
            "ticks": ""
           },
           "bgcolor": "#E5ECF6",
           "radialaxis": {
            "gridcolor": "white",
            "linecolor": "white",
            "ticks": ""
           }
          },
          "scene": {
           "xaxis": {
            "backgroundcolor": "#E5ECF6",
            "gridcolor": "white",
            "gridwidth": 2,
            "linecolor": "white",
            "showbackground": true,
            "ticks": "",
            "zerolinecolor": "white"
           },
           "yaxis": {
            "backgroundcolor": "#E5ECF6",
            "gridcolor": "white",
            "gridwidth": 2,
            "linecolor": "white",
            "showbackground": true,
            "ticks": "",
            "zerolinecolor": "white"
           },
           "zaxis": {
            "backgroundcolor": "#E5ECF6",
            "gridcolor": "white",
            "gridwidth": 2,
            "linecolor": "white",
            "showbackground": true,
            "ticks": "",
            "zerolinecolor": "white"
           }
          },
          "shapedefaults": {
           "line": {
            "color": "#2a3f5f"
           }
          },
          "ternary": {
           "aaxis": {
            "gridcolor": "white",
            "linecolor": "white",
            "ticks": ""
           },
           "baxis": {
            "gridcolor": "white",
            "linecolor": "white",
            "ticks": ""
           },
           "bgcolor": "#E5ECF6",
           "caxis": {
            "gridcolor": "white",
            "linecolor": "white",
            "ticks": ""
           }
          },
          "title": {
           "x": 0.05
          },
          "xaxis": {
           "automargin": true,
           "gridcolor": "white",
           "linecolor": "white",
           "ticks": "",
           "title": {
            "standoff": 15
           },
           "zerolinecolor": "white",
           "zerolinewidth": 2
          },
          "yaxis": {
           "automargin": true,
           "gridcolor": "white",
           "linecolor": "white",
           "ticks": "",
           "title": {
            "standoff": 15
           },
           "zerolinecolor": "white",
           "zerolinewidth": 2
          }
         }
        }
       }
      },
      "text/html": [
       "<div>                            <div id=\"c07970a2-8964-4592-9d52-0695ae715725\" class=\"plotly-graph-div\" style=\"height:525px; width:100%;\"></div>            <script type=\"text/javascript\">                require([\"plotly\"], function(Plotly) {                    window.PLOTLYENV=window.PLOTLYENV || {};                                    if (document.getElementById(\"c07970a2-8964-4592-9d52-0695ae715725\")) {                    Plotly.newPlot(                        \"c07970a2-8964-4592-9d52-0695ae715725\",                        [{\"line\":{\"color\":\"green\"},\"mode\":\"lines\",\"name\":\"Average\",\"type\":\"scatter\",\"x\":[\"1/1/22\",\"1/10/22\",\"1/11/22\",\"1/12/22\",\"1/13/22\",\"1/14/22\",\"1/15/22\",\"1/16/22\",\"1/17/22\",\"1/18/22\",\"1/19/22\",\"1/2/22\",\"1/20/22\",\"1/21/22\",\"1/22/22\",\"1/23/22\",\"1/24/22\",\"1/25/22\",\"1/26/22\",\"1/27/22\",\"1/28/22\",\"1/29/22\",\"1/3/22\",\"1/30/22\",\"1/31/22\",\"1/4/22\",\"1/5/22\",\"1/6/22\",\"1/7/22\",\"1/8/22\",\"1/9/22\",\"10/19/21\",\"10/20/21\",\"10/21/21\",\"10/22/21\",\"10/23/21\",\"10/24/21\",\"10/25/21\",\"10/26/21\",\"10/27/21\",\"10/28/21\",\"10/29/21\",\"10/30/21\",\"10/31/21\",\"11/1/21\",\"11/10/21\",\"11/11/21\",\"11/12/21\",\"11/13/21\",\"11/14/21\",\"11/15/21\",\"11/16/21\",\"11/17/21\",\"11/18/21\",\"11/19/21\",\"11/2/21\",\"11/20/21\",\"11/21/21\",\"11/22/21\",\"11/23/21\",\"11/24/21\",\"11/26/21\",\"11/27/21\",\"11/28/21\",\"11/29/21\",\"11/3/21\",\"11/30/21\",\"11/4/21\",\"11/5/21\",\"11/6/21\",\"11/7/21\",\"11/8/21\",\"11/9/21\",\"12/1/21\",\"12/10/21\",\"12/11/21\",\"12/12/21\",\"12/13/21\",\"12/14/21\",\"12/15/21\",\"12/16/21\",\"12/17/21\",\"12/18/21\",\"12/19/21\",\"12/2/21\",\"12/20/21\",\"12/21/21\",\"12/22/21\",\"12/23/21\",\"12/25/21\",\"12/26/21\",\"12/27/21\",\"12/28/21\",\"12/29/21\",\"12/3/21\",\"12/30/21\",\"12/31/21\",\"12/4/21\",\"12/5/21\",\"12/6/21\",\"12/7/21\",\"12/8/21\",\"12/9/21\",\"2/1/22\",\"2/10/22\",\"2/11/22\",\"2/12/22\",\"2/13/22\",\"2/14/22\",\"2/15/22\",\"2/16/22\",\"2/17/22\",\"2/2/22\",\"2/24/22\",\"2/25/22\",\"2/26/22\",\"2/27/22\",\"2/28/22\",\"2/3/22\",\"2/4/22\",\"2/5/22\",\"2/6/22\",\"2/7/22\",\"2/8/22\",\"2/9/22\",\"3/1/22\",\"3/10/22\",\"3/11/22\",\"3/12/22\",\"3/13/22\",\"3/14/22\",\"3/15/22\",\"3/16/22\",\"3/17/22\",\"3/18/22\",\"3/19/22\",\"3/2/22\",\"3/20/22\",\"3/21/22\",\"3/22/22\",\"3/23/22\",\"3/24/22\",\"3/25/22\",\"3/26/22\",\"3/27/22\",\"3/28/22\",\"3/29/22\",\"3/3/22\",\"3/30/22\",\"3/31/22\",\"3/4/22\",\"3/5/22\",\"3/6/22\",\"3/7/22\",\"3/8/22\",\"3/9/22\",\"4/1/22\",\"4/10/22\",\"4/2/22\",\"4/3/22\",\"4/5/22\",\"4/6/22\",\"4/7/22\",\"4/8/22\",\"4/9/22\"],\"y\":[391.687902225,351.03679642070006,1232.51283248,959.0494447903499,1744.1576030299998,1465.2826937148336,1980.1303453053497,1944.3790922266664,2487.123778337792,2726.27009494,2638.4723470775766,3052.9007337435714,3927.961368843333,3470.2603045557726,3926.249096734999,3882.048671063501,4470.402936136999,4400.236727721062,5012.039786565317,5522.277458475,5511.6018319288505,5301.6115543549995,6179.347167087501,6781.751772792937,6708.725669918572,6056.6942182317,6857.957468417592,7754.849971955,7264.9267398065,8071.9859247575,8087.2523928723485,8743.211787600001,8324.38199570577,9683.521806473333,8578.496387127849,9765.91278365606,9437.98372323,9678.898330655555,10375.9331863587,10150.785601207,10797.807969473917,10964.396858545713,11215.11833688668,11486.504491692,11459.02204544372,11957.927441511038,13420.197378141667,12429.749159980774,12991.217688497858,12868.332690777645,13441.564257148635,14650.774010281168,13736.273439749088,14290.058170680582,14383.694807984832,14849.740337896,14787.61623194928,15487.407549672998,14861.4926726577,15739.579863525,15888.20623068477,16359.425997369754,16780.806501497755,17105.713585184,17251.730188493002,17570.25091268473,18529.816908281697,18314.1365787237,17917.20286387133,19528.10803586642,18023.60031537588,19390.20727662919,20472.739618121668,19091.543062162604,19153.373462459273,20277.487848757428,19899.009410712835,20165.007216133166,21170.12810561712,21055.94533920791,20317.9456472017,22745.623529502755,21159.47248604836,22238.086361220223,21833.282206153097,23262.30427017529,23070.273898821168,22308.85395862225,23623.762509800636,23699.560596028405,23475.88455506319,24629.068493156003,24401.653983475062,25226.10499787617,25685.14481104061,24856.144392248,25887.041578463548,26478.44188245007,24606.94732224838,26532.180238594254,25794.60825952567,26801.87590589992,28091.936046257833,26682.81844565536,27393.104382927933,27341.970121144357,27956.02153401236,27704.6828706425,28684.6499251575,28337.503665665503,29389.850734040872,28264.628993236256,29657.021676066557,30947.413138445572,29758.198212466952,29729.57042925607,30848.055335140256,30868.673619019257,32430.574407127697,30372.232259708224,32727.892813427334,30967.246270306747,32007.328685940804,32961.77433072076,32847.77325113116,32337.247205980082,34867.5008136785,33315.14042340875,33483.3252158465,33871.95284757218,34290.918832443946,34989.00364658601,34925.974186102336,35754.7646997585,34913.02706527472,33599.953231854626,35567.00001659344,36590.813910106226,35557.080037174004,37601.431881977245,37492.45796337832,35438.96336453011,37581.32762728822,37076.919027288255,38244.22123977494,37958.552032154555,37661.4946584645,39577.961903930096,38895.964710850414,39563.695052931,38275.257764273876,41575.62628190342,39200.336841613695,40923.21055250943,40545.063571984836,40971.71184364054,41506.312894869254,41520.9602588259,41182.1169773022,42311.81475852997,42302.11980319346,42762.63204584192,43720.62325698721,42221.10847989929,44471.87636154588]}],                        {\"template\":{\"data\":{\"bar\":[{\"error_x\":{\"color\":\"#2a3f5f\"},\"error_y\":{\"color\":\"#2a3f5f\"},\"marker\":{\"line\":{\"color\":\"#E5ECF6\",\"width\":0.5},\"pattern\":{\"fillmode\":\"overlay\",\"size\":10,\"solidity\":0.2}},\"type\":\"bar\"}],\"barpolar\":[{\"marker\":{\"line\":{\"color\":\"#E5ECF6\",\"width\":0.5},\"pattern\":{\"fillmode\":\"overlay\",\"size\":10,\"solidity\":0.2}},\"type\":\"barpolar\"}],\"carpet\":[{\"aaxis\":{\"endlinecolor\":\"#2a3f5f\",\"gridcolor\":\"white\",\"linecolor\":\"white\",\"minorgridcolor\":\"white\",\"startlinecolor\":\"#2a3f5f\"},\"baxis\":{\"endlinecolor\":\"#2a3f5f\",\"gridcolor\":\"white\",\"linecolor\":\"white\",\"minorgridcolor\":\"white\",\"startlinecolor\":\"#2a3f5f\"},\"type\":\"carpet\"}],\"choropleth\":[{\"colorbar\":{\"outlinewidth\":0,\"ticks\":\"\"},\"type\":\"choropleth\"}],\"contour\":[{\"colorbar\":{\"outlinewidth\":0,\"ticks\":\"\"},\"colorscale\":[[0.0,\"#0d0887\"],[0.1111111111111111,\"#46039f\"],[0.2222222222222222,\"#7201a8\"],[0.3333333333333333,\"#9c179e\"],[0.4444444444444444,\"#bd3786\"],[0.5555555555555556,\"#d8576b\"],[0.6666666666666666,\"#ed7953\"],[0.7777777777777778,\"#fb9f3a\"],[0.8888888888888888,\"#fdca26\"],[1.0,\"#f0f921\"]],\"type\":\"contour\"}],\"contourcarpet\":[{\"colorbar\":{\"outlinewidth\":0,\"ticks\":\"\"},\"type\":\"contourcarpet\"}],\"heatmap\":[{\"colorbar\":{\"outlinewidth\":0,\"ticks\":\"\"},\"colorscale\":[[0.0,\"#0d0887\"],[0.1111111111111111,\"#46039f\"],[0.2222222222222222,\"#7201a8\"],[0.3333333333333333,\"#9c179e\"],[0.4444444444444444,\"#bd3786\"],[0.5555555555555556,\"#d8576b\"],[0.6666666666666666,\"#ed7953\"],[0.7777777777777778,\"#fb9f3a\"],[0.8888888888888888,\"#fdca26\"],[1.0,\"#f0f921\"]],\"type\":\"heatmap\"}],\"heatmapgl\":[{\"colorbar\":{\"outlinewidth\":0,\"ticks\":\"\"},\"colorscale\":[[0.0,\"#0d0887\"],[0.1111111111111111,\"#46039f\"],[0.2222222222222222,\"#7201a8\"],[0.3333333333333333,\"#9c179e\"],[0.4444444444444444,\"#bd3786\"],[0.5555555555555556,\"#d8576b\"],[0.6666666666666666,\"#ed7953\"],[0.7777777777777778,\"#fb9f3a\"],[0.8888888888888888,\"#fdca26\"],[1.0,\"#f0f921\"]],\"type\":\"heatmapgl\"}],\"histogram\":[{\"marker\":{\"pattern\":{\"fillmode\":\"overlay\",\"size\":10,\"solidity\":0.2}},\"type\":\"histogram\"}],\"histogram2d\":[{\"colorbar\":{\"outlinewidth\":0,\"ticks\":\"\"},\"colorscale\":[[0.0,\"#0d0887\"],[0.1111111111111111,\"#46039f\"],[0.2222222222222222,\"#7201a8\"],[0.3333333333333333,\"#9c179e\"],[0.4444444444444444,\"#bd3786\"],[0.5555555555555556,\"#d8576b\"],[0.6666666666666666,\"#ed7953\"],[0.7777777777777778,\"#fb9f3a\"],[0.8888888888888888,\"#fdca26\"],[1.0,\"#f0f921\"]],\"type\":\"histogram2d\"}],\"histogram2dcontour\":[{\"colorbar\":{\"outlinewidth\":0,\"ticks\":\"\"},\"colorscale\":[[0.0,\"#0d0887\"],[0.1111111111111111,\"#46039f\"],[0.2222222222222222,\"#7201a8\"],[0.3333333333333333,\"#9c179e\"],[0.4444444444444444,\"#bd3786\"],[0.5555555555555556,\"#d8576b\"],[0.6666666666666666,\"#ed7953\"],[0.7777777777777778,\"#fb9f3a\"],[0.8888888888888888,\"#fdca26\"],[1.0,\"#f0f921\"]],\"type\":\"histogram2dcontour\"}],\"mesh3d\":[{\"colorbar\":{\"outlinewidth\":0,\"ticks\":\"\"},\"type\":\"mesh3d\"}],\"parcoords\":[{\"line\":{\"colorbar\":{\"outlinewidth\":0,\"ticks\":\"\"}},\"type\":\"parcoords\"}],\"pie\":[{\"automargin\":true,\"type\":\"pie\"}],\"scatter\":[{\"marker\":{\"colorbar\":{\"outlinewidth\":0,\"ticks\":\"\"}},\"type\":\"scatter\"}],\"scatter3d\":[{\"line\":{\"colorbar\":{\"outlinewidth\":0,\"ticks\":\"\"}},\"marker\":{\"colorbar\":{\"outlinewidth\":0,\"ticks\":\"\"}},\"type\":\"scatter3d\"}],\"scattercarpet\":[{\"marker\":{\"colorbar\":{\"outlinewidth\":0,\"ticks\":\"\"}},\"type\":\"scattercarpet\"}],\"scattergeo\":[{\"marker\":{\"colorbar\":{\"outlinewidth\":0,\"ticks\":\"\"}},\"type\":\"scattergeo\"}],\"scattergl\":[{\"marker\":{\"colorbar\":{\"outlinewidth\":0,\"ticks\":\"\"}},\"type\":\"scattergl\"}],\"scattermapbox\":[{\"marker\":{\"colorbar\":{\"outlinewidth\":0,\"ticks\":\"\"}},\"type\":\"scattermapbox\"}],\"scatterpolar\":[{\"marker\":{\"colorbar\":{\"outlinewidth\":0,\"ticks\":\"\"}},\"type\":\"scatterpolar\"}],\"scatterpolargl\":[{\"marker\":{\"colorbar\":{\"outlinewidth\":0,\"ticks\":\"\"}},\"type\":\"scatterpolargl\"}],\"scatterternary\":[{\"marker\":{\"colorbar\":{\"outlinewidth\":0,\"ticks\":\"\"}},\"type\":\"scatterternary\"}],\"surface\":[{\"colorbar\":{\"outlinewidth\":0,\"ticks\":\"\"},\"colorscale\":[[0.0,\"#0d0887\"],[0.1111111111111111,\"#46039f\"],[0.2222222222222222,\"#7201a8\"],[0.3333333333333333,\"#9c179e\"],[0.4444444444444444,\"#bd3786\"],[0.5555555555555556,\"#d8576b\"],[0.6666666666666666,\"#ed7953\"],[0.7777777777777778,\"#fb9f3a\"],[0.8888888888888888,\"#fdca26\"],[1.0,\"#f0f921\"]],\"type\":\"surface\"}],\"table\":[{\"cells\":{\"fill\":{\"color\":\"#EBF0F8\"},\"line\":{\"color\":\"white\"}},\"header\":{\"fill\":{\"color\":\"#C8D4E3\"},\"line\":{\"color\":\"white\"}},\"type\":\"table\"}]},\"layout\":{\"annotationdefaults\":{\"arrowcolor\":\"#2a3f5f\",\"arrowhead\":0,\"arrowwidth\":1},\"autotypenumbers\":\"strict\",\"coloraxis\":{\"colorbar\":{\"outlinewidth\":0,\"ticks\":\"\"}},\"colorscale\":{\"diverging\":[[0,\"#8e0152\"],[0.1,\"#c51b7d\"],[0.2,\"#de77ae\"],[0.3,\"#f1b6da\"],[0.4,\"#fde0ef\"],[0.5,\"#f7f7f7\"],[0.6,\"#e6f5d0\"],[0.7,\"#b8e186\"],[0.8,\"#7fbc41\"],[0.9,\"#4d9221\"],[1,\"#276419\"]],\"sequential\":[[0.0,\"#0d0887\"],[0.1111111111111111,\"#46039f\"],[0.2222222222222222,\"#7201a8\"],[0.3333333333333333,\"#9c179e\"],[0.4444444444444444,\"#bd3786\"],[0.5555555555555556,\"#d8576b\"],[0.6666666666666666,\"#ed7953\"],[0.7777777777777778,\"#fb9f3a\"],[0.8888888888888888,\"#fdca26\"],[1.0,\"#f0f921\"]],\"sequentialminus\":[[0.0,\"#0d0887\"],[0.1111111111111111,\"#46039f\"],[0.2222222222222222,\"#7201a8\"],[0.3333333333333333,\"#9c179e\"],[0.4444444444444444,\"#bd3786\"],[0.5555555555555556,\"#d8576b\"],[0.6666666666666666,\"#ed7953\"],[0.7777777777777778,\"#fb9f3a\"],[0.8888888888888888,\"#fdca26\"],[1.0,\"#f0f921\"]]},\"colorway\":[\"#636efa\",\"#EF553B\",\"#00cc96\",\"#ab63fa\",\"#FFA15A\",\"#19d3f3\",\"#FF6692\",\"#B6E880\",\"#FF97FF\",\"#FECB52\"],\"font\":{\"color\":\"#2a3f5f\"},\"geo\":{\"bgcolor\":\"white\",\"lakecolor\":\"white\",\"landcolor\":\"#E5ECF6\",\"showlakes\":true,\"showland\":true,\"subunitcolor\":\"white\"},\"hoverlabel\":{\"align\":\"left\"},\"hovermode\":\"closest\",\"mapbox\":{\"style\":\"light\"},\"paper_bgcolor\":\"white\",\"plot_bgcolor\":\"#E5ECF6\",\"polar\":{\"angularaxis\":{\"gridcolor\":\"white\",\"linecolor\":\"white\",\"ticks\":\"\"},\"bgcolor\":\"#E5ECF6\",\"radialaxis\":{\"gridcolor\":\"white\",\"linecolor\":\"white\",\"ticks\":\"\"}},\"scene\":{\"xaxis\":{\"backgroundcolor\":\"#E5ECF6\",\"gridcolor\":\"white\",\"gridwidth\":2,\"linecolor\":\"white\",\"showbackground\":true,\"ticks\":\"\",\"zerolinecolor\":\"white\"},\"yaxis\":{\"backgroundcolor\":\"#E5ECF6\",\"gridcolor\":\"white\",\"gridwidth\":2,\"linecolor\":\"white\",\"showbackground\":true,\"ticks\":\"\",\"zerolinecolor\":\"white\"},\"zaxis\":{\"backgroundcolor\":\"#E5ECF6\",\"gridcolor\":\"white\",\"gridwidth\":2,\"linecolor\":\"white\",\"showbackground\":true,\"ticks\":\"\",\"zerolinecolor\":\"white\"}},\"shapedefaults\":{\"line\":{\"color\":\"#2a3f5f\"}},\"ternary\":{\"aaxis\":{\"gridcolor\":\"white\",\"linecolor\":\"white\",\"ticks\":\"\"},\"baxis\":{\"gridcolor\":\"white\",\"linecolor\":\"white\",\"ticks\":\"\"},\"bgcolor\":\"#E5ECF6\",\"caxis\":{\"gridcolor\":\"white\",\"linecolor\":\"white\",\"ticks\":\"\"}},\"title\":{\"x\":0.05},\"xaxis\":{\"automargin\":true,\"gridcolor\":\"white\",\"linecolor\":\"white\",\"ticks\":\"\",\"title\":{\"standoff\":15},\"zerolinecolor\":\"white\",\"zerolinewidth\":2},\"yaxis\":{\"automargin\":true,\"gridcolor\":\"white\",\"linecolor\":\"white\",\"ticks\":\"\",\"title\":{\"standoff\":15},\"zerolinecolor\":\"white\",\"zerolinewidth\":2}}}},                        {\"responsive\": true}                    ).then(function(){\n",
       "                            \n",
       "var gd = document.getElementById('c07970a2-8964-4592-9d52-0695ae715725');\n",
       "var x = new MutationObserver(function (mutations, observer) {{\n",
       "        var display = window.getComputedStyle(gd).display;\n",
       "        if (!display || display === 'none') {{\n",
       "            console.log([gd, 'removed!']);\n",
       "            Plotly.purge(gd);\n",
       "            observer.disconnect();\n",
       "        }}\n",
       "}});\n",
       "\n",
       "// Listen for the removal of the full notebook cells\n",
       "var notebookContainer = gd.closest('#notebook-container');\n",
       "if (notebookContainer) {{\n",
       "    x.observe(notebookContainer, {childList: true});\n",
       "}}\n",
       "\n",
       "// Listen for the clearing of the current output cell\n",
       "var outputEl = gd.closest('.output');\n",
       "if (outputEl) {{\n",
       "    x.observe(outputEl, {childList: true});\n",
       "}}\n",
       "\n",
       "                        })                };                });            </script>        </div>"
      ]
     },
     "metadata": {},
     "output_type": "display_data"
    }
   ],
   "source": [
    "fig = go.Figure()\n",
    "df=df[df['season']==2022]\n",
    "    c=df.groupby('datetime').cd.apply(np.mean)\n",
    "fig.add_trace(\n",
    "    go.Scatter(x = c.index, \n",
    "#             y = d.groupby('datetime')['cd'].mean()/len(teams),\n",
    "            y = c.values,\n",
    "            mode = 'lines',\n",
    "            line={'color': 'green'},\n",
    "            name='Average',\n",
    "            )\n",
    ")\n",
    "fig.show()"
   ]
  },
  {
   "cell_type": "code",
   "execution_count": 98,
   "metadata": {},
   "outputs": [
    {
     "data": {
      "application/vnd.plotly.v1+json": {
       "config": {
        "plotlyServerURL": "https://plot.ly"
       },
       "data": [
        {
         "line": {
          "color": "green"
         },
         "mode": "lines",
         "name": "Average",
         "type": "scatter",
         "x": [
          "1/10/09",
          "1/10/09",
          "1/10/09",
          "1/10/09",
          "1/10/09",
          "1/10/09",
          "1/10/09",
          "1/10/09",
          "1/10/09",
          "1/10/09",
          "1/10/09",
          "1/10/09",
          "1/11/09",
          "1/11/09",
          "1/11/09",
          "1/11/09",
          "1/11/09",
          "1/11/09",
          "1/11/09",
          "1/11/09",
          "1/11/09",
          "1/11/09",
          "1/11/09",
          "1/11/09",
          "1/11/09",
          "1/11/09",
          "1/12/09",
          "1/12/09",
          "1/12/09",
          "1/12/09",
          "1/12/09",
          "1/12/09",
          "1/12/09",
          "1/12/09",
          "1/12/09",
          "1/12/09",
          "1/12/09",
          "1/12/09",
          "1/13/09",
          "1/13/09",
          "1/13/09",
          "1/13/09",
          "1/13/09",
          "1/13/09",
          "1/13/09",
          "1/13/09",
          "1/13/09",
          "1/13/09",
          "1/13/09",
          "1/13/09",
          "1/13/09",
          "1/13/09",
          "1/14/09",
          "1/14/09",
          "1/14/09",
          "1/14/09",
          "1/14/09",
          "1/14/09",
          "1/14/09",
          "1/14/09",
          "1/14/09",
          "1/14/09",
          "1/14/09",
          "1/14/09",
          "1/14/09",
          "1/14/09",
          "1/14/09",
          "1/14/09",
          "1/14/09",
          "1/14/09",
          "1/14/09",
          "1/14/09",
          "1/14/09",
          "1/14/09",
          "1/15/09",
          "1/15/09",
          "1/15/09",
          "1/15/09",
          "1/15/09",
          "1/15/09",
          "1/16/09",
          "1/16/09",
          "1/16/09",
          "1/16/09",
          "1/16/09",
          "1/16/09",
          "1/16/09",
          "1/16/09",
          "1/16/09",
          "1/16/09",
          "1/16/09",
          "1/16/09",
          "1/16/09",
          "1/16/09",
          "1/16/09",
          "1/16/09",
          "1/16/09",
          "1/16/09",
          "1/16/09",
          "1/16/09",
          "1/17/09",
          "1/17/09",
          "1/17/09",
          "1/17/09",
          "1/17/09",
          "1/17/09",
          "1/17/09",
          "1/17/09",
          "1/17/09",
          "1/17/09",
          "1/17/09",
          "1/17/09",
          "1/17/09",
          "1/17/09",
          "1/17/09",
          "1/17/09",
          "1/17/09",
          "1/17/09",
          "1/18/09",
          "1/18/09",
          "1/18/09",
          "1/18/09",
          "1/19/09",
          "1/19/09",
          "1/19/09",
          "1/19/09",
          "1/19/09",
          "1/19/09",
          "1/19/09",
          "1/19/09",
          "1/19/09",
          "1/19/09",
          "1/19/09",
          "1/19/09",
          "1/19/09",
          "1/19/09",
          "1/19/09",
          "1/19/09",
          "1/19/09",
          "1/19/09",
          "1/19/09",
          "1/19/09",
          "1/19/09",
          "1/19/09",
          "1/19/09",
          "1/19/09",
          "1/2/09",
          "1/2/09",
          "1/2/09",
          "1/2/09",
          "1/2/09",
          "1/2/09",
          "1/2/09",
          "1/2/09",
          "1/2/09",
          "1/2/09",
          "1/2/09",
          "1/2/09",
          "1/2/09",
          "1/2/09",
          "1/2/09",
          "1/2/09",
          "1/2/09",
          "1/2/09",
          "1/2/09",
          "1/2/09",
          "1/2/09",
          "1/2/09",
          "1/2/09",
          "1/2/09",
          "1/2/09",
          "1/2/09",
          "1/2/09",
          "1/2/09",
          "1/2/09",
          "1/2/09",
          "1/20/09",
          "1/20/09",
          "1/20/09",
          "1/20/09",
          "1/20/09",
          "1/20/09",
          "1/20/09",
          "1/20/09",
          "1/21/09",
          "1/21/09",
          "1/21/09",
          "1/21/09",
          "1/21/09",
          "1/21/09",
          "1/21/09",
          "1/21/09",
          "1/21/09",
          "1/21/09",
          "1/21/09",
          "1/21/09",
          "1/21/09",
          "1/21/09",
          "1/21/09",
          "1/21/09",
          "1/21/09",
          "1/21/09",
          "1/21/09",
          "1/21/09",
          "1/21/09",
          "1/21/09",
          "1/22/09",
          "1/22/09",
          "1/22/09",
          "1/22/09",
          "1/23/09",
          "1/23/09",
          "1/23/09",
          "1/23/09",
          "1/23/09",
          "1/23/09",
          "1/23/09",
          "1/23/09",
          "1/23/09",
          "1/23/09",
          "1/23/09",
          "1/23/09",
          "1/23/09",
          "1/23/09",
          "1/23/09",
          "1/23/09",
          "1/23/09",
          "1/23/09",
          "1/23/09",
          "1/23/09",
          "1/24/09",
          "1/24/09",
          "1/24/09",
          "1/24/09",
          "1/24/09",
          "1/24/09",
          "1/24/09",
          "1/24/09",
          "1/24/09",
          "1/24/09",
          "1/24/09",
          "1/24/09",
          "1/25/09",
          "1/25/09",
          "1/25/09",
          "1/25/09",
          "1/25/09",
          "1/25/09",
          "1/25/09",
          "1/25/09",
          "1/25/09",
          "1/25/09",
          "1/25/09",
          "1/25/09",
          "1/25/09",
          "1/25/09",
          "1/25/09",
          "1/25/09",
          "1/25/09",
          "1/25/09",
          "1/26/09",
          "1/26/09",
          "1/26/09",
          "1/26/09",
          "1/26/09",
          "1/26/09",
          "1/26/09",
          "1/26/09",
          "1/26/09",
          "1/26/09",
          "1/26/09",
          "1/26/09",
          "1/26/09",
          "1/26/09",
          "1/27/09",
          "1/27/09",
          "1/27/09",
          "1/27/09",
          "1/27/09",
          "1/27/09",
          "1/27/09",
          "1/27/09",
          "1/27/09",
          "1/27/09",
          "1/28/09",
          "1/28/09",
          "1/28/09",
          "1/28/09",
          "1/28/09",
          "1/28/09",
          "1/28/09",
          "1/28/09",
          "1/28/09",
          "1/28/09",
          "1/28/09",
          "1/28/09",
          "1/28/09",
          "1/28/09",
          "1/28/09",
          "1/28/09",
          "1/28/09",
          "1/28/09",
          "1/28/09",
          "1/28/09",
          "1/28/09",
          "1/28/09",
          "1/28/09",
          "1/28/09",
          "1/29/09",
          "1/29/09",
          "1/29/09",
          "1/29/09",
          "1/3/09",
          "1/3/09",
          "1/3/09",
          "1/3/09",
          "1/3/09",
          "1/3/09",
          "1/3/09",
          "1/3/09",
          "1/3/09",
          "1/3/09",
          "1/3/09",
          "1/3/09",
          "1/3/09",
          "1/3/09",
          "1/30/09",
          "1/30/09",
          "1/30/09",
          "1/30/09",
          "1/30/09",
          "1/30/09",
          "1/30/09",
          "1/30/09",
          "1/30/09",
          "1/30/09",
          "1/30/09",
          "1/30/09",
          "1/30/09",
          "1/30/09",
          "1/30/09",
          "1/30/09",
          "1/30/09",
          "1/30/09",
          "1/30/09",
          "1/30/09",
          "1/30/09",
          "1/30/09",
          "1/31/09",
          "1/31/09",
          "1/31/09",
          "1/31/09",
          "1/31/09",
          "1/31/09",
          "1/31/09",
          "1/31/09",
          "1/31/09",
          "1/31/09",
          "1/31/09",
          "1/31/09",
          "1/31/09",
          "1/31/09",
          "1/31/09",
          "1/31/09",
          "1/31/09",
          "1/31/09",
          "1/31/09",
          "1/31/09",
          "1/4/09",
          "1/4/09",
          "1/4/09",
          "1/4/09",
          "1/4/09",
          "1/4/09",
          "1/4/09",
          "1/4/09",
          "1/4/09",
          "1/4/09",
          "1/4/09",
          "1/4/09",
          "1/5/09",
          "1/5/09",
          "1/5/09",
          "1/5/09",
          "1/5/09",
          "1/5/09",
          "1/5/09",
          "1/5/09",
          "1/5/09",
          "1/5/09",
          "1/6/09",
          "1/6/09",
          "1/6/09",
          "1/6/09",
          "1/6/09",
          "1/6/09",
          "1/6/09",
          "1/6/09",
          "1/6/09",
          "1/6/09",
          "1/6/09",
          "1/6/09",
          "1/6/09",
          "1/6/09",
          "1/6/09",
          "1/6/09",
          "1/7/09",
          "1/7/09",
          "1/7/09",
          "1/7/09",
          "1/7/09",
          "1/7/09",
          "1/7/09",
          "1/7/09",
          "1/7/09",
          "1/7/09",
          "1/7/09",
          "1/7/09",
          "1/7/09",
          "1/7/09",
          "1/7/09",
          "1/7/09",
          "1/7/09",
          "1/7/09",
          "1/7/09",
          "1/7/09",
          "1/7/09",
          "1/7/09",
          "1/7/09",
          "1/7/09",
          "1/8/09",
          "1/8/09",
          "1/8/09",
          "1/8/09",
          "1/9/09",
          "1/9/09",
          "1/9/09",
          "1/9/09",
          "1/9/09",
          "1/9/09",
          "1/9/09",
          "1/9/09",
          "1/9/09",
          "1/9/09",
          "1/9/09",
          "1/9/09",
          "1/9/09",
          "1/9/09",
          "1/9/09",
          "1/9/09",
          "1/9/09",
          "1/9/09",
          "1/9/09",
          "1/9/09",
          "1/9/09",
          "1/9/09",
          "1/9/09",
          "1/9/09",
          "10/28/08",
          "10/28/08",
          "10/28/08",
          "10/28/08",
          "10/28/08",
          "10/28/08",
          "10/29/08",
          "10/29/08",
          "10/29/08",
          "10/29/08",
          "10/29/08",
          "10/29/08",
          "10/29/08",
          "10/29/08",
          "10/29/08",
          "10/29/08",
          "10/29/08",
          "10/29/08",
          "10/29/08",
          "10/29/08",
          "10/29/08",
          "10/29/08",
          "10/29/08",
          "10/29/08",
          "10/29/08",
          "10/29/08",
          "10/29/08",
          "10/29/08",
          "10/29/08",
          "10/29/08",
          "10/30/08",
          "10/30/08",
          "10/30/08",
          "10/30/08",
          "10/30/08",
          "10/30/08",
          "10/31/08",
          "10/31/08",
          "10/31/08",
          "10/31/08",
          "10/31/08",
          "10/31/08",
          "10/31/08",
          "10/31/08",
          "10/31/08",
          "10/31/08",
          "10/31/08",
          "10/31/08",
          "10/31/08",
          "10/31/08",
          "11/1/08",
          "11/1/08",
          "11/1/08",
          "11/1/08",
          "11/1/08",
          "11/1/08",
          "11/1/08",
          "11/1/08",
          "11/1/08",
          "11/1/08",
          "11/1/08",
          "11/1/08",
          "11/1/08",
          "11/1/08",
          "11/1/08",
          "11/1/08",
          "11/1/08",
          "11/1/08",
          "11/1/08",
          "11/1/08",
          "11/1/08",
          "11/1/08",
          "11/1/08",
          "11/1/08",
          "11/1/08",
          "11/1/08",
          "11/1/08",
          "11/1/08",
          "11/10/08",
          "11/10/08",
          "11/10/08",
          "11/10/08",
          "11/10/08",
          "11/10/08",
          "11/10/08",
          "11/10/08",
          "11/10/08",
          "11/10/08",
          "11/11/08",
          "11/11/08",
          "11/11/08",
          "11/11/08",
          "11/11/08",
          "11/11/08",
          "11/11/08",
          "11/11/08",
          "11/11/08",
          "11/11/08",
          "11/11/08",
          "11/11/08",
          "11/11/08",
          "11/11/08",
          "11/11/08",
          "11/11/08",
          "11/12/08",
          "11/12/08",
          "11/12/08",
          "11/12/08",
          "11/12/08",
          "11/12/08",
          "11/12/08",
          "11/12/08",
          "11/12/08",
          "11/12/08",
          "11/12/08",
          "11/12/08",
          "11/12/08",
          "11/12/08",
          "11/12/08",
          "11/12/08",
          "11/12/08",
          "11/12/08",
          "11/12/08",
          "11/12/08",
          "11/12/08",
          "11/12/08",
          "11/13/08",
          "11/13/08",
          "11/13/08",
          "11/13/08",
          "11/13/08",
          "11/13/08",
          "11/14/08",
          "11/14/08",
          "11/14/08",
          "11/14/08",
          "11/14/08",
          "11/14/08",
          "11/14/08",
          "11/14/08",
          "11/14/08",
          "11/14/08",
          "11/14/08",
          "11/14/08",
          "11/14/08",
          "11/14/08",
          "11/14/08",
          "11/14/08",
          "11/14/08",
          "11/14/08",
          "11/14/08",
          "11/14/08",
          "11/14/08",
          "11/14/08",
          "11/14/08",
          "11/14/08",
          "11/15/08",
          "11/15/08",
          "11/15/08",
          "11/15/08",
          "11/15/08",
          "11/15/08",
          "11/15/08",
          "11/15/08",
          "11/15/08",
          "11/15/08",
          "11/15/08",
          "11/15/08",
          "11/15/08",
          "11/15/08",
          "11/15/08",
          "11/15/08",
          "11/16/08",
          "11/16/08",
          "11/16/08",
          "11/16/08",
          "11/16/08",
          "11/16/08",
          "11/16/08",
          "11/16/08",
          "11/16/08",
          "11/16/08",
          "11/16/08",
          "11/16/08",
          "11/17/08",
          "11/17/08",
          "11/17/08",
          "11/17/08",
          "11/17/08",
          "11/17/08",
          "11/18/08",
          "11/18/08",
          "11/18/08",
          "11/18/08",
          "11/18/08",
          "11/18/08",
          "11/18/08",
          "11/18/08",
          "11/18/08",
          "11/18/08",
          "11/18/08",
          "11/18/08",
          "11/18/08",
          "11/18/08",
          "11/18/08",
          "11/18/08",
          "11/18/08",
          "11/18/08",
          "11/18/08",
          "11/18/08",
          "11/19/08",
          "11/19/08",
          "11/19/08",
          "11/19/08",
          "11/19/08",
          "11/19/08",
          "11/19/08",
          "11/19/08",
          "11/19/08",
          "11/19/08",
          "11/19/08",
          "11/19/08",
          "11/19/08",
          "11/19/08",
          "11/19/08",
          "11/19/08",
          "11/19/08",
          "11/19/08",
          "11/19/08",
          "11/19/08",
          "11/2/08",
          "11/2/08",
          "11/2/08",
          "11/2/08",
          "11/20/08",
          "11/20/08",
          "11/20/08",
          "11/20/08",
          "11/21/08",
          "11/21/08",
          "11/21/08",
          "11/21/08",
          "11/21/08",
          "11/21/08",
          "11/21/08",
          "11/21/08",
          "11/21/08",
          "11/21/08",
          "11/21/08",
          "11/21/08",
          "11/21/08",
          "11/21/08",
          "11/21/08",
          "11/21/08",
          "11/21/08",
          "11/21/08",
          "11/21/08",
          "11/21/08",
          "11/21/08",
          "11/21/08",
          "11/21/08",
          "11/21/08",
          "11/21/08",
          "11/21/08",
          "11/22/08",
          "11/22/08",
          "11/22/08",
          "11/22/08",
          "11/22/08",
          "11/22/08",
          "11/22/08",
          "11/22/08",
          "11/22/08",
          "11/22/08",
          "11/22/08",
          "11/22/08",
          "11/22/08",
          "11/22/08",
          "11/22/08",
          "11/22/08",
          "11/22/08",
          "11/22/08",
          "11/23/08",
          "11/23/08",
          "11/23/08",
          "11/23/08",
          "11/23/08",
          "11/23/08",
          "11/23/08",
          "11/23/08",
          "11/23/08",
          "11/23/08",
          "11/24/08",
          "11/24/08",
          "11/24/08",
          "11/24/08",
          "11/24/08",
          "11/24/08",
          "11/24/08",
          "11/24/08",
          "11/24/08",
          "11/24/08",
          "11/24/08",
          "11/24/08",
          "11/24/08",
          "11/24/08",
          "11/25/08",
          "11/25/08",
          "11/25/08",
          "11/25/08",
          "11/25/08",
          "11/25/08",
          "11/25/08",
          "11/25/08",
          "11/25/08",
          "11/25/08",
          "11/26/08",
          "11/26/08",
          "11/26/08",
          "11/26/08",
          "11/26/08",
          "11/26/08",
          "11/26/08",
          "11/26/08",
          "11/26/08",
          "11/26/08",
          "11/26/08",
          "11/26/08",
          "11/26/08",
          "11/26/08",
          "11/26/08",
          "11/26/08",
          "11/26/08",
          "11/26/08",
          "11/26/08",
          "11/26/08",
          "11/26/08",
          "11/26/08",
          "11/26/08",
          "11/26/08",
          "11/26/08",
          "11/26/08",
          "11/27/08",
          "11/27/08",
          "11/27/08",
          "11/27/08",
          "11/28/08",
          "11/28/08",
          "11/28/08",
          "11/28/08",
          "11/28/08",
          "11/28/08",
          "11/28/08",
          "11/28/08",
          "11/28/08",
          "11/28/08",
          "11/28/08",
          "11/28/08",
          "11/28/08",
          "11/28/08",
          "11/28/08",
          "11/28/08",
          "11/28/08",
          "11/28/08",
          "11/28/08",
          "11/28/08",
          "11/28/08",
          "11/28/08",
          "11/29/08",
          "11/29/08",
          "11/29/08",
          "11/29/08",
          "11/29/08",
          "11/29/08",
          "11/29/08",
          "11/29/08",
          "11/29/08",
          "11/29/08",
          "11/29/08",
          "11/29/08",
          "11/29/08",
          "11/29/08",
          "11/29/08",
          "11/29/08",
          "11/29/08",
          "11/29/08",
          "11/29/08",
          "11/29/08",
          "11/29/08",
          "11/29/08",
          "11/3/08",
          "11/3/08",
          "11/3/08",
          "11/3/08",
          "11/3/08",
          "11/3/08",
          "11/3/08",
          "11/3/08",
          "11/3/08",
          "11/3/08",
          "11/3/08",
          "11/3/08",
          "11/30/08",
          "11/30/08",
          "11/30/08",
          "11/30/08",
          "11/30/08",
          "11/30/08",
          "11/30/08",
          "11/30/08",
          "11/30/08",
          "11/30/08",
          "11/4/08",
          "11/4/08",
          "11/4/08",
          "11/4/08",
          "11/4/08",
          "11/4/08",
          "11/5/08",
          "11/5/08",
          "11/5/08",
          "11/5/08",
          "11/5/08",
          "11/5/08",
          "11/5/08",
          "11/5/08",
          "11/5/08",
          "11/5/08",
          "11/5/08",
          "11/5/08",
          "11/5/08",
          "11/5/08",
          "11/5/08",
          "11/5/08",
          "11/5/08",
          "11/5/08",
          "11/5/08",
          "11/5/08",
          "11/5/08",
          "11/5/08",
          "11/5/08",
          "11/5/08",
          "11/5/08",
          "11/5/08",
          "11/6/08",
          "11/6/08",
          "11/6/08",
          "11/6/08",
          "11/7/08",
          "11/7/08",
          "11/7/08",
          "11/7/08",
          "11/7/08",
          "11/7/08",
          "11/7/08",
          "11/7/08",
          "11/7/08",
          "11/7/08",
          "11/7/08",
          "11/7/08",
          "11/7/08",
          "11/7/08",
          "11/7/08",
          "11/7/08",
          "11/7/08",
          "11/7/08",
          "11/7/08",
          "11/7/08",
          "11/7/08",
          "11/7/08",
          "11/7/08",
          "11/7/08",
          "11/7/08",
          "11/7/08",
          "11/8/08",
          "11/8/08",
          "11/8/08",
          "11/8/08",
          "11/8/08",
          "11/8/08",
          "11/8/08",
          "11/8/08",
          "11/8/08",
          "11/8/08",
          "11/8/08",
          "11/8/08",
          "11/9/08",
          "11/9/08",
          "11/9/08",
          "11/9/08",
          "11/9/08",
          "11/9/08",
          "11/9/08",
          "11/9/08",
          "11/9/08",
          "11/9/08",
          "11/9/08",
          "11/9/08",
          "11/9/08",
          "11/9/08",
          "11/9/08",
          "11/9/08",
          "12/1/08",
          "12/1/08",
          "12/1/08",
          "12/1/08",
          "12/1/08",
          "12/1/08",
          "12/10/08",
          "12/10/08",
          "12/10/08",
          "12/10/08",
          "12/10/08",
          "12/10/08",
          "12/10/08",
          "12/10/08",
          "12/10/08",
          "12/10/08",
          "12/10/08",
          "12/10/08",
          "12/10/08",
          "12/10/08",
          "12/10/08",
          "12/10/08",
          "12/10/08",
          "12/10/08",
          "12/11/08",
          "12/11/08",
          "12/11/08",
          "12/11/08",
          "12/11/08",
          "12/11/08",
          "12/12/08",
          "12/12/08",
          "12/12/08",
          "12/12/08",
          "12/12/08",
          "12/12/08",
          "12/12/08",
          "12/12/08",
          "12/12/08",
          "12/12/08",
          "12/12/08",
          "12/12/08",
          "12/12/08",
          "12/12/08",
          "12/12/08",
          "12/12/08",
          "12/12/08",
          "12/12/08",
          "12/12/08",
          "12/12/08",
          "12/12/08",
          "12/12/08",
          "12/13/08",
          "12/13/08",
          "12/13/08",
          "12/13/08",
          "12/13/08",
          "12/13/08",
          "12/13/08",
          "12/13/08",
          "12/13/08",
          "12/13/08",
          "12/13/08",
          "12/13/08",
          "12/13/08",
          "12/13/08",
          "12/13/08",
          "12/13/08",
          "12/13/08",
          "12/13/08",
          "12/13/08",
          "12/13/08",
          "12/14/08",
          "12/14/08",
          "12/14/08",
          "12/14/08",
          "12/14/08",
          "12/14/08",
          "12/14/08",
          "12/14/08",
          "12/15/08",
          "12/15/08",
          "12/15/08",
          "12/15/08",
          "12/15/08",
          "12/15/08",
          "12/15/08",
          "12/15/08",
          "12/15/08",
          "12/15/08",
          "12/15/08",
          "12/15/08",
          "12/15/08",
          "12/15/08",
          "12/15/08",
          "12/15/08",
          "12/15/08",
          "12/15/08",
          "12/16/08",
          "12/16/08",
          "12/16/08",
          "12/16/08",
          "12/16/08",
          "12/16/08",
          "12/16/08",
          "12/16/08",
          "12/16/08",
          "12/16/08",
          "12/16/08",
          "12/16/08",
          "12/17/08",
          "12/17/08",
          "12/17/08",
          "12/17/08",
          "12/17/08",
          "12/17/08",
          "12/17/08",
          "12/17/08",
          "12/17/08",
          "12/17/08",
          "12/17/08",
          "12/17/08",
          "12/17/08",
          "12/17/08",
          "12/17/08",
          "12/17/08",
          "12/17/08",
          "12/17/08",
          "12/18/08",
          "12/18/08",
          "12/18/08",
          "12/18/08",
          "12/19/08",
          "12/19/08",
          "12/19/08",
          "12/19/08",
          "12/19/08",
          "12/19/08",
          "12/19/08",
          "12/19/08",
          "12/19/08",
          "12/19/08",
          "12/19/08",
          "12/19/08",
          "12/19/08",
          "12/19/08",
          "12/19/08",
          "12/19/08",
          "12/19/08",
          "12/19/08",
          "12/19/08",
          "12/19/08",
          "12/19/08",
          "12/19/08",
          "12/19/08",
          "12/19/08",
          "12/2/08",
          "12/2/08",
          "12/2/08",
          "12/2/08",
          "12/2/08",
          "12/2/08",
          "12/2/08",
          "12/2/08",
          "12/2/08",
          "12/2/08",
          "12/2/08",
          "12/2/08",
          "12/2/08",
          "12/2/08",
          "12/2/08",
          "12/2/08",
          "12/20/08",
          "12/20/08",
          "12/20/08",
          "12/20/08",
          "12/20/08",
          "12/20/08",
          "12/20/08",
          "12/20/08",
          "12/20/08",
          "12/20/08",
          "12/20/08",
          "12/20/08",
          "12/20/08",
          "12/20/08",
          "12/20/08",
          "12/20/08",
          "12/20/08",
          "12/20/08",
          "12/20/08",
          "12/20/08",
          "12/21/08",
          "12/21/08",
          "12/21/08",
          "12/21/08",
          "12/21/08",
          "12/21/08",
          "12/21/08",
          "12/21/08",
          "12/22/08",
          "12/22/08",
          "12/22/08",
          "12/22/08",
          "12/22/08",
          "12/22/08",
          "12/22/08",
          "12/22/08",
          "12/22/08",
          "12/22/08",
          "12/22/08",
          "12/22/08",
          "12/23/08",
          "12/23/08",
          "12/23/08",
          "12/23/08",
          "12/23/08",
          "12/23/08",
          "12/23/08",
          "12/23/08",
          "12/23/08",
          "12/23/08",
          "12/23/08",
          "12/23/08",
          "12/23/08",
          "12/23/08",
          "12/23/08",
          "12/23/08",
          "12/23/08",
          "12/23/08",
          "12/23/08",
          "12/23/08",
          "12/23/08",
          "12/23/08",
          "12/23/08",
          "12/23/08",
          "12/25/08",
          "12/25/08",
          "12/25/08",
          "12/25/08",
          "12/25/08",
          "12/25/08",
          "12/25/08",
          "12/25/08",
          "12/25/08",
          "12/25/08",
          "12/26/08",
          "12/26/08",
          "12/26/08",
          "12/26/08",
          "12/26/08",
          "12/26/08",
          "12/26/08",
          "12/26/08",
          "12/26/08",
          "12/26/08",
          "12/26/08",
          "12/26/08",
          "12/26/08",
          "12/26/08",
          "12/26/08",
          "12/26/08",
          "12/26/08",
          "12/26/08",
          "12/26/08",
          "12/26/08",
          "12/27/08",
          "12/27/08",
          "12/27/08",
          "12/27/08",
          "12/27/08",
          "12/27/08",
          "12/27/08",
          "12/27/08",
          "12/27/08",
          "12/27/08",
          "12/27/08",
          "12/27/08",
          "12/27/08",
          "12/27/08",
          "12/27/08",
          "12/27/08",
          "12/28/08",
          "12/28/08",
          "12/28/08",
          "12/28/08",
          "12/28/08",
          "12/28/08",
          "12/28/08",
          "12/28/08",
          "12/28/08",
          "12/28/08",
          "12/28/08",
          "12/28/08",
          "12/29/08",
          "12/29/08",
          "12/29/08",
          "12/29/08",
          "12/29/08",
          "12/29/08",
          "12/29/08",
          "12/29/08",
          "12/29/08",
          "12/29/08",
          "12/29/08",
          "12/29/08",
          "12/29/08",
          "12/29/08",
          "12/29/08",
          "12/29/08",
          "12/3/08",
          "12/3/08",
          "12/3/08",
          "12/3/08",
          "12/3/08",
          "12/3/08",
          "12/3/08",
          "12/3/08",
          "12/3/08",
          "12/3/08",
          "12/3/08",
          "12/3/08",
          "12/3/08",
          "12/3/08",
          "12/3/08",
          "12/3/08",
          "12/3/08",
          "12/3/08",
          "12/3/08",
          "12/3/08",
          "12/3/08",
          "12/3/08",
          "12/30/08",
          "12/30/08",
          "12/30/08",
          "12/30/08",
          "12/30/08",
          "12/30/08",
          "12/30/08",
          "12/30/08",
          "12/30/08",
          "12/30/08",
          "12/30/08",
          "12/30/08",
          "12/30/08",
          "12/30/08",
          "12/30/08",
          "12/30/08",
          "12/30/08",
          "12/30/08",
          "12/31/08",
          "12/31/08",
          "12/31/08",
          "12/31/08",
          "12/31/08",
          "12/31/08",
          "12/31/08",
          "12/31/08",
          "12/31/08",
          "12/31/08",
          "12/31/08",
          "12/31/08",
          "12/4/08",
          "12/4/08",
          "12/4/08",
          "12/4/08",
          "12/5/08",
          "12/5/08",
          "12/5/08",
          "12/5/08",
          "12/5/08",
          "12/5/08",
          "12/5/08",
          "12/5/08",
          "12/5/08",
          "12/5/08",
          "12/5/08",
          "12/5/08",
          "12/5/08",
          "12/5/08",
          "12/5/08",
          "12/5/08",
          "12/5/08",
          "12/5/08",
          "12/5/08",
          "12/5/08",
          "12/5/08",
          "12/5/08",
          "12/6/08",
          "12/6/08",
          "12/6/08",
          "12/6/08",
          "12/6/08",
          "12/6/08",
          "12/6/08",
          "12/6/08",
          "12/6/08",
          "12/6/08",
          "12/6/08",
          "12/6/08",
          "12/6/08",
          "12/6/08",
          "12/6/08",
          "12/6/08",
          "12/6/08",
          "12/6/08",
          "12/6/08",
          "12/6/08",
          "12/7/08",
          "12/7/08",
          "12/7/08",
          "12/7/08",
          "12/7/08",
          "12/7/08",
          "12/7/08",
          "12/7/08",
          "12/8/08",
          "12/8/08",
          "12/8/08",
          "12/8/08",
          "12/8/08",
          "12/8/08",
          "12/8/08",
          "12/8/08",
          "12/9/08",
          "12/9/08",
          "12/9/08",
          "12/9/08",
          "12/9/08",
          "12/9/08",
          "12/9/08",
          "12/9/08",
          "12/9/08",
          "12/9/08",
          "12/9/08",
          "12/9/08",
          "12/9/08",
          "12/9/08",
          "12/9/08",
          "12/9/08",
          "12/9/08",
          "12/9/08",
          "2/1/09",
          "2/1/09",
          "2/1/09",
          "2/1/09",
          "2/1/09",
          "2/1/09",
          "2/1/09",
          "2/1/09",
          "2/10/09",
          "2/10/09",
          "2/10/09",
          "2/10/09",
          "2/10/09",
          "2/10/09",
          "2/10/09",
          "2/10/09",
          "2/10/09",
          "2/10/09",
          "2/10/09",
          "2/10/09",
          "2/10/09",
          "2/10/09",
          "2/10/09",
          "2/10/09",
          "2/10/09",
          "2/10/09",
          "2/11/09",
          "2/11/09",
          "2/11/09",
          "2/11/09",
          "2/11/09",
          "2/11/09",
          "2/11/09",
          "2/11/09",
          "2/11/09",
          "2/11/09",
          "2/11/09",
          "2/11/09",
          "2/11/09",
          "2/11/09",
          "2/11/09",
          "2/11/09",
          "2/11/09",
          "2/11/09",
          "2/11/09",
          "2/11/09",
          "2/11/09",
          "2/11/09",
          "2/11/09",
          "2/11/09",
          "2/12/09",
          "2/12/09",
          "2/12/09",
          "2/12/09",
          "2/12/09",
          "2/12/09",
          "2/17/09",
          "2/17/09",
          "2/17/09",
          "2/17/09",
          "2/17/09",
          "2/17/09",
          "2/17/09",
          "2/17/09",
          "2/17/09",
          "2/17/09",
          "2/17/09",
          "2/17/09",
          "2/17/09",
          "2/17/09",
          "2/17/09",
          "2/17/09",
          "2/17/09",
          "2/17/09",
          "2/17/09",
          "2/17/09",
          "2/18/09",
          "2/18/09",
          "2/18/09",
          "2/18/09",
          "2/18/09",
          "2/18/09",
          "2/18/09",
          "2/18/09",
          "2/18/09",
          "2/18/09",
          "2/18/09",
          "2/18/09",
          "2/18/09",
          "2/18/09",
          "2/18/09",
          "2/18/09",
          "2/18/09",
          "2/18/09",
          "2/18/09",
          "2/18/09",
          "2/18/09",
          "2/18/09",
          "2/19/09",
          "2/19/09",
          "2/19/09",
          "2/19/09",
          "2/2/09",
          "2/2/09",
          "2/2/09",
          "2/2/09",
          "2/2/09",
          "2/2/09",
          "2/2/09",
          "2/2/09",
          "2/2/09",
          "2/2/09",
          "2/2/09",
          "2/2/09",
          "2/2/09",
          "2/2/09",
          "2/2/09",
          "2/2/09",
          "2/20/09",
          "2/20/09",
          "2/20/09",
          "2/20/09",
          "2/20/09",
          "2/20/09",
          "2/20/09",
          "2/20/09",
          "2/20/09",
          "2/20/09",
          "2/20/09",
          "2/20/09",
          "2/20/09",
          "2/20/09",
          "2/20/09",
          "2/20/09",
          "2/20/09",
          "2/20/09",
          "2/20/09",
          "2/20/09",
          "2/20/09",
          "2/20/09",
          "2/21/09",
          "2/21/09",
          "2/21/09",
          "2/21/09",
          "2/21/09",
          "2/21/09",
          "2/21/09",
          "2/21/09",
          "2/21/09",
          "2/21/09",
          "2/22/09",
          "2/22/09",
          "2/22/09",
          "2/22/09",
          "2/22/09",
          "2/22/09",
          "2/22/09",
          "2/22/09",
          "2/22/09",
          "2/22/09",
          "2/22/09",
          "2/22/09",
          "2/22/09",
          "2/22/09",
          "2/22/09",
          "2/22/09",
          "2/22/09",
          "2/22/09",
          "2/23/09",
          "2/23/09",
          "2/23/09",
          "2/23/09",
          "2/23/09",
          "2/23/09",
          "2/23/09",
          "2/23/09",
          "2/23/09",
          "2/23/09",
          "2/23/09",
          "2/23/09",
          "2/24/09",
          "2/24/09",
          "2/24/09",
          "2/24/09",
          "2/24/09",
          "2/24/09",
          "2/24/09",
          "2/24/09",
          "2/24/09",
          "2/24/09",
          "2/24/09",
          "2/24/09",
          "2/24/09",
          "2/24/09",
          "2/24/09",
          "2/24/09",
          "2/25/09",
          "2/25/09",
          "2/25/09",
          "2/25/09",
          "2/25/09",
          "2/25/09",
          "2/25/09",
          "2/25/09",
          "2/25/09",
          "2/25/09",
          "2/25/09",
          "2/25/09",
          "2/25/09",
          "2/25/09",
          "2/25/09",
          "2/25/09",
          "2/25/09",
          "2/25/09",
          "2/25/09",
          "2/25/09",
          "2/25/09",
          "2/25/09",
          "2/26/09",
          "2/26/09",
          "2/26/09",
          "2/26/09",
          "2/27/09",
          "2/27/09",
          "2/27/09",
          "2/27/09",
          "2/27/09",
          "2/27/09",
          "2/27/09",
          "2/27/09",
          "2/27/09",
          "2/27/09",
          "2/27/09",
          "2/27/09",
          "2/27/09",
          "2/27/09",
          "2/27/09",
          "2/27/09",
          "2/27/09",
          "2/27/09",
          "2/27/09",
          "2/27/09",
          "2/27/09",
          "2/27/09",
          "2/27/09",
          "2/27/09",
          "2/27/09",
          "2/27/09",
          "2/28/09",
          "2/28/09",
          "2/28/09",
          "2/28/09",
          "2/28/09",
          "2/28/09",
          "2/28/09",
          "2/28/09",
          "2/28/09",
          "2/28/09",
          "2/28/09",
          "2/28/09",
          "2/28/09",
          "2/28/09",
          "2/3/09",
          "2/3/09",
          "2/3/09",
          "2/3/09",
          "2/3/09",
          "2/3/09",
          "2/3/09",
          "2/3/09",
          "2/3/09",
          "2/3/09",
          "2/3/09",
          "2/3/09",
          "2/4/09",
          "2/4/09",
          "2/4/09",
          "2/4/09",
          "2/4/09",
          "2/4/09",
          "2/4/09",
          "2/4/09",
          "2/4/09",
          "2/4/09",
          "2/4/09",
          "2/4/09",
          "2/4/09",
          "2/4/09",
          "2/4/09",
          "2/4/09",
          "2/4/09",
          "2/4/09",
          "2/4/09",
          "2/4/09",
          "2/4/09",
          "2/4/09",
          "2/5/09",
          "2/5/09",
          "2/5/09",
          "2/5/09",
          "2/5/09",
          "2/5/09",
          "2/6/09",
          "2/6/09",
          "2/6/09",
          "2/6/09",
          "2/6/09",
          "2/6/09",
          "2/6/09",
          "2/6/09",
          "2/6/09",
          "2/6/09",
          "2/6/09",
          "2/6/09",
          "2/6/09",
          "2/6/09",
          "2/6/09",
          "2/6/09",
          "2/6/09",
          "2/6/09",
          "2/7/09",
          "2/7/09",
          "2/7/09",
          "2/7/09",
          "2/7/09",
          "2/7/09",
          "2/7/09",
          "2/7/09",
          "2/7/09",
          "2/7/09",
          "2/7/09",
          "2/7/09",
          "2/7/09",
          "2/7/09",
          "2/8/09",
          "2/8/09",
          "2/8/09",
          "2/8/09",
          "2/8/09",
          "2/8/09",
          "2/8/09",
          "2/8/09",
          "2/8/09",
          "2/8/09",
          "2/8/09",
          "2/8/09",
          "2/8/09",
          "2/8/09",
          "2/8/09",
          "2/8/09",
          "2/8/09",
          "2/8/09",
          "2/8/09",
          "2/8/09",
          "2/9/09",
          "2/9/09",
          "2/9/09",
          "2/9/09",
          "2/9/09",
          "2/9/09",
          "2/9/09",
          "2/9/09",
          "3/1/09",
          "3/1/09",
          "3/1/09",
          "3/1/09",
          "3/1/09",
          "3/1/09",
          "3/1/09",
          "3/1/09",
          "3/1/09",
          "3/1/09",
          "3/1/09",
          "3/1/09",
          "3/1/09",
          "3/1/09",
          "3/1/09",
          "3/1/09",
          "3/1/09",
          "3/1/09",
          "3/10/09",
          "3/10/09",
          "3/10/09",
          "3/10/09",
          "3/10/09",
          "3/10/09",
          "3/10/09",
          "3/10/09",
          "3/10/09",
          "3/10/09",
          "3/10/09",
          "3/10/09",
          "3/11/09",
          "3/11/09",
          "3/11/09",
          "3/11/09",
          "3/11/09",
          "3/11/09",
          "3/11/09",
          "3/11/09",
          "3/11/09",
          "3/11/09",
          "3/11/09",
          "3/11/09",
          "3/11/09",
          "3/11/09",
          "3/11/09",
          "3/11/09",
          "3/11/09",
          "3/11/09",
          "3/11/09",
          "3/11/09",
          "3/11/09",
          "3/11/09",
          "3/12/09",
          "3/12/09",
          "3/12/09",
          "3/12/09",
          "3/13/09",
          "3/13/09",
          "3/13/09",
          "3/13/09",
          "3/13/09",
          "3/13/09",
          "3/13/09",
          "3/13/09",
          "3/13/09",
          "3/13/09",
          "3/13/09",
          "3/13/09",
          "3/13/09",
          "3/13/09",
          "3/13/09",
          "3/13/09",
          "3/13/09",
          "3/13/09",
          "3/13/09",
          "3/13/09",
          "3/13/09",
          "3/13/09",
          "3/14/09",
          "3/14/09",
          "3/14/09",
          "3/14/09",
          "3/14/09",
          "3/14/09",
          "3/14/09",
          "3/14/09",
          "3/14/09",
          "3/14/09",
          "3/14/09",
          "3/14/09",
          "3/15/09",
          "3/15/09",
          "3/15/09",
          "3/15/09",
          "3/15/09",
          "3/15/09",
          "3/15/09",
          "3/15/09",
          "3/15/09",
          "3/15/09",
          "3/15/09",
          "3/15/09",
          "3/15/09",
          "3/15/09",
          "3/15/09",
          "3/15/09",
          "3/15/09",
          "3/15/09",
          "3/15/09",
          "3/15/09",
          "3/15/09",
          "3/15/09",
          "3/16/09",
          "3/16/09",
          "3/16/09",
          "3/16/09",
          "3/16/09",
          "3/16/09",
          "3/16/09",
          "3/16/09",
          "3/16/09",
          "3/16/09",
          "3/17/09",
          "3/17/09",
          "3/17/09",
          "3/17/09",
          "3/17/09",
          "3/17/09",
          "3/17/09",
          "3/17/09",
          "3/17/09",
          "3/17/09",
          "3/17/09",
          "3/17/09",
          "3/17/09",
          "3/17/09",
          "3/17/09",
          "3/17/09",
          "3/18/09",
          "3/18/09",
          "3/18/09",
          "3/18/09",
          "3/18/09",
          "3/18/09",
          "3/18/09",
          "3/18/09",
          "3/18/09",
          "3/18/09",
          "3/18/09",
          "3/18/09",
          "3/18/09",
          "3/18/09",
          "3/18/09",
          "3/18/09",
          "3/18/09",
          "3/18/09",
          "3/18/09",
          "3/18/09",
          "3/18/09",
          "3/18/09",
          "3/19/09",
          "3/19/09",
          "3/19/09",
          "3/19/09",
          "3/19/09",
          "3/19/09",
          "3/2/09",
          "3/2/09",
          "3/2/09",
          "3/2/09",
          "3/2/09",
          "3/2/09",
          "3/2/09",
          "3/2/09",
          "3/2/09",
          "3/2/09",
          "3/20/09",
          "3/20/09",
          "3/20/09",
          "3/20/09",
          "3/20/09",
          "3/20/09",
          "3/20/09",
          "3/20/09",
          "3/20/09",
          "3/20/09",
          "3/20/09",
          "3/20/09",
          "3/20/09",
          "3/20/09",
          "3/20/09",
          "3/20/09",
          "3/20/09",
          "3/20/09",
          "3/20/09",
          "3/20/09",
          "3/20/09",
          "3/20/09",
          "3/21/09",
          "3/21/09",
          "3/21/09",
          "3/21/09",
          "3/21/09",
          "3/21/09",
          "3/21/09",
          "3/21/09",
          "3/21/09",
          "3/21/09",
          "3/21/09",
          "3/21/09",
          "3/21/09",
          "3/21/09",
          "3/22/09",
          "3/22/09",
          "3/22/09",
          "3/22/09",
          "3/22/09",
          "3/22/09",
          "3/22/09",
          "3/22/09",
          "3/22/09",
          "3/22/09",
          "3/22/09",
          "3/22/09",
          "3/22/09",
          "3/22/09",
          "3/23/09",
          "3/23/09",
          "3/23/09",
          "3/23/09",
          "3/23/09",
          "3/23/09",
          "3/23/09",
          "3/23/09",
          "3/23/09",
          "3/23/09",
          "3/23/09",
          "3/23/09",
          "3/23/09",
          "3/23/09",
          "3/24/09",
          "3/24/09",
          "3/24/09",
          "3/24/09",
          "3/24/09",
          "3/24/09",
          "3/24/09",
          "3/24/09",
          "3/25/09",
          "3/25/09",
          "3/25/09",
          "3/25/09",
          "3/25/09",
          "3/25/09",
          "3/25/09",
          "3/25/09",
          "3/25/09",
          "3/25/09",
          "3/25/09",
          "3/25/09",
          "3/25/09",
          "3/25/09",
          "3/25/09",
          "3/25/09",
          "3/25/09",
          "3/25/09",
          "3/25/09",
          "3/25/09",
          "3/25/09",
          "3/25/09",
          "3/26/09",
          "3/26/09",
          "3/26/09",
          "3/26/09",
          "3/26/09",
          "3/26/09",
          "3/27/09",
          "3/27/09",
          "3/27/09",
          "3/27/09",
          "3/27/09",
          "3/27/09",
          "3/27/09",
          "3/27/09",
          "3/27/09",
          "3/27/09",
          "3/27/09",
          "3/27/09",
          "3/27/09",
          "3/27/09",
          "3/27/09",
          "3/27/09",
          "3/27/09",
          "3/27/09",
          "3/27/09",
          "3/27/09",
          "3/28/09",
          "3/28/09",
          "3/28/09",
          "3/28/09",
          "3/28/09",
          "3/28/09",
          "3/28/09",
          "3/28/09",
          "3/28/09",
          "3/28/09",
          "3/28/09",
          "3/28/09",
          "3/28/09",
          "3/28/09",
          "3/28/09",
          "3/28/09",
          "3/29/09",
          "3/29/09",
          "3/29/09",
          "3/29/09",
          "3/29/09",
          "3/29/09",
          "3/29/09",
          "3/29/09",
          "3/29/09",
          "3/29/09",
          "3/29/09",
          "3/29/09",
          "3/29/09",
          "3/29/09",
          "3/29/09",
          "3/29/09",
          "3/29/09",
          "3/29/09",
          "3/3/09",
          "3/3/09",
          "3/3/09",
          "3/3/09",
          "3/3/09",
          "3/3/09",
          "3/3/09",
          "3/3/09",
          "3/3/09",
          "3/3/09",
          "3/3/09",
          "3/3/09",
          "3/3/09",
          "3/3/09",
          "3/3/09",
          "3/3/09",
          "3/30/09",
          "3/30/09",
          "3/30/09",
          "3/30/09",
          "3/30/09",
          "3/30/09",
          "3/30/09",
          "3/30/09",
          "3/31/09",
          "3/31/09",
          "3/31/09",
          "3/31/09",
          "3/31/09",
          "3/31/09",
          "3/31/09",
          "3/31/09",
          "3/31/09",
          "3/31/09",
          "3/31/09",
          "3/31/09",
          "3/31/09",
          "3/31/09",
          "3/31/09",
          "3/31/09",
          "3/31/09",
          "3/31/09",
          "3/4/09",
          "3/4/09",
          "3/4/09",
          "3/4/09",
          "3/4/09",
          "3/4/09",
          "3/4/09",
          "3/4/09",
          "3/4/09",
          "3/4/09",
          "3/4/09",
          "3/4/09",
          "3/4/09",
          "3/4/09",
          "3/4/09",
          "3/4/09",
          "3/4/09",
          "3/4/09",
          "3/4/09",
          "3/4/09",
          "3/5/09",
          "3/5/09",
          "3/5/09",
          "3/5/09",
          "3/6/09",
          "3/6/09",
          "3/6/09",
          "3/6/09",
          "3/6/09",
          "3/6/09",
          "3/6/09",
          "3/6/09",
          "3/6/09",
          "3/6/09",
          "3/6/09",
          "3/6/09",
          "3/6/09",
          "3/6/09",
          "3/6/09",
          "3/6/09",
          "3/6/09",
          "3/6/09",
          "3/6/09",
          "3/6/09",
          "3/7/09",
          "3/7/09",
          "3/7/09",
          "3/7/09",
          "3/7/09",
          "3/7/09",
          "3/7/09",
          "3/7/09",
          "3/7/09",
          "3/7/09",
          "3/7/09",
          "3/7/09",
          "3/7/09",
          "3/7/09",
          "3/7/09",
          "3/7/09",
          "3/7/09",
          "3/7/09",
          "3/8/09",
          "3/8/09",
          "3/8/09",
          "3/8/09",
          "3/8/09",
          "3/8/09",
          "3/8/09",
          "3/8/09",
          "3/8/09",
          "3/8/09",
          "3/8/09",
          "3/8/09",
          "3/8/09",
          "3/8/09",
          "3/9/09",
          "3/9/09",
          "3/9/09",
          "3/9/09",
          "3/9/09",
          "3/9/09",
          "3/9/09",
          "3/9/09",
          "3/9/09",
          "3/9/09",
          "3/9/09",
          "3/9/09",
          "4/1/09",
          "4/1/09",
          "4/1/09",
          "4/1/09",
          "4/1/09",
          "4/1/09",
          "4/1/09",
          "4/1/09",
          "4/1/09",
          "4/1/09",
          "4/1/09",
          "4/1/09",
          "4/1/09",
          "4/1/09",
          "4/1/09",
          "4/1/09",
          "4/1/09",
          "4/1/09",
          "4/10/09",
          "4/10/09",
          "4/10/09",
          "4/10/09",
          "4/10/09",
          "4/10/09",
          "4/10/09",
          "4/10/09",
          "4/10/09",
          "4/10/09",
          "4/10/09",
          "4/10/09",
          "4/10/09",
          "4/10/09",
          "4/10/09",
          "4/10/09",
          "4/10/09",
          "4/10/09",
          "4/10/09",
          "4/10/09",
          "4/10/09",
          "4/10/09",
          "4/10/09",
          "4/10/09",
          "4/10/09",
          "4/10/09",
          "4/11/09",
          "4/11/09",
          "4/11/09",
          "4/11/09",
          "4/11/09",
          "4/11/09",
          "4/11/09",
          "4/11/09",
          "4/11/09",
          "4/11/09",
          "4/11/09",
          "4/11/09",
          "4/11/09",
          "4/11/09",
          "4/12/09",
          "4/12/09",
          "4/12/09",
          "4/12/09",
          "4/12/09",
          "4/12/09",
          "4/12/09",
          "4/12/09",
          "4/12/09",
          "4/12/09",
          "4/12/09",
          "4/12/09",
          "4/13/09",
          "4/13/09",
          "4/13/09",
          "4/13/09",
          "4/13/09",
          "4/13/09",
          "4/13/09",
          "4/13/09",
          "4/13/09",
          "4/13/09",
          "4/13/09",
          "4/13/09",
          "4/13/09",
          "4/13/09",
          "4/13/09",
          "4/13/09",
          "4/13/09",
          "4/13/09",
          "4/13/09",
          "4/13/09",
          "4/13/09",
          "4/13/09",
          "4/13/09",
          "4/13/09",
          "4/14/09",
          "4/14/09",
          "4/14/09",
          "4/14/09",
          "4/14/09",
          "4/14/09",
          "4/15/09",
          "4/15/09",
          "4/15/09",
          "4/15/09",
          "4/15/09",
          "4/15/09",
          "4/15/09",
          "4/15/09",
          "4/15/09",
          "4/15/09",
          "4/15/09",
          "4/15/09",
          "4/15/09",
          "4/15/09",
          "4/15/09",
          "4/15/09",
          "4/15/09",
          "4/15/09",
          "4/15/09",
          "4/15/09",
          "4/15/09",
          "4/15/09",
          "4/15/09",
          "4/15/09",
          "4/15/09",
          "4/15/09",
          "4/15/09",
          "4/15/09",
          "4/18/09",
          "4/18/09",
          "4/18/09",
          "4/18/09",
          "4/18/09",
          "4/18/09",
          "4/18/09",
          "4/18/09",
          "4/19/09",
          "4/19/09",
          "4/19/09",
          "4/19/09",
          "4/19/09",
          "4/19/09",
          "4/19/09",
          "4/19/09",
          "4/2/09",
          "4/2/09",
          "4/2/09",
          "4/2/09",
          "4/2/09",
          "4/2/09",
          "4/20/09",
          "4/20/09",
          "4/20/09",
          "4/20/09",
          "4/21/09",
          "4/21/09",
          "4/21/09",
          "4/21/09",
          "4/21/09",
          "4/21/09",
          "4/22/09",
          "4/22/09",
          "4/22/09",
          "4/22/09",
          "4/22/09",
          "4/22/09",
          "4/23/09",
          "4/23/09",
          "4/23/09",
          "4/23/09",
          "4/23/09",
          "4/23/09",
          "4/24/09",
          "4/24/09",
          "4/24/09",
          "4/24/09",
          "4/24/09",
          "4/24/09",
          "4/25/09",
          "4/25/09",
          "4/25/09",
          "4/25/09",
          "4/25/09",
          "4/25/09",
          "4/25/09",
          "4/25/09",
          "4/26/09",
          "4/26/09",
          "4/26/09",
          "4/26/09",
          "4/26/09",
          "4/26/09",
          "4/26/09",
          "4/26/09",
          "4/27/09",
          "4/27/09",
          "4/27/09",
          "4/27/09",
          "4/27/09",
          "4/27/09",
          "4/28/09",
          "4/28/09",
          "4/28/09",
          "4/28/09",
          "4/28/09",
          "4/28/09",
          "4/28/09",
          "4/28/09",
          "4/29/09",
          "4/29/09",
          "4/29/09",
          "4/29/09",
          "4/3/09",
          "4/3/09",
          "4/3/09",
          "4/3/09",
          "4/3/09",
          "4/3/09",
          "4/3/09",
          "4/3/09",
          "4/3/09",
          "4/3/09",
          "4/3/09",
          "4/3/09",
          "4/3/09",
          "4/3/09",
          "4/3/09",
          "4/3/09",
          "4/3/09",
          "4/3/09",
          "4/3/09",
          "4/3/09",
          "4/30/09",
          "4/30/09",
          "4/30/09",
          "4/30/09",
          "4/30/09",
          "4/30/09",
          "4/4/09",
          "4/4/09",
          "4/4/09",
          "4/4/09",
          "4/4/09",
          "4/4/09",
          "4/4/09",
          "4/4/09",
          "4/4/09",
          "4/4/09",
          "4/4/09",
          "4/4/09",
          "4/4/09",
          "4/4/09",
          "4/5/09",
          "4/5/09",
          "4/5/09",
          "4/5/09",
          "4/5/09",
          "4/5/09",
          "4/5/09",
          "4/5/09",
          "4/5/09",
          "4/5/09",
          "4/5/09",
          "4/5/09",
          "4/5/09",
          "4/5/09",
          "4/5/09",
          "4/5/09",
          "4/5/09",
          "4/5/09",
          "4/5/09",
          "4/5/09",
          "4/5/09",
          "4/5/09",
          "4/7/09",
          "4/7/09",
          "4/7/09",
          "4/7/09",
          "4/7/09",
          "4/7/09",
          "4/7/09",
          "4/7/09",
          "4/7/09",
          "4/7/09",
          "4/7/09",
          "4/7/09",
          "4/7/09",
          "4/7/09",
          "4/7/09",
          "4/7/09",
          "4/7/09",
          "4/7/09",
          "4/8/09",
          "4/8/09",
          "4/8/09",
          "4/8/09",
          "4/8/09",
          "4/8/09",
          "4/8/09",
          "4/8/09",
          "4/8/09",
          "4/8/09",
          "4/8/09",
          "4/8/09",
          "4/8/09",
          "4/8/09",
          "4/8/09",
          "4/8/09",
          "4/8/09",
          "4/8/09",
          "4/8/09",
          "4/8/09",
          "4/8/09",
          "4/8/09",
          "4/9/09",
          "4/9/09",
          "4/9/09",
          "4/9/09",
          "4/9/09",
          "4/9/09",
          "5/1/09",
          "5/1/09",
          "5/10/09",
          "5/10/09",
          "5/10/09",
          "5/10/09",
          "5/11/09",
          "5/11/09",
          "5/11/09",
          "5/11/09",
          "5/12/09",
          "5/12/09",
          "5/12/09",
          "5/12/09",
          "5/13/09",
          "5/13/09",
          "5/14/09",
          "5/14/09",
          "5/14/09",
          "5/14/09",
          "5/17/09",
          "5/17/09",
          "5/17/09",
          "5/17/09",
          "5/19/09",
          "5/19/09",
          "5/2/09",
          "5/2/09",
          "5/20/09",
          "5/20/09",
          "5/21/09",
          "5/21/09",
          "5/22/09",
          "5/22/09",
          "5/23/09",
          "5/23/09",
          "5/24/09",
          "5/24/09",
          "5/25/09",
          "5/25/09",
          "5/26/09",
          "5/26/09",
          "5/27/09",
          "5/27/09",
          "5/28/09",
          "5/28/09",
          "5/29/09",
          "5/29/09",
          "5/3/09",
          "5/3/09",
          "5/3/09",
          "5/3/09",
          "5/30/09",
          "5/30/09",
          "5/4/09",
          "5/4/09",
          "5/4/09",
          "5/4/09",
          "5/5/09",
          "5/5/09",
          "5/5/09",
          "5/5/09",
          "5/6/09",
          "5/6/09",
          "5/6/09",
          "5/6/09",
          "5/7/09",
          "5/7/09",
          "5/8/09",
          "5/8/09",
          "5/8/09",
          "5/8/09",
          "5/9/09",
          "5/9/09",
          "5/9/09",
          "5/9/09",
          "6/11/09",
          "6/11/09",
          "6/14/09",
          "6/14/09",
          "6/4/09",
          "6/4/09",
          "6/7/09",
          "6/7/09",
          "6/9/09",
          "6/9/09"
         ],
         "y": [
          20920.890196666664,
          21871.639717857142,
          20710.078612499998,
          21346.196189285714,
          22167.419493181824,
          21536.152026666667,
          22077.6405265,
          23353.87096833333,
          23752.9981725,
          22807.46123125,
          18711.666946,
          24410.52527125,
          23540.854745454548,
          23069.6959125,
          23648.9158635,
          24731.88129416667,
          24568.73522888889,
          25302.23482357143,
          24331.059256999997,
          25434.86902,
          27754.871865,
          19557.658903571428,
          25943.251205454544,
          26672.991887999997,
          18031.960686666665,
          21907.119780999998,
          19088.93113625,
          19834.613507916667,
          21478.1108775,
          19877.901335833336,
          371.5850109666667,
          724.1845349404167,
          1279.3231998500003,
          1271.2612586407142,
          1612.0402539428567,
          4219.1228333,
          4555.212002000001,
          4595.271716681817,
          5176.969386,
          5319.156677374999,
          5136.331440625,
          6348.3055585833345,
          6849.149039166667,
          6060.541418399999,
          7259.0039953,
          1568.134288925,
          7374.338283249999,
          7089.190766269231,
          6931.9099282222205,
          8240.883169199999,
          8610.863388214286,
          7480.4391854000005,
          8848.019463307694,
          8495.38076375,
          9439.792413590907,
          9565.839778636364,
          2284.933883333333,
          10129.2974776,
          2645.850534,
          2834.0361289346156,
          2599.73262025,
          3348.0866670269234,
          3536.21566125,
          3531.5342851249998,
          9951.018072500001,
          12200.593097333334,
          12028.208733166668,
          13206.756787136364,
          12792.459083599999,
          14209.700865,
          13930.96273411111,
          13974.488064166666,
          14178.544652333334,
          18156.8369025,
          14222.273939791667,
          10495.18031675,
          15938.974993750006,
          13309.775959124998,
          17100.087751666666,
          15611.285178791668,
          16521.8954079,
          16695.1331155,
          16763.45273225,
          17807.915495833335,
          17588.150910624998,
          10056.304524363635,
          17413.193441666666,
          18979.290170833334,
          14004.133495,
          10141.862122409091,
          11850.584901750002,
          11442.33885075,
          12078.276453999999,
          12290.207516944445,
          27194.33358125,
          29376.542840555558,
          28685.9614025,
          32488.37601333333,
          29169.989542999996,
          30617.327162727273,
          30887.149872500002,
          27875.257774375,
          30653.851024999993,
          32765.494198999997,
          30773.12074222222,
          31756.15911333334,
          31888.702728125005,
          32187.891261363635,
          30607.574095000004,
          32976.562512692304,
          32082.760996428577,
          27246.291650833333,
          27423.530860909097,
          26276.069335000004,
          27525.135015555556,
          28196.62921428572,
          28939.986874000002,
          27128.82965125,
          33806.580161666665,
          35977.3666275,
          36119.15232727272,
          38096.174515,
          36023.84876636364,
          37875.75213166667,
          36906.40675545455,
          38708.835232,
          37815.84782875,
          38265.971580000005,
          38680.98974666666,
          33373.901001000006,
          38599.93559545454,
          37900.29170285714,
          39837.677062142866,
          39888.34154785715,
          39720.83161749999,
          39928.40628227273,
          40779.197485000004,
          40713.978715,
          39930.54384312499,
          40633.804302777775,
          34002.8616875,
          42726.490448749995,
          41101.64210999999,
          34152.75676,
          37651.846965,
          34718.40052750001,
          34106.048938333326,
          35686.128432142854,
          36450.284511666665,
          42399.385013888896,
          44066.59227346153,
          44627.82044857142,
          45523.57551166666,
          45336.16911166668,
          44923.35202833333,
          45573.65796714286,
          45842.18886375,
          47223.753905,
          39903.696715,
          46146.3012,
          45928.071610000006,
          47395.65128166667,
          46895.100001666666,
          46772.452413333325,
          48661.36348624999,
          45950.01171,
          48437.502746666665,
          49318.84767624999,
          49564.582945,
          43815.0499525,
          50219.685475,
          40961.58422000001,
          43186.606085909094,
          43935.05904166667,
          43875.56321318181,
          43465.15030666667,
          47977.889395000006,
          53580.197105,
          45660.625224999996,
          54825.36382,
          50514.059735,
          56070.530535,
          57315.697252499995,
          53539.117385000005,
          46041.22647,
          50823.206600000005,
          53539.117385000005,
          50823.206600000005,
          54371.00938,
          51716.597325,
          54371.00938,
          51716.597325,
          55202.901375,
          52609.988045,
          56034.793365000005,
          48885.8236475,
          53503.378775,
          52335.030387499995,
          45052.4289175,
          52335.030387499995,
          40915.700339999996,
          53580.197105,
          45660.625224999996,
          63403.99321,
          63403.99321,
          61201.23888,
          61201.23888,
          63403.99321
         ]
        }
       ],
       "layout": {
        "template": {
         "data": {
          "bar": [
           {
            "error_x": {
             "color": "#2a3f5f"
            },
            "error_y": {
             "color": "#2a3f5f"
            },
            "marker": {
             "line": {
              "color": "#E5ECF6",
              "width": 0.5
             },
             "pattern": {
              "fillmode": "overlay",
              "size": 10,
              "solidity": 0.2
             }
            },
            "type": "bar"
           }
          ],
          "barpolar": [
           {
            "marker": {
             "line": {
              "color": "#E5ECF6",
              "width": 0.5
             },
             "pattern": {
              "fillmode": "overlay",
              "size": 10,
              "solidity": 0.2
             }
            },
            "type": "barpolar"
           }
          ],
          "carpet": [
           {
            "aaxis": {
             "endlinecolor": "#2a3f5f",
             "gridcolor": "white",
             "linecolor": "white",
             "minorgridcolor": "white",
             "startlinecolor": "#2a3f5f"
            },
            "baxis": {
             "endlinecolor": "#2a3f5f",
             "gridcolor": "white",
             "linecolor": "white",
             "minorgridcolor": "white",
             "startlinecolor": "#2a3f5f"
            },
            "type": "carpet"
           }
          ],
          "choropleth": [
           {
            "colorbar": {
             "outlinewidth": 0,
             "ticks": ""
            },
            "type": "choropleth"
           }
          ],
          "contour": [
           {
            "colorbar": {
             "outlinewidth": 0,
             "ticks": ""
            },
            "colorscale": [
             [
              0,
              "#0d0887"
             ],
             [
              0.1111111111111111,
              "#46039f"
             ],
             [
              0.2222222222222222,
              "#7201a8"
             ],
             [
              0.3333333333333333,
              "#9c179e"
             ],
             [
              0.4444444444444444,
              "#bd3786"
             ],
             [
              0.5555555555555556,
              "#d8576b"
             ],
             [
              0.6666666666666666,
              "#ed7953"
             ],
             [
              0.7777777777777778,
              "#fb9f3a"
             ],
             [
              0.8888888888888888,
              "#fdca26"
             ],
             [
              1,
              "#f0f921"
             ]
            ],
            "type": "contour"
           }
          ],
          "contourcarpet": [
           {
            "colorbar": {
             "outlinewidth": 0,
             "ticks": ""
            },
            "type": "contourcarpet"
           }
          ],
          "heatmap": [
           {
            "colorbar": {
             "outlinewidth": 0,
             "ticks": ""
            },
            "colorscale": [
             [
              0,
              "#0d0887"
             ],
             [
              0.1111111111111111,
              "#46039f"
             ],
             [
              0.2222222222222222,
              "#7201a8"
             ],
             [
              0.3333333333333333,
              "#9c179e"
             ],
             [
              0.4444444444444444,
              "#bd3786"
             ],
             [
              0.5555555555555556,
              "#d8576b"
             ],
             [
              0.6666666666666666,
              "#ed7953"
             ],
             [
              0.7777777777777778,
              "#fb9f3a"
             ],
             [
              0.8888888888888888,
              "#fdca26"
             ],
             [
              1,
              "#f0f921"
             ]
            ],
            "type": "heatmap"
           }
          ],
          "heatmapgl": [
           {
            "colorbar": {
             "outlinewidth": 0,
             "ticks": ""
            },
            "colorscale": [
             [
              0,
              "#0d0887"
             ],
             [
              0.1111111111111111,
              "#46039f"
             ],
             [
              0.2222222222222222,
              "#7201a8"
             ],
             [
              0.3333333333333333,
              "#9c179e"
             ],
             [
              0.4444444444444444,
              "#bd3786"
             ],
             [
              0.5555555555555556,
              "#d8576b"
             ],
             [
              0.6666666666666666,
              "#ed7953"
             ],
             [
              0.7777777777777778,
              "#fb9f3a"
             ],
             [
              0.8888888888888888,
              "#fdca26"
             ],
             [
              1,
              "#f0f921"
             ]
            ],
            "type": "heatmapgl"
           }
          ],
          "histogram": [
           {
            "marker": {
             "pattern": {
              "fillmode": "overlay",
              "size": 10,
              "solidity": 0.2
             }
            },
            "type": "histogram"
           }
          ],
          "histogram2d": [
           {
            "colorbar": {
             "outlinewidth": 0,
             "ticks": ""
            },
            "colorscale": [
             [
              0,
              "#0d0887"
             ],
             [
              0.1111111111111111,
              "#46039f"
             ],
             [
              0.2222222222222222,
              "#7201a8"
             ],
             [
              0.3333333333333333,
              "#9c179e"
             ],
             [
              0.4444444444444444,
              "#bd3786"
             ],
             [
              0.5555555555555556,
              "#d8576b"
             ],
             [
              0.6666666666666666,
              "#ed7953"
             ],
             [
              0.7777777777777778,
              "#fb9f3a"
             ],
             [
              0.8888888888888888,
              "#fdca26"
             ],
             [
              1,
              "#f0f921"
             ]
            ],
            "type": "histogram2d"
           }
          ],
          "histogram2dcontour": [
           {
            "colorbar": {
             "outlinewidth": 0,
             "ticks": ""
            },
            "colorscale": [
             [
              0,
              "#0d0887"
             ],
             [
              0.1111111111111111,
              "#46039f"
             ],
             [
              0.2222222222222222,
              "#7201a8"
             ],
             [
              0.3333333333333333,
              "#9c179e"
             ],
             [
              0.4444444444444444,
              "#bd3786"
             ],
             [
              0.5555555555555556,
              "#d8576b"
             ],
             [
              0.6666666666666666,
              "#ed7953"
             ],
             [
              0.7777777777777778,
              "#fb9f3a"
             ],
             [
              0.8888888888888888,
              "#fdca26"
             ],
             [
              1,
              "#f0f921"
             ]
            ],
            "type": "histogram2dcontour"
           }
          ],
          "mesh3d": [
           {
            "colorbar": {
             "outlinewidth": 0,
             "ticks": ""
            },
            "type": "mesh3d"
           }
          ],
          "parcoords": [
           {
            "line": {
             "colorbar": {
              "outlinewidth": 0,
              "ticks": ""
             }
            },
            "type": "parcoords"
           }
          ],
          "pie": [
           {
            "automargin": true,
            "type": "pie"
           }
          ],
          "scatter": [
           {
            "marker": {
             "colorbar": {
              "outlinewidth": 0,
              "ticks": ""
             }
            },
            "type": "scatter"
           }
          ],
          "scatter3d": [
           {
            "line": {
             "colorbar": {
              "outlinewidth": 0,
              "ticks": ""
             }
            },
            "marker": {
             "colorbar": {
              "outlinewidth": 0,
              "ticks": ""
             }
            },
            "type": "scatter3d"
           }
          ],
          "scattercarpet": [
           {
            "marker": {
             "colorbar": {
              "outlinewidth": 0,
              "ticks": ""
             }
            },
            "type": "scattercarpet"
           }
          ],
          "scattergeo": [
           {
            "marker": {
             "colorbar": {
              "outlinewidth": 0,
              "ticks": ""
             }
            },
            "type": "scattergeo"
           }
          ],
          "scattergl": [
           {
            "marker": {
             "colorbar": {
              "outlinewidth": 0,
              "ticks": ""
             }
            },
            "type": "scattergl"
           }
          ],
          "scattermapbox": [
           {
            "marker": {
             "colorbar": {
              "outlinewidth": 0,
              "ticks": ""
             }
            },
            "type": "scattermapbox"
           }
          ],
          "scatterpolar": [
           {
            "marker": {
             "colorbar": {
              "outlinewidth": 0,
              "ticks": ""
             }
            },
            "type": "scatterpolar"
           }
          ],
          "scatterpolargl": [
           {
            "marker": {
             "colorbar": {
              "outlinewidth": 0,
              "ticks": ""
             }
            },
            "type": "scatterpolargl"
           }
          ],
          "scatterternary": [
           {
            "marker": {
             "colorbar": {
              "outlinewidth": 0,
              "ticks": ""
             }
            },
            "type": "scatterternary"
           }
          ],
          "surface": [
           {
            "colorbar": {
             "outlinewidth": 0,
             "ticks": ""
            },
            "colorscale": [
             [
              0,
              "#0d0887"
             ],
             [
              0.1111111111111111,
              "#46039f"
             ],
             [
              0.2222222222222222,
              "#7201a8"
             ],
             [
              0.3333333333333333,
              "#9c179e"
             ],
             [
              0.4444444444444444,
              "#bd3786"
             ],
             [
              0.5555555555555556,
              "#d8576b"
             ],
             [
              0.6666666666666666,
              "#ed7953"
             ],
             [
              0.7777777777777778,
              "#fb9f3a"
             ],
             [
              0.8888888888888888,
              "#fdca26"
             ],
             [
              1,
              "#f0f921"
             ]
            ],
            "type": "surface"
           }
          ],
          "table": [
           {
            "cells": {
             "fill": {
              "color": "#EBF0F8"
             },
             "line": {
              "color": "white"
             }
            },
            "header": {
             "fill": {
              "color": "#C8D4E3"
             },
             "line": {
              "color": "white"
             }
            },
            "type": "table"
           }
          ]
         },
         "layout": {
          "annotationdefaults": {
           "arrowcolor": "#2a3f5f",
           "arrowhead": 0,
           "arrowwidth": 1
          },
          "autotypenumbers": "strict",
          "coloraxis": {
           "colorbar": {
            "outlinewidth": 0,
            "ticks": ""
           }
          },
          "colorscale": {
           "diverging": [
            [
             0,
             "#8e0152"
            ],
            [
             0.1,
             "#c51b7d"
            ],
            [
             0.2,
             "#de77ae"
            ],
            [
             0.3,
             "#f1b6da"
            ],
            [
             0.4,
             "#fde0ef"
            ],
            [
             0.5,
             "#f7f7f7"
            ],
            [
             0.6,
             "#e6f5d0"
            ],
            [
             0.7,
             "#b8e186"
            ],
            [
             0.8,
             "#7fbc41"
            ],
            [
             0.9,
             "#4d9221"
            ],
            [
             1,
             "#276419"
            ]
           ],
           "sequential": [
            [
             0,
             "#0d0887"
            ],
            [
             0.1111111111111111,
             "#46039f"
            ],
            [
             0.2222222222222222,
             "#7201a8"
            ],
            [
             0.3333333333333333,
             "#9c179e"
            ],
            [
             0.4444444444444444,
             "#bd3786"
            ],
            [
             0.5555555555555556,
             "#d8576b"
            ],
            [
             0.6666666666666666,
             "#ed7953"
            ],
            [
             0.7777777777777778,
             "#fb9f3a"
            ],
            [
             0.8888888888888888,
             "#fdca26"
            ],
            [
             1,
             "#f0f921"
            ]
           ],
           "sequentialminus": [
            [
             0,
             "#0d0887"
            ],
            [
             0.1111111111111111,
             "#46039f"
            ],
            [
             0.2222222222222222,
             "#7201a8"
            ],
            [
             0.3333333333333333,
             "#9c179e"
            ],
            [
             0.4444444444444444,
             "#bd3786"
            ],
            [
             0.5555555555555556,
             "#d8576b"
            ],
            [
             0.6666666666666666,
             "#ed7953"
            ],
            [
             0.7777777777777778,
             "#fb9f3a"
            ],
            [
             0.8888888888888888,
             "#fdca26"
            ],
            [
             1,
             "#f0f921"
            ]
           ]
          },
          "colorway": [
           "#636efa",
           "#EF553B",
           "#00cc96",
           "#ab63fa",
           "#FFA15A",
           "#19d3f3",
           "#FF6692",
           "#B6E880",
           "#FF97FF",
           "#FECB52"
          ],
          "font": {
           "color": "#2a3f5f"
          },
          "geo": {
           "bgcolor": "white",
           "lakecolor": "white",
           "landcolor": "#E5ECF6",
           "showlakes": true,
           "showland": true,
           "subunitcolor": "white"
          },
          "hoverlabel": {
           "align": "left"
          },
          "hovermode": "closest",
          "mapbox": {
           "style": "light"
          },
          "paper_bgcolor": "white",
          "plot_bgcolor": "#E5ECF6",
          "polar": {
           "angularaxis": {
            "gridcolor": "white",
            "linecolor": "white",
            "ticks": ""
           },
           "bgcolor": "#E5ECF6",
           "radialaxis": {
            "gridcolor": "white",
            "linecolor": "white",
            "ticks": ""
           }
          },
          "scene": {
           "xaxis": {
            "backgroundcolor": "#E5ECF6",
            "gridcolor": "white",
            "gridwidth": 2,
            "linecolor": "white",
            "showbackground": true,
            "ticks": "",
            "zerolinecolor": "white"
           },
           "yaxis": {
            "backgroundcolor": "#E5ECF6",
            "gridcolor": "white",
            "gridwidth": 2,
            "linecolor": "white",
            "showbackground": true,
            "ticks": "",
            "zerolinecolor": "white"
           },
           "zaxis": {
            "backgroundcolor": "#E5ECF6",
            "gridcolor": "white",
            "gridwidth": 2,
            "linecolor": "white",
            "showbackground": true,
            "ticks": "",
            "zerolinecolor": "white"
           }
          },
          "shapedefaults": {
           "line": {
            "color": "#2a3f5f"
           }
          },
          "ternary": {
           "aaxis": {
            "gridcolor": "white",
            "linecolor": "white",
            "ticks": ""
           },
           "baxis": {
            "gridcolor": "white",
            "linecolor": "white",
            "ticks": ""
           },
           "bgcolor": "#E5ECF6",
           "caxis": {
            "gridcolor": "white",
            "linecolor": "white",
            "ticks": ""
           }
          },
          "title": {
           "x": 0.05
          },
          "xaxis": {
           "automargin": true,
           "gridcolor": "white",
           "linecolor": "white",
           "ticks": "",
           "title": {
            "standoff": 15
           },
           "zerolinecolor": "white",
           "zerolinewidth": 2
          },
          "yaxis": {
           "automargin": true,
           "gridcolor": "white",
           "linecolor": "white",
           "ticks": "",
           "title": {
            "standoff": 15
           },
           "zerolinecolor": "white",
           "zerolinewidth": 2
          }
         }
        }
       }
      },
      "text/html": [
       "<div>                            <div id=\"970d2f41-e973-43df-bfd5-1cb606e206b7\" class=\"plotly-graph-div\" style=\"height:525px; width:100%;\"></div>            <script type=\"text/javascript\">                require([\"plotly\"], function(Plotly) {                    window.PLOTLYENV=window.PLOTLYENV || {};                                    if (document.getElementById(\"970d2f41-e973-43df-bfd5-1cb606e206b7\")) {                    Plotly.newPlot(                        \"970d2f41-e973-43df-bfd5-1cb606e206b7\",                        [{\"line\":{\"color\":\"green\"},\"mode\":\"lines\",\"name\":\"Average\",\"type\":\"scatter\",\"x\":[\"1/10/09\",\"1/10/09\",\"1/10/09\",\"1/10/09\",\"1/10/09\",\"1/10/09\",\"1/10/09\",\"1/10/09\",\"1/10/09\",\"1/10/09\",\"1/10/09\",\"1/10/09\",\"1/11/09\",\"1/11/09\",\"1/11/09\",\"1/11/09\",\"1/11/09\",\"1/11/09\",\"1/11/09\",\"1/11/09\",\"1/11/09\",\"1/11/09\",\"1/11/09\",\"1/11/09\",\"1/11/09\",\"1/11/09\",\"1/12/09\",\"1/12/09\",\"1/12/09\",\"1/12/09\",\"1/12/09\",\"1/12/09\",\"1/12/09\",\"1/12/09\",\"1/12/09\",\"1/12/09\",\"1/12/09\",\"1/12/09\",\"1/13/09\",\"1/13/09\",\"1/13/09\",\"1/13/09\",\"1/13/09\",\"1/13/09\",\"1/13/09\",\"1/13/09\",\"1/13/09\",\"1/13/09\",\"1/13/09\",\"1/13/09\",\"1/13/09\",\"1/13/09\",\"1/14/09\",\"1/14/09\",\"1/14/09\",\"1/14/09\",\"1/14/09\",\"1/14/09\",\"1/14/09\",\"1/14/09\",\"1/14/09\",\"1/14/09\",\"1/14/09\",\"1/14/09\",\"1/14/09\",\"1/14/09\",\"1/14/09\",\"1/14/09\",\"1/14/09\",\"1/14/09\",\"1/14/09\",\"1/14/09\",\"1/14/09\",\"1/14/09\",\"1/15/09\",\"1/15/09\",\"1/15/09\",\"1/15/09\",\"1/15/09\",\"1/15/09\",\"1/16/09\",\"1/16/09\",\"1/16/09\",\"1/16/09\",\"1/16/09\",\"1/16/09\",\"1/16/09\",\"1/16/09\",\"1/16/09\",\"1/16/09\",\"1/16/09\",\"1/16/09\",\"1/16/09\",\"1/16/09\",\"1/16/09\",\"1/16/09\",\"1/16/09\",\"1/16/09\",\"1/16/09\",\"1/16/09\",\"1/17/09\",\"1/17/09\",\"1/17/09\",\"1/17/09\",\"1/17/09\",\"1/17/09\",\"1/17/09\",\"1/17/09\",\"1/17/09\",\"1/17/09\",\"1/17/09\",\"1/17/09\",\"1/17/09\",\"1/17/09\",\"1/17/09\",\"1/17/09\",\"1/17/09\",\"1/17/09\",\"1/18/09\",\"1/18/09\",\"1/18/09\",\"1/18/09\",\"1/19/09\",\"1/19/09\",\"1/19/09\",\"1/19/09\",\"1/19/09\",\"1/19/09\",\"1/19/09\",\"1/19/09\",\"1/19/09\",\"1/19/09\",\"1/19/09\",\"1/19/09\",\"1/19/09\",\"1/19/09\",\"1/19/09\",\"1/19/09\",\"1/19/09\",\"1/19/09\",\"1/19/09\",\"1/19/09\",\"1/19/09\",\"1/19/09\",\"1/19/09\",\"1/19/09\",\"1/2/09\",\"1/2/09\",\"1/2/09\",\"1/2/09\",\"1/2/09\",\"1/2/09\",\"1/2/09\",\"1/2/09\",\"1/2/09\",\"1/2/09\",\"1/2/09\",\"1/2/09\",\"1/2/09\",\"1/2/09\",\"1/2/09\",\"1/2/09\",\"1/2/09\",\"1/2/09\",\"1/2/09\",\"1/2/09\",\"1/2/09\",\"1/2/09\",\"1/2/09\",\"1/2/09\",\"1/2/09\",\"1/2/09\",\"1/2/09\",\"1/2/09\",\"1/2/09\",\"1/2/09\",\"1/20/09\",\"1/20/09\",\"1/20/09\",\"1/20/09\",\"1/20/09\",\"1/20/09\",\"1/20/09\",\"1/20/09\",\"1/21/09\",\"1/21/09\",\"1/21/09\",\"1/21/09\",\"1/21/09\",\"1/21/09\",\"1/21/09\",\"1/21/09\",\"1/21/09\",\"1/21/09\",\"1/21/09\",\"1/21/09\",\"1/21/09\",\"1/21/09\",\"1/21/09\",\"1/21/09\",\"1/21/09\",\"1/21/09\",\"1/21/09\",\"1/21/09\",\"1/21/09\",\"1/21/09\",\"1/22/09\",\"1/22/09\",\"1/22/09\",\"1/22/09\",\"1/23/09\",\"1/23/09\",\"1/23/09\",\"1/23/09\",\"1/23/09\",\"1/23/09\",\"1/23/09\",\"1/23/09\",\"1/23/09\",\"1/23/09\",\"1/23/09\",\"1/23/09\",\"1/23/09\",\"1/23/09\",\"1/23/09\",\"1/23/09\",\"1/23/09\",\"1/23/09\",\"1/23/09\",\"1/23/09\",\"1/24/09\",\"1/24/09\",\"1/24/09\",\"1/24/09\",\"1/24/09\",\"1/24/09\",\"1/24/09\",\"1/24/09\",\"1/24/09\",\"1/24/09\",\"1/24/09\",\"1/24/09\",\"1/25/09\",\"1/25/09\",\"1/25/09\",\"1/25/09\",\"1/25/09\",\"1/25/09\",\"1/25/09\",\"1/25/09\",\"1/25/09\",\"1/25/09\",\"1/25/09\",\"1/25/09\",\"1/25/09\",\"1/25/09\",\"1/25/09\",\"1/25/09\",\"1/25/09\",\"1/25/09\",\"1/26/09\",\"1/26/09\",\"1/26/09\",\"1/26/09\",\"1/26/09\",\"1/26/09\",\"1/26/09\",\"1/26/09\",\"1/26/09\",\"1/26/09\",\"1/26/09\",\"1/26/09\",\"1/26/09\",\"1/26/09\",\"1/27/09\",\"1/27/09\",\"1/27/09\",\"1/27/09\",\"1/27/09\",\"1/27/09\",\"1/27/09\",\"1/27/09\",\"1/27/09\",\"1/27/09\",\"1/28/09\",\"1/28/09\",\"1/28/09\",\"1/28/09\",\"1/28/09\",\"1/28/09\",\"1/28/09\",\"1/28/09\",\"1/28/09\",\"1/28/09\",\"1/28/09\",\"1/28/09\",\"1/28/09\",\"1/28/09\",\"1/28/09\",\"1/28/09\",\"1/28/09\",\"1/28/09\",\"1/28/09\",\"1/28/09\",\"1/28/09\",\"1/28/09\",\"1/28/09\",\"1/28/09\",\"1/29/09\",\"1/29/09\",\"1/29/09\",\"1/29/09\",\"1/3/09\",\"1/3/09\",\"1/3/09\",\"1/3/09\",\"1/3/09\",\"1/3/09\",\"1/3/09\",\"1/3/09\",\"1/3/09\",\"1/3/09\",\"1/3/09\",\"1/3/09\",\"1/3/09\",\"1/3/09\",\"1/30/09\",\"1/30/09\",\"1/30/09\",\"1/30/09\",\"1/30/09\",\"1/30/09\",\"1/30/09\",\"1/30/09\",\"1/30/09\",\"1/30/09\",\"1/30/09\",\"1/30/09\",\"1/30/09\",\"1/30/09\",\"1/30/09\",\"1/30/09\",\"1/30/09\",\"1/30/09\",\"1/30/09\",\"1/30/09\",\"1/30/09\",\"1/30/09\",\"1/31/09\",\"1/31/09\",\"1/31/09\",\"1/31/09\",\"1/31/09\",\"1/31/09\",\"1/31/09\",\"1/31/09\",\"1/31/09\",\"1/31/09\",\"1/31/09\",\"1/31/09\",\"1/31/09\",\"1/31/09\",\"1/31/09\",\"1/31/09\",\"1/31/09\",\"1/31/09\",\"1/31/09\",\"1/31/09\",\"1/4/09\",\"1/4/09\",\"1/4/09\",\"1/4/09\",\"1/4/09\",\"1/4/09\",\"1/4/09\",\"1/4/09\",\"1/4/09\",\"1/4/09\",\"1/4/09\",\"1/4/09\",\"1/5/09\",\"1/5/09\",\"1/5/09\",\"1/5/09\",\"1/5/09\",\"1/5/09\",\"1/5/09\",\"1/5/09\",\"1/5/09\",\"1/5/09\",\"1/6/09\",\"1/6/09\",\"1/6/09\",\"1/6/09\",\"1/6/09\",\"1/6/09\",\"1/6/09\",\"1/6/09\",\"1/6/09\",\"1/6/09\",\"1/6/09\",\"1/6/09\",\"1/6/09\",\"1/6/09\",\"1/6/09\",\"1/6/09\",\"1/7/09\",\"1/7/09\",\"1/7/09\",\"1/7/09\",\"1/7/09\",\"1/7/09\",\"1/7/09\",\"1/7/09\",\"1/7/09\",\"1/7/09\",\"1/7/09\",\"1/7/09\",\"1/7/09\",\"1/7/09\",\"1/7/09\",\"1/7/09\",\"1/7/09\",\"1/7/09\",\"1/7/09\",\"1/7/09\",\"1/7/09\",\"1/7/09\",\"1/7/09\",\"1/7/09\",\"1/8/09\",\"1/8/09\",\"1/8/09\",\"1/8/09\",\"1/9/09\",\"1/9/09\",\"1/9/09\",\"1/9/09\",\"1/9/09\",\"1/9/09\",\"1/9/09\",\"1/9/09\",\"1/9/09\",\"1/9/09\",\"1/9/09\",\"1/9/09\",\"1/9/09\",\"1/9/09\",\"1/9/09\",\"1/9/09\",\"1/9/09\",\"1/9/09\",\"1/9/09\",\"1/9/09\",\"1/9/09\",\"1/9/09\",\"1/9/09\",\"1/9/09\",\"10/28/08\",\"10/28/08\",\"10/28/08\",\"10/28/08\",\"10/28/08\",\"10/28/08\",\"10/29/08\",\"10/29/08\",\"10/29/08\",\"10/29/08\",\"10/29/08\",\"10/29/08\",\"10/29/08\",\"10/29/08\",\"10/29/08\",\"10/29/08\",\"10/29/08\",\"10/29/08\",\"10/29/08\",\"10/29/08\",\"10/29/08\",\"10/29/08\",\"10/29/08\",\"10/29/08\",\"10/29/08\",\"10/29/08\",\"10/29/08\",\"10/29/08\",\"10/29/08\",\"10/29/08\",\"10/30/08\",\"10/30/08\",\"10/30/08\",\"10/30/08\",\"10/30/08\",\"10/30/08\",\"10/31/08\",\"10/31/08\",\"10/31/08\",\"10/31/08\",\"10/31/08\",\"10/31/08\",\"10/31/08\",\"10/31/08\",\"10/31/08\",\"10/31/08\",\"10/31/08\",\"10/31/08\",\"10/31/08\",\"10/31/08\",\"11/1/08\",\"11/1/08\",\"11/1/08\",\"11/1/08\",\"11/1/08\",\"11/1/08\",\"11/1/08\",\"11/1/08\",\"11/1/08\",\"11/1/08\",\"11/1/08\",\"11/1/08\",\"11/1/08\",\"11/1/08\",\"11/1/08\",\"11/1/08\",\"11/1/08\",\"11/1/08\",\"11/1/08\",\"11/1/08\",\"11/1/08\",\"11/1/08\",\"11/1/08\",\"11/1/08\",\"11/1/08\",\"11/1/08\",\"11/1/08\",\"11/1/08\",\"11/10/08\",\"11/10/08\",\"11/10/08\",\"11/10/08\",\"11/10/08\",\"11/10/08\",\"11/10/08\",\"11/10/08\",\"11/10/08\",\"11/10/08\",\"11/11/08\",\"11/11/08\",\"11/11/08\",\"11/11/08\",\"11/11/08\",\"11/11/08\",\"11/11/08\",\"11/11/08\",\"11/11/08\",\"11/11/08\",\"11/11/08\",\"11/11/08\",\"11/11/08\",\"11/11/08\",\"11/11/08\",\"11/11/08\",\"11/12/08\",\"11/12/08\",\"11/12/08\",\"11/12/08\",\"11/12/08\",\"11/12/08\",\"11/12/08\",\"11/12/08\",\"11/12/08\",\"11/12/08\",\"11/12/08\",\"11/12/08\",\"11/12/08\",\"11/12/08\",\"11/12/08\",\"11/12/08\",\"11/12/08\",\"11/12/08\",\"11/12/08\",\"11/12/08\",\"11/12/08\",\"11/12/08\",\"11/13/08\",\"11/13/08\",\"11/13/08\",\"11/13/08\",\"11/13/08\",\"11/13/08\",\"11/14/08\",\"11/14/08\",\"11/14/08\",\"11/14/08\",\"11/14/08\",\"11/14/08\",\"11/14/08\",\"11/14/08\",\"11/14/08\",\"11/14/08\",\"11/14/08\",\"11/14/08\",\"11/14/08\",\"11/14/08\",\"11/14/08\",\"11/14/08\",\"11/14/08\",\"11/14/08\",\"11/14/08\",\"11/14/08\",\"11/14/08\",\"11/14/08\",\"11/14/08\",\"11/14/08\",\"11/15/08\",\"11/15/08\",\"11/15/08\",\"11/15/08\",\"11/15/08\",\"11/15/08\",\"11/15/08\",\"11/15/08\",\"11/15/08\",\"11/15/08\",\"11/15/08\",\"11/15/08\",\"11/15/08\",\"11/15/08\",\"11/15/08\",\"11/15/08\",\"11/16/08\",\"11/16/08\",\"11/16/08\",\"11/16/08\",\"11/16/08\",\"11/16/08\",\"11/16/08\",\"11/16/08\",\"11/16/08\",\"11/16/08\",\"11/16/08\",\"11/16/08\",\"11/17/08\",\"11/17/08\",\"11/17/08\",\"11/17/08\",\"11/17/08\",\"11/17/08\",\"11/18/08\",\"11/18/08\",\"11/18/08\",\"11/18/08\",\"11/18/08\",\"11/18/08\",\"11/18/08\",\"11/18/08\",\"11/18/08\",\"11/18/08\",\"11/18/08\",\"11/18/08\",\"11/18/08\",\"11/18/08\",\"11/18/08\",\"11/18/08\",\"11/18/08\",\"11/18/08\",\"11/18/08\",\"11/18/08\",\"11/19/08\",\"11/19/08\",\"11/19/08\",\"11/19/08\",\"11/19/08\",\"11/19/08\",\"11/19/08\",\"11/19/08\",\"11/19/08\",\"11/19/08\",\"11/19/08\",\"11/19/08\",\"11/19/08\",\"11/19/08\",\"11/19/08\",\"11/19/08\",\"11/19/08\",\"11/19/08\",\"11/19/08\",\"11/19/08\",\"11/2/08\",\"11/2/08\",\"11/2/08\",\"11/2/08\",\"11/20/08\",\"11/20/08\",\"11/20/08\",\"11/20/08\",\"11/21/08\",\"11/21/08\",\"11/21/08\",\"11/21/08\",\"11/21/08\",\"11/21/08\",\"11/21/08\",\"11/21/08\",\"11/21/08\",\"11/21/08\",\"11/21/08\",\"11/21/08\",\"11/21/08\",\"11/21/08\",\"11/21/08\",\"11/21/08\",\"11/21/08\",\"11/21/08\",\"11/21/08\",\"11/21/08\",\"11/21/08\",\"11/21/08\",\"11/21/08\",\"11/21/08\",\"11/21/08\",\"11/21/08\",\"11/22/08\",\"11/22/08\",\"11/22/08\",\"11/22/08\",\"11/22/08\",\"11/22/08\",\"11/22/08\",\"11/22/08\",\"11/22/08\",\"11/22/08\",\"11/22/08\",\"11/22/08\",\"11/22/08\",\"11/22/08\",\"11/22/08\",\"11/22/08\",\"11/22/08\",\"11/22/08\",\"11/23/08\",\"11/23/08\",\"11/23/08\",\"11/23/08\",\"11/23/08\",\"11/23/08\",\"11/23/08\",\"11/23/08\",\"11/23/08\",\"11/23/08\",\"11/24/08\",\"11/24/08\",\"11/24/08\",\"11/24/08\",\"11/24/08\",\"11/24/08\",\"11/24/08\",\"11/24/08\",\"11/24/08\",\"11/24/08\",\"11/24/08\",\"11/24/08\",\"11/24/08\",\"11/24/08\",\"11/25/08\",\"11/25/08\",\"11/25/08\",\"11/25/08\",\"11/25/08\",\"11/25/08\",\"11/25/08\",\"11/25/08\",\"11/25/08\",\"11/25/08\",\"11/26/08\",\"11/26/08\",\"11/26/08\",\"11/26/08\",\"11/26/08\",\"11/26/08\",\"11/26/08\",\"11/26/08\",\"11/26/08\",\"11/26/08\",\"11/26/08\",\"11/26/08\",\"11/26/08\",\"11/26/08\",\"11/26/08\",\"11/26/08\",\"11/26/08\",\"11/26/08\",\"11/26/08\",\"11/26/08\",\"11/26/08\",\"11/26/08\",\"11/26/08\",\"11/26/08\",\"11/26/08\",\"11/26/08\",\"11/27/08\",\"11/27/08\",\"11/27/08\",\"11/27/08\",\"11/28/08\",\"11/28/08\",\"11/28/08\",\"11/28/08\",\"11/28/08\",\"11/28/08\",\"11/28/08\",\"11/28/08\",\"11/28/08\",\"11/28/08\",\"11/28/08\",\"11/28/08\",\"11/28/08\",\"11/28/08\",\"11/28/08\",\"11/28/08\",\"11/28/08\",\"11/28/08\",\"11/28/08\",\"11/28/08\",\"11/28/08\",\"11/28/08\",\"11/29/08\",\"11/29/08\",\"11/29/08\",\"11/29/08\",\"11/29/08\",\"11/29/08\",\"11/29/08\",\"11/29/08\",\"11/29/08\",\"11/29/08\",\"11/29/08\",\"11/29/08\",\"11/29/08\",\"11/29/08\",\"11/29/08\",\"11/29/08\",\"11/29/08\",\"11/29/08\",\"11/29/08\",\"11/29/08\",\"11/29/08\",\"11/29/08\",\"11/3/08\",\"11/3/08\",\"11/3/08\",\"11/3/08\",\"11/3/08\",\"11/3/08\",\"11/3/08\",\"11/3/08\",\"11/3/08\",\"11/3/08\",\"11/3/08\",\"11/3/08\",\"11/30/08\",\"11/30/08\",\"11/30/08\",\"11/30/08\",\"11/30/08\",\"11/30/08\",\"11/30/08\",\"11/30/08\",\"11/30/08\",\"11/30/08\",\"11/4/08\",\"11/4/08\",\"11/4/08\",\"11/4/08\",\"11/4/08\",\"11/4/08\",\"11/5/08\",\"11/5/08\",\"11/5/08\",\"11/5/08\",\"11/5/08\",\"11/5/08\",\"11/5/08\",\"11/5/08\",\"11/5/08\",\"11/5/08\",\"11/5/08\",\"11/5/08\",\"11/5/08\",\"11/5/08\",\"11/5/08\",\"11/5/08\",\"11/5/08\",\"11/5/08\",\"11/5/08\",\"11/5/08\",\"11/5/08\",\"11/5/08\",\"11/5/08\",\"11/5/08\",\"11/5/08\",\"11/5/08\",\"11/6/08\",\"11/6/08\",\"11/6/08\",\"11/6/08\",\"11/7/08\",\"11/7/08\",\"11/7/08\",\"11/7/08\",\"11/7/08\",\"11/7/08\",\"11/7/08\",\"11/7/08\",\"11/7/08\",\"11/7/08\",\"11/7/08\",\"11/7/08\",\"11/7/08\",\"11/7/08\",\"11/7/08\",\"11/7/08\",\"11/7/08\",\"11/7/08\",\"11/7/08\",\"11/7/08\",\"11/7/08\",\"11/7/08\",\"11/7/08\",\"11/7/08\",\"11/7/08\",\"11/7/08\",\"11/8/08\",\"11/8/08\",\"11/8/08\",\"11/8/08\",\"11/8/08\",\"11/8/08\",\"11/8/08\",\"11/8/08\",\"11/8/08\",\"11/8/08\",\"11/8/08\",\"11/8/08\",\"11/9/08\",\"11/9/08\",\"11/9/08\",\"11/9/08\",\"11/9/08\",\"11/9/08\",\"11/9/08\",\"11/9/08\",\"11/9/08\",\"11/9/08\",\"11/9/08\",\"11/9/08\",\"11/9/08\",\"11/9/08\",\"11/9/08\",\"11/9/08\",\"12/1/08\",\"12/1/08\",\"12/1/08\",\"12/1/08\",\"12/1/08\",\"12/1/08\",\"12/10/08\",\"12/10/08\",\"12/10/08\",\"12/10/08\",\"12/10/08\",\"12/10/08\",\"12/10/08\",\"12/10/08\",\"12/10/08\",\"12/10/08\",\"12/10/08\",\"12/10/08\",\"12/10/08\",\"12/10/08\",\"12/10/08\",\"12/10/08\",\"12/10/08\",\"12/10/08\",\"12/11/08\",\"12/11/08\",\"12/11/08\",\"12/11/08\",\"12/11/08\",\"12/11/08\",\"12/12/08\",\"12/12/08\",\"12/12/08\",\"12/12/08\",\"12/12/08\",\"12/12/08\",\"12/12/08\",\"12/12/08\",\"12/12/08\",\"12/12/08\",\"12/12/08\",\"12/12/08\",\"12/12/08\",\"12/12/08\",\"12/12/08\",\"12/12/08\",\"12/12/08\",\"12/12/08\",\"12/12/08\",\"12/12/08\",\"12/12/08\",\"12/12/08\",\"12/13/08\",\"12/13/08\",\"12/13/08\",\"12/13/08\",\"12/13/08\",\"12/13/08\",\"12/13/08\",\"12/13/08\",\"12/13/08\",\"12/13/08\",\"12/13/08\",\"12/13/08\",\"12/13/08\",\"12/13/08\",\"12/13/08\",\"12/13/08\",\"12/13/08\",\"12/13/08\",\"12/13/08\",\"12/13/08\",\"12/14/08\",\"12/14/08\",\"12/14/08\",\"12/14/08\",\"12/14/08\",\"12/14/08\",\"12/14/08\",\"12/14/08\",\"12/15/08\",\"12/15/08\",\"12/15/08\",\"12/15/08\",\"12/15/08\",\"12/15/08\",\"12/15/08\",\"12/15/08\",\"12/15/08\",\"12/15/08\",\"12/15/08\",\"12/15/08\",\"12/15/08\",\"12/15/08\",\"12/15/08\",\"12/15/08\",\"12/15/08\",\"12/15/08\",\"12/16/08\",\"12/16/08\",\"12/16/08\",\"12/16/08\",\"12/16/08\",\"12/16/08\",\"12/16/08\",\"12/16/08\",\"12/16/08\",\"12/16/08\",\"12/16/08\",\"12/16/08\",\"12/17/08\",\"12/17/08\",\"12/17/08\",\"12/17/08\",\"12/17/08\",\"12/17/08\",\"12/17/08\",\"12/17/08\",\"12/17/08\",\"12/17/08\",\"12/17/08\",\"12/17/08\",\"12/17/08\",\"12/17/08\",\"12/17/08\",\"12/17/08\",\"12/17/08\",\"12/17/08\",\"12/18/08\",\"12/18/08\",\"12/18/08\",\"12/18/08\",\"12/19/08\",\"12/19/08\",\"12/19/08\",\"12/19/08\",\"12/19/08\",\"12/19/08\",\"12/19/08\",\"12/19/08\",\"12/19/08\",\"12/19/08\",\"12/19/08\",\"12/19/08\",\"12/19/08\",\"12/19/08\",\"12/19/08\",\"12/19/08\",\"12/19/08\",\"12/19/08\",\"12/19/08\",\"12/19/08\",\"12/19/08\",\"12/19/08\",\"12/19/08\",\"12/19/08\",\"12/2/08\",\"12/2/08\",\"12/2/08\",\"12/2/08\",\"12/2/08\",\"12/2/08\",\"12/2/08\",\"12/2/08\",\"12/2/08\",\"12/2/08\",\"12/2/08\",\"12/2/08\",\"12/2/08\",\"12/2/08\",\"12/2/08\",\"12/2/08\",\"12/20/08\",\"12/20/08\",\"12/20/08\",\"12/20/08\",\"12/20/08\",\"12/20/08\",\"12/20/08\",\"12/20/08\",\"12/20/08\",\"12/20/08\",\"12/20/08\",\"12/20/08\",\"12/20/08\",\"12/20/08\",\"12/20/08\",\"12/20/08\",\"12/20/08\",\"12/20/08\",\"12/20/08\",\"12/20/08\",\"12/21/08\",\"12/21/08\",\"12/21/08\",\"12/21/08\",\"12/21/08\",\"12/21/08\",\"12/21/08\",\"12/21/08\",\"12/22/08\",\"12/22/08\",\"12/22/08\",\"12/22/08\",\"12/22/08\",\"12/22/08\",\"12/22/08\",\"12/22/08\",\"12/22/08\",\"12/22/08\",\"12/22/08\",\"12/22/08\",\"12/23/08\",\"12/23/08\",\"12/23/08\",\"12/23/08\",\"12/23/08\",\"12/23/08\",\"12/23/08\",\"12/23/08\",\"12/23/08\",\"12/23/08\",\"12/23/08\",\"12/23/08\",\"12/23/08\",\"12/23/08\",\"12/23/08\",\"12/23/08\",\"12/23/08\",\"12/23/08\",\"12/23/08\",\"12/23/08\",\"12/23/08\",\"12/23/08\",\"12/23/08\",\"12/23/08\",\"12/25/08\",\"12/25/08\",\"12/25/08\",\"12/25/08\",\"12/25/08\",\"12/25/08\",\"12/25/08\",\"12/25/08\",\"12/25/08\",\"12/25/08\",\"12/26/08\",\"12/26/08\",\"12/26/08\",\"12/26/08\",\"12/26/08\",\"12/26/08\",\"12/26/08\",\"12/26/08\",\"12/26/08\",\"12/26/08\",\"12/26/08\",\"12/26/08\",\"12/26/08\",\"12/26/08\",\"12/26/08\",\"12/26/08\",\"12/26/08\",\"12/26/08\",\"12/26/08\",\"12/26/08\",\"12/27/08\",\"12/27/08\",\"12/27/08\",\"12/27/08\",\"12/27/08\",\"12/27/08\",\"12/27/08\",\"12/27/08\",\"12/27/08\",\"12/27/08\",\"12/27/08\",\"12/27/08\",\"12/27/08\",\"12/27/08\",\"12/27/08\",\"12/27/08\",\"12/28/08\",\"12/28/08\",\"12/28/08\",\"12/28/08\",\"12/28/08\",\"12/28/08\",\"12/28/08\",\"12/28/08\",\"12/28/08\",\"12/28/08\",\"12/28/08\",\"12/28/08\",\"12/29/08\",\"12/29/08\",\"12/29/08\",\"12/29/08\",\"12/29/08\",\"12/29/08\",\"12/29/08\",\"12/29/08\",\"12/29/08\",\"12/29/08\",\"12/29/08\",\"12/29/08\",\"12/29/08\",\"12/29/08\",\"12/29/08\",\"12/29/08\",\"12/3/08\",\"12/3/08\",\"12/3/08\",\"12/3/08\",\"12/3/08\",\"12/3/08\",\"12/3/08\",\"12/3/08\",\"12/3/08\",\"12/3/08\",\"12/3/08\",\"12/3/08\",\"12/3/08\",\"12/3/08\",\"12/3/08\",\"12/3/08\",\"12/3/08\",\"12/3/08\",\"12/3/08\",\"12/3/08\",\"12/3/08\",\"12/3/08\",\"12/30/08\",\"12/30/08\",\"12/30/08\",\"12/30/08\",\"12/30/08\",\"12/30/08\",\"12/30/08\",\"12/30/08\",\"12/30/08\",\"12/30/08\",\"12/30/08\",\"12/30/08\",\"12/30/08\",\"12/30/08\",\"12/30/08\",\"12/30/08\",\"12/30/08\",\"12/30/08\",\"12/31/08\",\"12/31/08\",\"12/31/08\",\"12/31/08\",\"12/31/08\",\"12/31/08\",\"12/31/08\",\"12/31/08\",\"12/31/08\",\"12/31/08\",\"12/31/08\",\"12/31/08\",\"12/4/08\",\"12/4/08\",\"12/4/08\",\"12/4/08\",\"12/5/08\",\"12/5/08\",\"12/5/08\",\"12/5/08\",\"12/5/08\",\"12/5/08\",\"12/5/08\",\"12/5/08\",\"12/5/08\",\"12/5/08\",\"12/5/08\",\"12/5/08\",\"12/5/08\",\"12/5/08\",\"12/5/08\",\"12/5/08\",\"12/5/08\",\"12/5/08\",\"12/5/08\",\"12/5/08\",\"12/5/08\",\"12/5/08\",\"12/6/08\",\"12/6/08\",\"12/6/08\",\"12/6/08\",\"12/6/08\",\"12/6/08\",\"12/6/08\",\"12/6/08\",\"12/6/08\",\"12/6/08\",\"12/6/08\",\"12/6/08\",\"12/6/08\",\"12/6/08\",\"12/6/08\",\"12/6/08\",\"12/6/08\",\"12/6/08\",\"12/6/08\",\"12/6/08\",\"12/7/08\",\"12/7/08\",\"12/7/08\",\"12/7/08\",\"12/7/08\",\"12/7/08\",\"12/7/08\",\"12/7/08\",\"12/8/08\",\"12/8/08\",\"12/8/08\",\"12/8/08\",\"12/8/08\",\"12/8/08\",\"12/8/08\",\"12/8/08\",\"12/9/08\",\"12/9/08\",\"12/9/08\",\"12/9/08\",\"12/9/08\",\"12/9/08\",\"12/9/08\",\"12/9/08\",\"12/9/08\",\"12/9/08\",\"12/9/08\",\"12/9/08\",\"12/9/08\",\"12/9/08\",\"12/9/08\",\"12/9/08\",\"12/9/08\",\"12/9/08\",\"2/1/09\",\"2/1/09\",\"2/1/09\",\"2/1/09\",\"2/1/09\",\"2/1/09\",\"2/1/09\",\"2/1/09\",\"2/10/09\",\"2/10/09\",\"2/10/09\",\"2/10/09\",\"2/10/09\",\"2/10/09\",\"2/10/09\",\"2/10/09\",\"2/10/09\",\"2/10/09\",\"2/10/09\",\"2/10/09\",\"2/10/09\",\"2/10/09\",\"2/10/09\",\"2/10/09\",\"2/10/09\",\"2/10/09\",\"2/11/09\",\"2/11/09\",\"2/11/09\",\"2/11/09\",\"2/11/09\",\"2/11/09\",\"2/11/09\",\"2/11/09\",\"2/11/09\",\"2/11/09\",\"2/11/09\",\"2/11/09\",\"2/11/09\",\"2/11/09\",\"2/11/09\",\"2/11/09\",\"2/11/09\",\"2/11/09\",\"2/11/09\",\"2/11/09\",\"2/11/09\",\"2/11/09\",\"2/11/09\",\"2/11/09\",\"2/12/09\",\"2/12/09\",\"2/12/09\",\"2/12/09\",\"2/12/09\",\"2/12/09\",\"2/17/09\",\"2/17/09\",\"2/17/09\",\"2/17/09\",\"2/17/09\",\"2/17/09\",\"2/17/09\",\"2/17/09\",\"2/17/09\",\"2/17/09\",\"2/17/09\",\"2/17/09\",\"2/17/09\",\"2/17/09\",\"2/17/09\",\"2/17/09\",\"2/17/09\",\"2/17/09\",\"2/17/09\",\"2/17/09\",\"2/18/09\",\"2/18/09\",\"2/18/09\",\"2/18/09\",\"2/18/09\",\"2/18/09\",\"2/18/09\",\"2/18/09\",\"2/18/09\",\"2/18/09\",\"2/18/09\",\"2/18/09\",\"2/18/09\",\"2/18/09\",\"2/18/09\",\"2/18/09\",\"2/18/09\",\"2/18/09\",\"2/18/09\",\"2/18/09\",\"2/18/09\",\"2/18/09\",\"2/19/09\",\"2/19/09\",\"2/19/09\",\"2/19/09\",\"2/2/09\",\"2/2/09\",\"2/2/09\",\"2/2/09\",\"2/2/09\",\"2/2/09\",\"2/2/09\",\"2/2/09\",\"2/2/09\",\"2/2/09\",\"2/2/09\",\"2/2/09\",\"2/2/09\",\"2/2/09\",\"2/2/09\",\"2/2/09\",\"2/20/09\",\"2/20/09\",\"2/20/09\",\"2/20/09\",\"2/20/09\",\"2/20/09\",\"2/20/09\",\"2/20/09\",\"2/20/09\",\"2/20/09\",\"2/20/09\",\"2/20/09\",\"2/20/09\",\"2/20/09\",\"2/20/09\",\"2/20/09\",\"2/20/09\",\"2/20/09\",\"2/20/09\",\"2/20/09\",\"2/20/09\",\"2/20/09\",\"2/21/09\",\"2/21/09\",\"2/21/09\",\"2/21/09\",\"2/21/09\",\"2/21/09\",\"2/21/09\",\"2/21/09\",\"2/21/09\",\"2/21/09\",\"2/22/09\",\"2/22/09\",\"2/22/09\",\"2/22/09\",\"2/22/09\",\"2/22/09\",\"2/22/09\",\"2/22/09\",\"2/22/09\",\"2/22/09\",\"2/22/09\",\"2/22/09\",\"2/22/09\",\"2/22/09\",\"2/22/09\",\"2/22/09\",\"2/22/09\",\"2/22/09\",\"2/23/09\",\"2/23/09\",\"2/23/09\",\"2/23/09\",\"2/23/09\",\"2/23/09\",\"2/23/09\",\"2/23/09\",\"2/23/09\",\"2/23/09\",\"2/23/09\",\"2/23/09\",\"2/24/09\",\"2/24/09\",\"2/24/09\",\"2/24/09\",\"2/24/09\",\"2/24/09\",\"2/24/09\",\"2/24/09\",\"2/24/09\",\"2/24/09\",\"2/24/09\",\"2/24/09\",\"2/24/09\",\"2/24/09\",\"2/24/09\",\"2/24/09\",\"2/25/09\",\"2/25/09\",\"2/25/09\",\"2/25/09\",\"2/25/09\",\"2/25/09\",\"2/25/09\",\"2/25/09\",\"2/25/09\",\"2/25/09\",\"2/25/09\",\"2/25/09\",\"2/25/09\",\"2/25/09\",\"2/25/09\",\"2/25/09\",\"2/25/09\",\"2/25/09\",\"2/25/09\",\"2/25/09\",\"2/25/09\",\"2/25/09\",\"2/26/09\",\"2/26/09\",\"2/26/09\",\"2/26/09\",\"2/27/09\",\"2/27/09\",\"2/27/09\",\"2/27/09\",\"2/27/09\",\"2/27/09\",\"2/27/09\",\"2/27/09\",\"2/27/09\",\"2/27/09\",\"2/27/09\",\"2/27/09\",\"2/27/09\",\"2/27/09\",\"2/27/09\",\"2/27/09\",\"2/27/09\",\"2/27/09\",\"2/27/09\",\"2/27/09\",\"2/27/09\",\"2/27/09\",\"2/27/09\",\"2/27/09\",\"2/27/09\",\"2/27/09\",\"2/28/09\",\"2/28/09\",\"2/28/09\",\"2/28/09\",\"2/28/09\",\"2/28/09\",\"2/28/09\",\"2/28/09\",\"2/28/09\",\"2/28/09\",\"2/28/09\",\"2/28/09\",\"2/28/09\",\"2/28/09\",\"2/3/09\",\"2/3/09\",\"2/3/09\",\"2/3/09\",\"2/3/09\",\"2/3/09\",\"2/3/09\",\"2/3/09\",\"2/3/09\",\"2/3/09\",\"2/3/09\",\"2/3/09\",\"2/4/09\",\"2/4/09\",\"2/4/09\",\"2/4/09\",\"2/4/09\",\"2/4/09\",\"2/4/09\",\"2/4/09\",\"2/4/09\",\"2/4/09\",\"2/4/09\",\"2/4/09\",\"2/4/09\",\"2/4/09\",\"2/4/09\",\"2/4/09\",\"2/4/09\",\"2/4/09\",\"2/4/09\",\"2/4/09\",\"2/4/09\",\"2/4/09\",\"2/5/09\",\"2/5/09\",\"2/5/09\",\"2/5/09\",\"2/5/09\",\"2/5/09\",\"2/6/09\",\"2/6/09\",\"2/6/09\",\"2/6/09\",\"2/6/09\",\"2/6/09\",\"2/6/09\",\"2/6/09\",\"2/6/09\",\"2/6/09\",\"2/6/09\",\"2/6/09\",\"2/6/09\",\"2/6/09\",\"2/6/09\",\"2/6/09\",\"2/6/09\",\"2/6/09\",\"2/7/09\",\"2/7/09\",\"2/7/09\",\"2/7/09\",\"2/7/09\",\"2/7/09\",\"2/7/09\",\"2/7/09\",\"2/7/09\",\"2/7/09\",\"2/7/09\",\"2/7/09\",\"2/7/09\",\"2/7/09\",\"2/8/09\",\"2/8/09\",\"2/8/09\",\"2/8/09\",\"2/8/09\",\"2/8/09\",\"2/8/09\",\"2/8/09\",\"2/8/09\",\"2/8/09\",\"2/8/09\",\"2/8/09\",\"2/8/09\",\"2/8/09\",\"2/8/09\",\"2/8/09\",\"2/8/09\",\"2/8/09\",\"2/8/09\",\"2/8/09\",\"2/9/09\",\"2/9/09\",\"2/9/09\",\"2/9/09\",\"2/9/09\",\"2/9/09\",\"2/9/09\",\"2/9/09\",\"3/1/09\",\"3/1/09\",\"3/1/09\",\"3/1/09\",\"3/1/09\",\"3/1/09\",\"3/1/09\",\"3/1/09\",\"3/1/09\",\"3/1/09\",\"3/1/09\",\"3/1/09\",\"3/1/09\",\"3/1/09\",\"3/1/09\",\"3/1/09\",\"3/1/09\",\"3/1/09\",\"3/10/09\",\"3/10/09\",\"3/10/09\",\"3/10/09\",\"3/10/09\",\"3/10/09\",\"3/10/09\",\"3/10/09\",\"3/10/09\",\"3/10/09\",\"3/10/09\",\"3/10/09\",\"3/11/09\",\"3/11/09\",\"3/11/09\",\"3/11/09\",\"3/11/09\",\"3/11/09\",\"3/11/09\",\"3/11/09\",\"3/11/09\",\"3/11/09\",\"3/11/09\",\"3/11/09\",\"3/11/09\",\"3/11/09\",\"3/11/09\",\"3/11/09\",\"3/11/09\",\"3/11/09\",\"3/11/09\",\"3/11/09\",\"3/11/09\",\"3/11/09\",\"3/12/09\",\"3/12/09\",\"3/12/09\",\"3/12/09\",\"3/13/09\",\"3/13/09\",\"3/13/09\",\"3/13/09\",\"3/13/09\",\"3/13/09\",\"3/13/09\",\"3/13/09\",\"3/13/09\",\"3/13/09\",\"3/13/09\",\"3/13/09\",\"3/13/09\",\"3/13/09\",\"3/13/09\",\"3/13/09\",\"3/13/09\",\"3/13/09\",\"3/13/09\",\"3/13/09\",\"3/13/09\",\"3/13/09\",\"3/14/09\",\"3/14/09\",\"3/14/09\",\"3/14/09\",\"3/14/09\",\"3/14/09\",\"3/14/09\",\"3/14/09\",\"3/14/09\",\"3/14/09\",\"3/14/09\",\"3/14/09\",\"3/15/09\",\"3/15/09\",\"3/15/09\",\"3/15/09\",\"3/15/09\",\"3/15/09\",\"3/15/09\",\"3/15/09\",\"3/15/09\",\"3/15/09\",\"3/15/09\",\"3/15/09\",\"3/15/09\",\"3/15/09\",\"3/15/09\",\"3/15/09\",\"3/15/09\",\"3/15/09\",\"3/15/09\",\"3/15/09\",\"3/15/09\",\"3/15/09\",\"3/16/09\",\"3/16/09\",\"3/16/09\",\"3/16/09\",\"3/16/09\",\"3/16/09\",\"3/16/09\",\"3/16/09\",\"3/16/09\",\"3/16/09\",\"3/17/09\",\"3/17/09\",\"3/17/09\",\"3/17/09\",\"3/17/09\",\"3/17/09\",\"3/17/09\",\"3/17/09\",\"3/17/09\",\"3/17/09\",\"3/17/09\",\"3/17/09\",\"3/17/09\",\"3/17/09\",\"3/17/09\",\"3/17/09\",\"3/18/09\",\"3/18/09\",\"3/18/09\",\"3/18/09\",\"3/18/09\",\"3/18/09\",\"3/18/09\",\"3/18/09\",\"3/18/09\",\"3/18/09\",\"3/18/09\",\"3/18/09\",\"3/18/09\",\"3/18/09\",\"3/18/09\",\"3/18/09\",\"3/18/09\",\"3/18/09\",\"3/18/09\",\"3/18/09\",\"3/18/09\",\"3/18/09\",\"3/19/09\",\"3/19/09\",\"3/19/09\",\"3/19/09\",\"3/19/09\",\"3/19/09\",\"3/2/09\",\"3/2/09\",\"3/2/09\",\"3/2/09\",\"3/2/09\",\"3/2/09\",\"3/2/09\",\"3/2/09\",\"3/2/09\",\"3/2/09\",\"3/20/09\",\"3/20/09\",\"3/20/09\",\"3/20/09\",\"3/20/09\",\"3/20/09\",\"3/20/09\",\"3/20/09\",\"3/20/09\",\"3/20/09\",\"3/20/09\",\"3/20/09\",\"3/20/09\",\"3/20/09\",\"3/20/09\",\"3/20/09\",\"3/20/09\",\"3/20/09\",\"3/20/09\",\"3/20/09\",\"3/20/09\",\"3/20/09\",\"3/21/09\",\"3/21/09\",\"3/21/09\",\"3/21/09\",\"3/21/09\",\"3/21/09\",\"3/21/09\",\"3/21/09\",\"3/21/09\",\"3/21/09\",\"3/21/09\",\"3/21/09\",\"3/21/09\",\"3/21/09\",\"3/22/09\",\"3/22/09\",\"3/22/09\",\"3/22/09\",\"3/22/09\",\"3/22/09\",\"3/22/09\",\"3/22/09\",\"3/22/09\",\"3/22/09\",\"3/22/09\",\"3/22/09\",\"3/22/09\",\"3/22/09\",\"3/23/09\",\"3/23/09\",\"3/23/09\",\"3/23/09\",\"3/23/09\",\"3/23/09\",\"3/23/09\",\"3/23/09\",\"3/23/09\",\"3/23/09\",\"3/23/09\",\"3/23/09\",\"3/23/09\",\"3/23/09\",\"3/24/09\",\"3/24/09\",\"3/24/09\",\"3/24/09\",\"3/24/09\",\"3/24/09\",\"3/24/09\",\"3/24/09\",\"3/25/09\",\"3/25/09\",\"3/25/09\",\"3/25/09\",\"3/25/09\",\"3/25/09\",\"3/25/09\",\"3/25/09\",\"3/25/09\",\"3/25/09\",\"3/25/09\",\"3/25/09\",\"3/25/09\",\"3/25/09\",\"3/25/09\",\"3/25/09\",\"3/25/09\",\"3/25/09\",\"3/25/09\",\"3/25/09\",\"3/25/09\",\"3/25/09\",\"3/26/09\",\"3/26/09\",\"3/26/09\",\"3/26/09\",\"3/26/09\",\"3/26/09\",\"3/27/09\",\"3/27/09\",\"3/27/09\",\"3/27/09\",\"3/27/09\",\"3/27/09\",\"3/27/09\",\"3/27/09\",\"3/27/09\",\"3/27/09\",\"3/27/09\",\"3/27/09\",\"3/27/09\",\"3/27/09\",\"3/27/09\",\"3/27/09\",\"3/27/09\",\"3/27/09\",\"3/27/09\",\"3/27/09\",\"3/28/09\",\"3/28/09\",\"3/28/09\",\"3/28/09\",\"3/28/09\",\"3/28/09\",\"3/28/09\",\"3/28/09\",\"3/28/09\",\"3/28/09\",\"3/28/09\",\"3/28/09\",\"3/28/09\",\"3/28/09\",\"3/28/09\",\"3/28/09\",\"3/29/09\",\"3/29/09\",\"3/29/09\",\"3/29/09\",\"3/29/09\",\"3/29/09\",\"3/29/09\",\"3/29/09\",\"3/29/09\",\"3/29/09\",\"3/29/09\",\"3/29/09\",\"3/29/09\",\"3/29/09\",\"3/29/09\",\"3/29/09\",\"3/29/09\",\"3/29/09\",\"3/3/09\",\"3/3/09\",\"3/3/09\",\"3/3/09\",\"3/3/09\",\"3/3/09\",\"3/3/09\",\"3/3/09\",\"3/3/09\",\"3/3/09\",\"3/3/09\",\"3/3/09\",\"3/3/09\",\"3/3/09\",\"3/3/09\",\"3/3/09\",\"3/30/09\",\"3/30/09\",\"3/30/09\",\"3/30/09\",\"3/30/09\",\"3/30/09\",\"3/30/09\",\"3/30/09\",\"3/31/09\",\"3/31/09\",\"3/31/09\",\"3/31/09\",\"3/31/09\",\"3/31/09\",\"3/31/09\",\"3/31/09\",\"3/31/09\",\"3/31/09\",\"3/31/09\",\"3/31/09\",\"3/31/09\",\"3/31/09\",\"3/31/09\",\"3/31/09\",\"3/31/09\",\"3/31/09\",\"3/4/09\",\"3/4/09\",\"3/4/09\",\"3/4/09\",\"3/4/09\",\"3/4/09\",\"3/4/09\",\"3/4/09\",\"3/4/09\",\"3/4/09\",\"3/4/09\",\"3/4/09\",\"3/4/09\",\"3/4/09\",\"3/4/09\",\"3/4/09\",\"3/4/09\",\"3/4/09\",\"3/4/09\",\"3/4/09\",\"3/5/09\",\"3/5/09\",\"3/5/09\",\"3/5/09\",\"3/6/09\",\"3/6/09\",\"3/6/09\",\"3/6/09\",\"3/6/09\",\"3/6/09\",\"3/6/09\",\"3/6/09\",\"3/6/09\",\"3/6/09\",\"3/6/09\",\"3/6/09\",\"3/6/09\",\"3/6/09\",\"3/6/09\",\"3/6/09\",\"3/6/09\",\"3/6/09\",\"3/6/09\",\"3/6/09\",\"3/7/09\",\"3/7/09\",\"3/7/09\",\"3/7/09\",\"3/7/09\",\"3/7/09\",\"3/7/09\",\"3/7/09\",\"3/7/09\",\"3/7/09\",\"3/7/09\",\"3/7/09\",\"3/7/09\",\"3/7/09\",\"3/7/09\",\"3/7/09\",\"3/7/09\",\"3/7/09\",\"3/8/09\",\"3/8/09\",\"3/8/09\",\"3/8/09\",\"3/8/09\",\"3/8/09\",\"3/8/09\",\"3/8/09\",\"3/8/09\",\"3/8/09\",\"3/8/09\",\"3/8/09\",\"3/8/09\",\"3/8/09\",\"3/9/09\",\"3/9/09\",\"3/9/09\",\"3/9/09\",\"3/9/09\",\"3/9/09\",\"3/9/09\",\"3/9/09\",\"3/9/09\",\"3/9/09\",\"3/9/09\",\"3/9/09\",\"4/1/09\",\"4/1/09\",\"4/1/09\",\"4/1/09\",\"4/1/09\",\"4/1/09\",\"4/1/09\",\"4/1/09\",\"4/1/09\",\"4/1/09\",\"4/1/09\",\"4/1/09\",\"4/1/09\",\"4/1/09\",\"4/1/09\",\"4/1/09\",\"4/1/09\",\"4/1/09\",\"4/10/09\",\"4/10/09\",\"4/10/09\",\"4/10/09\",\"4/10/09\",\"4/10/09\",\"4/10/09\",\"4/10/09\",\"4/10/09\",\"4/10/09\",\"4/10/09\",\"4/10/09\",\"4/10/09\",\"4/10/09\",\"4/10/09\",\"4/10/09\",\"4/10/09\",\"4/10/09\",\"4/10/09\",\"4/10/09\",\"4/10/09\",\"4/10/09\",\"4/10/09\",\"4/10/09\",\"4/10/09\",\"4/10/09\",\"4/11/09\",\"4/11/09\",\"4/11/09\",\"4/11/09\",\"4/11/09\",\"4/11/09\",\"4/11/09\",\"4/11/09\",\"4/11/09\",\"4/11/09\",\"4/11/09\",\"4/11/09\",\"4/11/09\",\"4/11/09\",\"4/12/09\",\"4/12/09\",\"4/12/09\",\"4/12/09\",\"4/12/09\",\"4/12/09\",\"4/12/09\",\"4/12/09\",\"4/12/09\",\"4/12/09\",\"4/12/09\",\"4/12/09\",\"4/13/09\",\"4/13/09\",\"4/13/09\",\"4/13/09\",\"4/13/09\",\"4/13/09\",\"4/13/09\",\"4/13/09\",\"4/13/09\",\"4/13/09\",\"4/13/09\",\"4/13/09\",\"4/13/09\",\"4/13/09\",\"4/13/09\",\"4/13/09\",\"4/13/09\",\"4/13/09\",\"4/13/09\",\"4/13/09\",\"4/13/09\",\"4/13/09\",\"4/13/09\",\"4/13/09\",\"4/14/09\",\"4/14/09\",\"4/14/09\",\"4/14/09\",\"4/14/09\",\"4/14/09\",\"4/15/09\",\"4/15/09\",\"4/15/09\",\"4/15/09\",\"4/15/09\",\"4/15/09\",\"4/15/09\",\"4/15/09\",\"4/15/09\",\"4/15/09\",\"4/15/09\",\"4/15/09\",\"4/15/09\",\"4/15/09\",\"4/15/09\",\"4/15/09\",\"4/15/09\",\"4/15/09\",\"4/15/09\",\"4/15/09\",\"4/15/09\",\"4/15/09\",\"4/15/09\",\"4/15/09\",\"4/15/09\",\"4/15/09\",\"4/15/09\",\"4/15/09\",\"4/18/09\",\"4/18/09\",\"4/18/09\",\"4/18/09\",\"4/18/09\",\"4/18/09\",\"4/18/09\",\"4/18/09\",\"4/19/09\",\"4/19/09\",\"4/19/09\",\"4/19/09\",\"4/19/09\",\"4/19/09\",\"4/19/09\",\"4/19/09\",\"4/2/09\",\"4/2/09\",\"4/2/09\",\"4/2/09\",\"4/2/09\",\"4/2/09\",\"4/20/09\",\"4/20/09\",\"4/20/09\",\"4/20/09\",\"4/21/09\",\"4/21/09\",\"4/21/09\",\"4/21/09\",\"4/21/09\",\"4/21/09\",\"4/22/09\",\"4/22/09\",\"4/22/09\",\"4/22/09\",\"4/22/09\",\"4/22/09\",\"4/23/09\",\"4/23/09\",\"4/23/09\",\"4/23/09\",\"4/23/09\",\"4/23/09\",\"4/24/09\",\"4/24/09\",\"4/24/09\",\"4/24/09\",\"4/24/09\",\"4/24/09\",\"4/25/09\",\"4/25/09\",\"4/25/09\",\"4/25/09\",\"4/25/09\",\"4/25/09\",\"4/25/09\",\"4/25/09\",\"4/26/09\",\"4/26/09\",\"4/26/09\",\"4/26/09\",\"4/26/09\",\"4/26/09\",\"4/26/09\",\"4/26/09\",\"4/27/09\",\"4/27/09\",\"4/27/09\",\"4/27/09\",\"4/27/09\",\"4/27/09\",\"4/28/09\",\"4/28/09\",\"4/28/09\",\"4/28/09\",\"4/28/09\",\"4/28/09\",\"4/28/09\",\"4/28/09\",\"4/29/09\",\"4/29/09\",\"4/29/09\",\"4/29/09\",\"4/3/09\",\"4/3/09\",\"4/3/09\",\"4/3/09\",\"4/3/09\",\"4/3/09\",\"4/3/09\",\"4/3/09\",\"4/3/09\",\"4/3/09\",\"4/3/09\",\"4/3/09\",\"4/3/09\",\"4/3/09\",\"4/3/09\",\"4/3/09\",\"4/3/09\",\"4/3/09\",\"4/3/09\",\"4/3/09\",\"4/30/09\",\"4/30/09\",\"4/30/09\",\"4/30/09\",\"4/30/09\",\"4/30/09\",\"4/4/09\",\"4/4/09\",\"4/4/09\",\"4/4/09\",\"4/4/09\",\"4/4/09\",\"4/4/09\",\"4/4/09\",\"4/4/09\",\"4/4/09\",\"4/4/09\",\"4/4/09\",\"4/4/09\",\"4/4/09\",\"4/5/09\",\"4/5/09\",\"4/5/09\",\"4/5/09\",\"4/5/09\",\"4/5/09\",\"4/5/09\",\"4/5/09\",\"4/5/09\",\"4/5/09\",\"4/5/09\",\"4/5/09\",\"4/5/09\",\"4/5/09\",\"4/5/09\",\"4/5/09\",\"4/5/09\",\"4/5/09\",\"4/5/09\",\"4/5/09\",\"4/5/09\",\"4/5/09\",\"4/7/09\",\"4/7/09\",\"4/7/09\",\"4/7/09\",\"4/7/09\",\"4/7/09\",\"4/7/09\",\"4/7/09\",\"4/7/09\",\"4/7/09\",\"4/7/09\",\"4/7/09\",\"4/7/09\",\"4/7/09\",\"4/7/09\",\"4/7/09\",\"4/7/09\",\"4/7/09\",\"4/8/09\",\"4/8/09\",\"4/8/09\",\"4/8/09\",\"4/8/09\",\"4/8/09\",\"4/8/09\",\"4/8/09\",\"4/8/09\",\"4/8/09\",\"4/8/09\",\"4/8/09\",\"4/8/09\",\"4/8/09\",\"4/8/09\",\"4/8/09\",\"4/8/09\",\"4/8/09\",\"4/8/09\",\"4/8/09\",\"4/8/09\",\"4/8/09\",\"4/9/09\",\"4/9/09\",\"4/9/09\",\"4/9/09\",\"4/9/09\",\"4/9/09\",\"5/1/09\",\"5/1/09\",\"5/10/09\",\"5/10/09\",\"5/10/09\",\"5/10/09\",\"5/11/09\",\"5/11/09\",\"5/11/09\",\"5/11/09\",\"5/12/09\",\"5/12/09\",\"5/12/09\",\"5/12/09\",\"5/13/09\",\"5/13/09\",\"5/14/09\",\"5/14/09\",\"5/14/09\",\"5/14/09\",\"5/17/09\",\"5/17/09\",\"5/17/09\",\"5/17/09\",\"5/19/09\",\"5/19/09\",\"5/2/09\",\"5/2/09\",\"5/20/09\",\"5/20/09\",\"5/21/09\",\"5/21/09\",\"5/22/09\",\"5/22/09\",\"5/23/09\",\"5/23/09\",\"5/24/09\",\"5/24/09\",\"5/25/09\",\"5/25/09\",\"5/26/09\",\"5/26/09\",\"5/27/09\",\"5/27/09\",\"5/28/09\",\"5/28/09\",\"5/29/09\",\"5/29/09\",\"5/3/09\",\"5/3/09\",\"5/3/09\",\"5/3/09\",\"5/30/09\",\"5/30/09\",\"5/4/09\",\"5/4/09\",\"5/4/09\",\"5/4/09\",\"5/5/09\",\"5/5/09\",\"5/5/09\",\"5/5/09\",\"5/6/09\",\"5/6/09\",\"5/6/09\",\"5/6/09\",\"5/7/09\",\"5/7/09\",\"5/8/09\",\"5/8/09\",\"5/8/09\",\"5/8/09\",\"5/9/09\",\"5/9/09\",\"5/9/09\",\"5/9/09\",\"6/11/09\",\"6/11/09\",\"6/14/09\",\"6/14/09\",\"6/4/09\",\"6/4/09\",\"6/7/09\",\"6/7/09\",\"6/9/09\",\"6/9/09\"],\"y\":[20920.890196666664,21871.639717857142,20710.078612499998,21346.196189285714,22167.419493181824,21536.152026666667,22077.6405265,23353.87096833333,23752.9981725,22807.46123125,18711.666946,24410.52527125,23540.854745454548,23069.6959125,23648.9158635,24731.88129416667,24568.73522888889,25302.23482357143,24331.059256999997,25434.86902,27754.871865,19557.658903571428,25943.251205454544,26672.991887999997,18031.960686666665,21907.119780999998,19088.93113625,19834.613507916667,21478.1108775,19877.901335833336,371.5850109666667,724.1845349404167,1279.3231998500003,1271.2612586407142,1612.0402539428567,4219.1228333,4555.212002000001,4595.271716681817,5176.969386,5319.156677374999,5136.331440625,6348.3055585833345,6849.149039166667,6060.541418399999,7259.0039953,1568.134288925,7374.338283249999,7089.190766269231,6931.9099282222205,8240.883169199999,8610.863388214286,7480.4391854000005,8848.019463307694,8495.38076375,9439.792413590907,9565.839778636364,2284.933883333333,10129.2974776,2645.850534,2834.0361289346156,2599.73262025,3348.0866670269234,3536.21566125,3531.5342851249998,9951.018072500001,12200.593097333334,12028.208733166668,13206.756787136364,12792.459083599999,14209.700865,13930.96273411111,13974.488064166666,14178.544652333334,18156.8369025,14222.273939791667,10495.18031675,15938.974993750006,13309.775959124998,17100.087751666666,15611.285178791668,16521.8954079,16695.1331155,16763.45273225,17807.915495833335,17588.150910624998,10056.304524363635,17413.193441666666,18979.290170833334,14004.133495,10141.862122409091,11850.584901750002,11442.33885075,12078.276453999999,12290.207516944445,27194.33358125,29376.542840555558,28685.9614025,32488.37601333333,29169.989542999996,30617.327162727273,30887.149872500002,27875.257774375,30653.851024999993,32765.494198999997,30773.12074222222,31756.15911333334,31888.702728125005,32187.891261363635,30607.574095000004,32976.562512692304,32082.760996428577,27246.291650833333,27423.530860909097,26276.069335000004,27525.135015555556,28196.62921428572,28939.986874000002,27128.82965125,33806.580161666665,35977.3666275,36119.15232727272,38096.174515,36023.84876636364,37875.75213166667,36906.40675545455,38708.835232,37815.84782875,38265.971580000005,38680.98974666666,33373.901001000006,38599.93559545454,37900.29170285714,39837.677062142866,39888.34154785715,39720.83161749999,39928.40628227273,40779.197485000004,40713.978715,39930.54384312499,40633.804302777775,34002.8616875,42726.490448749995,41101.64210999999,34152.75676,37651.846965,34718.40052750001,34106.048938333326,35686.128432142854,36450.284511666665,42399.385013888896,44066.59227346153,44627.82044857142,45523.57551166666,45336.16911166668,44923.35202833333,45573.65796714286,45842.18886375,47223.753905,39903.696715,46146.3012,45928.071610000006,47395.65128166667,46895.100001666666,46772.452413333325,48661.36348624999,45950.01171,48437.502746666665,49318.84767624999,49564.582945,43815.0499525,50219.685475,40961.58422000001,43186.606085909094,43935.05904166667,43875.56321318181,43465.15030666667,47977.889395000006,53580.197105,45660.625224999996,54825.36382,50514.059735,56070.530535,57315.697252499995,53539.117385000005,46041.22647,50823.206600000005,53539.117385000005,50823.206600000005,54371.00938,51716.597325,54371.00938,51716.597325,55202.901375,52609.988045,56034.793365000005,48885.8236475,53503.378775,52335.030387499995,45052.4289175,52335.030387499995,40915.700339999996,53580.197105,45660.625224999996,63403.99321,63403.99321,61201.23888,61201.23888,63403.99321]}],                        {\"template\":{\"data\":{\"bar\":[{\"error_x\":{\"color\":\"#2a3f5f\"},\"error_y\":{\"color\":\"#2a3f5f\"},\"marker\":{\"line\":{\"color\":\"#E5ECF6\",\"width\":0.5},\"pattern\":{\"fillmode\":\"overlay\",\"size\":10,\"solidity\":0.2}},\"type\":\"bar\"}],\"barpolar\":[{\"marker\":{\"line\":{\"color\":\"#E5ECF6\",\"width\":0.5},\"pattern\":{\"fillmode\":\"overlay\",\"size\":10,\"solidity\":0.2}},\"type\":\"barpolar\"}],\"carpet\":[{\"aaxis\":{\"endlinecolor\":\"#2a3f5f\",\"gridcolor\":\"white\",\"linecolor\":\"white\",\"minorgridcolor\":\"white\",\"startlinecolor\":\"#2a3f5f\"},\"baxis\":{\"endlinecolor\":\"#2a3f5f\",\"gridcolor\":\"white\",\"linecolor\":\"white\",\"minorgridcolor\":\"white\",\"startlinecolor\":\"#2a3f5f\"},\"type\":\"carpet\"}],\"choropleth\":[{\"colorbar\":{\"outlinewidth\":0,\"ticks\":\"\"},\"type\":\"choropleth\"}],\"contour\":[{\"colorbar\":{\"outlinewidth\":0,\"ticks\":\"\"},\"colorscale\":[[0.0,\"#0d0887\"],[0.1111111111111111,\"#46039f\"],[0.2222222222222222,\"#7201a8\"],[0.3333333333333333,\"#9c179e\"],[0.4444444444444444,\"#bd3786\"],[0.5555555555555556,\"#d8576b\"],[0.6666666666666666,\"#ed7953\"],[0.7777777777777778,\"#fb9f3a\"],[0.8888888888888888,\"#fdca26\"],[1.0,\"#f0f921\"]],\"type\":\"contour\"}],\"contourcarpet\":[{\"colorbar\":{\"outlinewidth\":0,\"ticks\":\"\"},\"type\":\"contourcarpet\"}],\"heatmap\":[{\"colorbar\":{\"outlinewidth\":0,\"ticks\":\"\"},\"colorscale\":[[0.0,\"#0d0887\"],[0.1111111111111111,\"#46039f\"],[0.2222222222222222,\"#7201a8\"],[0.3333333333333333,\"#9c179e\"],[0.4444444444444444,\"#bd3786\"],[0.5555555555555556,\"#d8576b\"],[0.6666666666666666,\"#ed7953\"],[0.7777777777777778,\"#fb9f3a\"],[0.8888888888888888,\"#fdca26\"],[1.0,\"#f0f921\"]],\"type\":\"heatmap\"}],\"heatmapgl\":[{\"colorbar\":{\"outlinewidth\":0,\"ticks\":\"\"},\"colorscale\":[[0.0,\"#0d0887\"],[0.1111111111111111,\"#46039f\"],[0.2222222222222222,\"#7201a8\"],[0.3333333333333333,\"#9c179e\"],[0.4444444444444444,\"#bd3786\"],[0.5555555555555556,\"#d8576b\"],[0.6666666666666666,\"#ed7953\"],[0.7777777777777778,\"#fb9f3a\"],[0.8888888888888888,\"#fdca26\"],[1.0,\"#f0f921\"]],\"type\":\"heatmapgl\"}],\"histogram\":[{\"marker\":{\"pattern\":{\"fillmode\":\"overlay\",\"size\":10,\"solidity\":0.2}},\"type\":\"histogram\"}],\"histogram2d\":[{\"colorbar\":{\"outlinewidth\":0,\"ticks\":\"\"},\"colorscale\":[[0.0,\"#0d0887\"],[0.1111111111111111,\"#46039f\"],[0.2222222222222222,\"#7201a8\"],[0.3333333333333333,\"#9c179e\"],[0.4444444444444444,\"#bd3786\"],[0.5555555555555556,\"#d8576b\"],[0.6666666666666666,\"#ed7953\"],[0.7777777777777778,\"#fb9f3a\"],[0.8888888888888888,\"#fdca26\"],[1.0,\"#f0f921\"]],\"type\":\"histogram2d\"}],\"histogram2dcontour\":[{\"colorbar\":{\"outlinewidth\":0,\"ticks\":\"\"},\"colorscale\":[[0.0,\"#0d0887\"],[0.1111111111111111,\"#46039f\"],[0.2222222222222222,\"#7201a8\"],[0.3333333333333333,\"#9c179e\"],[0.4444444444444444,\"#bd3786\"],[0.5555555555555556,\"#d8576b\"],[0.6666666666666666,\"#ed7953\"],[0.7777777777777778,\"#fb9f3a\"],[0.8888888888888888,\"#fdca26\"],[1.0,\"#f0f921\"]],\"type\":\"histogram2dcontour\"}],\"mesh3d\":[{\"colorbar\":{\"outlinewidth\":0,\"ticks\":\"\"},\"type\":\"mesh3d\"}],\"parcoords\":[{\"line\":{\"colorbar\":{\"outlinewidth\":0,\"ticks\":\"\"}},\"type\":\"parcoords\"}],\"pie\":[{\"automargin\":true,\"type\":\"pie\"}],\"scatter\":[{\"marker\":{\"colorbar\":{\"outlinewidth\":0,\"ticks\":\"\"}},\"type\":\"scatter\"}],\"scatter3d\":[{\"line\":{\"colorbar\":{\"outlinewidth\":0,\"ticks\":\"\"}},\"marker\":{\"colorbar\":{\"outlinewidth\":0,\"ticks\":\"\"}},\"type\":\"scatter3d\"}],\"scattercarpet\":[{\"marker\":{\"colorbar\":{\"outlinewidth\":0,\"ticks\":\"\"}},\"type\":\"scattercarpet\"}],\"scattergeo\":[{\"marker\":{\"colorbar\":{\"outlinewidth\":0,\"ticks\":\"\"}},\"type\":\"scattergeo\"}],\"scattergl\":[{\"marker\":{\"colorbar\":{\"outlinewidth\":0,\"ticks\":\"\"}},\"type\":\"scattergl\"}],\"scattermapbox\":[{\"marker\":{\"colorbar\":{\"outlinewidth\":0,\"ticks\":\"\"}},\"type\":\"scattermapbox\"}],\"scatterpolar\":[{\"marker\":{\"colorbar\":{\"outlinewidth\":0,\"ticks\":\"\"}},\"type\":\"scatterpolar\"}],\"scatterpolargl\":[{\"marker\":{\"colorbar\":{\"outlinewidth\":0,\"ticks\":\"\"}},\"type\":\"scatterpolargl\"}],\"scatterternary\":[{\"marker\":{\"colorbar\":{\"outlinewidth\":0,\"ticks\":\"\"}},\"type\":\"scatterternary\"}],\"surface\":[{\"colorbar\":{\"outlinewidth\":0,\"ticks\":\"\"},\"colorscale\":[[0.0,\"#0d0887\"],[0.1111111111111111,\"#46039f\"],[0.2222222222222222,\"#7201a8\"],[0.3333333333333333,\"#9c179e\"],[0.4444444444444444,\"#bd3786\"],[0.5555555555555556,\"#d8576b\"],[0.6666666666666666,\"#ed7953\"],[0.7777777777777778,\"#fb9f3a\"],[0.8888888888888888,\"#fdca26\"],[1.0,\"#f0f921\"]],\"type\":\"surface\"}],\"table\":[{\"cells\":{\"fill\":{\"color\":\"#EBF0F8\"},\"line\":{\"color\":\"white\"}},\"header\":{\"fill\":{\"color\":\"#C8D4E3\"},\"line\":{\"color\":\"white\"}},\"type\":\"table\"}]},\"layout\":{\"annotationdefaults\":{\"arrowcolor\":\"#2a3f5f\",\"arrowhead\":0,\"arrowwidth\":1},\"autotypenumbers\":\"strict\",\"coloraxis\":{\"colorbar\":{\"outlinewidth\":0,\"ticks\":\"\"}},\"colorscale\":{\"diverging\":[[0,\"#8e0152\"],[0.1,\"#c51b7d\"],[0.2,\"#de77ae\"],[0.3,\"#f1b6da\"],[0.4,\"#fde0ef\"],[0.5,\"#f7f7f7\"],[0.6,\"#e6f5d0\"],[0.7,\"#b8e186\"],[0.8,\"#7fbc41\"],[0.9,\"#4d9221\"],[1,\"#276419\"]],\"sequential\":[[0.0,\"#0d0887\"],[0.1111111111111111,\"#46039f\"],[0.2222222222222222,\"#7201a8\"],[0.3333333333333333,\"#9c179e\"],[0.4444444444444444,\"#bd3786\"],[0.5555555555555556,\"#d8576b\"],[0.6666666666666666,\"#ed7953\"],[0.7777777777777778,\"#fb9f3a\"],[0.8888888888888888,\"#fdca26\"],[1.0,\"#f0f921\"]],\"sequentialminus\":[[0.0,\"#0d0887\"],[0.1111111111111111,\"#46039f\"],[0.2222222222222222,\"#7201a8\"],[0.3333333333333333,\"#9c179e\"],[0.4444444444444444,\"#bd3786\"],[0.5555555555555556,\"#d8576b\"],[0.6666666666666666,\"#ed7953\"],[0.7777777777777778,\"#fb9f3a\"],[0.8888888888888888,\"#fdca26\"],[1.0,\"#f0f921\"]]},\"colorway\":[\"#636efa\",\"#EF553B\",\"#00cc96\",\"#ab63fa\",\"#FFA15A\",\"#19d3f3\",\"#FF6692\",\"#B6E880\",\"#FF97FF\",\"#FECB52\"],\"font\":{\"color\":\"#2a3f5f\"},\"geo\":{\"bgcolor\":\"white\",\"lakecolor\":\"white\",\"landcolor\":\"#E5ECF6\",\"showlakes\":true,\"showland\":true,\"subunitcolor\":\"white\"},\"hoverlabel\":{\"align\":\"left\"},\"hovermode\":\"closest\",\"mapbox\":{\"style\":\"light\"},\"paper_bgcolor\":\"white\",\"plot_bgcolor\":\"#E5ECF6\",\"polar\":{\"angularaxis\":{\"gridcolor\":\"white\",\"linecolor\":\"white\",\"ticks\":\"\"},\"bgcolor\":\"#E5ECF6\",\"radialaxis\":{\"gridcolor\":\"white\",\"linecolor\":\"white\",\"ticks\":\"\"}},\"scene\":{\"xaxis\":{\"backgroundcolor\":\"#E5ECF6\",\"gridcolor\":\"white\",\"gridwidth\":2,\"linecolor\":\"white\",\"showbackground\":true,\"ticks\":\"\",\"zerolinecolor\":\"white\"},\"yaxis\":{\"backgroundcolor\":\"#E5ECF6\",\"gridcolor\":\"white\",\"gridwidth\":2,\"linecolor\":\"white\",\"showbackground\":true,\"ticks\":\"\",\"zerolinecolor\":\"white\"},\"zaxis\":{\"backgroundcolor\":\"#E5ECF6\",\"gridcolor\":\"white\",\"gridwidth\":2,\"linecolor\":\"white\",\"showbackground\":true,\"ticks\":\"\",\"zerolinecolor\":\"white\"}},\"shapedefaults\":{\"line\":{\"color\":\"#2a3f5f\"}},\"ternary\":{\"aaxis\":{\"gridcolor\":\"white\",\"linecolor\":\"white\",\"ticks\":\"\"},\"baxis\":{\"gridcolor\":\"white\",\"linecolor\":\"white\",\"ticks\":\"\"},\"bgcolor\":\"#E5ECF6\",\"caxis\":{\"gridcolor\":\"white\",\"linecolor\":\"white\",\"ticks\":\"\"}},\"title\":{\"x\":0.05},\"xaxis\":{\"automargin\":true,\"gridcolor\":\"white\",\"linecolor\":\"white\",\"ticks\":\"\",\"title\":{\"standoff\":15},\"zerolinecolor\":\"white\",\"zerolinewidth\":2},\"yaxis\":{\"automargin\":true,\"gridcolor\":\"white\",\"linecolor\":\"white\",\"ticks\":\"\",\"title\":{\"standoff\":15},\"zerolinecolor\":\"white\",\"zerolinewidth\":2}}}},                        {\"responsive\": true}                    ).then(function(){\n",
       "                            \n",
       "var gd = document.getElementById('970d2f41-e973-43df-bfd5-1cb606e206b7');\n",
       "var x = new MutationObserver(function (mutations, observer) {{\n",
       "        var display = window.getComputedStyle(gd).display;\n",
       "        if (!display || display === 'none') {{\n",
       "            console.log([gd, 'removed!']);\n",
       "            Plotly.purge(gd);\n",
       "            observer.disconnect();\n",
       "        }}\n",
       "}});\n",
       "\n",
       "// Listen for the removal of the full notebook cells\n",
       "var notebookContainer = gd.closest('#notebook-container');\n",
       "if (notebookContainer) {{\n",
       "    x.observe(notebookContainer, {childList: true});\n",
       "}}\n",
       "\n",
       "// Listen for the clearing of the current output cell\n",
       "var outputEl = gd.closest('.output');\n",
       "if (outputEl) {{\n",
       "    x.observe(outputEl, {childList: true});\n",
       "}}\n",
       "\n",
       "                        })                };                });            </script>        </div>"
      ]
     },
     "metadata": {},
     "output_type": "display_data"
    }
   ],
   "source": [
    "data = pd.read_csv('schedule.csv', index_col=0)\n",
    "d=data.sort_values(by='datetime')\n",
    "d=d[d['season']==20]\n",
    "# d['cd']=np.cumsum(d['distance_traveled'])\n",
    "# d\n",
    "fig = go.Figure()\n",
    "fig.add_trace(\n",
    "    go.Scatter(x = d['datetime'], \n",
    "#             y = d.groupby('datetime')['cd'].mean()/len(teams),\n",
    "            y = d.groupby('datetime')['cumulative_distance'].mean(),\n",
    "            mode = 'lines',\n",
    "            line={'color': 'green'},\n",
    "            name='Average',\n",
    "            )\n",
    ")\n",
    "fig.show()"
   ]
  },
  {
   "cell_type": "code",
   "execution_count": 86,
   "metadata": {},
   "outputs": [
    {
     "data": {
      "application/vnd.plotly.v1+json": {
       "config": {
        "plotlyServerURL": "https://plot.ly"
       },
       "data": [
        {
         "line": {
          "color": "green"
         },
         "mode": "lines",
         "name": "ATL",
         "type": "scatter",
         "x": [
          "2021-10-21",
          "2021-10-23",
          "2021-10-25",
          "2021-10-27",
          "2021-10-28",
          "2021-10-30",
          "2021-11-01",
          "2021-11-03",
          "2021-11-04",
          "2021-11-06",
          "2021-11-08",
          "2021-11-09",
          "2021-11-12",
          "2021-11-14",
          "2021-11-15",
          "2021-11-17",
          "2021-11-20",
          "2021-11-22",
          "2021-11-24",
          "2021-11-26",
          "2021-11-27",
          "2021-12-01",
          "2021-12-03",
          "2021-12-05",
          "2021-12-06",
          "2021-12-10",
          "2021-12-13",
          "2021-12-15",
          "2021-12-17",
          "2021-12-19",
          "2021-12-22",
          "2021-12-23",
          "2021-12-25",
          "2021-12-27",
          "2021-12-29",
          "2021-12-31",
          "2022-01-03",
          "2022-01-05",
          "2022-01-07",
          "2022-01-09",
          "2022-01-12",
          "2022-01-14",
          "2022-01-15",
          "2022-01-17",
          "2022-01-19",
          "2022-01-21",
          "2022-01-23",
          "2022-01-24",
          "2022-01-26",
          "2022-01-28",
          "2022-01-30",
          "2022-02-01",
          "2022-02-03",
          "2022-02-04",
          "2022-02-06",
          "2022-02-08",
          "2022-02-11",
          "2022-02-13",
          "2022-02-15",
          "2022-02-16",
          "2022-02-24",
          "2022-02-26",
          "2022-03-01",
          "2022-03-04",
          "2022-03-07",
          "2022-03-09",
          "2022-03-11",
          "2022-03-13",
          "2022-03-14",
          "2022-03-16",
          "2022-03-18",
          "2022-03-20",
          "2022-03-22",
          "2022-03-23",
          "2022-03-25",
          "2022-03-28",
          "2022-03-30",
          "2022-04-02",
          "2022-04-05",
          "2022-04-06",
          "2022-04-08",
          "2022-04-10"
         ],
         "y": [
          1937.7083941222145,
          2491.6498877081194,
          3045.5913812940244,
          3470.48422606897,
          4436.702847585892,
          4557.450120383263,
          5220.833378076271,
          5967.153220038722,
          6713.473062001172,
          8304.857051624898,
          8957.103289697847,
          9555.822967670563,
          9926.848892140488,
          11139.438085845328,
          11139.438085845328,
          11139.438085845328,
          11139.438085845328,
          11139.438085845328,
          12018.668412728322,
          12647.41560443083,
          12983.965537682685,
          13409.476138792254,
          13834.986739901822,
          13834.986739901822,
          14742.218981074904,
          15649.451222247986,
          15649.451222247986,
          16050.76063240498,
          16452.070042561973,
          16452.070042561973,
          16452.070042561973,
          17115.45330025498,
          17200.933396628116,
          17949.25226449242,
          18537.37282340566,
          18848.1116205427,
          20903.062610841716,
          21381.72607153983,
          21747.372560932778,
          21747.372560932778,
          23685.080955054993,
          24289.681362338393,
          24894.281769621794,
          24894.281769621794,
          24894.281769621794,
          24894.281769621794,
          25121.09372259899,
          25347.90567557619,
          25347.90567557619,
          25347.90567557619,
          25347.90567557619,
          25347.90567557619,
          25347.90567557619,
          26081.407001069012,
          27285.411514106978,
          28006.678985762155,
          28006.678985762155,
          28943.447935055992,
          29880.21688434983,
          30281.52629450682,
          31266.978530792818,
          31855.099089706062,
          32791.8680389999,
          33185.891079702305,
          33604.33132281044,
          33842.687366889455,
          34510.937236671714,
          34510.937236671714,
          34510.937236671714,
          34737.74918964891,
          34964.5611426261,
          34964.5611426261,
          35712.88001049041,
          36209.44044846111,
          36829.192700210355,
          37254.703301319925,
          37944.16600396987,
          38700.41917867486,
          39433.92050416769,
          40167.42182966052,
          40772.022236943914,
          41739.91150733225
         ]
        }
       ],
       "layout": {
        "template": {
         "data": {
          "bar": [
           {
            "error_x": {
             "color": "#2a3f5f"
            },
            "error_y": {
             "color": "#2a3f5f"
            },
            "marker": {
             "line": {
              "color": "#E5ECF6",
              "width": 0.5
             },
             "pattern": {
              "fillmode": "overlay",
              "size": 10,
              "solidity": 0.2
             }
            },
            "type": "bar"
           }
          ],
          "barpolar": [
           {
            "marker": {
             "line": {
              "color": "#E5ECF6",
              "width": 0.5
             },
             "pattern": {
              "fillmode": "overlay",
              "size": 10,
              "solidity": 0.2
             }
            },
            "type": "barpolar"
           }
          ],
          "carpet": [
           {
            "aaxis": {
             "endlinecolor": "#2a3f5f",
             "gridcolor": "white",
             "linecolor": "white",
             "minorgridcolor": "white",
             "startlinecolor": "#2a3f5f"
            },
            "baxis": {
             "endlinecolor": "#2a3f5f",
             "gridcolor": "white",
             "linecolor": "white",
             "minorgridcolor": "white",
             "startlinecolor": "#2a3f5f"
            },
            "type": "carpet"
           }
          ],
          "choropleth": [
           {
            "colorbar": {
             "outlinewidth": 0,
             "ticks": ""
            },
            "type": "choropleth"
           }
          ],
          "contour": [
           {
            "colorbar": {
             "outlinewidth": 0,
             "ticks": ""
            },
            "colorscale": [
             [
              0,
              "#0d0887"
             ],
             [
              0.1111111111111111,
              "#46039f"
             ],
             [
              0.2222222222222222,
              "#7201a8"
             ],
             [
              0.3333333333333333,
              "#9c179e"
             ],
             [
              0.4444444444444444,
              "#bd3786"
             ],
             [
              0.5555555555555556,
              "#d8576b"
             ],
             [
              0.6666666666666666,
              "#ed7953"
             ],
             [
              0.7777777777777778,
              "#fb9f3a"
             ],
             [
              0.8888888888888888,
              "#fdca26"
             ],
             [
              1,
              "#f0f921"
             ]
            ],
            "type": "contour"
           }
          ],
          "contourcarpet": [
           {
            "colorbar": {
             "outlinewidth": 0,
             "ticks": ""
            },
            "type": "contourcarpet"
           }
          ],
          "heatmap": [
           {
            "colorbar": {
             "outlinewidth": 0,
             "ticks": ""
            },
            "colorscale": [
             [
              0,
              "#0d0887"
             ],
             [
              0.1111111111111111,
              "#46039f"
             ],
             [
              0.2222222222222222,
              "#7201a8"
             ],
             [
              0.3333333333333333,
              "#9c179e"
             ],
             [
              0.4444444444444444,
              "#bd3786"
             ],
             [
              0.5555555555555556,
              "#d8576b"
             ],
             [
              0.6666666666666666,
              "#ed7953"
             ],
             [
              0.7777777777777778,
              "#fb9f3a"
             ],
             [
              0.8888888888888888,
              "#fdca26"
             ],
             [
              1,
              "#f0f921"
             ]
            ],
            "type": "heatmap"
           }
          ],
          "heatmapgl": [
           {
            "colorbar": {
             "outlinewidth": 0,
             "ticks": ""
            },
            "colorscale": [
             [
              0,
              "#0d0887"
             ],
             [
              0.1111111111111111,
              "#46039f"
             ],
             [
              0.2222222222222222,
              "#7201a8"
             ],
             [
              0.3333333333333333,
              "#9c179e"
             ],
             [
              0.4444444444444444,
              "#bd3786"
             ],
             [
              0.5555555555555556,
              "#d8576b"
             ],
             [
              0.6666666666666666,
              "#ed7953"
             ],
             [
              0.7777777777777778,
              "#fb9f3a"
             ],
             [
              0.8888888888888888,
              "#fdca26"
             ],
             [
              1,
              "#f0f921"
             ]
            ],
            "type": "heatmapgl"
           }
          ],
          "histogram": [
           {
            "marker": {
             "pattern": {
              "fillmode": "overlay",
              "size": 10,
              "solidity": 0.2
             }
            },
            "type": "histogram"
           }
          ],
          "histogram2d": [
           {
            "colorbar": {
             "outlinewidth": 0,
             "ticks": ""
            },
            "colorscale": [
             [
              0,
              "#0d0887"
             ],
             [
              0.1111111111111111,
              "#46039f"
             ],
             [
              0.2222222222222222,
              "#7201a8"
             ],
             [
              0.3333333333333333,
              "#9c179e"
             ],
             [
              0.4444444444444444,
              "#bd3786"
             ],
             [
              0.5555555555555556,
              "#d8576b"
             ],
             [
              0.6666666666666666,
              "#ed7953"
             ],
             [
              0.7777777777777778,
              "#fb9f3a"
             ],
             [
              0.8888888888888888,
              "#fdca26"
             ],
             [
              1,
              "#f0f921"
             ]
            ],
            "type": "histogram2d"
           }
          ],
          "histogram2dcontour": [
           {
            "colorbar": {
             "outlinewidth": 0,
             "ticks": ""
            },
            "colorscale": [
             [
              0,
              "#0d0887"
             ],
             [
              0.1111111111111111,
              "#46039f"
             ],
             [
              0.2222222222222222,
              "#7201a8"
             ],
             [
              0.3333333333333333,
              "#9c179e"
             ],
             [
              0.4444444444444444,
              "#bd3786"
             ],
             [
              0.5555555555555556,
              "#d8576b"
             ],
             [
              0.6666666666666666,
              "#ed7953"
             ],
             [
              0.7777777777777778,
              "#fb9f3a"
             ],
             [
              0.8888888888888888,
              "#fdca26"
             ],
             [
              1,
              "#f0f921"
             ]
            ],
            "type": "histogram2dcontour"
           }
          ],
          "mesh3d": [
           {
            "colorbar": {
             "outlinewidth": 0,
             "ticks": ""
            },
            "type": "mesh3d"
           }
          ],
          "parcoords": [
           {
            "line": {
             "colorbar": {
              "outlinewidth": 0,
              "ticks": ""
             }
            },
            "type": "parcoords"
           }
          ],
          "pie": [
           {
            "automargin": true,
            "type": "pie"
           }
          ],
          "scatter": [
           {
            "marker": {
             "colorbar": {
              "outlinewidth": 0,
              "ticks": ""
             }
            },
            "type": "scatter"
           }
          ],
          "scatter3d": [
           {
            "line": {
             "colorbar": {
              "outlinewidth": 0,
              "ticks": ""
             }
            },
            "marker": {
             "colorbar": {
              "outlinewidth": 0,
              "ticks": ""
             }
            },
            "type": "scatter3d"
           }
          ],
          "scattercarpet": [
           {
            "marker": {
             "colorbar": {
              "outlinewidth": 0,
              "ticks": ""
             }
            },
            "type": "scattercarpet"
           }
          ],
          "scattergeo": [
           {
            "marker": {
             "colorbar": {
              "outlinewidth": 0,
              "ticks": ""
             }
            },
            "type": "scattergeo"
           }
          ],
          "scattergl": [
           {
            "marker": {
             "colorbar": {
              "outlinewidth": 0,
              "ticks": ""
             }
            },
            "type": "scattergl"
           }
          ],
          "scattermapbox": [
           {
            "marker": {
             "colorbar": {
              "outlinewidth": 0,
              "ticks": ""
             }
            },
            "type": "scattermapbox"
           }
          ],
          "scatterpolar": [
           {
            "marker": {
             "colorbar": {
              "outlinewidth": 0,
              "ticks": ""
             }
            },
            "type": "scatterpolar"
           }
          ],
          "scatterpolargl": [
           {
            "marker": {
             "colorbar": {
              "outlinewidth": 0,
              "ticks": ""
             }
            },
            "type": "scatterpolargl"
           }
          ],
          "scatterternary": [
           {
            "marker": {
             "colorbar": {
              "outlinewidth": 0,
              "ticks": ""
             }
            },
            "type": "scatterternary"
           }
          ],
          "surface": [
           {
            "colorbar": {
             "outlinewidth": 0,
             "ticks": ""
            },
            "colorscale": [
             [
              0,
              "#0d0887"
             ],
             [
              0.1111111111111111,
              "#46039f"
             ],
             [
              0.2222222222222222,
              "#7201a8"
             ],
             [
              0.3333333333333333,
              "#9c179e"
             ],
             [
              0.4444444444444444,
              "#bd3786"
             ],
             [
              0.5555555555555556,
              "#d8576b"
             ],
             [
              0.6666666666666666,
              "#ed7953"
             ],
             [
              0.7777777777777778,
              "#fb9f3a"
             ],
             [
              0.8888888888888888,
              "#fdca26"
             ],
             [
              1,
              "#f0f921"
             ]
            ],
            "type": "surface"
           }
          ],
          "table": [
           {
            "cells": {
             "fill": {
              "color": "#EBF0F8"
             },
             "line": {
              "color": "white"
             }
            },
            "header": {
             "fill": {
              "color": "#C8D4E3"
             },
             "line": {
              "color": "white"
             }
            },
            "type": "table"
           }
          ]
         },
         "layout": {
          "annotationdefaults": {
           "arrowcolor": "#2a3f5f",
           "arrowhead": 0,
           "arrowwidth": 1
          },
          "autotypenumbers": "strict",
          "coloraxis": {
           "colorbar": {
            "outlinewidth": 0,
            "ticks": ""
           }
          },
          "colorscale": {
           "diverging": [
            [
             0,
             "#8e0152"
            ],
            [
             0.1,
             "#c51b7d"
            ],
            [
             0.2,
             "#de77ae"
            ],
            [
             0.3,
             "#f1b6da"
            ],
            [
             0.4,
             "#fde0ef"
            ],
            [
             0.5,
             "#f7f7f7"
            ],
            [
             0.6,
             "#e6f5d0"
            ],
            [
             0.7,
             "#b8e186"
            ],
            [
             0.8,
             "#7fbc41"
            ],
            [
             0.9,
             "#4d9221"
            ],
            [
             1,
             "#276419"
            ]
           ],
           "sequential": [
            [
             0,
             "#0d0887"
            ],
            [
             0.1111111111111111,
             "#46039f"
            ],
            [
             0.2222222222222222,
             "#7201a8"
            ],
            [
             0.3333333333333333,
             "#9c179e"
            ],
            [
             0.4444444444444444,
             "#bd3786"
            ],
            [
             0.5555555555555556,
             "#d8576b"
            ],
            [
             0.6666666666666666,
             "#ed7953"
            ],
            [
             0.7777777777777778,
             "#fb9f3a"
            ],
            [
             0.8888888888888888,
             "#fdca26"
            ],
            [
             1,
             "#f0f921"
            ]
           ],
           "sequentialminus": [
            [
             0,
             "#0d0887"
            ],
            [
             0.1111111111111111,
             "#46039f"
            ],
            [
             0.2222222222222222,
             "#7201a8"
            ],
            [
             0.3333333333333333,
             "#9c179e"
            ],
            [
             0.4444444444444444,
             "#bd3786"
            ],
            [
             0.5555555555555556,
             "#d8576b"
            ],
            [
             0.6666666666666666,
             "#ed7953"
            ],
            [
             0.7777777777777778,
             "#fb9f3a"
            ],
            [
             0.8888888888888888,
             "#fdca26"
            ],
            [
             1,
             "#f0f921"
            ]
           ]
          },
          "colorway": [
           "#636efa",
           "#EF553B",
           "#00cc96",
           "#ab63fa",
           "#FFA15A",
           "#19d3f3",
           "#FF6692",
           "#B6E880",
           "#FF97FF",
           "#FECB52"
          ],
          "font": {
           "color": "#2a3f5f"
          },
          "geo": {
           "bgcolor": "white",
           "lakecolor": "white",
           "landcolor": "#E5ECF6",
           "showlakes": true,
           "showland": true,
           "subunitcolor": "white"
          },
          "hoverlabel": {
           "align": "left"
          },
          "hovermode": "closest",
          "mapbox": {
           "style": "light"
          },
          "paper_bgcolor": "white",
          "plot_bgcolor": "#E5ECF6",
          "polar": {
           "angularaxis": {
            "gridcolor": "white",
            "linecolor": "white",
            "ticks": ""
           },
           "bgcolor": "#E5ECF6",
           "radialaxis": {
            "gridcolor": "white",
            "linecolor": "white",
            "ticks": ""
           }
          },
          "scene": {
           "xaxis": {
            "backgroundcolor": "#E5ECF6",
            "gridcolor": "white",
            "gridwidth": 2,
            "linecolor": "white",
            "showbackground": true,
            "ticks": "",
            "zerolinecolor": "white"
           },
           "yaxis": {
            "backgroundcolor": "#E5ECF6",
            "gridcolor": "white",
            "gridwidth": 2,
            "linecolor": "white",
            "showbackground": true,
            "ticks": "",
            "zerolinecolor": "white"
           },
           "zaxis": {
            "backgroundcolor": "#E5ECF6",
            "gridcolor": "white",
            "gridwidth": 2,
            "linecolor": "white",
            "showbackground": true,
            "ticks": "",
            "zerolinecolor": "white"
           }
          },
          "shapedefaults": {
           "line": {
            "color": "#2a3f5f"
           }
          },
          "ternary": {
           "aaxis": {
            "gridcolor": "white",
            "linecolor": "white",
            "ticks": ""
           },
           "baxis": {
            "gridcolor": "white",
            "linecolor": "white",
            "ticks": ""
           },
           "bgcolor": "#E5ECF6",
           "caxis": {
            "gridcolor": "white",
            "linecolor": "white",
            "ticks": ""
           }
          },
          "title": {
           "x": 0.05
          },
          "xaxis": {
           "automargin": true,
           "gridcolor": "white",
           "linecolor": "white",
           "ticks": "",
           "title": {
            "standoff": 15
           },
           "zerolinecolor": "white",
           "zerolinewidth": 2
          },
          "yaxis": {
           "automargin": true,
           "gridcolor": "white",
           "linecolor": "white",
           "ticks": "",
           "title": {
            "standoff": 15
           },
           "zerolinecolor": "white",
           "zerolinewidth": 2
          }
         }
        }
       }
      },
      "text/html": [
       "<div>                            <div id=\"c369da7f-abf8-49d3-a585-8278bcdaa1c0\" class=\"plotly-graph-div\" style=\"height:525px; width:100%;\"></div>            <script type=\"text/javascript\">                require([\"plotly\"], function(Plotly) {                    window.PLOTLYENV=window.PLOTLYENV || {};                                    if (document.getElementById(\"c369da7f-abf8-49d3-a585-8278bcdaa1c0\")) {                    Plotly.newPlot(                        \"c369da7f-abf8-49d3-a585-8278bcdaa1c0\",                        [{\"line\":{\"color\":\"green\"},\"mode\":\"lines\",\"name\":\"ATL\",\"type\":\"scatter\",\"x\":[\"2021-10-21\",\"2021-10-23\",\"2021-10-25\",\"2021-10-27\",\"2021-10-28\",\"2021-10-30\",\"2021-11-01\",\"2021-11-03\",\"2021-11-04\",\"2021-11-06\",\"2021-11-08\",\"2021-11-09\",\"2021-11-12\",\"2021-11-14\",\"2021-11-15\",\"2021-11-17\",\"2021-11-20\",\"2021-11-22\",\"2021-11-24\",\"2021-11-26\",\"2021-11-27\",\"2021-12-01\",\"2021-12-03\",\"2021-12-05\",\"2021-12-06\",\"2021-12-10\",\"2021-12-13\",\"2021-12-15\",\"2021-12-17\",\"2021-12-19\",\"2021-12-22\",\"2021-12-23\",\"2021-12-25\",\"2021-12-27\",\"2021-12-29\",\"2021-12-31\",\"2022-01-03\",\"2022-01-05\",\"2022-01-07\",\"2022-01-09\",\"2022-01-12\",\"2022-01-14\",\"2022-01-15\",\"2022-01-17\",\"2022-01-19\",\"2022-01-21\",\"2022-01-23\",\"2022-01-24\",\"2022-01-26\",\"2022-01-28\",\"2022-01-30\",\"2022-02-01\",\"2022-02-03\",\"2022-02-04\",\"2022-02-06\",\"2022-02-08\",\"2022-02-11\",\"2022-02-13\",\"2022-02-15\",\"2022-02-16\",\"2022-02-24\",\"2022-02-26\",\"2022-03-01\",\"2022-03-04\",\"2022-03-07\",\"2022-03-09\",\"2022-03-11\",\"2022-03-13\",\"2022-03-14\",\"2022-03-16\",\"2022-03-18\",\"2022-03-20\",\"2022-03-22\",\"2022-03-23\",\"2022-03-25\",\"2022-03-28\",\"2022-03-30\",\"2022-04-02\",\"2022-04-05\",\"2022-04-06\",\"2022-04-08\",\"2022-04-10\"],\"y\":[1937.7083941222145,2491.6498877081194,3045.5913812940244,3470.48422606897,4436.702847585892,4557.450120383263,5220.833378076271,5967.153220038722,6713.473062001172,8304.857051624898,8957.103289697847,9555.822967670563,9926.848892140488,11139.438085845328,11139.438085845328,11139.438085845328,11139.438085845328,11139.438085845328,12018.668412728322,12647.41560443083,12983.965537682685,13409.476138792254,13834.986739901822,13834.986739901822,14742.218981074904,15649.451222247986,15649.451222247986,16050.76063240498,16452.070042561973,16452.070042561973,16452.070042561973,17115.45330025498,17200.933396628116,17949.25226449242,18537.37282340566,18848.1116205427,20903.062610841716,21381.72607153983,21747.372560932778,21747.372560932778,23685.080955054993,24289.681362338393,24894.281769621794,24894.281769621794,24894.281769621794,24894.281769621794,25121.09372259899,25347.90567557619,25347.90567557619,25347.90567557619,25347.90567557619,25347.90567557619,25347.90567557619,26081.407001069012,27285.411514106978,28006.678985762155,28006.678985762155,28943.447935055992,29880.21688434983,30281.52629450682,31266.978530792818,31855.099089706062,32791.8680389999,33185.891079702305,33604.33132281044,33842.687366889455,34510.937236671714,34510.937236671714,34510.937236671714,34737.74918964891,34964.5611426261,34964.5611426261,35712.88001049041,36209.44044846111,36829.192700210355,37254.703301319925,37944.16600396987,38700.41917867486,39433.92050416769,40167.42182966052,40772.022236943914,41739.91150733225]}],                        {\"template\":{\"data\":{\"bar\":[{\"error_x\":{\"color\":\"#2a3f5f\"},\"error_y\":{\"color\":\"#2a3f5f\"},\"marker\":{\"line\":{\"color\":\"#E5ECF6\",\"width\":0.5},\"pattern\":{\"fillmode\":\"overlay\",\"size\":10,\"solidity\":0.2}},\"type\":\"bar\"}],\"barpolar\":[{\"marker\":{\"line\":{\"color\":\"#E5ECF6\",\"width\":0.5},\"pattern\":{\"fillmode\":\"overlay\",\"size\":10,\"solidity\":0.2}},\"type\":\"barpolar\"}],\"carpet\":[{\"aaxis\":{\"endlinecolor\":\"#2a3f5f\",\"gridcolor\":\"white\",\"linecolor\":\"white\",\"minorgridcolor\":\"white\",\"startlinecolor\":\"#2a3f5f\"},\"baxis\":{\"endlinecolor\":\"#2a3f5f\",\"gridcolor\":\"white\",\"linecolor\":\"white\",\"minorgridcolor\":\"white\",\"startlinecolor\":\"#2a3f5f\"},\"type\":\"carpet\"}],\"choropleth\":[{\"colorbar\":{\"outlinewidth\":0,\"ticks\":\"\"},\"type\":\"choropleth\"}],\"contour\":[{\"colorbar\":{\"outlinewidth\":0,\"ticks\":\"\"},\"colorscale\":[[0.0,\"#0d0887\"],[0.1111111111111111,\"#46039f\"],[0.2222222222222222,\"#7201a8\"],[0.3333333333333333,\"#9c179e\"],[0.4444444444444444,\"#bd3786\"],[0.5555555555555556,\"#d8576b\"],[0.6666666666666666,\"#ed7953\"],[0.7777777777777778,\"#fb9f3a\"],[0.8888888888888888,\"#fdca26\"],[1.0,\"#f0f921\"]],\"type\":\"contour\"}],\"contourcarpet\":[{\"colorbar\":{\"outlinewidth\":0,\"ticks\":\"\"},\"type\":\"contourcarpet\"}],\"heatmap\":[{\"colorbar\":{\"outlinewidth\":0,\"ticks\":\"\"},\"colorscale\":[[0.0,\"#0d0887\"],[0.1111111111111111,\"#46039f\"],[0.2222222222222222,\"#7201a8\"],[0.3333333333333333,\"#9c179e\"],[0.4444444444444444,\"#bd3786\"],[0.5555555555555556,\"#d8576b\"],[0.6666666666666666,\"#ed7953\"],[0.7777777777777778,\"#fb9f3a\"],[0.8888888888888888,\"#fdca26\"],[1.0,\"#f0f921\"]],\"type\":\"heatmap\"}],\"heatmapgl\":[{\"colorbar\":{\"outlinewidth\":0,\"ticks\":\"\"},\"colorscale\":[[0.0,\"#0d0887\"],[0.1111111111111111,\"#46039f\"],[0.2222222222222222,\"#7201a8\"],[0.3333333333333333,\"#9c179e\"],[0.4444444444444444,\"#bd3786\"],[0.5555555555555556,\"#d8576b\"],[0.6666666666666666,\"#ed7953\"],[0.7777777777777778,\"#fb9f3a\"],[0.8888888888888888,\"#fdca26\"],[1.0,\"#f0f921\"]],\"type\":\"heatmapgl\"}],\"histogram\":[{\"marker\":{\"pattern\":{\"fillmode\":\"overlay\",\"size\":10,\"solidity\":0.2}},\"type\":\"histogram\"}],\"histogram2d\":[{\"colorbar\":{\"outlinewidth\":0,\"ticks\":\"\"},\"colorscale\":[[0.0,\"#0d0887\"],[0.1111111111111111,\"#46039f\"],[0.2222222222222222,\"#7201a8\"],[0.3333333333333333,\"#9c179e\"],[0.4444444444444444,\"#bd3786\"],[0.5555555555555556,\"#d8576b\"],[0.6666666666666666,\"#ed7953\"],[0.7777777777777778,\"#fb9f3a\"],[0.8888888888888888,\"#fdca26\"],[1.0,\"#f0f921\"]],\"type\":\"histogram2d\"}],\"histogram2dcontour\":[{\"colorbar\":{\"outlinewidth\":0,\"ticks\":\"\"},\"colorscale\":[[0.0,\"#0d0887\"],[0.1111111111111111,\"#46039f\"],[0.2222222222222222,\"#7201a8\"],[0.3333333333333333,\"#9c179e\"],[0.4444444444444444,\"#bd3786\"],[0.5555555555555556,\"#d8576b\"],[0.6666666666666666,\"#ed7953\"],[0.7777777777777778,\"#fb9f3a\"],[0.8888888888888888,\"#fdca26\"],[1.0,\"#f0f921\"]],\"type\":\"histogram2dcontour\"}],\"mesh3d\":[{\"colorbar\":{\"outlinewidth\":0,\"ticks\":\"\"},\"type\":\"mesh3d\"}],\"parcoords\":[{\"line\":{\"colorbar\":{\"outlinewidth\":0,\"ticks\":\"\"}},\"type\":\"parcoords\"}],\"pie\":[{\"automargin\":true,\"type\":\"pie\"}],\"scatter\":[{\"marker\":{\"colorbar\":{\"outlinewidth\":0,\"ticks\":\"\"}},\"type\":\"scatter\"}],\"scatter3d\":[{\"line\":{\"colorbar\":{\"outlinewidth\":0,\"ticks\":\"\"}},\"marker\":{\"colorbar\":{\"outlinewidth\":0,\"ticks\":\"\"}},\"type\":\"scatter3d\"}],\"scattercarpet\":[{\"marker\":{\"colorbar\":{\"outlinewidth\":0,\"ticks\":\"\"}},\"type\":\"scattercarpet\"}],\"scattergeo\":[{\"marker\":{\"colorbar\":{\"outlinewidth\":0,\"ticks\":\"\"}},\"type\":\"scattergeo\"}],\"scattergl\":[{\"marker\":{\"colorbar\":{\"outlinewidth\":0,\"ticks\":\"\"}},\"type\":\"scattergl\"}],\"scattermapbox\":[{\"marker\":{\"colorbar\":{\"outlinewidth\":0,\"ticks\":\"\"}},\"type\":\"scattermapbox\"}],\"scatterpolar\":[{\"marker\":{\"colorbar\":{\"outlinewidth\":0,\"ticks\":\"\"}},\"type\":\"scatterpolar\"}],\"scatterpolargl\":[{\"marker\":{\"colorbar\":{\"outlinewidth\":0,\"ticks\":\"\"}},\"type\":\"scatterpolargl\"}],\"scatterternary\":[{\"marker\":{\"colorbar\":{\"outlinewidth\":0,\"ticks\":\"\"}},\"type\":\"scatterternary\"}],\"surface\":[{\"colorbar\":{\"outlinewidth\":0,\"ticks\":\"\"},\"colorscale\":[[0.0,\"#0d0887\"],[0.1111111111111111,\"#46039f\"],[0.2222222222222222,\"#7201a8\"],[0.3333333333333333,\"#9c179e\"],[0.4444444444444444,\"#bd3786\"],[0.5555555555555556,\"#d8576b\"],[0.6666666666666666,\"#ed7953\"],[0.7777777777777778,\"#fb9f3a\"],[0.8888888888888888,\"#fdca26\"],[1.0,\"#f0f921\"]],\"type\":\"surface\"}],\"table\":[{\"cells\":{\"fill\":{\"color\":\"#EBF0F8\"},\"line\":{\"color\":\"white\"}},\"header\":{\"fill\":{\"color\":\"#C8D4E3\"},\"line\":{\"color\":\"white\"}},\"type\":\"table\"}]},\"layout\":{\"annotationdefaults\":{\"arrowcolor\":\"#2a3f5f\",\"arrowhead\":0,\"arrowwidth\":1},\"autotypenumbers\":\"strict\",\"coloraxis\":{\"colorbar\":{\"outlinewidth\":0,\"ticks\":\"\"}},\"colorscale\":{\"diverging\":[[0,\"#8e0152\"],[0.1,\"#c51b7d\"],[0.2,\"#de77ae\"],[0.3,\"#f1b6da\"],[0.4,\"#fde0ef\"],[0.5,\"#f7f7f7\"],[0.6,\"#e6f5d0\"],[0.7,\"#b8e186\"],[0.8,\"#7fbc41\"],[0.9,\"#4d9221\"],[1,\"#276419\"]],\"sequential\":[[0.0,\"#0d0887\"],[0.1111111111111111,\"#46039f\"],[0.2222222222222222,\"#7201a8\"],[0.3333333333333333,\"#9c179e\"],[0.4444444444444444,\"#bd3786\"],[0.5555555555555556,\"#d8576b\"],[0.6666666666666666,\"#ed7953\"],[0.7777777777777778,\"#fb9f3a\"],[0.8888888888888888,\"#fdca26\"],[1.0,\"#f0f921\"]],\"sequentialminus\":[[0.0,\"#0d0887\"],[0.1111111111111111,\"#46039f\"],[0.2222222222222222,\"#7201a8\"],[0.3333333333333333,\"#9c179e\"],[0.4444444444444444,\"#bd3786\"],[0.5555555555555556,\"#d8576b\"],[0.6666666666666666,\"#ed7953\"],[0.7777777777777778,\"#fb9f3a\"],[0.8888888888888888,\"#fdca26\"],[1.0,\"#f0f921\"]]},\"colorway\":[\"#636efa\",\"#EF553B\",\"#00cc96\",\"#ab63fa\",\"#FFA15A\",\"#19d3f3\",\"#FF6692\",\"#B6E880\",\"#FF97FF\",\"#FECB52\"],\"font\":{\"color\":\"#2a3f5f\"},\"geo\":{\"bgcolor\":\"white\",\"lakecolor\":\"white\",\"landcolor\":\"#E5ECF6\",\"showlakes\":true,\"showland\":true,\"subunitcolor\":\"white\"},\"hoverlabel\":{\"align\":\"left\"},\"hovermode\":\"closest\",\"mapbox\":{\"style\":\"light\"},\"paper_bgcolor\":\"white\",\"plot_bgcolor\":\"#E5ECF6\",\"polar\":{\"angularaxis\":{\"gridcolor\":\"white\",\"linecolor\":\"white\",\"ticks\":\"\"},\"bgcolor\":\"#E5ECF6\",\"radialaxis\":{\"gridcolor\":\"white\",\"linecolor\":\"white\",\"ticks\":\"\"}},\"scene\":{\"xaxis\":{\"backgroundcolor\":\"#E5ECF6\",\"gridcolor\":\"white\",\"gridwidth\":2,\"linecolor\":\"white\",\"showbackground\":true,\"ticks\":\"\",\"zerolinecolor\":\"white\"},\"yaxis\":{\"backgroundcolor\":\"#E5ECF6\",\"gridcolor\":\"white\",\"gridwidth\":2,\"linecolor\":\"white\",\"showbackground\":true,\"ticks\":\"\",\"zerolinecolor\":\"white\"},\"zaxis\":{\"backgroundcolor\":\"#E5ECF6\",\"gridcolor\":\"white\",\"gridwidth\":2,\"linecolor\":\"white\",\"showbackground\":true,\"ticks\":\"\",\"zerolinecolor\":\"white\"}},\"shapedefaults\":{\"line\":{\"color\":\"#2a3f5f\"}},\"ternary\":{\"aaxis\":{\"gridcolor\":\"white\",\"linecolor\":\"white\",\"ticks\":\"\"},\"baxis\":{\"gridcolor\":\"white\",\"linecolor\":\"white\",\"ticks\":\"\"},\"bgcolor\":\"#E5ECF6\",\"caxis\":{\"gridcolor\":\"white\",\"linecolor\":\"white\",\"ticks\":\"\"}},\"title\":{\"x\":0.05},\"xaxis\":{\"automargin\":true,\"gridcolor\":\"white\",\"linecolor\":\"white\",\"ticks\":\"\",\"title\":{\"standoff\":15},\"zerolinecolor\":\"white\",\"zerolinewidth\":2},\"yaxis\":{\"automargin\":true,\"gridcolor\":\"white\",\"linecolor\":\"white\",\"ticks\":\"\",\"title\":{\"standoff\":15},\"zerolinecolor\":\"white\",\"zerolinewidth\":2}}}},                        {\"responsive\": true}                    ).then(function(){\n",
       "                            \n",
       "var gd = document.getElementById('c369da7f-abf8-49d3-a585-8278bcdaa1c0');\n",
       "var x = new MutationObserver(function (mutations, observer) {{\n",
       "        var display = window.getComputedStyle(gd).display;\n",
       "        if (!display || display === 'none') {{\n",
       "            console.log([gd, 'removed!']);\n",
       "            Plotly.purge(gd);\n",
       "            observer.disconnect();\n",
       "        }}\n",
       "}});\n",
       "\n",
       "// Listen for the removal of the full notebook cells\n",
       "var notebookContainer = gd.closest('#notebook-container');\n",
       "if (notebookContainer) {{\n",
       "    x.observe(notebookContainer, {childList: true});\n",
       "}}\n",
       "\n",
       "// Listen for the clearing of the current output cell\n",
       "var outputEl = gd.closest('.output');\n",
       "if (outputEl) {{\n",
       "    x.observe(outputEl, {childList: true});\n",
       "}}\n",
       "\n",
       "                        })                };                });            </script>        </div>"
      ]
     },
     "metadata": {},
     "output_type": "display_data"
    }
   ],
   "source": [
    "team_value='ATL'\n",
    "data = pd.read_csv('schedule.csv', index_col=0)\n",
    "d=data[data['team']==team_value].sort_values(by='datetime')\n",
    "d=d[d['season']==2022]\n",
    "d['cd']=np.cumsum(d['distance_traveled'])\n",
    "\n",
    "fig = go.Figure()\n",
    "fig.add_trace(\n",
    "    go.Scatter(x = d['datetime'], \n",
    "            y = d['cd'],\n",
    "            mode = 'lines',\n",
    "            line={'color': 'green'},\n",
    "            name=team_value,\n",
    "            )\n",
    ")\n",
    "fig.show()"
   ]
  },
  {
   "cell_type": "code",
   "execution_count": 67,
   "metadata": {},
   "outputs": [
    {
     "name": "stdout",
     "output_type": "stream",
     "text": [
      "Dash app running on http://127.0.0.1:8050/\n"
     ]
    }
   ],
   "source": [
    "app = JupyterDash(__name__,external_stylesheets = [dbc.themes.BOOTSTRAP])\n",
    "\n",
    "# read the data\n",
    "data = pd.read_csv('schedule.csv')\n",
    "\n",
    "# list of all unique teams\n",
    "teams=data['opponent_name'].unique()\n",
    "\n",
    "# list of all unique team abbreviation\n",
    "team_abbr = data['opponent_abbr'].unique()\n",
    "\n",
    "#list of all unique seasons\n",
    "seasons=data['season'].unique()\n",
    "\n",
    "app.layout = html.Div([\n",
    "    \n",
    "    # top left drop menu for teams\n",
    "    html.Div([\n",
    "            dcc.Dropdown(\n",
    "                id='team_value',\n",
    "                options=[{'label': teams[i], 'value': team_abbr[i]} for i in range(len(teams))],\n",
    "                value='Team'\n",
    "            )\n",
    "    ], style={'width': '30%', 'display': 'inline-block'}), \n",
    "   \n",
    "    \n",
    "    # top middle drop menu for seasons\n",
    "    html.Div([\n",
    "            dcc.Dropdown(\n",
    "                id='season_value',\n",
    "                options=[{'label': s, 'value': s} for s in seasons],\n",
    "                value='Season'\n",
    "            )\n",
    "    ], style={'width': '30%', 'float': 'center', 'display': 'inline-block'}),\n",
    "\n",
    "\n",
    "    # top left date range picker \n",
    "    html.Div([\n",
    "        dcc.DatePickerRange(\n",
    "            id='datepicker',\n",
    "            month_format='YYYY MMM'\n",
    "        )\n",
    "    ], style={'width': '30%', 'float': 'right', 'display': 'inline-block'}),\n",
    "\n",
    "    dcc.Graph(id='cumdist-graphic')\n",
    "])\n",
    "@app.callback(\n",
    "    Output('datepicker', 'start_date'),\n",
    "    Output('datepicker', 'end_date'),\n",
    "    Input('season_value', 'value')\n",
    ")\n",
    "\n",
    "def update_date_range(season_value): \n",
    "    df = pd.read_csv('schedule.csv', index_col=0)\n",
    "    df = df[df['season']==season_value]\n",
    "    df = df[df['playoffs']==0]\n",
    "    min_date = df['datetime'].min()\n",
    "    max_date = df['datetime'].max()\n",
    "    return min_date, max_date\n",
    "\n",
    "@app.callback(\n",
    "    Output('cumdist-graphic', 'figure'),\n",
    "    Input('team_value', 'value'),\n",
    "    Input('season_value', 'value'),\n",
    "    Input('datepicker', 'start_date'),\n",
    "    Input('datepicker', 'end_date'))\n",
    "\n",
    "def update_graph(team_value, season_value, start_date, end_date):\n",
    "    \n",
    "#     colors = ['gray']*len(teams)\n",
    "#     if team_value !='Teams':\n",
    "#         index=np.where(teams == team_value)[0][0]\n",
    "#         colors[index]='aqua'\n",
    "    \n",
    "    fig = go.Figure()\n",
    "    \n",
    "#     if team_value == 'Team':\n",
    "    d=data.sort_values(by='datetime')\n",
    "    d['cd']=np.cumsum(d['distance_traveled'])\n",
    "    if season_value !='Season':\n",
    "        d=d[d['season']==season_value]\n",
    "        d = d[(d['datetime'] > start_date) & (d['datetime'] < end_date)]\n",
    "\n",
    "    fig.add_trace(\n",
    "        go.Scatter(x = d['datetime'], \n",
    "                y = d.groupby('datetime')['cd'].mean()/len(teams),\n",
    "                mode = 'lines',\n",
    "                line={'color': 'green'},\n",
    "                name='Average Cumulative Distance',\n",
    "                )\n",
    "    )\n",
    "#         cd=data.groupby('season')['distance_traveled'].mean()\n",
    "#         d=data.sort_values(by='datetime')\n",
    "#         dt=d['distance_traveled']\n",
    "#         cd=np.cumsum(dt)\n",
    "#         fig.add_trace(go.Scatter(x = data['datetime'], \n",
    "#                  y = cd,\n",
    "#                  mode = 'lines',\n",
    "#                  name='Average',\n",
    "#                  ))\n",
    "    if team_value != 'Team':\n",
    "#     else:\n",
    "        d=data[data['team']==team_value].sort_values(by='datetime')\n",
    "        d['cd']=np.cumsum(d['distance_traveled'])\n",
    "        if season_value !='Season':\n",
    "            d=d[d['season']==season_value]\n",
    "            d = d[(d['datetime'] > start_date) & (d['datetime'] < end_date)]\n",
    "        \n",
    "        fig.add_trace(\n",
    "            go.Scatter(x = d['datetime'], \n",
    "                    y = d['cd'],\n",
    "                    mode = 'lines',\n",
    "                    line={'color': 'green'},\n",
    "                    name=team_value,\n",
    "                    )\n",
    "        )\n",
    "#             fig.add_trace(\n",
    "#                 go.Scatter(x = d['datetime'], \n",
    "#                         y = cd.where(d['result'] == 'Loss'),\n",
    "#                         mode = 'lines',\n",
    "#                         line={'color': 'red'},\n",
    "#                         name='',\n",
    "#                         )\n",
    "#             )\n",
    "        \n",
    "\n",
    "#     for i,team in enumerate(team_abbr):\n",
    "\n",
    "#         d=data[data['team']==team].sort_values(by='datetime').reset_index()\n",
    "# #         if quarter_value !='Quarter':\n",
    "# #             d=d[d['quarter']==quarter_value]\n",
    "#         if season_value !='Season':\n",
    "#             d=d[d['season']==season_value]\n",
    "# #         if start_date !='Season':\n",
    "# #             df = df[(df['datetime'] > start_date) & (df['datetime'] < end_date)]\n",
    "#         dt=d['distance_traveled']\n",
    "#         cd=np.cumsum(dt)\n",
    "        \n",
    "# #         fig.add_trace(go.Scatter(x = d['datetime'], \n",
    "# #                          y = cd,\n",
    "# #                          mode = 'lines',\n",
    "# #                          name=team,\n",
    "# #                              line = dict(color = colors[i])\n",
    "# #                          ))\n",
    "\n",
    "#         if team_value =='Teams' or team==team_value:\n",
    "#             fig.add_trace(\n",
    "#                 go.Scatter(x = d['datetime'], \n",
    "#                         y = cd,\n",
    "#                         mode = 'lines',\n",
    "#                         line={'color': 'green'},\n",
    "#                         name=team,\n",
    "#                         )\n",
    "#             )\n",
    "#             fig.add_trace(\n",
    "#                 go.Scatter(x = d['datetime'], \n",
    "#                         y = cd.where(d['result'] == 'Loss'),\n",
    "#                         mode = 'lines',\n",
    "#                         line={'color': 'red'},\n",
    "#                         name='',\n",
    "#                         )\n",
    "#             )\n",
    "#         else:\n",
    "#             fig.add_trace(\n",
    "#                 go.Scatter(x = d['datetime'], \n",
    "#                         y = cd,\n",
    "#                         mode = 'lines',\n",
    "#                         line={'color': 'gray'},\n",
    "#                         name=team,\n",
    "#                         )\n",
    "#             )\n",
    "\n",
    "    return fig\n",
    "    \n",
    "if __name__ == '__main__':\n",
    "    app.run_server(debug=True)"
   ]
  },
  {
   "cell_type": "code",
   "execution_count": null,
   "metadata": {},
   "outputs": [],
   "source": []
  },
  {
   "cell_type": "code",
   "execution_count": null,
   "metadata": {},
   "outputs": [],
   "source": []
  }
 ],
 "metadata": {
  "interpreter": {
   "hash": "e66d7a49faa5f6c041480274529b07e61fdf2b613be61b53e5e2e687091ef67e"
  },
  "kernelspec": {
   "display_name": "Python 3",
   "language": "python",
   "name": "python3"
  },
  "language_info": {
   "codemirror_mode": {
    "name": "ipython",
    "version": 3
   },
   "file_extension": ".py",
   "mimetype": "text/x-python",
   "name": "python",
   "nbconvert_exporter": "python",
   "pygments_lexer": "ipython3",
   "version": "3.8.8"
  }
 },
 "nbformat": 4,
 "nbformat_minor": 2
}
