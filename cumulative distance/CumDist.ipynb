{
 "cells": [
  {
   "cell_type": "code",
   "execution_count": 1,
   "metadata": {},
   "outputs": [
    {
     "name": "stderr",
     "output_type": "stream",
     "text": [
      "<ipython-input-1-9f5735bf4111>:10: UserWarning: \n",
      "The dash_core_components package is deprecated. Please replace\n",
      "`import dash_core_components as dcc` with `from dash import dcc`\n",
      "  import dash_core_components as dcc\n",
      "<ipython-input-1-9f5735bf4111>:11: UserWarning: \n",
      "The dash_html_components package is deprecated. Please replace\n",
      "`import dash_html_components as html` with `from dash import html`\n",
      "  import dash_html_components as html\n"
     ]
    }
   ],
   "source": [
    "\n",
    "# data manipulation\n",
    "import pandas as pd\n",
    "\n",
    "# plotly \n",
    "import plotly.express as px\n",
    "import plotly.graph_objects as go\n",
    "# dashboards\n",
    "import dash \n",
    "from jupyter_dash import JupyterDash #for running the dashboard in jupyter notebook\n",
    "import dash_core_components as dcc\n",
    "import dash_html_components as html\n",
    "from dash.dependencies import Output, Input\n",
    "import dash_bootstrap_components as dbc #for dashboard themes\n",
    "\n",
    "import numpy as np"
   ]
  },
  {
   "cell_type": "code",
   "execution_count": 2,
   "metadata": {},
   "outputs": [
    {
     "name": "stdout",
     "output_type": "stream",
     "text": [
      "Dash app running on http://127.0.0.1:8050/\n"
     ]
    }
   ],
   "source": [
    "import numpy as np\n",
    "\n",
    "app = JupyterDash(__name__,external_stylesheets = [dbc.themes.BOOTSTRAP])\n",
    "\n",
    "# read the data\n",
    "data = pd.read_csv('schedule.csv')\n",
    "\n",
    "# list of all unique teams\n",
    "teams=data['opponent_name'].unique()\n",
    "\n",
    "#list of all unique quarters\n",
    "data['quarter']=pd.PeriodIndex(data.datetime, freq='Q')\n",
    "q= data['quarter'].unique()\n",
    "\n",
    "\n",
    "app.layout = html.Div([\n",
    "    \n",
    "    # top left drop menu for teams\n",
    "    html.Div([\n",
    "            dcc.Dropdown(\n",
    "                id='team_value',\n",
    "                options=[{'label': i, 'value': i} for i in teams],\n",
    "                value='Teams'\n",
    "            )\n",
    "    ], style={'width': '48%', 'display': 'inline-block'}), \n",
    "    \n",
    "    # top right drop menu for teams\n",
    "    html.Div([\n",
    "            dcc.Dropdown(\n",
    "                id='quarter_value',\n",
    "                options=[{'label': i.strftime('%YQ%q'), 'value': i.strftime('%YQ%q')} for i in q],\n",
    "                value='Quarter'\n",
    "            )\n",
    "    ], style={'width': '48%', 'float': 'right', 'display': 'inline-block'}),\n",
    "\n",
    "    dcc.Graph(id='cumdist-graphic')\n",
    "])\n",
    "\n",
    "@app.callback(\n",
    "    Output('cumdist-graphic', 'figure'),\n",
    "    Input('team_value', 'value'),\n",
    "    Input('quarter_value', 'value'))\n",
    "\n",
    "def update_graph(team_value, quarter_value):\n",
    "    \n",
    "    colors = ['gray']*len(teams)\n",
    "    if team_value !='Teams':\n",
    "        index=np.where(teams == team_value)[0][0]\n",
    "        colors[index]='aqua'\n",
    "    \n",
    "    fig = go.Figure()\n",
    "\n",
    "    for i,team in enumerate(teams):\n",
    "\n",
    "        d=data[data['opponent_name']==team].sort_values(by='datetime')\n",
    "        if quarter_value !='Quarter':\n",
    "            d=d[d['quarter']==quarter_value]\n",
    "        dt=d['distance_traveled']\n",
    "        cd=np.cumsum(dt)\n",
    "\n",
    "        fig.add_trace(go.Scatter(x = d['datetime'], \n",
    "                                 y = cd,\n",
    "                                 mode = 'lines',\n",
    "                                 name=team,\n",
    "                                     line = dict(color = colors[i])\n",
    "                                 ))\n",
    "\n",
    "    return fig\n",
    "    \n",
    "if __name__ == '__main__':\n",
    "    app.run_server(debug=True)"
   ]
  },
  {
   "cell_type": "code",
   "execution_count": null,
   "metadata": {},
   "outputs": [],
   "source": []
  }
 ],
 "metadata": {
  "interpreter": {
   "hash": "649d9fc434aa5733f78d20f4daac585a8eecdf5d39abd97d49910164d0c0ef7d"
  },
  "kernelspec": {
   "display_name": "Python 3",
   "language": "python",
   "name": "python3"
  },
  "language_info": {
   "codemirror_mode": {
    "name": "ipython",
    "version": 3
   },
   "file_extension": ".py",
   "mimetype": "text/x-python",
   "name": "python",
   "nbconvert_exporter": "python",
   "pygments_lexer": "ipython3",
   "version": "3.8.8"
  }
 },
 "nbformat": 4,
 "nbformat_minor": 2
}
