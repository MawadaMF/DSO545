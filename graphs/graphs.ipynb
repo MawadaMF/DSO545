{
 "cells": [
  {
   "cell_type": "code",
   "execution_count": 2,
   "source": [
    "import pandas as pd \n",
    "import plotly.express as px\n",
    "import numpy as numpy \n",
    "from matplotlib import pyplot as plt \n",
    "import seaborn "
   ],
   "outputs": [],
   "metadata": {}
  },
  {
   "cell_type": "code",
   "execution_count": 3,
   "source": [
    "teams=data['opponent_name'].unique()\n",
    "team_abbr = data['opponent_abbr'].unique()\n",
    "seasons=data['season'].unique()\n",
    "{'label': i, 'value': i} for i in teams for j in team_abbr]"
   ],
   "outputs": [
    {
     "output_type": "error",
     "ename": "SyntaxError",
     "evalue": "invalid syntax (<ipython-input-3-a234f26eb5a3>, line 4)",
     "traceback": [
      "\u001b[0;36m  File \u001b[0;32m\"<ipython-input-3-a234f26eb5a3>\"\u001b[0;36m, line \u001b[0;32m4\u001b[0m\n\u001b[0;31m    {'label': i, 'value': i} for i in teams for j in team_abbr]\u001b[0m\n\u001b[0m                             ^\u001b[0m\n\u001b[0;31mSyntaxError\u001b[0m\u001b[0;31m:\u001b[0m invalid syntax\n"
     ]
    }
   ],
   "metadata": {}
  },
  {
   "cell_type": "code",
   "execution_count": null,
   "source": [
    "df = pd.read_csv('schedule.csv', index_col=0)\n",
    "print(df['opponent_name'].unique())\n",
    "print(df['opponent_abbr'].unique())\n",
    "\n",
    "df['season'].unique()"
   ],
   "outputs": [
    {
     "output_type": "stream",
     "name": "stdout",
     "text": [
      "['Los Angeles Lakers' 'San Antonio Spurs' 'Phoenix Suns' 'Utah Jazz'\n",
      " 'Houston Rockets' 'Minnesota Timberwolves' 'Orlando Magic' 'Miami Heat'\n",
      " 'New Orleans Hornets' 'Golden State Warriors' 'Chicago Bulls'\n",
      " 'Sacramento Kings' 'Detroit Pistons' 'New York Knicks'\n",
      " 'Washington Wizards' 'Boston Celtics' 'Toronto Raptors'\n",
      " 'Los Angeles Clippers' 'Denver Nuggets' 'Dallas Mavericks'\n",
      " 'Philadelphia 76ers' 'New Jersey Nets' 'Charlotte Bobcats'\n",
      " 'Milwaukee Bucks' 'Cleveland Cavaliers' 'Oklahoma City Thunder'\n",
      " 'Memphis Grizzlies' 'Atlanta Hawks' 'Indiana Pacers'\n",
      " 'Portland Trail Blazers' 'Brooklyn Nets' 'New Orleans Pelicans'\n",
      " 'Charlotte Hornets']\n",
      "['LAL' 'SAS' 'PHO' 'UTA' 'HOU' 'MIN' 'ORL' 'MIA' 'NOH' 'GSW' 'CHI' 'SAC'\n",
      " 'DET' 'NYK' 'WAS' 'BOS' 'TOR' 'LAC' 'DEN' 'DAL' 'PHI' 'NJN' 'CHA' 'MIL'\n",
      " 'CLE' 'OKC' 'MEM' 'ATL' 'IND' 'POR' 'BKN' 'NOP' 'CHO']\n"
     ]
    },
    {
     "output_type": "execute_result",
     "data": {
      "text/plain": [
       "array([2009., 2010., 2011., 2012., 2013., 2014., 2015., 2016., 2017.,\n",
       "       2018., 2019., 2020., 2021., 2022.])"
      ]
     },
     "metadata": {},
     "execution_count": 3
    }
   ],
   "metadata": {}
  },
  {
   "cell_type": "code",
   "execution_count": null,
   "source": [
    "df = df[df['season']==2015]\n",
    "df = df[df['playoffs']==0]\n",
    "print(df.shape)\n",
    "df.head()"
   ],
   "outputs": [
    {
     "output_type": "stream",
     "name": "stdout",
     "text": [
      "(2460, 26)\n"
     ]
    },
    {
     "output_type": "execute_result",
     "data": {
      "text/html": [
       "<div>\n",
       "<style scoped>\n",
       "    .dataframe tbody tr th:only-of-type {\n",
       "        vertical-align: middle;\n",
       "    }\n",
       "\n",
       "    .dataframe tbody tr th {\n",
       "        vertical-align: top;\n",
       "    }\n",
       "\n",
       "    .dataframe thead th {\n",
       "        text-align: right;\n",
       "    }\n",
       "</style>\n",
       "<table border=\"1\" class=\"dataframe\">\n",
       "  <thead>\n",
       "    <tr style=\"text-align: right;\">\n",
       "      <th></th>\n",
       "      <th>date</th>\n",
       "      <th>datetime</th>\n",
       "      <th>game</th>\n",
       "      <th>location</th>\n",
       "      <th>distance_traveled</th>\n",
       "      <th>losses</th>\n",
       "      <th>opponent_abbr</th>\n",
       "      <th>opponent_name</th>\n",
       "      <th>opponent_long</th>\n",
       "      <th>opponent_lat</th>\n",
       "      <th>...</th>\n",
       "      <th>wins</th>\n",
       "      <th>team</th>\n",
       "      <th>team_long</th>\n",
       "      <th>team_lat</th>\n",
       "      <th>season</th>\n",
       "      <th>opp_coords</th>\n",
       "      <th>team_coords</th>\n",
       "      <th>back_to_back</th>\n",
       "      <th>3_in_4</th>\n",
       "      <th>4_in_5</th>\n",
       "    </tr>\n",
       "    <tr>\n",
       "      <th>boxscore_index</th>\n",
       "      <th></th>\n",
       "      <th></th>\n",
       "      <th></th>\n",
       "      <th></th>\n",
       "      <th></th>\n",
       "      <th></th>\n",
       "      <th></th>\n",
       "      <th></th>\n",
       "      <th></th>\n",
       "      <th></th>\n",
       "      <th></th>\n",
       "      <th></th>\n",
       "      <th></th>\n",
       "      <th></th>\n",
       "      <th></th>\n",
       "      <th></th>\n",
       "      <th></th>\n",
       "      <th></th>\n",
       "      <th></th>\n",
       "      <th></th>\n",
       "      <th></th>\n",
       "    </tr>\n",
       "  </thead>\n",
       "  <tbody>\n",
       "    <tr>\n",
       "      <th>201410290POR</th>\n",
       "      <td>Wed, Oct 29, 2014</td>\n",
       "      <td>2014-10-29</td>\n",
       "      <td>1</td>\n",
       "      <td>Home</td>\n",
       "      <td>0.000000</td>\n",
       "      <td>0.0</td>\n",
       "      <td>OKC</td>\n",
       "      <td>Oklahoma City Thunder</td>\n",
       "      <td>-97.515000</td>\n",
       "      <td>35.463333</td>\n",
       "      <td>...</td>\n",
       "      <td>1.0</td>\n",
       "      <td>POR</td>\n",
       "      <td>-122.666667</td>\n",
       "      <td>45.531667</td>\n",
       "      <td>2015.0</td>\n",
       "      <td>(35.463333, -97.515)</td>\n",
       "      <td>(45.531667, -122.666667)</td>\n",
       "      <td>0</td>\n",
       "      <td>0</td>\n",
       "      <td>0</td>\n",
       "    </tr>\n",
       "    <tr>\n",
       "      <th>201410310SAC</th>\n",
       "      <td>Fri, Oct 31, 2014</td>\n",
       "      <td>2014-10-31</td>\n",
       "      <td>2</td>\n",
       "      <td>Away</td>\n",
       "      <td>478.663461</td>\n",
       "      <td>1.0</td>\n",
       "      <td>SAC</td>\n",
       "      <td>Sacramento Kings</td>\n",
       "      <td>-121.518056</td>\n",
       "      <td>38.649167</td>\n",
       "      <td>...</td>\n",
       "      <td>1.0</td>\n",
       "      <td>POR</td>\n",
       "      <td>-122.666667</td>\n",
       "      <td>45.531667</td>\n",
       "      <td>2015.0</td>\n",
       "      <td>(38.649167, -121.518056)</td>\n",
       "      <td>(45.531667, -122.666667)</td>\n",
       "      <td>0</td>\n",
       "      <td>0</td>\n",
       "      <td>0</td>\n",
       "    </tr>\n",
       "    <tr>\n",
       "      <th>201411020POR</th>\n",
       "      <td>Sun, Nov 2, 2014</td>\n",
       "      <td>2014-11-02</td>\n",
       "      <td>3</td>\n",
       "      <td>Home</td>\n",
       "      <td>478.663461</td>\n",
       "      <td>2.0</td>\n",
       "      <td>GSW</td>\n",
       "      <td>Golden State Warriors</td>\n",
       "      <td>-122.387500</td>\n",
       "      <td>37.768056</td>\n",
       "      <td>...</td>\n",
       "      <td>1.0</td>\n",
       "      <td>POR</td>\n",
       "      <td>-122.666667</td>\n",
       "      <td>45.531667</td>\n",
       "      <td>2015.0</td>\n",
       "      <td>(37.768056, -122.3875)</td>\n",
       "      <td>(45.531667, -122.666667)</td>\n",
       "      <td>0</td>\n",
       "      <td>0</td>\n",
       "      <td>0</td>\n",
       "    </tr>\n",
       "    <tr>\n",
       "      <th>201411040POR</th>\n",
       "      <td>Tue, Nov 4, 2014</td>\n",
       "      <td>2014-11-04</td>\n",
       "      <td>4</td>\n",
       "      <td>Home</td>\n",
       "      <td>0.000000</td>\n",
       "      <td>2.0</td>\n",
       "      <td>CLE</td>\n",
       "      <td>Cleveland Cavaliers</td>\n",
       "      <td>-81.688056</td>\n",
       "      <td>41.496389</td>\n",
       "      <td>...</td>\n",
       "      <td>2.0</td>\n",
       "      <td>POR</td>\n",
       "      <td>-122.666667</td>\n",
       "      <td>45.531667</td>\n",
       "      <td>2015.0</td>\n",
       "      <td>(41.496389, -81.688056)</td>\n",
       "      <td>(45.531667, -122.666667)</td>\n",
       "      <td>0</td>\n",
       "      <td>0</td>\n",
       "      <td>0</td>\n",
       "    </tr>\n",
       "    <tr>\n",
       "      <th>201411060POR</th>\n",
       "      <td>Thu, Nov 6, 2014</td>\n",
       "      <td>2014-11-06</td>\n",
       "      <td>5</td>\n",
       "      <td>Home</td>\n",
       "      <td>0.000000</td>\n",
       "      <td>2.0</td>\n",
       "      <td>DAL</td>\n",
       "      <td>Dallas Mavericks</td>\n",
       "      <td>-96.810278</td>\n",
       "      <td>32.790556</td>\n",
       "      <td>...</td>\n",
       "      <td>3.0</td>\n",
       "      <td>POR</td>\n",
       "      <td>-122.666667</td>\n",
       "      <td>45.531667</td>\n",
       "      <td>2015.0</td>\n",
       "      <td>(32.790556, -96.810278)</td>\n",
       "      <td>(45.531667, -122.666667)</td>\n",
       "      <td>0</td>\n",
       "      <td>0</td>\n",
       "      <td>0</td>\n",
       "    </tr>\n",
       "  </tbody>\n",
       "</table>\n",
       "<p>5 rows × 26 columns</p>\n",
       "</div>"
      ],
      "text/plain": [
       "                             date    datetime  game location  \\\n",
       "boxscore_index                                                 \n",
       "201410290POR    Wed, Oct 29, 2014  2014-10-29     1     Home   \n",
       "201410310SAC    Fri, Oct 31, 2014  2014-10-31     2     Away   \n",
       "201411020POR     Sun, Nov 2, 2014  2014-11-02     3     Home   \n",
       "201411040POR     Tue, Nov 4, 2014  2014-11-04     4     Home   \n",
       "201411060POR     Thu, Nov 6, 2014  2014-11-06     5     Home   \n",
       "\n",
       "                distance_traveled  losses opponent_abbr  \\\n",
       "boxscore_index                                            \n",
       "201410290POR             0.000000     0.0           OKC   \n",
       "201410310SAC           478.663461     1.0           SAC   \n",
       "201411020POR           478.663461     2.0           GSW   \n",
       "201411040POR             0.000000     2.0           CLE   \n",
       "201411060POR             0.000000     2.0           DAL   \n",
       "\n",
       "                        opponent_name  opponent_long  opponent_lat  ...  wins  \\\n",
       "boxscore_index                                                      ...         \n",
       "201410290POR    Oklahoma City Thunder     -97.515000     35.463333  ...   1.0   \n",
       "201410310SAC         Sacramento Kings    -121.518056     38.649167  ...   1.0   \n",
       "201411020POR    Golden State Warriors    -122.387500     37.768056  ...   1.0   \n",
       "201411040POR      Cleveland Cavaliers     -81.688056     41.496389  ...   2.0   \n",
       "201411060POR         Dallas Mavericks     -96.810278     32.790556  ...   3.0   \n",
       "\n",
       "                team   team_long   team_lat  season                opp_coords  \\\n",
       "boxscore_index                                                                  \n",
       "201410290POR     POR -122.666667  45.531667  2015.0      (35.463333, -97.515)   \n",
       "201410310SAC     POR -122.666667  45.531667  2015.0  (38.649167, -121.518056)   \n",
       "201411020POR     POR -122.666667  45.531667  2015.0    (37.768056, -122.3875)   \n",
       "201411040POR     POR -122.666667  45.531667  2015.0   (41.496389, -81.688056)   \n",
       "201411060POR     POR -122.666667  45.531667  2015.0   (32.790556, -96.810278)   \n",
       "\n",
       "                             team_coords back_to_back  3_in_4  4_in_5  \n",
       "boxscore_index                                                         \n",
       "201410290POR    (45.531667, -122.666667)            0       0       0  \n",
       "201410310SAC    (45.531667, -122.666667)            0       0       0  \n",
       "201411020POR    (45.531667, -122.666667)            0       0       0  \n",
       "201411040POR    (45.531667, -122.666667)            0       0       0  \n",
       "201411060POR    (45.531667, -122.666667)            0       0       0  \n",
       "\n",
       "[5 rows x 26 columns]"
      ]
     },
     "metadata": {},
     "execution_count": 79
    }
   ],
   "metadata": {}
  },
  {
   "cell_type": "code",
   "execution_count": null,
   "source": [
    "df['datetime'].min()\n",
    "df['datetime'].max()"
   ],
   "outputs": [
    {
     "output_type": "execute_result",
     "data": {
      "text/plain": [
       "'2022-04-10'"
      ]
     },
     "metadata": {},
     "execution_count": 96
    }
   ],
   "metadata": {}
  },
  {
   "cell_type": "code",
   "execution_count": null,
   "source": [
    "data = pd.DataFrame(df.groupby('team')['back_to_back'].sum())\n",
    "\n",
    "data['count'] = 1 \n",
    "data.reset_index(level=0, inplace=True)\n",
    "data['color'] = ['blue' if i == 'GSW' else 'grey' for i in data['team']]\n"
   ],
   "outputs": [],
   "metadata": {}
  },
  {
   "cell_type": "code",
   "execution_count": null,
   "source": [
    "fig = px.bar(data, x='back_to_back', y='count', color = 'color',\n",
    "                hover_data={'color':False, 'back_to_back': False, 'count':False, 'team':True},\n",
    "                title ='GSW Back-to-Back Games', \n",
    "                labels = {'count': 'Number of Teams', 'back_to_back': 'Games'}\n",
    "                )\n",
    "\n",
    "\n",
    "fig.update_layout(showlegend=False)\n",
    "fig.show()"
   ],
   "outputs": [
    {
     "output_type": "display_data",
     "data": {
      "application/vnd.plotly.v1+json": {
       "config": {
        "plotlyServerURL": "https://plotly.com"
       },
       "data": [
        {
         "alignmentgroup": "True",
         "customdata": [
          [
           "grey",
           "ATL"
          ],
          [
           "grey",
           "BKN"
          ],
          [
           "grey",
           "BOS"
          ],
          [
           "grey",
           "CHI"
          ],
          [
           "grey",
           "CHO"
          ],
          [
           "grey",
           "CLE"
          ],
          [
           "grey",
           "DAL"
          ],
          [
           "grey",
           "DEN"
          ],
          [
           "grey",
           "DET"
          ],
          [
           "grey",
           "HOU"
          ],
          [
           "grey",
           "IND"
          ],
          [
           "grey",
           "LAC"
          ],
          [
           "grey",
           "LAL"
          ],
          [
           "grey",
           "MEM"
          ],
          [
           "grey",
           "MIA"
          ],
          [
           "grey",
           "MIL"
          ],
          [
           "grey",
           "MIN"
          ],
          [
           "grey",
           "NOP"
          ],
          [
           "grey",
           "NYK"
          ],
          [
           "grey",
           "OKC"
          ],
          [
           "grey",
           "ORL"
          ],
          [
           "grey",
           "PHI"
          ],
          [
           "grey",
           "PHO"
          ],
          [
           "grey",
           "POR"
          ],
          [
           "grey",
           "SAC"
          ],
          [
           "grey",
           "SAS"
          ],
          [
           "grey",
           "TOR"
          ],
          [
           "grey",
           "UTA"
          ],
          [
           "grey",
           "WAS"
          ]
         ],
         "hovertemplate": "team=%{customdata[1]}<extra></extra>",
         "legendgroup": "grey",
         "marker": {
          "color": "#636efa",
          "pattern": {
           "shape": ""
          }
         },
         "name": "grey",
         "offsetgroup": "grey",
         "orientation": "v",
         "showlegend": true,
         "textposition": "auto",
         "type": "bar",
         "x": [
          21,
          19,
          18,
          20,
          22,
          20,
          17,
          21,
          22,
          20,
          18,
          20,
          16,
          20,
          17,
          21,
          19,
          20,
          21,
          18,
          17,
          21,
          18,
          19,
          18,
          21,
          19,
          19,
          19
         ],
         "xaxis": "x",
         "y": [
          1,
          1,
          1,
          1,
          1,
          1,
          1,
          1,
          1,
          1,
          1,
          1,
          1,
          1,
          1,
          1,
          1,
          1,
          1,
          1,
          1,
          1,
          1,
          1,
          1,
          1,
          1,
          1,
          1
         ],
         "yaxis": "y"
        },
        {
         "alignmentgroup": "True",
         "customdata": [
          [
           "blue",
           "GSW"
          ]
         ],
         "hovertemplate": "team=%{customdata[1]}<extra></extra>",
         "legendgroup": "blue",
         "marker": {
          "color": "#EF553B",
          "pattern": {
           "shape": ""
          }
         },
         "name": "blue",
         "offsetgroup": "blue",
         "orientation": "v",
         "showlegend": true,
         "textposition": "auto",
         "type": "bar",
         "x": [
          19
         ],
         "xaxis": "x",
         "y": [
          1
         ],
         "yaxis": "y"
        }
       ],
       "layout": {
        "barmode": "relative",
        "legend": {
         "title": {
          "text": "color"
         },
         "tracegroupgap": 0
        },
        "showlegend": false,
        "template": {
         "data": {
          "bar": [
           {
            "error_x": {
             "color": "#2a3f5f"
            },
            "error_y": {
             "color": "#2a3f5f"
            },
            "marker": {
             "line": {
              "color": "#E5ECF6",
              "width": 0.5
             },
             "pattern": {
              "fillmode": "overlay",
              "size": 10,
              "solidity": 0.2
             }
            },
            "type": "bar"
           }
          ],
          "barpolar": [
           {
            "marker": {
             "line": {
              "color": "#E5ECF6",
              "width": 0.5
             },
             "pattern": {
              "fillmode": "overlay",
              "size": 10,
              "solidity": 0.2
             }
            },
            "type": "barpolar"
           }
          ],
          "carpet": [
           {
            "aaxis": {
             "endlinecolor": "#2a3f5f",
             "gridcolor": "white",
             "linecolor": "white",
             "minorgridcolor": "white",
             "startlinecolor": "#2a3f5f"
            },
            "baxis": {
             "endlinecolor": "#2a3f5f",
             "gridcolor": "white",
             "linecolor": "white",
             "minorgridcolor": "white",
             "startlinecolor": "#2a3f5f"
            },
            "type": "carpet"
           }
          ],
          "choropleth": [
           {
            "colorbar": {
             "outlinewidth": 0,
             "ticks": ""
            },
            "type": "choropleth"
           }
          ],
          "contour": [
           {
            "colorbar": {
             "outlinewidth": 0,
             "ticks": ""
            },
            "colorscale": [
             [
              0,
              "#0d0887"
             ],
             [
              0.1111111111111111,
              "#46039f"
             ],
             [
              0.2222222222222222,
              "#7201a8"
             ],
             [
              0.3333333333333333,
              "#9c179e"
             ],
             [
              0.4444444444444444,
              "#bd3786"
             ],
             [
              0.5555555555555556,
              "#d8576b"
             ],
             [
              0.6666666666666666,
              "#ed7953"
             ],
             [
              0.7777777777777778,
              "#fb9f3a"
             ],
             [
              0.8888888888888888,
              "#fdca26"
             ],
             [
              1,
              "#f0f921"
             ]
            ],
            "type": "contour"
           }
          ],
          "contourcarpet": [
           {
            "colorbar": {
             "outlinewidth": 0,
             "ticks": ""
            },
            "type": "contourcarpet"
           }
          ],
          "heatmap": [
           {
            "colorbar": {
             "outlinewidth": 0,
             "ticks": ""
            },
            "colorscale": [
             [
              0,
              "#0d0887"
             ],
             [
              0.1111111111111111,
              "#46039f"
             ],
             [
              0.2222222222222222,
              "#7201a8"
             ],
             [
              0.3333333333333333,
              "#9c179e"
             ],
             [
              0.4444444444444444,
              "#bd3786"
             ],
             [
              0.5555555555555556,
              "#d8576b"
             ],
             [
              0.6666666666666666,
              "#ed7953"
             ],
             [
              0.7777777777777778,
              "#fb9f3a"
             ],
             [
              0.8888888888888888,
              "#fdca26"
             ],
             [
              1,
              "#f0f921"
             ]
            ],
            "type": "heatmap"
           }
          ],
          "heatmapgl": [
           {
            "colorbar": {
             "outlinewidth": 0,
             "ticks": ""
            },
            "colorscale": [
             [
              0,
              "#0d0887"
             ],
             [
              0.1111111111111111,
              "#46039f"
             ],
             [
              0.2222222222222222,
              "#7201a8"
             ],
             [
              0.3333333333333333,
              "#9c179e"
             ],
             [
              0.4444444444444444,
              "#bd3786"
             ],
             [
              0.5555555555555556,
              "#d8576b"
             ],
             [
              0.6666666666666666,
              "#ed7953"
             ],
             [
              0.7777777777777778,
              "#fb9f3a"
             ],
             [
              0.8888888888888888,
              "#fdca26"
             ],
             [
              1,
              "#f0f921"
             ]
            ],
            "type": "heatmapgl"
           }
          ],
          "histogram": [
           {
            "marker": {
             "pattern": {
              "fillmode": "overlay",
              "size": 10,
              "solidity": 0.2
             }
            },
            "type": "histogram"
           }
          ],
          "histogram2d": [
           {
            "colorbar": {
             "outlinewidth": 0,
             "ticks": ""
            },
            "colorscale": [
             [
              0,
              "#0d0887"
             ],
             [
              0.1111111111111111,
              "#46039f"
             ],
             [
              0.2222222222222222,
              "#7201a8"
             ],
             [
              0.3333333333333333,
              "#9c179e"
             ],
             [
              0.4444444444444444,
              "#bd3786"
             ],
             [
              0.5555555555555556,
              "#d8576b"
             ],
             [
              0.6666666666666666,
              "#ed7953"
             ],
             [
              0.7777777777777778,
              "#fb9f3a"
             ],
             [
              0.8888888888888888,
              "#fdca26"
             ],
             [
              1,
              "#f0f921"
             ]
            ],
            "type": "histogram2d"
           }
          ],
          "histogram2dcontour": [
           {
            "colorbar": {
             "outlinewidth": 0,
             "ticks": ""
            },
            "colorscale": [
             [
              0,
              "#0d0887"
             ],
             [
              0.1111111111111111,
              "#46039f"
             ],
             [
              0.2222222222222222,
              "#7201a8"
             ],
             [
              0.3333333333333333,
              "#9c179e"
             ],
             [
              0.4444444444444444,
              "#bd3786"
             ],
             [
              0.5555555555555556,
              "#d8576b"
             ],
             [
              0.6666666666666666,
              "#ed7953"
             ],
             [
              0.7777777777777778,
              "#fb9f3a"
             ],
             [
              0.8888888888888888,
              "#fdca26"
             ],
             [
              1,
              "#f0f921"
             ]
            ],
            "type": "histogram2dcontour"
           }
          ],
          "mesh3d": [
           {
            "colorbar": {
             "outlinewidth": 0,
             "ticks": ""
            },
            "type": "mesh3d"
           }
          ],
          "parcoords": [
           {
            "line": {
             "colorbar": {
              "outlinewidth": 0,
              "ticks": ""
             }
            },
            "type": "parcoords"
           }
          ],
          "pie": [
           {
            "automargin": true,
            "type": "pie"
           }
          ],
          "scatter": [
           {
            "marker": {
             "colorbar": {
              "outlinewidth": 0,
              "ticks": ""
             }
            },
            "type": "scatter"
           }
          ],
          "scatter3d": [
           {
            "line": {
             "colorbar": {
              "outlinewidth": 0,
              "ticks": ""
             }
            },
            "marker": {
             "colorbar": {
              "outlinewidth": 0,
              "ticks": ""
             }
            },
            "type": "scatter3d"
           }
          ],
          "scattercarpet": [
           {
            "marker": {
             "colorbar": {
              "outlinewidth": 0,
              "ticks": ""
             }
            },
            "type": "scattercarpet"
           }
          ],
          "scattergeo": [
           {
            "marker": {
             "colorbar": {
              "outlinewidth": 0,
              "ticks": ""
             }
            },
            "type": "scattergeo"
           }
          ],
          "scattergl": [
           {
            "marker": {
             "colorbar": {
              "outlinewidth": 0,
              "ticks": ""
             }
            },
            "type": "scattergl"
           }
          ],
          "scattermapbox": [
           {
            "marker": {
             "colorbar": {
              "outlinewidth": 0,
              "ticks": ""
             }
            },
            "type": "scattermapbox"
           }
          ],
          "scatterpolar": [
           {
            "marker": {
             "colorbar": {
              "outlinewidth": 0,
              "ticks": ""
             }
            },
            "type": "scatterpolar"
           }
          ],
          "scatterpolargl": [
           {
            "marker": {
             "colorbar": {
              "outlinewidth": 0,
              "ticks": ""
             }
            },
            "type": "scatterpolargl"
           }
          ],
          "scatterternary": [
           {
            "marker": {
             "colorbar": {
              "outlinewidth": 0,
              "ticks": ""
             }
            },
            "type": "scatterternary"
           }
          ],
          "surface": [
           {
            "colorbar": {
             "outlinewidth": 0,
             "ticks": ""
            },
            "colorscale": [
             [
              0,
              "#0d0887"
             ],
             [
              0.1111111111111111,
              "#46039f"
             ],
             [
              0.2222222222222222,
              "#7201a8"
             ],
             [
              0.3333333333333333,
              "#9c179e"
             ],
             [
              0.4444444444444444,
              "#bd3786"
             ],
             [
              0.5555555555555556,
              "#d8576b"
             ],
             [
              0.6666666666666666,
              "#ed7953"
             ],
             [
              0.7777777777777778,
              "#fb9f3a"
             ],
             [
              0.8888888888888888,
              "#fdca26"
             ],
             [
              1,
              "#f0f921"
             ]
            ],
            "type": "surface"
           }
          ],
          "table": [
           {
            "cells": {
             "fill": {
              "color": "#EBF0F8"
             },
             "line": {
              "color": "white"
             }
            },
            "header": {
             "fill": {
              "color": "#C8D4E3"
             },
             "line": {
              "color": "white"
             }
            },
            "type": "table"
           }
          ]
         },
         "layout": {
          "annotationdefaults": {
           "arrowcolor": "#2a3f5f",
           "arrowhead": 0,
           "arrowwidth": 1
          },
          "autotypenumbers": "strict",
          "coloraxis": {
           "colorbar": {
            "outlinewidth": 0,
            "ticks": ""
           }
          },
          "colorscale": {
           "diverging": [
            [
             0,
             "#8e0152"
            ],
            [
             0.1,
             "#c51b7d"
            ],
            [
             0.2,
             "#de77ae"
            ],
            [
             0.3,
             "#f1b6da"
            ],
            [
             0.4,
             "#fde0ef"
            ],
            [
             0.5,
             "#f7f7f7"
            ],
            [
             0.6,
             "#e6f5d0"
            ],
            [
             0.7,
             "#b8e186"
            ],
            [
             0.8,
             "#7fbc41"
            ],
            [
             0.9,
             "#4d9221"
            ],
            [
             1,
             "#276419"
            ]
           ],
           "sequential": [
            [
             0,
             "#0d0887"
            ],
            [
             0.1111111111111111,
             "#46039f"
            ],
            [
             0.2222222222222222,
             "#7201a8"
            ],
            [
             0.3333333333333333,
             "#9c179e"
            ],
            [
             0.4444444444444444,
             "#bd3786"
            ],
            [
             0.5555555555555556,
             "#d8576b"
            ],
            [
             0.6666666666666666,
             "#ed7953"
            ],
            [
             0.7777777777777778,
             "#fb9f3a"
            ],
            [
             0.8888888888888888,
             "#fdca26"
            ],
            [
             1,
             "#f0f921"
            ]
           ],
           "sequentialminus": [
            [
             0,
             "#0d0887"
            ],
            [
             0.1111111111111111,
             "#46039f"
            ],
            [
             0.2222222222222222,
             "#7201a8"
            ],
            [
             0.3333333333333333,
             "#9c179e"
            ],
            [
             0.4444444444444444,
             "#bd3786"
            ],
            [
             0.5555555555555556,
             "#d8576b"
            ],
            [
             0.6666666666666666,
             "#ed7953"
            ],
            [
             0.7777777777777778,
             "#fb9f3a"
            ],
            [
             0.8888888888888888,
             "#fdca26"
            ],
            [
             1,
             "#f0f921"
            ]
           ]
          },
          "colorway": [
           "#636efa",
           "#EF553B",
           "#00cc96",
           "#ab63fa",
           "#FFA15A",
           "#19d3f3",
           "#FF6692",
           "#B6E880",
           "#FF97FF",
           "#FECB52"
          ],
          "font": {
           "color": "#2a3f5f"
          },
          "geo": {
           "bgcolor": "white",
           "lakecolor": "white",
           "landcolor": "#E5ECF6",
           "showlakes": true,
           "showland": true,
           "subunitcolor": "white"
          },
          "hoverlabel": {
           "align": "left"
          },
          "hovermode": "closest",
          "mapbox": {
           "style": "light"
          },
          "paper_bgcolor": "white",
          "plot_bgcolor": "#E5ECF6",
          "polar": {
           "angularaxis": {
            "gridcolor": "white",
            "linecolor": "white",
            "ticks": ""
           },
           "bgcolor": "#E5ECF6",
           "radialaxis": {
            "gridcolor": "white",
            "linecolor": "white",
            "ticks": ""
           }
          },
          "scene": {
           "xaxis": {
            "backgroundcolor": "#E5ECF6",
            "gridcolor": "white",
            "gridwidth": 2,
            "linecolor": "white",
            "showbackground": true,
            "ticks": "",
            "zerolinecolor": "white"
           },
           "yaxis": {
            "backgroundcolor": "#E5ECF6",
            "gridcolor": "white",
            "gridwidth": 2,
            "linecolor": "white",
            "showbackground": true,
            "ticks": "",
            "zerolinecolor": "white"
           },
           "zaxis": {
            "backgroundcolor": "#E5ECF6",
            "gridcolor": "white",
            "gridwidth": 2,
            "linecolor": "white",
            "showbackground": true,
            "ticks": "",
            "zerolinecolor": "white"
           }
          },
          "shapedefaults": {
           "line": {
            "color": "#2a3f5f"
           }
          },
          "ternary": {
           "aaxis": {
            "gridcolor": "white",
            "linecolor": "white",
            "ticks": ""
           },
           "baxis": {
            "gridcolor": "white",
            "linecolor": "white",
            "ticks": ""
           },
           "bgcolor": "#E5ECF6",
           "caxis": {
            "gridcolor": "white",
            "linecolor": "white",
            "ticks": ""
           }
          },
          "title": {
           "x": 0.05
          },
          "xaxis": {
           "automargin": true,
           "gridcolor": "white",
           "linecolor": "white",
           "ticks": "",
           "title": {
            "standoff": 15
           },
           "zerolinecolor": "white",
           "zerolinewidth": 2
          },
          "yaxis": {
           "automargin": true,
           "gridcolor": "white",
           "linecolor": "white",
           "ticks": "",
           "title": {
            "standoff": 15
           },
           "zerolinecolor": "white",
           "zerolinewidth": 2
          }
         }
        },
        "title": {
         "text": "GSW Back-to-Back Games"
        },
        "xaxis": {
         "anchor": "y",
         "domain": [
          0,
          1
         ],
         "title": {
          "text": "Games"
         }
        },
        "yaxis": {
         "anchor": "x",
         "domain": [
          0,
          1
         ],
         "title": {
          "text": "Number of Teams"
         }
        }
       }
      }
     },
     "metadata": {}
    }
   ],
   "metadata": {}
  },
  {
   "cell_type": "code",
   "execution_count": null,
   "source": [
    "start_date = '2014-11-01'\n",
    "end_date = '2014-12-30'\n",
    "\n",
    "df1 = df[(df['datetime'] > start_date) & (df['datetime'] < end_date)]\n",
    "df1['home'] = [1 if i == 'Home' else 0 for i in df1['location']] \n",
    "df1['away'] = [1 if i == 'Away' else 0 for i in df1['location']] \n",
    "data_home = pd.DataFrame(df1.groupby('team')['home'].sum())\n",
    "\n",
    "\n",
    "data_home['count'] = 1 \n",
    "data_home.reset_index(level=0, inplace=True)\n",
    "data_home['color'] = ['blue' if i == 'GSW' else 'grey' for i in data_home['team']]"
   ],
   "outputs": [
    {
     "output_type": "stream",
     "name": "stderr",
     "text": [
      "<ipython-input-57-6db76bfb3ecd>:5: SettingWithCopyWarning:\n",
      "\n",
      "\n",
      "A value is trying to be set on a copy of a slice from a DataFrame.\n",
      "Try using .loc[row_indexer,col_indexer] = value instead\n",
      "\n",
      "See the caveats in the documentation: https://pandas.pydata.org/pandas-docs/stable/user_guide/indexing.html#returning-a-view-versus-a-copy\n",
      "\n",
      "<ipython-input-57-6db76bfb3ecd>:6: SettingWithCopyWarning:\n",
      "\n",
      "\n",
      "A value is trying to be set on a copy of a slice from a DataFrame.\n",
      "Try using .loc[row_indexer,col_indexer] = value instead\n",
      "\n",
      "See the caveats in the documentation: https://pandas.pydata.org/pandas-docs/stable/user_guide/indexing.html#returning-a-view-versus-a-copy\n",
      "\n"
     ]
    }
   ],
   "metadata": {}
  },
  {
   "cell_type": "code",
   "execution_count": null,
   "source": [
    "fig = px.bar(data_home, x='home', y='count', color = 'color',\n",
    "                hover_data={'color':False, 'home': False, 'count':False, 'team':True},\n",
    "                title ='GSW Home Games', \n",
    "                labels = {'count': 'Number of Teams', 'home': 'Games'}\n",
    "                )\n",
    "\n",
    "games = data_home['home'].unique()\n",
    "tick_vals = list(range(min(games), max(games)+1))\n",
    "\n",
    "fig.update_xaxes(tickvals = tick_vals)\n",
    "\n",
    "fig.update_layout(showlegend=False)\n",
    "fig.show()"
   ],
   "outputs": [
    {
     "output_type": "display_data",
     "data": {
      "application/vnd.plotly.v1+json": {
       "config": {
        "plotlyServerURL": "https://plotly.com"
       },
       "data": [
        {
         "alignmentgroup": "True",
         "customdata": [
          [
           "grey",
           "ATL"
          ],
          [
           "grey",
           "BKN"
          ],
          [
           "grey",
           "BOS"
          ],
          [
           "grey",
           "CHI"
          ],
          [
           "grey",
           "CHO"
          ],
          [
           "grey",
           "CLE"
          ],
          [
           "grey",
           "DAL"
          ],
          [
           "grey",
           "DEN"
          ],
          [
           "grey",
           "DET"
          ],
          [
           "grey",
           "HOU"
          ],
          [
           "grey",
           "IND"
          ],
          [
           "grey",
           "LAC"
          ],
          [
           "grey",
           "LAL"
          ],
          [
           "grey",
           "MEM"
          ],
          [
           "grey",
           "MIA"
          ],
          [
           "grey",
           "MIL"
          ],
          [
           "grey",
           "MIN"
          ],
          [
           "grey",
           "NOP"
          ],
          [
           "grey",
           "NYK"
          ],
          [
           "grey",
           "OKC"
          ],
          [
           "grey",
           "ORL"
          ],
          [
           "grey",
           "PHI"
          ],
          [
           "grey",
           "PHO"
          ],
          [
           "grey",
           "POR"
          ],
          [
           "grey",
           "SAC"
          ],
          [
           "grey",
           "SAS"
          ],
          [
           "grey",
           "TOR"
          ],
          [
           "grey",
           "UTA"
          ],
          [
           "grey",
           "WAS"
          ]
         ],
         "hovertemplate": "team=%{customdata[1]}<extra></extra>",
         "legendgroup": "grey",
         "marker": {
          "color": "#636efa",
          "pattern": {
           "shape": ""
          }
         },
         "name": "grey",
         "offsetgroup": "grey",
         "orientation": "v",
         "showlegend": true,
         "textposition": "auto",
         "type": "bar",
         "x": [
          15,
          16,
          15,
          12,
          16,
          16,
          16,
          15,
          15,
          15,
          13,
          16,
          13,
          15,
          17,
          12,
          12,
          11,
          15,
          14,
          11,
          13,
          12,
          15,
          16,
          14,
          16,
          12,
          17
         ],
         "xaxis": "x",
         "y": [
          1,
          1,
          1,
          1,
          1,
          1,
          1,
          1,
          1,
          1,
          1,
          1,
          1,
          1,
          1,
          1,
          1,
          1,
          1,
          1,
          1,
          1,
          1,
          1,
          1,
          1,
          1,
          1,
          1
         ],
         "yaxis": "y"
        },
        {
         "alignmentgroup": "True",
         "customdata": [
          [
           "blue",
           "GSW"
          ]
         ],
         "hovertemplate": "team=%{customdata[1]}<extra></extra>",
         "legendgroup": "blue",
         "marker": {
          "color": "#EF553B",
          "pattern": {
           "shape": ""
          }
         },
         "name": "blue",
         "offsetgroup": "blue",
         "orientation": "v",
         "showlegend": true,
         "textposition": "auto",
         "type": "bar",
         "x": [
          11
         ],
         "xaxis": "x",
         "y": [
          1
         ],
         "yaxis": "y"
        }
       ],
       "layout": {
        "barmode": "relative",
        "legend": {
         "title": {
          "text": "color"
         },
         "tracegroupgap": 0
        },
        "showlegend": false,
        "template": {
         "data": {
          "bar": [
           {
            "error_x": {
             "color": "#2a3f5f"
            },
            "error_y": {
             "color": "#2a3f5f"
            },
            "marker": {
             "line": {
              "color": "#E5ECF6",
              "width": 0.5
             },
             "pattern": {
              "fillmode": "overlay",
              "size": 10,
              "solidity": 0.2
             }
            },
            "type": "bar"
           }
          ],
          "barpolar": [
           {
            "marker": {
             "line": {
              "color": "#E5ECF6",
              "width": 0.5
             },
             "pattern": {
              "fillmode": "overlay",
              "size": 10,
              "solidity": 0.2
             }
            },
            "type": "barpolar"
           }
          ],
          "carpet": [
           {
            "aaxis": {
             "endlinecolor": "#2a3f5f",
             "gridcolor": "white",
             "linecolor": "white",
             "minorgridcolor": "white",
             "startlinecolor": "#2a3f5f"
            },
            "baxis": {
             "endlinecolor": "#2a3f5f",
             "gridcolor": "white",
             "linecolor": "white",
             "minorgridcolor": "white",
             "startlinecolor": "#2a3f5f"
            },
            "type": "carpet"
           }
          ],
          "choropleth": [
           {
            "colorbar": {
             "outlinewidth": 0,
             "ticks": ""
            },
            "type": "choropleth"
           }
          ],
          "contour": [
           {
            "colorbar": {
             "outlinewidth": 0,
             "ticks": ""
            },
            "colorscale": [
             [
              0,
              "#0d0887"
             ],
             [
              0.1111111111111111,
              "#46039f"
             ],
             [
              0.2222222222222222,
              "#7201a8"
             ],
             [
              0.3333333333333333,
              "#9c179e"
             ],
             [
              0.4444444444444444,
              "#bd3786"
             ],
             [
              0.5555555555555556,
              "#d8576b"
             ],
             [
              0.6666666666666666,
              "#ed7953"
             ],
             [
              0.7777777777777778,
              "#fb9f3a"
             ],
             [
              0.8888888888888888,
              "#fdca26"
             ],
             [
              1,
              "#f0f921"
             ]
            ],
            "type": "contour"
           }
          ],
          "contourcarpet": [
           {
            "colorbar": {
             "outlinewidth": 0,
             "ticks": ""
            },
            "type": "contourcarpet"
           }
          ],
          "heatmap": [
           {
            "colorbar": {
             "outlinewidth": 0,
             "ticks": ""
            },
            "colorscale": [
             [
              0,
              "#0d0887"
             ],
             [
              0.1111111111111111,
              "#46039f"
             ],
             [
              0.2222222222222222,
              "#7201a8"
             ],
             [
              0.3333333333333333,
              "#9c179e"
             ],
             [
              0.4444444444444444,
              "#bd3786"
             ],
             [
              0.5555555555555556,
              "#d8576b"
             ],
             [
              0.6666666666666666,
              "#ed7953"
             ],
             [
              0.7777777777777778,
              "#fb9f3a"
             ],
             [
              0.8888888888888888,
              "#fdca26"
             ],
             [
              1,
              "#f0f921"
             ]
            ],
            "type": "heatmap"
           }
          ],
          "heatmapgl": [
           {
            "colorbar": {
             "outlinewidth": 0,
             "ticks": ""
            },
            "colorscale": [
             [
              0,
              "#0d0887"
             ],
             [
              0.1111111111111111,
              "#46039f"
             ],
             [
              0.2222222222222222,
              "#7201a8"
             ],
             [
              0.3333333333333333,
              "#9c179e"
             ],
             [
              0.4444444444444444,
              "#bd3786"
             ],
             [
              0.5555555555555556,
              "#d8576b"
             ],
             [
              0.6666666666666666,
              "#ed7953"
             ],
             [
              0.7777777777777778,
              "#fb9f3a"
             ],
             [
              0.8888888888888888,
              "#fdca26"
             ],
             [
              1,
              "#f0f921"
             ]
            ],
            "type": "heatmapgl"
           }
          ],
          "histogram": [
           {
            "marker": {
             "pattern": {
              "fillmode": "overlay",
              "size": 10,
              "solidity": 0.2
             }
            },
            "type": "histogram"
           }
          ],
          "histogram2d": [
           {
            "colorbar": {
             "outlinewidth": 0,
             "ticks": ""
            },
            "colorscale": [
             [
              0,
              "#0d0887"
             ],
             [
              0.1111111111111111,
              "#46039f"
             ],
             [
              0.2222222222222222,
              "#7201a8"
             ],
             [
              0.3333333333333333,
              "#9c179e"
             ],
             [
              0.4444444444444444,
              "#bd3786"
             ],
             [
              0.5555555555555556,
              "#d8576b"
             ],
             [
              0.6666666666666666,
              "#ed7953"
             ],
             [
              0.7777777777777778,
              "#fb9f3a"
             ],
             [
              0.8888888888888888,
              "#fdca26"
             ],
             [
              1,
              "#f0f921"
             ]
            ],
            "type": "histogram2d"
           }
          ],
          "histogram2dcontour": [
           {
            "colorbar": {
             "outlinewidth": 0,
             "ticks": ""
            },
            "colorscale": [
             [
              0,
              "#0d0887"
             ],
             [
              0.1111111111111111,
              "#46039f"
             ],
             [
              0.2222222222222222,
              "#7201a8"
             ],
             [
              0.3333333333333333,
              "#9c179e"
             ],
             [
              0.4444444444444444,
              "#bd3786"
             ],
             [
              0.5555555555555556,
              "#d8576b"
             ],
             [
              0.6666666666666666,
              "#ed7953"
             ],
             [
              0.7777777777777778,
              "#fb9f3a"
             ],
             [
              0.8888888888888888,
              "#fdca26"
             ],
             [
              1,
              "#f0f921"
             ]
            ],
            "type": "histogram2dcontour"
           }
          ],
          "mesh3d": [
           {
            "colorbar": {
             "outlinewidth": 0,
             "ticks": ""
            },
            "type": "mesh3d"
           }
          ],
          "parcoords": [
           {
            "line": {
             "colorbar": {
              "outlinewidth": 0,
              "ticks": ""
             }
            },
            "type": "parcoords"
           }
          ],
          "pie": [
           {
            "automargin": true,
            "type": "pie"
           }
          ],
          "scatter": [
           {
            "marker": {
             "colorbar": {
              "outlinewidth": 0,
              "ticks": ""
             }
            },
            "type": "scatter"
           }
          ],
          "scatter3d": [
           {
            "line": {
             "colorbar": {
              "outlinewidth": 0,
              "ticks": ""
             }
            },
            "marker": {
             "colorbar": {
              "outlinewidth": 0,
              "ticks": ""
             }
            },
            "type": "scatter3d"
           }
          ],
          "scattercarpet": [
           {
            "marker": {
             "colorbar": {
              "outlinewidth": 0,
              "ticks": ""
             }
            },
            "type": "scattercarpet"
           }
          ],
          "scattergeo": [
           {
            "marker": {
             "colorbar": {
              "outlinewidth": 0,
              "ticks": ""
             }
            },
            "type": "scattergeo"
           }
          ],
          "scattergl": [
           {
            "marker": {
             "colorbar": {
              "outlinewidth": 0,
              "ticks": ""
             }
            },
            "type": "scattergl"
           }
          ],
          "scattermapbox": [
           {
            "marker": {
             "colorbar": {
              "outlinewidth": 0,
              "ticks": ""
             }
            },
            "type": "scattermapbox"
           }
          ],
          "scatterpolar": [
           {
            "marker": {
             "colorbar": {
              "outlinewidth": 0,
              "ticks": ""
             }
            },
            "type": "scatterpolar"
           }
          ],
          "scatterpolargl": [
           {
            "marker": {
             "colorbar": {
              "outlinewidth": 0,
              "ticks": ""
             }
            },
            "type": "scatterpolargl"
           }
          ],
          "scatterternary": [
           {
            "marker": {
             "colorbar": {
              "outlinewidth": 0,
              "ticks": ""
             }
            },
            "type": "scatterternary"
           }
          ],
          "surface": [
           {
            "colorbar": {
             "outlinewidth": 0,
             "ticks": ""
            },
            "colorscale": [
             [
              0,
              "#0d0887"
             ],
             [
              0.1111111111111111,
              "#46039f"
             ],
             [
              0.2222222222222222,
              "#7201a8"
             ],
             [
              0.3333333333333333,
              "#9c179e"
             ],
             [
              0.4444444444444444,
              "#bd3786"
             ],
             [
              0.5555555555555556,
              "#d8576b"
             ],
             [
              0.6666666666666666,
              "#ed7953"
             ],
             [
              0.7777777777777778,
              "#fb9f3a"
             ],
             [
              0.8888888888888888,
              "#fdca26"
             ],
             [
              1,
              "#f0f921"
             ]
            ],
            "type": "surface"
           }
          ],
          "table": [
           {
            "cells": {
             "fill": {
              "color": "#EBF0F8"
             },
             "line": {
              "color": "white"
             }
            },
            "header": {
             "fill": {
              "color": "#C8D4E3"
             },
             "line": {
              "color": "white"
             }
            },
            "type": "table"
           }
          ]
         },
         "layout": {
          "annotationdefaults": {
           "arrowcolor": "#2a3f5f",
           "arrowhead": 0,
           "arrowwidth": 1
          },
          "autotypenumbers": "strict",
          "coloraxis": {
           "colorbar": {
            "outlinewidth": 0,
            "ticks": ""
           }
          },
          "colorscale": {
           "diverging": [
            [
             0,
             "#8e0152"
            ],
            [
             0.1,
             "#c51b7d"
            ],
            [
             0.2,
             "#de77ae"
            ],
            [
             0.3,
             "#f1b6da"
            ],
            [
             0.4,
             "#fde0ef"
            ],
            [
             0.5,
             "#f7f7f7"
            ],
            [
             0.6,
             "#e6f5d0"
            ],
            [
             0.7,
             "#b8e186"
            ],
            [
             0.8,
             "#7fbc41"
            ],
            [
             0.9,
             "#4d9221"
            ],
            [
             1,
             "#276419"
            ]
           ],
           "sequential": [
            [
             0,
             "#0d0887"
            ],
            [
             0.1111111111111111,
             "#46039f"
            ],
            [
             0.2222222222222222,
             "#7201a8"
            ],
            [
             0.3333333333333333,
             "#9c179e"
            ],
            [
             0.4444444444444444,
             "#bd3786"
            ],
            [
             0.5555555555555556,
             "#d8576b"
            ],
            [
             0.6666666666666666,
             "#ed7953"
            ],
            [
             0.7777777777777778,
             "#fb9f3a"
            ],
            [
             0.8888888888888888,
             "#fdca26"
            ],
            [
             1,
             "#f0f921"
            ]
           ],
           "sequentialminus": [
            [
             0,
             "#0d0887"
            ],
            [
             0.1111111111111111,
             "#46039f"
            ],
            [
             0.2222222222222222,
             "#7201a8"
            ],
            [
             0.3333333333333333,
             "#9c179e"
            ],
            [
             0.4444444444444444,
             "#bd3786"
            ],
            [
             0.5555555555555556,
             "#d8576b"
            ],
            [
             0.6666666666666666,
             "#ed7953"
            ],
            [
             0.7777777777777778,
             "#fb9f3a"
            ],
            [
             0.8888888888888888,
             "#fdca26"
            ],
            [
             1,
             "#f0f921"
            ]
           ]
          },
          "colorway": [
           "#636efa",
           "#EF553B",
           "#00cc96",
           "#ab63fa",
           "#FFA15A",
           "#19d3f3",
           "#FF6692",
           "#B6E880",
           "#FF97FF",
           "#FECB52"
          ],
          "font": {
           "color": "#2a3f5f"
          },
          "geo": {
           "bgcolor": "white",
           "lakecolor": "white",
           "landcolor": "#E5ECF6",
           "showlakes": true,
           "showland": true,
           "subunitcolor": "white"
          },
          "hoverlabel": {
           "align": "left"
          },
          "hovermode": "closest",
          "mapbox": {
           "style": "light"
          },
          "paper_bgcolor": "white",
          "plot_bgcolor": "#E5ECF6",
          "polar": {
           "angularaxis": {
            "gridcolor": "white",
            "linecolor": "white",
            "ticks": ""
           },
           "bgcolor": "#E5ECF6",
           "radialaxis": {
            "gridcolor": "white",
            "linecolor": "white",
            "ticks": ""
           }
          },
          "scene": {
           "xaxis": {
            "backgroundcolor": "#E5ECF6",
            "gridcolor": "white",
            "gridwidth": 2,
            "linecolor": "white",
            "showbackground": true,
            "ticks": "",
            "zerolinecolor": "white"
           },
           "yaxis": {
            "backgroundcolor": "#E5ECF6",
            "gridcolor": "white",
            "gridwidth": 2,
            "linecolor": "white",
            "showbackground": true,
            "ticks": "",
            "zerolinecolor": "white"
           },
           "zaxis": {
            "backgroundcolor": "#E5ECF6",
            "gridcolor": "white",
            "gridwidth": 2,
            "linecolor": "white",
            "showbackground": true,
            "ticks": "",
            "zerolinecolor": "white"
           }
          },
          "shapedefaults": {
           "line": {
            "color": "#2a3f5f"
           }
          },
          "ternary": {
           "aaxis": {
            "gridcolor": "white",
            "linecolor": "white",
            "ticks": ""
           },
           "baxis": {
            "gridcolor": "white",
            "linecolor": "white",
            "ticks": ""
           },
           "bgcolor": "#E5ECF6",
           "caxis": {
            "gridcolor": "white",
            "linecolor": "white",
            "ticks": ""
           }
          },
          "title": {
           "x": 0.05
          },
          "xaxis": {
           "automargin": true,
           "gridcolor": "white",
           "linecolor": "white",
           "ticks": "",
           "title": {
            "standoff": 15
           },
           "zerolinecolor": "white",
           "zerolinewidth": 2
          },
          "yaxis": {
           "automargin": true,
           "gridcolor": "white",
           "linecolor": "white",
           "ticks": "",
           "title": {
            "standoff": 15
           },
           "zerolinecolor": "white",
           "zerolinewidth": 2
          }
         }
        },
        "title": {
         "text": "GSW Home Games"
        },
        "xaxis": {
         "anchor": "y",
         "domain": [
          0,
          1
         ],
         "tickvals": [
          11,
          12,
          13,
          14,
          15,
          16,
          17
         ],
         "title": {
          "text": "Games"
         }
        },
        "yaxis": {
         "anchor": "x",
         "domain": [
          0,
          1
         ],
         "title": {
          "text": "Number of Teams"
         }
        }
       }
      }
     },
     "metadata": {}
    }
   ],
   "metadata": {}
  },
  {
   "cell_type": "code",
   "execution_count": null,
   "source": [
    "len(data_away['away'].unique())"
   ],
   "outputs": [
    {
     "output_type": "execute_result",
     "data": {
      "text/plain": [
       "9"
      ]
     },
     "metadata": {},
     "execution_count": 66
    }
   ],
   "metadata": {}
  },
  {
   "cell_type": "code",
   "execution_count": null,
   "source": [
    "data_away = pd.DataFrame(df1.groupby('team')['away'].sum())\n",
    "\n",
    "\n",
    "data_away['count'] = 1 \n",
    "data_away.reset_index(level=0, inplace=True)\n",
    "data_away['color'] = ['blue' if i == 'GSW' else 'grey' for i in data_away['team']]\n",
    "\n",
    "fig = px.bar(data_away, x='away', y='count', color = 'color',\n",
    "                hover_data={'color':False, 'away': False, 'count':False, 'team':True},\n",
    "                title ='GSW Away Games', \n",
    "                labels = {'count': 'Number of Teams', 'away': 'Games'}\n",
    "                )\n",
    "\n",
    "games = data_away['away'].unique()\n",
    "tick_vals = list(range(min(games), max(games)+1))\n",
    "\n",
    "fig.update_xaxes(tickvals = tick_vals)\n",
    "\n",
    "fig.update_layout(showlegend=False)\n",
    "fig.show()\n",
    "\n"
   ],
   "outputs": [
    {
     "output_type": "display_data",
     "data": {
      "application/vnd.plotly.v1+json": {
       "config": {
        "plotlyServerURL": "https://plotly.com"
       },
       "data": [
        {
         "alignmentgroup": "True",
         "customdata": [
          [
           "grey",
           "ATL"
          ],
          [
           "grey",
           "BKN"
          ],
          [
           "grey",
           "BOS"
          ],
          [
           "grey",
           "CHI"
          ],
          [
           "grey",
           "CHO"
          ],
          [
           "grey",
           "CLE"
          ],
          [
           "grey",
           "DAL"
          ],
          [
           "grey",
           "DEN"
          ],
          [
           "grey",
           "DET"
          ],
          [
           "grey",
           "HOU"
          ],
          [
           "grey",
           "IND"
          ],
          [
           "grey",
           "LAC"
          ],
          [
           "grey",
           "LAL"
          ],
          [
           "grey",
           "MEM"
          ],
          [
           "grey",
           "MIA"
          ],
          [
           "grey",
           "MIL"
          ],
          [
           "grey",
           "MIN"
          ],
          [
           "grey",
           "NOP"
          ],
          [
           "grey",
           "NYK"
          ],
          [
           "grey",
           "OKC"
          ],
          [
           "grey",
           "ORL"
          ],
          [
           "grey",
           "PHI"
          ],
          [
           "grey",
           "PHO"
          ],
          [
           "grey",
           "POR"
          ],
          [
           "grey",
           "SAC"
          ],
          [
           "grey",
           "SAS"
          ],
          [
           "grey",
           "TOR"
          ],
          [
           "grey",
           "UTA"
          ],
          [
           "grey",
           "WAS"
          ]
         ],
         "hovertemplate": "team=%{customdata[1]}<extra></extra>",
         "legendgroup": "grey",
         "marker": {
          "color": "#636efa",
          "pattern": {
           "shape": ""
          }
         },
         "name": "grey",
         "offsetgroup": "grey",
         "orientation": "v",
         "showlegend": true,
         "textposition": "auto",
         "type": "bar",
         "x": [
          13,
          12,
          11,
          16,
          14,
          12,
          13,
          14,
          12,
          12,
          16,
          14,
          14,
          12,
          13,
          17,
          14,
          17,
          16,
          15,
          20,
          13,
          17,
          15,
          13,
          16,
          13,
          16,
          10
         ],
         "xaxis": "x",
         "y": [
          1,
          1,
          1,
          1,
          1,
          1,
          1,
          1,
          1,
          1,
          1,
          1,
          1,
          1,
          1,
          1,
          1,
          1,
          1,
          1,
          1,
          1,
          1,
          1,
          1,
          1,
          1,
          1,
          1
         ],
         "yaxis": "y"
        },
        {
         "alignmentgroup": "True",
         "customdata": [
          [
           "blue",
           "GSW"
          ]
         ],
         "hovertemplate": "team=%{customdata[1]}<extra></extra>",
         "legendgroup": "blue",
         "marker": {
          "color": "#EF553B",
          "pattern": {
           "shape": ""
          }
         },
         "name": "blue",
         "offsetgroup": "blue",
         "orientation": "v",
         "showlegend": true,
         "textposition": "auto",
         "type": "bar",
         "x": [
          16
         ],
         "xaxis": "x",
         "y": [
          1
         ],
         "yaxis": "y"
        }
       ],
       "layout": {
        "barmode": "relative",
        "legend": {
         "title": {
          "text": "color"
         },
         "tracegroupgap": 0
        },
        "showlegend": false,
        "template": {
         "data": {
          "bar": [
           {
            "error_x": {
             "color": "#2a3f5f"
            },
            "error_y": {
             "color": "#2a3f5f"
            },
            "marker": {
             "line": {
              "color": "#E5ECF6",
              "width": 0.5
             },
             "pattern": {
              "fillmode": "overlay",
              "size": 10,
              "solidity": 0.2
             }
            },
            "type": "bar"
           }
          ],
          "barpolar": [
           {
            "marker": {
             "line": {
              "color": "#E5ECF6",
              "width": 0.5
             },
             "pattern": {
              "fillmode": "overlay",
              "size": 10,
              "solidity": 0.2
             }
            },
            "type": "barpolar"
           }
          ],
          "carpet": [
           {
            "aaxis": {
             "endlinecolor": "#2a3f5f",
             "gridcolor": "white",
             "linecolor": "white",
             "minorgridcolor": "white",
             "startlinecolor": "#2a3f5f"
            },
            "baxis": {
             "endlinecolor": "#2a3f5f",
             "gridcolor": "white",
             "linecolor": "white",
             "minorgridcolor": "white",
             "startlinecolor": "#2a3f5f"
            },
            "type": "carpet"
           }
          ],
          "choropleth": [
           {
            "colorbar": {
             "outlinewidth": 0,
             "ticks": ""
            },
            "type": "choropleth"
           }
          ],
          "contour": [
           {
            "colorbar": {
             "outlinewidth": 0,
             "ticks": ""
            },
            "colorscale": [
             [
              0,
              "#0d0887"
             ],
             [
              0.1111111111111111,
              "#46039f"
             ],
             [
              0.2222222222222222,
              "#7201a8"
             ],
             [
              0.3333333333333333,
              "#9c179e"
             ],
             [
              0.4444444444444444,
              "#bd3786"
             ],
             [
              0.5555555555555556,
              "#d8576b"
             ],
             [
              0.6666666666666666,
              "#ed7953"
             ],
             [
              0.7777777777777778,
              "#fb9f3a"
             ],
             [
              0.8888888888888888,
              "#fdca26"
             ],
             [
              1,
              "#f0f921"
             ]
            ],
            "type": "contour"
           }
          ],
          "contourcarpet": [
           {
            "colorbar": {
             "outlinewidth": 0,
             "ticks": ""
            },
            "type": "contourcarpet"
           }
          ],
          "heatmap": [
           {
            "colorbar": {
             "outlinewidth": 0,
             "ticks": ""
            },
            "colorscale": [
             [
              0,
              "#0d0887"
             ],
             [
              0.1111111111111111,
              "#46039f"
             ],
             [
              0.2222222222222222,
              "#7201a8"
             ],
             [
              0.3333333333333333,
              "#9c179e"
             ],
             [
              0.4444444444444444,
              "#bd3786"
             ],
             [
              0.5555555555555556,
              "#d8576b"
             ],
             [
              0.6666666666666666,
              "#ed7953"
             ],
             [
              0.7777777777777778,
              "#fb9f3a"
             ],
             [
              0.8888888888888888,
              "#fdca26"
             ],
             [
              1,
              "#f0f921"
             ]
            ],
            "type": "heatmap"
           }
          ],
          "heatmapgl": [
           {
            "colorbar": {
             "outlinewidth": 0,
             "ticks": ""
            },
            "colorscale": [
             [
              0,
              "#0d0887"
             ],
             [
              0.1111111111111111,
              "#46039f"
             ],
             [
              0.2222222222222222,
              "#7201a8"
             ],
             [
              0.3333333333333333,
              "#9c179e"
             ],
             [
              0.4444444444444444,
              "#bd3786"
             ],
             [
              0.5555555555555556,
              "#d8576b"
             ],
             [
              0.6666666666666666,
              "#ed7953"
             ],
             [
              0.7777777777777778,
              "#fb9f3a"
             ],
             [
              0.8888888888888888,
              "#fdca26"
             ],
             [
              1,
              "#f0f921"
             ]
            ],
            "type": "heatmapgl"
           }
          ],
          "histogram": [
           {
            "marker": {
             "pattern": {
              "fillmode": "overlay",
              "size": 10,
              "solidity": 0.2
             }
            },
            "type": "histogram"
           }
          ],
          "histogram2d": [
           {
            "colorbar": {
             "outlinewidth": 0,
             "ticks": ""
            },
            "colorscale": [
             [
              0,
              "#0d0887"
             ],
             [
              0.1111111111111111,
              "#46039f"
             ],
             [
              0.2222222222222222,
              "#7201a8"
             ],
             [
              0.3333333333333333,
              "#9c179e"
             ],
             [
              0.4444444444444444,
              "#bd3786"
             ],
             [
              0.5555555555555556,
              "#d8576b"
             ],
             [
              0.6666666666666666,
              "#ed7953"
             ],
             [
              0.7777777777777778,
              "#fb9f3a"
             ],
             [
              0.8888888888888888,
              "#fdca26"
             ],
             [
              1,
              "#f0f921"
             ]
            ],
            "type": "histogram2d"
           }
          ],
          "histogram2dcontour": [
           {
            "colorbar": {
             "outlinewidth": 0,
             "ticks": ""
            },
            "colorscale": [
             [
              0,
              "#0d0887"
             ],
             [
              0.1111111111111111,
              "#46039f"
             ],
             [
              0.2222222222222222,
              "#7201a8"
             ],
             [
              0.3333333333333333,
              "#9c179e"
             ],
             [
              0.4444444444444444,
              "#bd3786"
             ],
             [
              0.5555555555555556,
              "#d8576b"
             ],
             [
              0.6666666666666666,
              "#ed7953"
             ],
             [
              0.7777777777777778,
              "#fb9f3a"
             ],
             [
              0.8888888888888888,
              "#fdca26"
             ],
             [
              1,
              "#f0f921"
             ]
            ],
            "type": "histogram2dcontour"
           }
          ],
          "mesh3d": [
           {
            "colorbar": {
             "outlinewidth": 0,
             "ticks": ""
            },
            "type": "mesh3d"
           }
          ],
          "parcoords": [
           {
            "line": {
             "colorbar": {
              "outlinewidth": 0,
              "ticks": ""
             }
            },
            "type": "parcoords"
           }
          ],
          "pie": [
           {
            "automargin": true,
            "type": "pie"
           }
          ],
          "scatter": [
           {
            "marker": {
             "colorbar": {
              "outlinewidth": 0,
              "ticks": ""
             }
            },
            "type": "scatter"
           }
          ],
          "scatter3d": [
           {
            "line": {
             "colorbar": {
              "outlinewidth": 0,
              "ticks": ""
             }
            },
            "marker": {
             "colorbar": {
              "outlinewidth": 0,
              "ticks": ""
             }
            },
            "type": "scatter3d"
           }
          ],
          "scattercarpet": [
           {
            "marker": {
             "colorbar": {
              "outlinewidth": 0,
              "ticks": ""
             }
            },
            "type": "scattercarpet"
           }
          ],
          "scattergeo": [
           {
            "marker": {
             "colorbar": {
              "outlinewidth": 0,
              "ticks": ""
             }
            },
            "type": "scattergeo"
           }
          ],
          "scattergl": [
           {
            "marker": {
             "colorbar": {
              "outlinewidth": 0,
              "ticks": ""
             }
            },
            "type": "scattergl"
           }
          ],
          "scattermapbox": [
           {
            "marker": {
             "colorbar": {
              "outlinewidth": 0,
              "ticks": ""
             }
            },
            "type": "scattermapbox"
           }
          ],
          "scatterpolar": [
           {
            "marker": {
             "colorbar": {
              "outlinewidth": 0,
              "ticks": ""
             }
            },
            "type": "scatterpolar"
           }
          ],
          "scatterpolargl": [
           {
            "marker": {
             "colorbar": {
              "outlinewidth": 0,
              "ticks": ""
             }
            },
            "type": "scatterpolargl"
           }
          ],
          "scatterternary": [
           {
            "marker": {
             "colorbar": {
              "outlinewidth": 0,
              "ticks": ""
             }
            },
            "type": "scatterternary"
           }
          ],
          "surface": [
           {
            "colorbar": {
             "outlinewidth": 0,
             "ticks": ""
            },
            "colorscale": [
             [
              0,
              "#0d0887"
             ],
             [
              0.1111111111111111,
              "#46039f"
             ],
             [
              0.2222222222222222,
              "#7201a8"
             ],
             [
              0.3333333333333333,
              "#9c179e"
             ],
             [
              0.4444444444444444,
              "#bd3786"
             ],
             [
              0.5555555555555556,
              "#d8576b"
             ],
             [
              0.6666666666666666,
              "#ed7953"
             ],
             [
              0.7777777777777778,
              "#fb9f3a"
             ],
             [
              0.8888888888888888,
              "#fdca26"
             ],
             [
              1,
              "#f0f921"
             ]
            ],
            "type": "surface"
           }
          ],
          "table": [
           {
            "cells": {
             "fill": {
              "color": "#EBF0F8"
             },
             "line": {
              "color": "white"
             }
            },
            "header": {
             "fill": {
              "color": "#C8D4E3"
             },
             "line": {
              "color": "white"
             }
            },
            "type": "table"
           }
          ]
         },
         "layout": {
          "annotationdefaults": {
           "arrowcolor": "#2a3f5f",
           "arrowhead": 0,
           "arrowwidth": 1
          },
          "autotypenumbers": "strict",
          "coloraxis": {
           "colorbar": {
            "outlinewidth": 0,
            "ticks": ""
           }
          },
          "colorscale": {
           "diverging": [
            [
             0,
             "#8e0152"
            ],
            [
             0.1,
             "#c51b7d"
            ],
            [
             0.2,
             "#de77ae"
            ],
            [
             0.3,
             "#f1b6da"
            ],
            [
             0.4,
             "#fde0ef"
            ],
            [
             0.5,
             "#f7f7f7"
            ],
            [
             0.6,
             "#e6f5d0"
            ],
            [
             0.7,
             "#b8e186"
            ],
            [
             0.8,
             "#7fbc41"
            ],
            [
             0.9,
             "#4d9221"
            ],
            [
             1,
             "#276419"
            ]
           ],
           "sequential": [
            [
             0,
             "#0d0887"
            ],
            [
             0.1111111111111111,
             "#46039f"
            ],
            [
             0.2222222222222222,
             "#7201a8"
            ],
            [
             0.3333333333333333,
             "#9c179e"
            ],
            [
             0.4444444444444444,
             "#bd3786"
            ],
            [
             0.5555555555555556,
             "#d8576b"
            ],
            [
             0.6666666666666666,
             "#ed7953"
            ],
            [
             0.7777777777777778,
             "#fb9f3a"
            ],
            [
             0.8888888888888888,
             "#fdca26"
            ],
            [
             1,
             "#f0f921"
            ]
           ],
           "sequentialminus": [
            [
             0,
             "#0d0887"
            ],
            [
             0.1111111111111111,
             "#46039f"
            ],
            [
             0.2222222222222222,
             "#7201a8"
            ],
            [
             0.3333333333333333,
             "#9c179e"
            ],
            [
             0.4444444444444444,
             "#bd3786"
            ],
            [
             0.5555555555555556,
             "#d8576b"
            ],
            [
             0.6666666666666666,
             "#ed7953"
            ],
            [
             0.7777777777777778,
             "#fb9f3a"
            ],
            [
             0.8888888888888888,
             "#fdca26"
            ],
            [
             1,
             "#f0f921"
            ]
           ]
          },
          "colorway": [
           "#636efa",
           "#EF553B",
           "#00cc96",
           "#ab63fa",
           "#FFA15A",
           "#19d3f3",
           "#FF6692",
           "#B6E880",
           "#FF97FF",
           "#FECB52"
          ],
          "font": {
           "color": "#2a3f5f"
          },
          "geo": {
           "bgcolor": "white",
           "lakecolor": "white",
           "landcolor": "#E5ECF6",
           "showlakes": true,
           "showland": true,
           "subunitcolor": "white"
          },
          "hoverlabel": {
           "align": "left"
          },
          "hovermode": "closest",
          "mapbox": {
           "style": "light"
          },
          "paper_bgcolor": "white",
          "plot_bgcolor": "#E5ECF6",
          "polar": {
           "angularaxis": {
            "gridcolor": "white",
            "linecolor": "white",
            "ticks": ""
           },
           "bgcolor": "#E5ECF6",
           "radialaxis": {
            "gridcolor": "white",
            "linecolor": "white",
            "ticks": ""
           }
          },
          "scene": {
           "xaxis": {
            "backgroundcolor": "#E5ECF6",
            "gridcolor": "white",
            "gridwidth": 2,
            "linecolor": "white",
            "showbackground": true,
            "ticks": "",
            "zerolinecolor": "white"
           },
           "yaxis": {
            "backgroundcolor": "#E5ECF6",
            "gridcolor": "white",
            "gridwidth": 2,
            "linecolor": "white",
            "showbackground": true,
            "ticks": "",
            "zerolinecolor": "white"
           },
           "zaxis": {
            "backgroundcolor": "#E5ECF6",
            "gridcolor": "white",
            "gridwidth": 2,
            "linecolor": "white",
            "showbackground": true,
            "ticks": "",
            "zerolinecolor": "white"
           }
          },
          "shapedefaults": {
           "line": {
            "color": "#2a3f5f"
           }
          },
          "ternary": {
           "aaxis": {
            "gridcolor": "white",
            "linecolor": "white",
            "ticks": ""
           },
           "baxis": {
            "gridcolor": "white",
            "linecolor": "white",
            "ticks": ""
           },
           "bgcolor": "#E5ECF6",
           "caxis": {
            "gridcolor": "white",
            "linecolor": "white",
            "ticks": ""
           }
          },
          "title": {
           "x": 0.05
          },
          "xaxis": {
           "automargin": true,
           "gridcolor": "white",
           "linecolor": "white",
           "ticks": "",
           "title": {
            "standoff": 15
           },
           "zerolinecolor": "white",
           "zerolinewidth": 2
          },
          "yaxis": {
           "automargin": true,
           "gridcolor": "white",
           "linecolor": "white",
           "ticks": "",
           "title": {
            "standoff": 15
           },
           "zerolinecolor": "white",
           "zerolinewidth": 2
          }
         }
        },
        "title": {
         "text": "GSW Away Games"
        },
        "xaxis": {
         "anchor": "y",
         "domain": [
          0,
          1
         ],
         "tickvals": [
          10,
          11,
          12,
          13,
          14,
          15,
          16,
          17,
          18,
          19,
          20
         ],
         "title": {
          "text": "Games"
         }
        },
        "yaxis": {
         "anchor": "x",
         "domain": [
          0,
          1
         ],
         "title": {
          "text": "Number of Teams"
         }
        }
       }
      }
     },
     "metadata": {}
    }
   ],
   "metadata": {}
  },
  {
   "cell_type": "code",
   "execution_count": null,
   "source": [
    "import pandas as pd\n",
    "\n",
    "# plotly \n",
    "import plotly.express as px\n",
    "\n",
    "# dashboards\n",
    "import dash\n",
    "import dash_core_components as dcc\n",
    "import dash_html_components as html\n",
    "import dash_table\n",
    "from dash.dependencies import Input, Output\n",
    "import dash_bootstrap_components as dbc\n",
    "from datetime import date\n",
    "from jupyter_dash import JupyterDash\n",
    "\n",
    "\n",
    "app = JupyterDash(__name__, external_stylesheets=[dbc.themes.BOOTSTRAP])\n",
    "\n",
    "data = pd.read_csv('schedule.csv', index_col=0)\n",
    "\n",
    "\n",
    "teams=data['opponent_name'].unique()\n",
    "team_abbr = data['opponent_abbr'].unique()\n",
    "seasons=data['season'].unique()\n",
    "\n",
    "app.layout = html.Div([\n",
    "    \n",
    "    # top left drop menu for teams\n",
    "    html.Div([\n",
    "            dcc.Dropdown(\n",
    "                id='team_value',\n",
    "                options=[{'label': teams[i], 'value': team_abbr[i]} for i in range(len(teams))],\n",
    "                value='Teams'\n",
    "            )\n",
    "    ], style={'width': '30%', 'display': 'inline-block'}), \n",
    "   \n",
    "    \n",
    "    # top middle drop menu for seasons\n",
    "    html.Div([\n",
    "            dcc.Dropdown(\n",
    "                id='season_value',\n",
    "                options=[{'label': s, 'value': s} for s in seasons],\n",
    "                value='Season'\n",
    "            )\n",
    "    ], style={'width': '30%', 'float': 'center', 'display': 'inline-block'}),\n",
    "\n",
    "\n",
    "    # top left date range picker \n",
    "    html.Div([\n",
    "    \t\tdcc.DatePickerRange(\n",
    "    \t\t\tid='datepicker',\n",
    "    \t\t\tmonth_format='YYYY MMM'\n",
    "    \t\t)\n",
    "    ], style={'width': '30%', 'float': 'right', 'display': 'inline-block'}),\n",
    "\n",
    "    dcc.Graph(id='b2b_graph')\n",
    "])\n",
    "\n",
    "\n",
    "@app.callback(\n",
    "\tOutput('datepicker', 'start_date'),\n",
    "\tOutput('datepicker', 'end_date'),\n",
    "\tInput('season_value', 'value')\n",
    "\t)\n",
    "\n",
    "def update_date_range(season_value): \n",
    "\tdf = pd.read_csv('schedule.csv', index_col=0)\n",
    "\tdf = df[df['season']==season_value]\n",
    "\tdf = df[df['playoffs']==0]\n",
    "\tmin_date = df['datetime'].min()\n",
    "\tmax_date = df['datetime'].max()\n",
    "\treturn min_date, max_date\n",
    "\n",
    "\n",
    "\n",
    "@app.callback(\n",
    "    Output('b2b_graph', 'figure'),\n",
    "    Input('team_value', 'value'),\n",
    "    Input('season_value', 'value'),\n",
    "\tInput('datepicker', 'start_date'),\n",
    "\tInput('datepicker', 'end_date'))\n",
    "\n",
    "def update_graph(team_value, season_value, start_date, end_date): \n",
    "\tdf = pd.read_csv('schedule.csv', index_col=0)\n",
    "\tdf = df[df['season']==season_value]\n",
    "\tdf = df[df['playoffs']==0] \n",
    "\tdf = df[(df['datetime'] > start_date) & (df['datetime'] < end_date)]\n",
    "\n",
    "\tdata = pd.DataFrame(df.groupby('team')['back_to_back'].sum())\n",
    "\n",
    "\tdata['count'] = 1 \n",
    "\tdata.reset_index(level=0, inplace=True)\n",
    "\tdata['color'] = ['blue' if i == team_value else 'grey' for i in data['team']]\n",
    "\n",
    "\n",
    "\tfig = px.bar(data, x='back_to_back', y='count', color = 'color',\n",
    "                hover_data={'color':False, 'back_to_back': False, 'count':False, 'team':True},\n",
    "                title =team_value + ' Back-to-Back Games', \n",
    "                labels = {'count': 'Number of Teams', 'back_to_back': 'Number of Games'}\n",
    "                )\n",
    "\n",
    "\tgames = data['back_to_back'].unique()\n",
    "\ttick_vals = list(range(min(games), max(games)+1))\n",
    "\tfig.update_xaxes(tickvals = tick_vals)\n",
    "\n",
    "\n",
    "\tfig.update_layout(showlegend=False)\n",
    "\n",
    "\treturn fig\n",
    "\n",
    "if __name__ == '__main__':\n",
    "    app.run_server('inline')\n",
    "\n",
    "\n",
    "\n",
    "\n",
    "\n",
    "\n",
    "\n",
    "\n",
    "\n",
    "\n",
    "\n",
    "\n",
    "\n",
    "\n",
    "\n",
    "\n",
    "\n"
   ],
   "outputs": [
    {
     "output_type": "display_data",
     "data": {
      "text/html": [
       "\n",
       "        <iframe\n",
       "            width=\"100%\"\n",
       "            height=\"650\"\n",
       "            src=\"http://127.0.0.1:8050/\"\n",
       "            frameborder=\"0\"\n",
       "            allowfullscreen\n",
       "        ></iframe>\n",
       "        "
      ],
      "text/plain": [
       "<IPython.lib.display.IFrame at 0x7fada5d734f0>"
      ]
     },
     "metadata": {}
    },
    {
     "output_type": "stream",
     "name": "stdout",
     "text": [
      "\u001b[1;31m---------------------------------------------------------------------------\u001b[0m\n",
      "\u001b[1;31mValueError\u001b[0m                                Traceback (most recent call last)\n",
      "\u001b[1;32m<ipython-input-98-4fb28a20de7f>\u001b[0m in \u001b[0;36mupdate_graph\u001b[1;34m(\n",
      "    team_value='Teams',\n",
      "    season_value='Season',\n",
      "    start_date=None,\n",
      "    end_date=None\n",
      ")\u001b[0m\n",
      "\u001b[0;32m    101\u001b[0m \u001b[1;33m\u001b[0m\u001b[0m\n",
      "\u001b[0;32m    102\u001b[0m         \u001b[0mgames\u001b[0m \u001b[1;33m=\u001b[0m \u001b[0mdata\u001b[0m\u001b[1;33m[\u001b[0m\u001b[1;34m'back_to_back'\u001b[0m\u001b[1;33m]\u001b[0m\u001b[1;33m.\u001b[0m\u001b[0munique\u001b[0m\u001b[1;33m(\u001b[0m\u001b[1;33m)\u001b[0m\u001b[1;33m\u001b[0m\u001b[1;33m\u001b[0m\u001b[0m\n",
      "\u001b[1;32m--> 103\u001b[1;33m         \u001b[0mtick_vals\u001b[0m \u001b[1;33m=\u001b[0m \u001b[0mlist\u001b[0m\u001b[1;33m(\u001b[0m\u001b[0mrange\u001b[0m\u001b[1;33m(\u001b[0m\u001b[0mmin\u001b[0m\u001b[1;33m(\u001b[0m\u001b[0mgames\u001b[0m\u001b[1;33m)\u001b[0m\u001b[1;33m,\u001b[0m \u001b[0mmax\u001b[0m\u001b[1;33m(\u001b[0m\u001b[0mgames\u001b[0m\u001b[1;33m)\u001b[0m\u001b[1;33m+\u001b[0m\u001b[1;36m1\u001b[0m\u001b[1;33m)\u001b[0m\u001b[1;33m)\u001b[0m\u001b[1;33m\u001b[0m\u001b[1;33m\u001b[0m\u001b[0m\n",
      "\u001b[0m        \u001b[0;36mtick_vals\u001b[0m \u001b[1;34m= \u001b[1;36mundefined\u001b[0m\u001b[0m\u001b[1;34m\n",
      "        \u001b[0m\u001b[1;36mglobal\u001b[0m \u001b[0;36mlist\u001b[0m \u001b[1;34m= \u001b[1;36mundefined\u001b[0m\u001b[0m\u001b[1;34m\n",
      "        \u001b[0m\u001b[1;36mglobal\u001b[0m \u001b[0;36mrange\u001b[0m \u001b[1;34m= \u001b[1;36mundefined\u001b[0m\u001b[0m\u001b[1;34m\n",
      "        \u001b[0m\u001b[1;36mglobal\u001b[0m \u001b[0;36mmin\u001b[0m \u001b[1;34m= \u001b[1;36mundefined\u001b[0m\u001b[0m\u001b[1;34m\n",
      "        \u001b[0m\u001b[0;36mgames\u001b[0m \u001b[1;34m= array([], dtype=int64)\u001b[0m\u001b[1;34m\n",
      "        \u001b[0m\u001b[1;36mglobal\u001b[0m \u001b[0;36mmax\u001b[0m \u001b[1;34m= \u001b[1;36mundefined\u001b[0m\u001b[0m\n",
      "\u001b[0;32m    104\u001b[0m         \u001b[0mfig\u001b[0m\u001b[1;33m.\u001b[0m\u001b[0mupdate_xaxes\u001b[0m\u001b[1;33m(\u001b[0m\u001b[0mtickvals\u001b[0m \u001b[1;33m=\u001b[0m \u001b[0mtick_vals\u001b[0m\u001b[1;33m)\u001b[0m\u001b[1;33m\u001b[0m\u001b[1;33m\u001b[0m\u001b[0m\n",
      "\u001b[0;32m    105\u001b[0m \u001b[1;33m\u001b[0m\u001b[0m\n",
      "\n",
      "\u001b[1;31mValueError\u001b[0m: min() arg is an empty sequence\n",
      "\n",
      "\u001b[1;31m---------------------------------------------------------------------------\u001b[0m\n",
      "\u001b[1;31mValueError\u001b[0m                                Traceback (most recent call last)\n",
      "\u001b[1;32m<ipython-input-98-4fb28a20de7f>\u001b[0m in \u001b[0;36mupdate_graph\u001b[1;34m(\n",
      "    team_value='PHO',\n",
      "    season_value='Season',\n",
      "    start_date=None,\n",
      "    end_date=None\n",
      ")\u001b[0m\n",
      "\u001b[0;32m    101\u001b[0m \u001b[1;33m\u001b[0m\u001b[0m\n",
      "\u001b[0;32m    102\u001b[0m         \u001b[0mgames\u001b[0m \u001b[1;33m=\u001b[0m \u001b[0mdata\u001b[0m\u001b[1;33m[\u001b[0m\u001b[1;34m'back_to_back'\u001b[0m\u001b[1;33m]\u001b[0m\u001b[1;33m.\u001b[0m\u001b[0munique\u001b[0m\u001b[1;33m(\u001b[0m\u001b[1;33m)\u001b[0m\u001b[1;33m\u001b[0m\u001b[1;33m\u001b[0m\u001b[0m\n",
      "\u001b[1;32m--> 103\u001b[1;33m         \u001b[0mtick_vals\u001b[0m \u001b[1;33m=\u001b[0m \u001b[0mlist\u001b[0m\u001b[1;33m(\u001b[0m\u001b[0mrange\u001b[0m\u001b[1;33m(\u001b[0m\u001b[0mmin\u001b[0m\u001b[1;33m(\u001b[0m\u001b[0mgames\u001b[0m\u001b[1;33m)\u001b[0m\u001b[1;33m,\u001b[0m \u001b[0mmax\u001b[0m\u001b[1;33m(\u001b[0m\u001b[0mgames\u001b[0m\u001b[1;33m)\u001b[0m\u001b[1;33m+\u001b[0m\u001b[1;36m1\u001b[0m\u001b[1;33m)\u001b[0m\u001b[1;33m)\u001b[0m\u001b[1;33m\u001b[0m\u001b[1;33m\u001b[0m\u001b[0m\n",
      "\u001b[0m        \u001b[0;36mtick_vals\u001b[0m \u001b[1;34m= \u001b[1;36mundefined\u001b[0m\u001b[0m\u001b[1;34m\n",
      "        \u001b[0m\u001b[1;36mglobal\u001b[0m \u001b[0;36mlist\u001b[0m \u001b[1;34m= \u001b[1;36mundefined\u001b[0m\u001b[0m\u001b[1;34m\n",
      "        \u001b[0m\u001b[1;36mglobal\u001b[0m \u001b[0;36mrange\u001b[0m \u001b[1;34m= \u001b[1;36mundefined\u001b[0m\u001b[0m\u001b[1;34m\n",
      "        \u001b[0m\u001b[1;36mglobal\u001b[0m \u001b[0;36mmin\u001b[0m \u001b[1;34m= \u001b[1;36mundefined\u001b[0m\u001b[0m\u001b[1;34m\n",
      "        \u001b[0m\u001b[0;36mgames\u001b[0m \u001b[1;34m= array([], dtype=int64)\u001b[0m\u001b[1;34m\n",
      "        \u001b[0m\u001b[1;36mglobal\u001b[0m \u001b[0;36mmax\u001b[0m \u001b[1;34m= \u001b[1;36mundefined\u001b[0m\u001b[0m\n",
      "\u001b[0;32m    104\u001b[0m         \u001b[0mfig\u001b[0m\u001b[1;33m.\u001b[0m\u001b[0mupdate_xaxes\u001b[0m\u001b[1;33m(\u001b[0m\u001b[0mtickvals\u001b[0m \u001b[1;33m=\u001b[0m \u001b[0mtick_vals\u001b[0m\u001b[1;33m)\u001b[0m\u001b[1;33m\u001b[0m\u001b[1;33m\u001b[0m\u001b[0m\n",
      "\u001b[0;32m    105\u001b[0m \u001b[1;33m\u001b[0m\u001b[0m\n",
      "\n",
      "\u001b[1;31mValueError\u001b[0m: min() arg is an empty sequence\n",
      "\n",
      "\u001b[1;31m---------------------------------------------------------------------------\u001b[0m\n",
      "\u001b[1;31mValueError\u001b[0m                                Traceback (most recent call last)\n",
      "\u001b[1;32m<ipython-input-98-4fb28a20de7f>\u001b[0m in \u001b[0;36mupdate_graph\u001b[1;34m(\n",
      "    team_value='Teams',\n",
      "    season_value='Season',\n",
      "    start_date=None,\n",
      "    end_date=None\n",
      ")\u001b[0m\n",
      "\u001b[0;32m    101\u001b[0m \u001b[1;33m\u001b[0m\u001b[0m\n",
      "\u001b[0;32m    102\u001b[0m         \u001b[0mgames\u001b[0m \u001b[1;33m=\u001b[0m \u001b[0mdata\u001b[0m\u001b[1;33m[\u001b[0m\u001b[1;34m'back_to_back'\u001b[0m\u001b[1;33m]\u001b[0m\u001b[1;33m.\u001b[0m\u001b[0munique\u001b[0m\u001b[1;33m(\u001b[0m\u001b[1;33m)\u001b[0m\u001b[1;33m\u001b[0m\u001b[1;33m\u001b[0m\u001b[0m\n",
      "\u001b[1;32m--> 103\u001b[1;33m         \u001b[0mtick_vals\u001b[0m \u001b[1;33m=\u001b[0m \u001b[0mlist\u001b[0m\u001b[1;33m(\u001b[0m\u001b[0mrange\u001b[0m\u001b[1;33m(\u001b[0m\u001b[0mmin\u001b[0m\u001b[1;33m(\u001b[0m\u001b[0mgames\u001b[0m\u001b[1;33m)\u001b[0m\u001b[1;33m,\u001b[0m \u001b[0mmax\u001b[0m\u001b[1;33m(\u001b[0m\u001b[0mgames\u001b[0m\u001b[1;33m)\u001b[0m\u001b[1;33m+\u001b[0m\u001b[1;36m1\u001b[0m\u001b[1;33m)\u001b[0m\u001b[1;33m)\u001b[0m\u001b[1;33m\u001b[0m\u001b[1;33m\u001b[0m\u001b[0m\n",
      "\u001b[0m        \u001b[0;36mtick_vals\u001b[0m \u001b[1;34m= \u001b[1;36mundefined\u001b[0m\u001b[0m\u001b[1;34m\n",
      "        \u001b[0m\u001b[1;36mglobal\u001b[0m \u001b[0;36mlist\u001b[0m \u001b[1;34m= \u001b[1;36mundefined\u001b[0m\u001b[0m\u001b[1;34m\n",
      "        \u001b[0m\u001b[1;36mglobal\u001b[0m \u001b[0;36mrange\u001b[0m \u001b[1;34m= \u001b[1;36mundefined\u001b[0m\u001b[0m\u001b[1;34m\n",
      "        \u001b[0m\u001b[1;36mglobal\u001b[0m \u001b[0;36mmin\u001b[0m \u001b[1;34m= \u001b[1;36mundefined\u001b[0m\u001b[0m\u001b[1;34m\n",
      "        \u001b[0m\u001b[0;36mgames\u001b[0m \u001b[1;34m= array([], dtype=int64)\u001b[0m\u001b[1;34m\n",
      "        \u001b[0m\u001b[1;36mglobal\u001b[0m \u001b[0;36mmax\u001b[0m \u001b[1;34m= \u001b[1;36mundefined\u001b[0m\u001b[0m\n",
      "\u001b[0;32m    104\u001b[0m         \u001b[0mfig\u001b[0m\u001b[1;33m.\u001b[0m\u001b[0mupdate_xaxes\u001b[0m\u001b[1;33m(\u001b[0m\u001b[0mtickvals\u001b[0m \u001b[1;33m=\u001b[0m \u001b[0mtick_vals\u001b[0m\u001b[1;33m)\u001b[0m\u001b[1;33m\u001b[0m\u001b[1;33m\u001b[0m\u001b[0m\n",
      "\u001b[0;32m    105\u001b[0m \u001b[1;33m\u001b[0m\u001b[0m\n",
      "\n",
      "\u001b[1;31mValueError\u001b[0m: min() arg is an empty sequence\n",
      "\n"
     ]
    }
   ],
   "metadata": {}
  },
  {
   "cell_type": "code",
   "execution_count": 23,
   "source": [
    "df.columns"
   ],
   "outputs": [
    {
     "output_type": "execute_result",
     "data": {
      "text/plain": [
       "Index(['date', 'datetime', 'game', 'location', 'distance_traveled', 'losses',\n",
       "       'opponent_abbr', 'opponent_name', 'opponent_long', 'opponent_lat',\n",
       "       'playoffs', 'points_allowed', 'points_scored', 'result', 'streak',\n",
       "       'time', 'wins', 'team', 'team_long', 'team_lat', 'season', 'opp_coords',\n",
       "       'team_coords', 'back_to_back', '3_in_4', '4_in_5'],\n",
       "      dtype='object')"
      ]
     },
     "metadata": {},
     "execution_count": 23
    }
   ],
   "metadata": {}
  },
  {
   "cell_type": "code",
   "execution_count": 28,
   "source": [
    "df = pd.read_csv('schedule.csv', index_col=0)\n",
    "df = df[df['season']==2022]\n",
    "df = df[df['playoffs']==0]\n",
    "df = df[df['team']=='GSW']\n",
    "\n",
    "data = df[['datetime', 'team', 'opponent_abbr', 'location', 'result','streak', 'back_to_back', '3_in_4', '4_in_5']]\n",
    "data.set_index('datetime', inplace=True)\n",
    "data.reset_index(inplace=True)\n",
    "data.rename(columns = {'datetime':'Date','team':'Team','opponent_abbr':'Opponent',\n",
    "                        'location':'Location', 'result':'Result', 'streak':'Streak', \n",
    "                        'back_to_back':'B2B', '3_in_4':'3-In-4', '4_in_5':'4-In-5'}, inplace=True)\n",
    "\n",
    "data"
   ],
   "outputs": [
    {
     "output_type": "stream",
     "name": "stderr",
     "text": [
      "/Users/jewonju/opt/anaconda3/lib/python3.8/site-packages/pandas/core/frame.py:4441: SettingWithCopyWarning: \n",
      "A value is trying to be set on a copy of a slice from a DataFrame\n",
      "\n",
      "See the caveats in the documentation: https://pandas.pydata.org/pandas-docs/stable/user_guide/indexing.html#returning-a-view-versus-a-copy\n",
      "  return super().rename(\n"
     ]
    },
    {
     "output_type": "execute_result",
     "data": {
      "text/html": [
       "<div>\n",
       "<style scoped>\n",
       "    .dataframe tbody tr th:only-of-type {\n",
       "        vertical-align: middle;\n",
       "    }\n",
       "\n",
       "    .dataframe tbody tr th {\n",
       "        vertical-align: top;\n",
       "    }\n",
       "\n",
       "    .dataframe thead th {\n",
       "        text-align: right;\n",
       "    }\n",
       "</style>\n",
       "<table border=\"1\" class=\"dataframe\">\n",
       "  <thead>\n",
       "    <tr style=\"text-align: right;\">\n",
       "      <th></th>\n",
       "      <th>Date</th>\n",
       "      <th>Team</th>\n",
       "      <th>Opponent</th>\n",
       "      <th>Location</th>\n",
       "      <th>Result</th>\n",
       "      <th>Streak</th>\n",
       "      <th>B2B</th>\n",
       "      <th>3-In-4</th>\n",
       "      <th>4-In-5</th>\n",
       "    </tr>\n",
       "  </thead>\n",
       "  <tbody>\n",
       "    <tr>\n",
       "      <th>0</th>\n",
       "      <td>2021-10-19</td>\n",
       "      <td>GSW</td>\n",
       "      <td>LAL</td>\n",
       "      <td>Away</td>\n",
       "      <td>Win</td>\n",
       "      <td>W 1</td>\n",
       "      <td>0</td>\n",
       "      <td>0</td>\n",
       "      <td>0</td>\n",
       "    </tr>\n",
       "    <tr>\n",
       "      <th>1</th>\n",
       "      <td>2021-10-21</td>\n",
       "      <td>GSW</td>\n",
       "      <td>LAC</td>\n",
       "      <td>Home</td>\n",
       "      <td>Win</td>\n",
       "      <td>W 2</td>\n",
       "      <td>0</td>\n",
       "      <td>0</td>\n",
       "      <td>0</td>\n",
       "    </tr>\n",
       "    <tr>\n",
       "      <th>2</th>\n",
       "      <td>2021-10-24</td>\n",
       "      <td>GSW</td>\n",
       "      <td>SAC</td>\n",
       "      <td>Away</td>\n",
       "      <td>Win</td>\n",
       "      <td>W 3</td>\n",
       "      <td>0</td>\n",
       "      <td>0</td>\n",
       "      <td>0</td>\n",
       "    </tr>\n",
       "    <tr>\n",
       "      <th>3</th>\n",
       "      <td>2021-10-26</td>\n",
       "      <td>GSW</td>\n",
       "      <td>OKC</td>\n",
       "      <td>Away</td>\n",
       "      <td>Win</td>\n",
       "      <td>W 4</td>\n",
       "      <td>0</td>\n",
       "      <td>0</td>\n",
       "      <td>0</td>\n",
       "    </tr>\n",
       "    <tr>\n",
       "      <th>4</th>\n",
       "      <td>2021-10-28</td>\n",
       "      <td>GSW</td>\n",
       "      <td>MEM</td>\n",
       "      <td>Home</td>\n",
       "      <td>Loss</td>\n",
       "      <td>L 1</td>\n",
       "      <td>0</td>\n",
       "      <td>0</td>\n",
       "      <td>0</td>\n",
       "    </tr>\n",
       "    <tr>\n",
       "      <th>...</th>\n",
       "      <td>...</td>\n",
       "      <td>...</td>\n",
       "      <td>...</td>\n",
       "      <td>...</td>\n",
       "      <td>...</td>\n",
       "      <td>...</td>\n",
       "      <td>...</td>\n",
       "      <td>...</td>\n",
       "      <td>...</td>\n",
       "    </tr>\n",
       "    <tr>\n",
       "      <th>77</th>\n",
       "      <td>2022-04-02</td>\n",
       "      <td>GSW</td>\n",
       "      <td>UTA</td>\n",
       "      <td>Home</td>\n",
       "      <td>Win</td>\n",
       "      <td>NaN</td>\n",
       "      <td>0</td>\n",
       "      <td>0</td>\n",
       "      <td>0</td>\n",
       "    </tr>\n",
       "    <tr>\n",
       "      <th>78</th>\n",
       "      <td>2022-04-03</td>\n",
       "      <td>GSW</td>\n",
       "      <td>SAC</td>\n",
       "      <td>Away</td>\n",
       "      <td>Win</td>\n",
       "      <td>NaN</td>\n",
       "      <td>1</td>\n",
       "      <td>0</td>\n",
       "      <td>0</td>\n",
       "    </tr>\n",
       "    <tr>\n",
       "      <th>79</th>\n",
       "      <td>2022-04-07</td>\n",
       "      <td>GSW</td>\n",
       "      <td>LAL</td>\n",
       "      <td>Home</td>\n",
       "      <td>Win</td>\n",
       "      <td>NaN</td>\n",
       "      <td>0</td>\n",
       "      <td>0</td>\n",
       "      <td>0</td>\n",
       "    </tr>\n",
       "    <tr>\n",
       "      <th>80</th>\n",
       "      <td>2022-04-09</td>\n",
       "      <td>GSW</td>\n",
       "      <td>SAS</td>\n",
       "      <td>Away</td>\n",
       "      <td>Win</td>\n",
       "      <td>NaN</td>\n",
       "      <td>0</td>\n",
       "      <td>0</td>\n",
       "      <td>0</td>\n",
       "    </tr>\n",
       "    <tr>\n",
       "      <th>81</th>\n",
       "      <td>2022-04-10</td>\n",
       "      <td>GSW</td>\n",
       "      <td>NOP</td>\n",
       "      <td>Away</td>\n",
       "      <td>Win</td>\n",
       "      <td>NaN</td>\n",
       "      <td>1</td>\n",
       "      <td>1</td>\n",
       "      <td>0</td>\n",
       "    </tr>\n",
       "  </tbody>\n",
       "</table>\n",
       "<p>82 rows × 9 columns</p>\n",
       "</div>"
      ],
      "text/plain": [
       "          Date Team Opponent Location Result Streak  B2B  3-In-4  4-In-5\n",
       "0   2021-10-19  GSW      LAL     Away    Win    W 1    0       0       0\n",
       "1   2021-10-21  GSW      LAC     Home    Win    W 2    0       0       0\n",
       "2   2021-10-24  GSW      SAC     Away    Win    W 3    0       0       0\n",
       "3   2021-10-26  GSW      OKC     Away    Win    W 4    0       0       0\n",
       "4   2021-10-28  GSW      MEM     Home   Loss    L 1    0       0       0\n",
       "..         ...  ...      ...      ...    ...    ...  ...     ...     ...\n",
       "77  2022-04-02  GSW      UTA     Home    Win    NaN    0       0       0\n",
       "78  2022-04-03  GSW      SAC     Away    Win    NaN    1       0       0\n",
       "79  2022-04-07  GSW      LAL     Home    Win    NaN    0       0       0\n",
       "80  2022-04-09  GSW      SAS     Away    Win    NaN    0       0       0\n",
       "81  2022-04-10  GSW      NOP     Away    Win    NaN    1       1       0\n",
       "\n",
       "[82 rows x 9 columns]"
      ]
     },
     "metadata": {},
     "execution_count": 28
    }
   ],
   "metadata": {}
  },
  {
   "cell_type": "code",
   "execution_count": 30,
   "source": [
    "columns = []\n",
    "for i,j in enumerate(data.columns): \n",
    "    item = {'id': i, 'name':j}\n",
    "    columns.append(item)\n",
    "\n",
    "columns"
   ],
   "outputs": [
    {
     "output_type": "execute_result",
     "data": {
      "text/plain": [
       "[{'id': 0, 'name': 'Date'},\n",
       " {'id': 1, 'name': 'Team'},\n",
       " {'id': 2, 'name': 'Opponent'},\n",
       " {'id': 3, 'name': 'Location'},\n",
       " {'id': 4, 'name': 'Result'},\n",
       " {'id': 5, 'name': 'Streak'},\n",
       " {'id': 6, 'name': 'B2B'},\n",
       " {'id': 7, 'name': '3-In-4'},\n",
       " {'id': 8, 'name': '4-In-5'}]"
      ]
     },
     "metadata": {},
     "execution_count": 30
    }
   ],
   "metadata": {}
  },
  {
   "cell_type": "code",
   "execution_count": 36,
   "source": [
    "data.to_dict(\"rows\")"
   ],
   "outputs": [
    {
     "output_type": "execute_result",
     "data": {
      "text/plain": [
       "[{'Date': '2021-10-19',\n",
       "  'Team': 'GSW',\n",
       "  'Opponent': 'LAL',\n",
       "  'Location': 'Away',\n",
       "  'Result': 'Win',\n",
       "  'Streak': 'W 1',\n",
       "  'B2B': 0,\n",
       "  '3-In-4': 0,\n",
       "  '4-In-5': 0},\n",
       " {'Date': '2021-10-21',\n",
       "  'Team': 'GSW',\n",
       "  'Opponent': 'LAC',\n",
       "  'Location': 'Home',\n",
       "  'Result': 'Win',\n",
       "  'Streak': 'W 2',\n",
       "  'B2B': 0,\n",
       "  '3-In-4': 0,\n",
       "  '4-In-5': 0},\n",
       " {'Date': '2021-10-24',\n",
       "  'Team': 'GSW',\n",
       "  'Opponent': 'SAC',\n",
       "  'Location': 'Away',\n",
       "  'Result': 'Win',\n",
       "  'Streak': 'W 3',\n",
       "  'B2B': 0,\n",
       "  '3-In-4': 0,\n",
       "  '4-In-5': 0},\n",
       " {'Date': '2021-10-26',\n",
       "  'Team': 'GSW',\n",
       "  'Opponent': 'OKC',\n",
       "  'Location': 'Away',\n",
       "  'Result': 'Win',\n",
       "  'Streak': 'W 4',\n",
       "  'B2B': 0,\n",
       "  '3-In-4': 0,\n",
       "  '4-In-5': 0},\n",
       " {'Date': '2021-10-28',\n",
       "  'Team': 'GSW',\n",
       "  'Opponent': 'MEM',\n",
       "  'Location': 'Home',\n",
       "  'Result': 'Loss',\n",
       "  'Streak': 'L 1',\n",
       "  'B2B': 0,\n",
       "  '3-In-4': 0,\n",
       "  '4-In-5': 0},\n",
       " {'Date': '2021-10-30',\n",
       "  'Team': 'GSW',\n",
       "  'Opponent': 'OKC',\n",
       "  'Location': 'Home',\n",
       "  'Result': 'Win',\n",
       "  'Streak': 'W 1',\n",
       "  'B2B': 0,\n",
       "  '3-In-4': 0,\n",
       "  '4-In-5': 0},\n",
       " {'Date': '2021-11-03',\n",
       "  'Team': 'GSW',\n",
       "  'Opponent': 'CHO',\n",
       "  'Location': 'Home',\n",
       "  'Result': 'Win',\n",
       "  'Streak': 'W 2',\n",
       "  'B2B': 0,\n",
       "  '3-In-4': 0,\n",
       "  '4-In-5': 0},\n",
       " {'Date': '2021-11-05',\n",
       "  'Team': 'GSW',\n",
       "  'Opponent': 'NOP',\n",
       "  'Location': 'Home',\n",
       "  'Result': 'Win',\n",
       "  'Streak': 'W 3',\n",
       "  'B2B': 0,\n",
       "  '3-In-4': 0,\n",
       "  '4-In-5': 0},\n",
       " {'Date': '2021-11-07',\n",
       "  'Team': 'GSW',\n",
       "  'Opponent': 'HOU',\n",
       "  'Location': 'Home',\n",
       "  'Result': 'Win',\n",
       "  'Streak': 'W 4',\n",
       "  'B2B': 0,\n",
       "  '3-In-4': 0,\n",
       "  '4-In-5': 0},\n",
       " {'Date': '2021-11-08',\n",
       "  'Team': 'GSW',\n",
       "  'Opponent': 'ATL',\n",
       "  'Location': 'Home',\n",
       "  'Result': 'Win',\n",
       "  'Streak': 'W 5',\n",
       "  'B2B': 1,\n",
       "  '3-In-4': 1,\n",
       "  '4-In-5': 0},\n",
       " {'Date': '2021-11-10',\n",
       "  'Team': 'GSW',\n",
       "  'Opponent': 'MIN',\n",
       "  'Location': 'Home',\n",
       "  'Result': 'Win',\n",
       "  'Streak': 'W 6',\n",
       "  'B2B': 0,\n",
       "  '3-In-4': 1,\n",
       "  '4-In-5': 0},\n",
       " {'Date': '2021-11-12',\n",
       "  'Team': 'GSW',\n",
       "  'Opponent': 'CHI',\n",
       "  'Location': 'Home',\n",
       "  'Result': 'Win',\n",
       "  'Streak': 'W 7',\n",
       "  'B2B': 0,\n",
       "  '3-In-4': 0,\n",
       "  '4-In-5': 0},\n",
       " {'Date': '2021-11-14',\n",
       "  'Team': 'GSW',\n",
       "  'Opponent': 'CHO',\n",
       "  'Location': 'Away',\n",
       "  'Result': 'Win',\n",
       "  'Streak': nan,\n",
       "  'B2B': 0,\n",
       "  '3-In-4': 0,\n",
       "  '4-In-5': 0},\n",
       " {'Date': '2021-11-16',\n",
       "  'Team': 'GSW',\n",
       "  'Opponent': 'BKN',\n",
       "  'Location': 'Away',\n",
       "  'Result': 'Win',\n",
       "  'Streak': nan,\n",
       "  'B2B': 0,\n",
       "  '3-In-4': 0,\n",
       "  '4-In-5': 0},\n",
       " {'Date': '2021-11-18',\n",
       "  'Team': 'GSW',\n",
       "  'Opponent': 'CLE',\n",
       "  'Location': 'Away',\n",
       "  'Result': 'Win',\n",
       "  'Streak': nan,\n",
       "  'B2B': 0,\n",
       "  '3-In-4': 0,\n",
       "  '4-In-5': 0},\n",
       " {'Date': '2021-11-19',\n",
       "  'Team': 'GSW',\n",
       "  'Opponent': 'DET',\n",
       "  'Location': 'Away',\n",
       "  'Result': 'Win',\n",
       "  'Streak': nan,\n",
       "  'B2B': 1,\n",
       "  '3-In-4': 1,\n",
       "  '4-In-5': 0},\n",
       " {'Date': '2021-11-21',\n",
       "  'Team': 'GSW',\n",
       "  'Opponent': 'TOR',\n",
       "  'Location': 'Home',\n",
       "  'Result': 'Win',\n",
       "  'Streak': nan,\n",
       "  'B2B': 0,\n",
       "  '3-In-4': 1,\n",
       "  '4-In-5': 0},\n",
       " {'Date': '2021-11-24',\n",
       "  'Team': 'GSW',\n",
       "  'Opponent': 'PHI',\n",
       "  'Location': 'Home',\n",
       "  'Result': 'Win',\n",
       "  'Streak': nan,\n",
       "  'B2B': 0,\n",
       "  '3-In-4': 0,\n",
       "  '4-In-5': 0},\n",
       " {'Date': '2021-11-26',\n",
       "  'Team': 'GSW',\n",
       "  'Opponent': 'POR',\n",
       "  'Location': 'Home',\n",
       "  'Result': 'Win',\n",
       "  'Streak': nan,\n",
       "  'B2B': 0,\n",
       "  '3-In-4': 0,\n",
       "  '4-In-5': 0},\n",
       " {'Date': '2021-11-28',\n",
       "  'Team': 'GSW',\n",
       "  'Opponent': 'LAC',\n",
       "  'Location': 'Away',\n",
       "  'Result': 'Win',\n",
       "  'Streak': nan,\n",
       "  'B2B': 0,\n",
       "  '3-In-4': 0,\n",
       "  '4-In-5': 0},\n",
       " {'Date': '2021-11-30',\n",
       "  'Team': 'GSW',\n",
       "  'Opponent': 'PHO',\n",
       "  'Location': 'Away',\n",
       "  'Result': 'Win',\n",
       "  'Streak': nan,\n",
       "  'B2B': 0,\n",
       "  '3-In-4': 0,\n",
       "  '4-In-5': 0},\n",
       " {'Date': '2021-12-03',\n",
       "  'Team': 'GSW',\n",
       "  'Opponent': 'PHO',\n",
       "  'Location': 'Home',\n",
       "  'Result': 'Win',\n",
       "  'Streak': nan,\n",
       "  'B2B': 0,\n",
       "  '3-In-4': 0,\n",
       "  '4-In-5': 0},\n",
       " {'Date': '2021-12-04',\n",
       "  'Team': 'GSW',\n",
       "  'Opponent': 'SAS',\n",
       "  'Location': 'Home',\n",
       "  'Result': 'Win',\n",
       "  'Streak': nan,\n",
       "  'B2B': 1,\n",
       "  '3-In-4': 0,\n",
       "  '4-In-5': 0},\n",
       " {'Date': '2021-12-06',\n",
       "  'Team': 'GSW',\n",
       "  'Opponent': 'ORL',\n",
       "  'Location': 'Home',\n",
       "  'Result': 'Win',\n",
       "  'Streak': nan,\n",
       "  'B2B': 0,\n",
       "  '3-In-4': 1,\n",
       "  '4-In-5': 0},\n",
       " {'Date': '2021-12-08',\n",
       "  'Team': 'GSW',\n",
       "  'Opponent': 'POR',\n",
       "  'Location': 'Home',\n",
       "  'Result': 'Win',\n",
       "  'Streak': nan,\n",
       "  'B2B': 0,\n",
       "  '3-In-4': 0,\n",
       "  '4-In-5': 0},\n",
       " {'Date': '2021-12-11',\n",
       "  'Team': 'GSW',\n",
       "  'Opponent': 'PHI',\n",
       "  'Location': 'Away',\n",
       "  'Result': 'Win',\n",
       "  'Streak': nan,\n",
       "  'B2B': 0,\n",
       "  '3-In-4': 0,\n",
       "  '4-In-5': 0},\n",
       " {'Date': '2021-12-13',\n",
       "  'Team': 'GSW',\n",
       "  'Opponent': 'IND',\n",
       "  'Location': 'Away',\n",
       "  'Result': 'Win',\n",
       "  'Streak': nan,\n",
       "  'B2B': 0,\n",
       "  '3-In-4': 0,\n",
       "  '4-In-5': 0},\n",
       " {'Date': '2021-12-14',\n",
       "  'Team': 'GSW',\n",
       "  'Opponent': 'NYK',\n",
       "  'Location': 'Away',\n",
       "  'Result': 'Win',\n",
       "  'Streak': nan,\n",
       "  'B2B': 1,\n",
       "  '3-In-4': 1,\n",
       "  '4-In-5': 0},\n",
       " {'Date': '2021-12-17',\n",
       "  'Team': 'GSW',\n",
       "  'Opponent': 'BOS',\n",
       "  'Location': 'Away',\n",
       "  'Result': 'Win',\n",
       "  'Streak': nan,\n",
       "  'B2B': 0,\n",
       "  '3-In-4': 0,\n",
       "  '4-In-5': 0},\n",
       " {'Date': '2021-12-18',\n",
       "  'Team': 'GSW',\n",
       "  'Opponent': 'TOR',\n",
       "  'Location': 'Away',\n",
       "  'Result': 'Win',\n",
       "  'Streak': nan,\n",
       "  'B2B': 1,\n",
       "  '3-In-4': 0,\n",
       "  '4-In-5': 0},\n",
       " {'Date': '2021-12-20',\n",
       "  'Team': 'GSW',\n",
       "  'Opponent': 'SAC',\n",
       "  'Location': 'Home',\n",
       "  'Result': 'Win',\n",
       "  'Streak': nan,\n",
       "  'B2B': 0,\n",
       "  '3-In-4': 1,\n",
       "  '4-In-5': 0},\n",
       " {'Date': '2021-12-23',\n",
       "  'Team': 'GSW',\n",
       "  'Opponent': 'MEM',\n",
       "  'Location': 'Home',\n",
       "  'Result': 'Win',\n",
       "  'Streak': nan,\n",
       "  'B2B': 0,\n",
       "  '3-In-4': 0,\n",
       "  '4-In-5': 0},\n",
       " {'Date': '2021-12-25',\n",
       "  'Team': 'GSW',\n",
       "  'Opponent': 'PHO',\n",
       "  'Location': 'Away',\n",
       "  'Result': 'Win',\n",
       "  'Streak': nan,\n",
       "  'B2B': 0,\n",
       "  '3-In-4': 0,\n",
       "  '4-In-5': 0},\n",
       " {'Date': '2021-12-28',\n",
       "  'Team': 'GSW',\n",
       "  'Opponent': 'DEN',\n",
       "  'Location': 'Home',\n",
       "  'Result': 'Win',\n",
       "  'Streak': nan,\n",
       "  'B2B': 0,\n",
       "  '3-In-4': 0,\n",
       "  '4-In-5': 0},\n",
       " {'Date': '2021-12-30',\n",
       "  'Team': 'GSW',\n",
       "  'Opponent': 'DEN',\n",
       "  'Location': 'Away',\n",
       "  'Result': 'Win',\n",
       "  'Streak': nan,\n",
       "  'B2B': 0,\n",
       "  '3-In-4': 0,\n",
       "  '4-In-5': 0},\n",
       " {'Date': '2022-01-01',\n",
       "  'Team': 'GSW',\n",
       "  'Opponent': 'UTA',\n",
       "  'Location': 'Away',\n",
       "  'Result': 'Win',\n",
       "  'Streak': nan,\n",
       "  'B2B': 0,\n",
       "  '3-In-4': 0,\n",
       "  '4-In-5': 0},\n",
       " {'Date': '2022-01-03',\n",
       "  'Team': 'GSW',\n",
       "  'Opponent': 'MIA',\n",
       "  'Location': 'Home',\n",
       "  'Result': 'Win',\n",
       "  'Streak': nan,\n",
       "  'B2B': 0,\n",
       "  '3-In-4': 0,\n",
       "  '4-In-5': 0},\n",
       " {'Date': '2022-01-05',\n",
       "  'Team': 'GSW',\n",
       "  'Opponent': 'DAL',\n",
       "  'Location': 'Away',\n",
       "  'Result': 'Win',\n",
       "  'Streak': nan,\n",
       "  'B2B': 0,\n",
       "  '3-In-4': 0,\n",
       "  '4-In-5': 0},\n",
       " {'Date': '2022-01-06',\n",
       "  'Team': 'GSW',\n",
       "  'Opponent': 'NOP',\n",
       "  'Location': 'Away',\n",
       "  'Result': 'Win',\n",
       "  'Streak': nan,\n",
       "  'B2B': 1,\n",
       "  '3-In-4': 1,\n",
       "  '4-In-5': 0},\n",
       " {'Date': '2022-01-09',\n",
       "  'Team': 'GSW',\n",
       "  'Opponent': 'CLE',\n",
       "  'Location': 'Home',\n",
       "  'Result': 'Win',\n",
       "  'Streak': nan,\n",
       "  'B2B': 0,\n",
       "  '3-In-4': 0,\n",
       "  '4-In-5': 0},\n",
       " {'Date': '2022-01-11',\n",
       "  'Team': 'GSW',\n",
       "  'Opponent': 'MEM',\n",
       "  'Location': 'Away',\n",
       "  'Result': 'Win',\n",
       "  'Streak': nan,\n",
       "  'B2B': 0,\n",
       "  '3-In-4': 0,\n",
       "  '4-In-5': 0},\n",
       " {'Date': '2022-01-13',\n",
       "  'Team': 'GSW',\n",
       "  'Opponent': 'MIL',\n",
       "  'Location': 'Away',\n",
       "  'Result': 'Win',\n",
       "  'Streak': nan,\n",
       "  'B2B': 0,\n",
       "  '3-In-4': 0,\n",
       "  '4-In-5': 0},\n",
       " {'Date': '2022-01-14',\n",
       "  'Team': 'GSW',\n",
       "  'Opponent': 'CHI',\n",
       "  'Location': 'Away',\n",
       "  'Result': 'Win',\n",
       "  'Streak': nan,\n",
       "  'B2B': 1,\n",
       "  '3-In-4': 1,\n",
       "  '4-In-5': 0},\n",
       " {'Date': '2022-01-16',\n",
       "  'Team': 'GSW',\n",
       "  'Opponent': 'MIN',\n",
       "  'Location': 'Away',\n",
       "  'Result': 'Win',\n",
       "  'Streak': nan,\n",
       "  'B2B': 0,\n",
       "  '3-In-4': 1,\n",
       "  '4-In-5': 0},\n",
       " {'Date': '2022-01-18',\n",
       "  'Team': 'GSW',\n",
       "  'Opponent': 'DET',\n",
       "  'Location': 'Home',\n",
       "  'Result': 'Win',\n",
       "  'Streak': nan,\n",
       "  'B2B': 0,\n",
       "  '3-In-4': 0,\n",
       "  '4-In-5': 0},\n",
       " {'Date': '2022-01-20',\n",
       "  'Team': 'GSW',\n",
       "  'Opponent': 'IND',\n",
       "  'Location': 'Home',\n",
       "  'Result': 'Win',\n",
       "  'Streak': nan,\n",
       "  'B2B': 0,\n",
       "  '3-In-4': 0,\n",
       "  '4-In-5': 0},\n",
       " {'Date': '2022-01-21',\n",
       "  'Team': 'GSW',\n",
       "  'Opponent': 'HOU',\n",
       "  'Location': 'Home',\n",
       "  'Result': 'Win',\n",
       "  'Streak': nan,\n",
       "  'B2B': 1,\n",
       "  '3-In-4': 1,\n",
       "  '4-In-5': 0},\n",
       " {'Date': '2022-01-23',\n",
       "  'Team': 'GSW',\n",
       "  'Opponent': 'UTA',\n",
       "  'Location': 'Home',\n",
       "  'Result': 'Win',\n",
       "  'Streak': nan,\n",
       "  'B2B': 0,\n",
       "  '3-In-4': 1,\n",
       "  '4-In-5': 0},\n",
       " {'Date': '2022-01-25',\n",
       "  'Team': 'GSW',\n",
       "  'Opponent': 'DAL',\n",
       "  'Location': 'Home',\n",
       "  'Result': 'Win',\n",
       "  'Streak': nan,\n",
       "  'B2B': 0,\n",
       "  '3-In-4': 0,\n",
       "  '4-In-5': 0},\n",
       " {'Date': '2022-01-27',\n",
       "  'Team': 'GSW',\n",
       "  'Opponent': 'MIN',\n",
       "  'Location': 'Home',\n",
       "  'Result': 'Win',\n",
       "  'Streak': nan,\n",
       "  'B2B': 0,\n",
       "  '3-In-4': 0,\n",
       "  '4-In-5': 0},\n",
       " {'Date': '2022-01-29',\n",
       "  'Team': 'GSW',\n",
       "  'Opponent': 'BKN',\n",
       "  'Location': 'Home',\n",
       "  'Result': 'Win',\n",
       "  'Streak': nan,\n",
       "  'B2B': 0,\n",
       "  '3-In-4': 0,\n",
       "  '4-In-5': 0},\n",
       " {'Date': '2022-01-31',\n",
       "  'Team': 'GSW',\n",
       "  'Opponent': 'HOU',\n",
       "  'Location': 'Away',\n",
       "  'Result': 'Win',\n",
       "  'Streak': nan,\n",
       "  'B2B': 0,\n",
       "  '3-In-4': 0,\n",
       "  '4-In-5': 0},\n",
       " {'Date': '2022-02-01',\n",
       "  'Team': 'GSW',\n",
       "  'Opponent': 'SAS',\n",
       "  'Location': 'Away',\n",
       "  'Result': 'Win',\n",
       "  'Streak': nan,\n",
       "  'B2B': 1,\n",
       "  '3-In-4': 1,\n",
       "  '4-In-5': 0},\n",
       " {'Date': '2022-02-03',\n",
       "  'Team': 'GSW',\n",
       "  'Opponent': 'SAC',\n",
       "  'Location': 'Home',\n",
       "  'Result': 'Win',\n",
       "  'Streak': nan,\n",
       "  'B2B': 0,\n",
       "  '3-In-4': 1,\n",
       "  '4-In-5': 0},\n",
       " {'Date': '2022-02-07',\n",
       "  'Team': 'GSW',\n",
       "  'Opponent': 'OKC',\n",
       "  'Location': 'Away',\n",
       "  'Result': 'Win',\n",
       "  'Streak': nan,\n",
       "  'B2B': 0,\n",
       "  '3-In-4': 0,\n",
       "  '4-In-5': 0},\n",
       " {'Date': '2022-02-09',\n",
       "  'Team': 'GSW',\n",
       "  'Opponent': 'UTA',\n",
       "  'Location': 'Away',\n",
       "  'Result': 'Win',\n",
       "  'Streak': nan,\n",
       "  'B2B': 0,\n",
       "  '3-In-4': 0,\n",
       "  '4-In-5': 0},\n",
       " {'Date': '2022-02-10',\n",
       "  'Team': 'GSW',\n",
       "  'Opponent': 'NYK',\n",
       "  'Location': 'Home',\n",
       "  'Result': 'Win',\n",
       "  'Streak': nan,\n",
       "  'B2B': 1,\n",
       "  '3-In-4': 1,\n",
       "  '4-In-5': 0},\n",
       " {'Date': '2022-02-12',\n",
       "  'Team': 'GSW',\n",
       "  'Opponent': 'LAL',\n",
       "  'Location': 'Home',\n",
       "  'Result': 'Win',\n",
       "  'Streak': nan,\n",
       "  'B2B': 0,\n",
       "  '3-In-4': 1,\n",
       "  '4-In-5': 0},\n",
       " {'Date': '2022-02-14',\n",
       "  'Team': 'GSW',\n",
       "  'Opponent': 'LAC',\n",
       "  'Location': 'Away',\n",
       "  'Result': 'Win',\n",
       "  'Streak': nan,\n",
       "  'B2B': 0,\n",
       "  '3-In-4': 0,\n",
       "  '4-In-5': 0},\n",
       " {'Date': '2022-02-16',\n",
       "  'Team': 'GSW',\n",
       "  'Opponent': 'DEN',\n",
       "  'Location': 'Home',\n",
       "  'Result': 'Win',\n",
       "  'Streak': nan,\n",
       "  'B2B': 0,\n",
       "  '3-In-4': 0,\n",
       "  '4-In-5': 0},\n",
       " {'Date': '2022-02-24',\n",
       "  'Team': 'GSW',\n",
       "  'Opponent': 'POR',\n",
       "  'Location': 'Away',\n",
       "  'Result': 'Win',\n",
       "  'Streak': nan,\n",
       "  'B2B': 0,\n",
       "  '3-In-4': 0,\n",
       "  '4-In-5': 0},\n",
       " {'Date': '2022-02-27',\n",
       "  'Team': 'GSW',\n",
       "  'Opponent': 'DAL',\n",
       "  'Location': 'Home',\n",
       "  'Result': 'Win',\n",
       "  'Streak': nan,\n",
       "  'B2B': 0,\n",
       "  '3-In-4': 0,\n",
       "  '4-In-5': 0},\n",
       " {'Date': '2022-03-01',\n",
       "  'Team': 'GSW',\n",
       "  'Opponent': 'MIN',\n",
       "  'Location': 'Away',\n",
       "  'Result': 'Win',\n",
       "  'Streak': nan,\n",
       "  'B2B': 0,\n",
       "  '3-In-4': 0,\n",
       "  '4-In-5': 0},\n",
       " {'Date': '2022-03-03',\n",
       "  'Team': 'GSW',\n",
       "  'Opponent': 'DAL',\n",
       "  'Location': 'Away',\n",
       "  'Result': 'Win',\n",
       "  'Streak': nan,\n",
       "  'B2B': 0,\n",
       "  '3-In-4': 0,\n",
       "  '4-In-5': 0},\n",
       " {'Date': '2022-03-05',\n",
       "  'Team': 'GSW',\n",
       "  'Opponent': 'LAL',\n",
       "  'Location': 'Away',\n",
       "  'Result': 'Win',\n",
       "  'Streak': nan,\n",
       "  'B2B': 0,\n",
       "  '3-In-4': 0,\n",
       "  '4-In-5': 0},\n",
       " {'Date': '2022-03-08',\n",
       "  'Team': 'GSW',\n",
       "  'Opponent': 'LAC',\n",
       "  'Location': 'Home',\n",
       "  'Result': 'Win',\n",
       "  'Streak': nan,\n",
       "  'B2B': 0,\n",
       "  '3-In-4': 0,\n",
       "  '4-In-5': 0},\n",
       " {'Date': '2022-03-10',\n",
       "  'Team': 'GSW',\n",
       "  'Opponent': 'DEN',\n",
       "  'Location': 'Away',\n",
       "  'Result': 'Win',\n",
       "  'Streak': nan,\n",
       "  'B2B': 0,\n",
       "  '3-In-4': 0,\n",
       "  '4-In-5': 0},\n",
       " {'Date': '2022-03-12',\n",
       "  'Team': 'GSW',\n",
       "  'Opponent': 'MIL',\n",
       "  'Location': 'Home',\n",
       "  'Result': 'Win',\n",
       "  'Streak': nan,\n",
       "  'B2B': 0,\n",
       "  '3-In-4': 0,\n",
       "  '4-In-5': 0},\n",
       " {'Date': '2022-03-14',\n",
       "  'Team': 'GSW',\n",
       "  'Opponent': 'WAS',\n",
       "  'Location': 'Home',\n",
       "  'Result': 'Win',\n",
       "  'Streak': nan,\n",
       "  'B2B': 0,\n",
       "  '3-In-4': 0,\n",
       "  '4-In-5': 0},\n",
       " {'Date': '2022-03-16',\n",
       "  'Team': 'GSW',\n",
       "  'Opponent': 'BOS',\n",
       "  'Location': 'Home',\n",
       "  'Result': 'Win',\n",
       "  'Streak': nan,\n",
       "  'B2B': 0,\n",
       "  '3-In-4': 0,\n",
       "  '4-In-5': 0},\n",
       " {'Date': '2022-03-20',\n",
       "  'Team': 'GSW',\n",
       "  'Opponent': 'SAS',\n",
       "  'Location': 'Home',\n",
       "  'Result': 'Win',\n",
       "  'Streak': nan,\n",
       "  'B2B': 0,\n",
       "  '3-In-4': 0,\n",
       "  '4-In-5': 0},\n",
       " {'Date': '2022-03-22',\n",
       "  'Team': 'GSW',\n",
       "  'Opponent': 'ORL',\n",
       "  'Location': 'Away',\n",
       "  'Result': 'Win',\n",
       "  'Streak': nan,\n",
       "  'B2B': 0,\n",
       "  '3-In-4': 0,\n",
       "  '4-In-5': 0},\n",
       " {'Date': '2022-03-23',\n",
       "  'Team': 'GSW',\n",
       "  'Opponent': 'MIA',\n",
       "  'Location': 'Away',\n",
       "  'Result': 'Win',\n",
       "  'Streak': nan,\n",
       "  'B2B': 1,\n",
       "  '3-In-4': 1,\n",
       "  '4-In-5': 0},\n",
       " {'Date': '2022-03-25',\n",
       "  'Team': 'GSW',\n",
       "  'Opponent': 'ATL',\n",
       "  'Location': 'Away',\n",
       "  'Result': 'Win',\n",
       "  'Streak': nan,\n",
       "  'B2B': 0,\n",
       "  '3-In-4': 1,\n",
       "  '4-In-5': 0},\n",
       " {'Date': '2022-03-27',\n",
       "  'Team': 'GSW',\n",
       "  'Opponent': 'WAS',\n",
       "  'Location': 'Away',\n",
       "  'Result': 'Win',\n",
       "  'Streak': nan,\n",
       "  'B2B': 0,\n",
       "  '3-In-4': 0,\n",
       "  '4-In-5': 0},\n",
       " {'Date': '2022-03-28',\n",
       "  'Team': 'GSW',\n",
       "  'Opponent': 'MEM',\n",
       "  'Location': 'Away',\n",
       "  'Result': 'Win',\n",
       "  'Streak': nan,\n",
       "  'B2B': 1,\n",
       "  '3-In-4': 1,\n",
       "  '4-In-5': 0},\n",
       " {'Date': '2022-03-30',\n",
       "  'Team': 'GSW',\n",
       "  'Opponent': 'PHO',\n",
       "  'Location': 'Home',\n",
       "  'Result': 'Win',\n",
       "  'Streak': nan,\n",
       "  'B2B': 0,\n",
       "  '3-In-4': 1,\n",
       "  '4-In-5': 0},\n",
       " {'Date': '2022-04-02',\n",
       "  'Team': 'GSW',\n",
       "  'Opponent': 'UTA',\n",
       "  'Location': 'Home',\n",
       "  'Result': 'Win',\n",
       "  'Streak': nan,\n",
       "  'B2B': 0,\n",
       "  '3-In-4': 0,\n",
       "  '4-In-5': 0},\n",
       " {'Date': '2022-04-03',\n",
       "  'Team': 'GSW',\n",
       "  'Opponent': 'SAC',\n",
       "  'Location': 'Away',\n",
       "  'Result': 'Win',\n",
       "  'Streak': nan,\n",
       "  'B2B': 1,\n",
       "  '3-In-4': 0,\n",
       "  '4-In-5': 0},\n",
       " {'Date': '2022-04-07',\n",
       "  'Team': 'GSW',\n",
       "  'Opponent': 'LAL',\n",
       "  'Location': 'Home',\n",
       "  'Result': 'Win',\n",
       "  'Streak': nan,\n",
       "  'B2B': 0,\n",
       "  '3-In-4': 0,\n",
       "  '4-In-5': 0},\n",
       " {'Date': '2022-04-09',\n",
       "  'Team': 'GSW',\n",
       "  'Opponent': 'SAS',\n",
       "  'Location': 'Away',\n",
       "  'Result': 'Win',\n",
       "  'Streak': nan,\n",
       "  'B2B': 0,\n",
       "  '3-In-4': 0,\n",
       "  '4-In-5': 0},\n",
       " {'Date': '2022-04-10',\n",
       "  'Team': 'GSW',\n",
       "  'Opponent': 'NOP',\n",
       "  'Location': 'Away',\n",
       "  'Result': 'Win',\n",
       "  'Streak': nan,\n",
       "  'B2B': 1,\n",
       "  '3-In-4': 1,\n",
       "  '4-In-5': 0}]"
      ]
     },
     "metadata": {},
     "execution_count": 36
    }
   ],
   "metadata": {}
  },
  {
   "cell_type": "code",
   "execution_count": null,
   "source": [],
   "outputs": [],
   "metadata": {}
  }
 ],
 "metadata": {
  "orig_nbformat": 4,
  "language_info": {
   "name": "python",
   "version": "3.8.8",
   "mimetype": "text/x-python",
   "codemirror_mode": {
    "name": "ipython",
    "version": 3
   },
   "pygments_lexer": "ipython3",
   "nbconvert_exporter": "python",
   "file_extension": ".py"
  },
  "kernelspec": {
   "name": "python3",
   "display_name": "Python 3.8.8 64-bit ('base': conda)"
  },
  "interpreter": {
   "hash": "e66d7a49faa5f6c041480274529b07e61fdf2b613be61b53e5e2e687091ef67e"
  }
 },
 "nbformat": 4,
 "nbformat_minor": 2
}