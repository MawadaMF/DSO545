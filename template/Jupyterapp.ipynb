{
 "cells": [
  {
   "cell_type": "code",
   "execution_count": 1,
   "metadata": {},
   "outputs": [
    {
     "name": "stderr",
     "output_type": "stream",
     "text": [
      "<ipython-input-1-3c8bfb8946ba>:10: UserWarning: \n",
      "The dash_core_components package is deprecated. Please replace\n",
      "`import dash_core_components as dcc` with `from dash import dcc`\n",
      "  import dash_core_components as dcc\n",
      "<ipython-input-1-3c8bfb8946ba>:11: UserWarning: \n",
      "The dash_html_components package is deprecated. Please replace\n",
      "`import dash_html_components as html` with `from dash import html`\n",
      "  import dash_html_components as html\n"
     ]
    }
   ],
   "source": [
    "\n",
    "# data manipulation\n",
    "import pandas as pd\n",
    "\n",
    "# plotly \n",
    "import plotly.express as px\n",
    "import plotly.graph_objects as go\n",
    "# dashboards\n",
    "import dash \n",
    "from jupyter_dash import JupyterDash #for running the dashboard in jupyter notebook\n",
    "import dash_core_components as dcc\n",
    "import dash_html_components as html\n",
    "from dash.dependencies import Output, Input\n",
    "import dash_bootstrap_components as dbc #for dashboard themes\n"
   ]
  },
  {
   "cell_type": "code",
   "execution_count": 18,
   "metadata": {},
   "outputs": [
    {
     "name": "stdout",
     "output_type": "stream",
     "text": [
      "Dash app running on http://127.0.0.1:8050/\n"
     ]
    }
   ],
   "source": [
    "app = JupyterDash(__name__,external_stylesheets = [dbc.themes.BOOTSTRAP])\n",
    "\n",
    "# read the data\n",
    "data = pd.read_csv('schedule.csv')\n",
    "\n",
    "# list of all unique teams\n",
    "teams=data['opponent_name'].unique()\n",
    "\n",
    "#list of all unique quarters\n",
    "q= pd.PeriodIndex(data.datetime, freq='Q').unique()\n",
    "\n",
    "\n",
    "app.layout = html.Div([\n",
    "    \n",
    "    # top left drop menu for teams\n",
    "    html.Div([\n",
    "            dcc.Dropdown(\n",
    "                id='xaxis-column',\n",
    "                options=[{'label': i, 'value': i} for i in teams],\n",
    "#                 value='Fertility rate, total (births per woman)'\n",
    "            )\n",
    "    ], style={'width': '48%', 'display': 'inline-block'}), \n",
    "    \n",
    "    # top right drop menu for teams\n",
    "    html.Div([\n",
    "            dcc.Dropdown(\n",
    "                id='yaxis-column',\n",
    "                options=[{'label': i.strftime('%YQ%q'), 'value': i.strftime('%YQ%q')} for i in q],\n",
    "#                 value='Life expectancy at birth, total (years)'\n",
    "            )\n",
    "    ], style={'width': '48%', 'float': 'right', 'display': 'inline-block'}),\n",
    "\n",
    "#     dcc.Graph(id='indicator-graphic'),\n",
    "#     dcc.Slider(\n",
    "#         id='year--slider',\n",
    "#         min=df['Year'].min(),\n",
    "#         max=df['Year'].max(),\n",
    "#         value=df['Year'].min(),\n",
    "#         marks={str(year): str(year) for year in df['Year'].unique()},\n",
    "#         step=None\n",
    "#     )\n",
    "])\n",
    "\n",
    "# @app.callback(\n",
    "#     Output('indicator-graphic', 'figure'),\n",
    "#     Input('xaxis-column', 'value'),\n",
    "#     Input('yaxis-column', 'value'),\n",
    "#     Input('xaxis-type', 'value'),\n",
    "#     Input('yaxis-type', 'value'),\n",
    "#     Input('year--slider', 'value'))\n",
    "# def update_graph(xaxis_column_name, yaxis_column_name, xaxis_type, yaxis_type, year_value):\n",
    "\n",
    "#     df_year = df[df['Year'] == year_value]\n",
    "\n",
    "#     fig = px.scatter(x=df_year[df_year['Indicator Name'] == xaxis_column_name]['Value'],\n",
    "#                      y=df_year[df_year['Indicator Name'] == yaxis_column_name]['Value'],\n",
    "#                      hover_name=df_year[df_year['Indicator Name'] == yaxis_column_name]['Country Name'])\n",
    "\n",
    "#     fig.update_layout(margin={'l': 40, 'b': 40, 't': 10, 'r': 0}, hovermode='closest')\n",
    "\n",
    "#     fig.update_xaxes(title=xaxis_column_name,\n",
    "#                      type='linear' if xaxis_type == 'Linear' else 'log')\n",
    "\n",
    "#     fig.update_yaxes(title=yaxis_column_name,\n",
    "#                      type='linear' if yaxis_type == 'Linear' else 'log')\n",
    "\n",
    "#     return fig\n",
    "    \n",
    "if __name__ == '__main__':\n",
    "    app.run_server(debug=True)"
   ]
  },
  {
   "cell_type": "code",
   "execution_count": null,
   "metadata": {},
   "outputs": [],
   "source": []
  }
 ],
 "metadata": {
  "interpreter": {
   "hash": "649d9fc434aa5733f78d20f4daac585a8eecdf5d39abd97d49910164d0c0ef7d"
  },
  "kernelspec": {
   "display_name": "Python 3",
   "language": "python",
   "name": "python3"
  },
  "language_info": {
   "codemirror_mode": {
    "name": "ipython",
    "version": 3
   },
   "file_extension": ".py",
   "mimetype": "text/x-python",
   "name": "python",
   "nbconvert_exporter": "python",
   "pygments_lexer": "ipython3",
   "version": "3.8.8"
  }
 },
 "nbformat": 4,
 "nbformat_minor": 2
}
